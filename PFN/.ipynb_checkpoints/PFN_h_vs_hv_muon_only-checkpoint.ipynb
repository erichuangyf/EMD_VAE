{
 "cells": [
  {
   "cell_type": "markdown",
   "id": "4ef50705",
   "metadata": {},
   "source": [
    "# Import and Initialization"
   ]
  },
  {
   "cell_type": "code",
   "execution_count": 1,
   "id": "05a505b0",
   "metadata": {},
   "outputs": [
    {
     "name": "stderr",
     "output_type": "stream",
     "text": [
      "2022-09-29 10:38:05.465672: I tensorflow/stream_executor/platform/default/dso_loader.cc:49] Successfully opened dynamic library libcudart.so.10.1\n"
     ]
    }
   ],
   "source": [
    "%load_ext autoreload\n",
    "%autoreload 2\n",
    "\n",
    "import tensorflow as tf\n",
    "\n",
    "# standard library imports\n",
    "from __future__ import absolute_import, division, print_function\n",
    "\n",
    "# standard numerical library imports\n",
    "import numpy as np\n",
    "\n",
    "# energyflow imports\n",
    "import energyflow as ef\n",
    "from energyflow.archs import PFN\n",
    "from energyflow.datasets import qg_jets\n",
    "from energyflow.utils import data_split, remap_pids, to_categorical\n",
    "\n",
    "from sklearn.metrics import roc_auc_score, roc_curve\n",
    "import matplotlib.pyplot as plt\n",
    "\n",
    "\n",
    "import pandas\n",
    "import h5py\n",
    "import pickle\n",
    "\n",
    "import datetime"
   ]
  },
  {
   "cell_type": "code",
   "execution_count": 2,
   "id": "45667e4d",
   "metadata": {},
   "outputs": [],
   "source": [
    "# configs\n",
    "train, val, test = 0.6, 0.3, 0.1\n",
    "Phi_sizes, F_sizes = (128, 128, 128), (128, 128, 128)\n",
    "num_epoch = 200\n",
    "batch_size = 1000"
   ]
  },
  {
   "cell_type": "markdown",
   "id": "8c5aa5d4",
   "metadata": {},
   "source": [
    "# Load and Process Data"
   ]
  },
  {
   "cell_type": "code",
   "execution_count": 3,
   "id": "25276321",
   "metadata": {},
   "outputs": [],
   "source": [
    "signal_1_df = \"/global/home/users/yifengh3/VAE/vec_data/signal/muon_only/B_signal_vector_muons_fixed.h5\"\n",
    "signal_2_df = \"/global/home/users/yifengh3/VAE/vec_data/signal/muon_only/hv_vector_muons.h5\"\n",
    "raw_signal_1 = pandas.read_hdf(signal_1_df)\n",
    "raw_signal_2 = pandas.read_hdf(signal_2_df)"
   ]
  },
  {
   "cell_type": "code",
   "execution_count": 4,
   "id": "646d74c9",
   "metadata": {},
   "outputs": [
    {
     "name": "stdout",
     "output_type": "stream",
     "text": [
      "signal_1 data shape: (173270, 8)\n",
      "signal_2 data shape: (155841, 200)\n"
     ]
    }
   ],
   "source": [
    "print(\"signal_1 data shape: {}\".format(raw_signal_1.shape))\n",
    "print(\"signal_2 data shape: {}\".format(raw_signal_2.shape))"
   ]
  },
  {
   "cell_type": "code",
   "execution_count": 5,
   "id": "3edf6b5e",
   "metadata": {},
   "outputs": [],
   "source": [
    "#Truncate the nan\n",
    "signal_1 = raw_signal_1.to_numpy()[:,:8]\n",
    "signal_2 = raw_signal_2.to_numpy()[:,:8]"
   ]
  },
  {
   "cell_type": "code",
   "execution_count": 6,
   "id": "6235130e",
   "metadata": {},
   "outputs": [
    {
     "data": {
      "text/plain": [
       "array([ 8.51122132e+00, -2.32930321e-03,  3.29362630e-03,  8.51122132e+00,\n",
       "        8.51186841e+00,  1.54096152e-03,  3.47732437e-03,  8.51186841e+00])"
      ]
     },
     "execution_count": 6,
     "metadata": {},
     "output_type": "execute_result"
    }
   ],
   "source": [
    "np.mean(signal_1,axis=0)"
   ]
  },
  {
   "cell_type": "code",
   "execution_count": 7,
   "id": "8c1b8120",
   "metadata": {},
   "outputs": [
    {
     "name": "stdout",
     "output_type": "stream",
     "text": [
      "signal_1 data shape: (173270, 8)\n",
      "signal_2 data shape: (155841, 8)\n"
     ]
    }
   ],
   "source": [
    "print(\"signal_1 data shape: {}\".format(signal_1.shape))\n",
    "print(\"signal_2 data shape: {}\".format(signal_2.shape))"
   ]
  },
  {
   "cell_type": "code",
   "execution_count": 8,
   "id": "e582ac98",
   "metadata": {},
   "outputs": [],
   "source": [
    "# assign labels to signal and background data, 0 for sig1,  1 for sig2\n",
    "# (updated since we might get multiple signals) \n",
    "labeled_sig1 = np.append(signal_1,np.zeros((signal_1.shape[0],1)),axis=1)\n",
    "labeled_sig2 = np.append(signal_2,np.ones((signal_2.shape[0],1)),axis=1)"
   ]
  },
  {
   "cell_type": "code",
   "execution_count": 9,
   "id": "8540cc44",
   "metadata": {},
   "outputs": [],
   "source": [
    "# mix two data array into one signal array\n",
    "data = np.concatenate((labeled_sig1,labeled_sig2))\n",
    "\n",
    "#and shuffle the data\n",
    "np.random.shuffle(data)"
   ]
  },
  {
   "cell_type": "code",
   "execution_count": 10,
   "id": "34eaf99c",
   "metadata": {},
   "outputs": [],
   "source": [
    "X = data[:,:-1].astype(\"float\")\n",
    "y = data[:,-1]"
   ]
  },
  {
   "cell_type": "code",
   "execution_count": 11,
   "id": "d078bbf6",
   "metadata": {},
   "outputs": [
    {
     "name": "stdout",
     "output_type": "stream",
     "text": [
      "shape of X: (329111, 8)\n",
      "shape of Y: (329111,)\n"
     ]
    }
   ],
   "source": [
    "print(\"shape of X: {}\".format(X.shape))\n",
    "print(\"shape of Y: {}\".format(y.shape))"
   ]
  },
  {
   "cell_type": "code",
   "execution_count": 12,
   "id": "ea34616a",
   "metadata": {},
   "outputs": [
    {
     "name": "stdout",
     "output_type": "stream",
     "text": [
      "Weight for background: 0.95\n",
      "Weight for signal: 1.06\n"
     ]
    }
   ],
   "source": [
    "# Scaling by total/2 helps keep the loss to a similar magnitude.\n",
    "# The sum of the weights of all examples stays the same.\n",
    "total = labeled_sig1.shape[0] + labeled_sig2.shape[0]\n",
    "weight_for_0 = (1 / labeled_sig1.shape[0]) * (total / 2.0)\n",
    "weight_for_1 = (1 / labeled_sig2.shape[0]) * (total / 2.0)\n",
    "\n",
    "\n",
    "class_weight = {0: weight_for_0, 1: weight_for_1}\n",
    "\n",
    "print('Weight for background: {:.2f}'.format(weight_for_0))\n",
    "print('Weight for signal: {:.2f}'.format(weight_for_1))"
   ]
  },
  {
   "cell_type": "code",
   "execution_count": 13,
   "id": "c3e0e641",
   "metadata": {},
   "outputs": [],
   "source": [
    "# To categorical as stipulated in example\n",
    "Y = to_categorical(y, num_classes=2)\n",
    "\n",
    "# Reshape X to shape (number of jets, 50, 4)\n",
    "X = X.reshape(-1,2,4)\n",
    "\n",
    "# ignore the pid info\n",
    "X = X[:,:,:3]"
   ]
  },
  {
   "cell_type": "code",
   "execution_count": 14,
   "id": "3f3e9fdd",
   "metadata": {},
   "outputs": [
    {
     "name": "stdout",
     "output_type": "stream",
     "text": [
      "(329111, 2, 3)\n"
     ]
    }
   ],
   "source": [
    "print(X.shape)"
   ]
  },
  {
   "cell_type": "code",
   "execution_count": 15,
   "id": "26e25098",
   "metadata": {
    "scrolled": true
   },
   "outputs": [
    {
     "data": {
      "image/png": "[encoded data removed]",
      "text/plain": [
       "<Figure size 864x576 with 1 Axes>"
      ]
     },
     "metadata": {
      "needs_background": "light"
     },
     "output_type": "display_data"
    },
    {
     "data": {
      "image/png": "[encoded data removed]",
      "text/plain": [
       "<Figure size 864x576 with 1 Axes>"
      ]
     },
     "metadata": {
      "needs_background": "light"
     },
     "output_type": "display_data"
    },
    {
     "data": {
      "image/png": "[encoded data removed]",
      "text/plain": [
       "<Figure size 864x576 with 1 Axes>"
      ]
     },
     "metadata": {
      "needs_background": "light"
     },
     "output_type": "display_data"
    },
    {
     "data": {
      "image/png": "[encoded data removed]",
      "text/plain": [
       "<Figure size 864x576 with 1 Axes>"
      ]
     },
     "metadata": {
      "needs_background": "light"
     },
     "output_type": "display_data"
    },
    {
     "data": {
      "image/png": "[encoded data removed]",
      "text/plain": [
       "<Figure size 864x576 with 1 Axes>"
      ]
     },
     "metadata": {
      "needs_background": "light"
     },
     "output_type": "display_data"
    },
    {
     "data": {
      "image/png": "[encoded data removed]",
      "text/plain": [
       "<Figure size 864x576 with 1 Axes>"
      ]
     },
     "metadata": {
      "needs_background": "light"
     },
     "output_type": "display_data"
    }
   ],
   "source": [
    "for i in range(6):\n",
    "    plt.figure(figsize=(12,8))\n",
    "    _,b,_ = plt.hist(X.reshape([-1,6])[y==0,i], label=\"signal1\", histtype=\"step\")\n",
    "    plt.hist(X.reshape([-1,6])[y==1,i], label=\"signal2\", histtype=\"step\", bins=b)\n",
    "    plt.legend()\n",
    "    plt.show()"
   ]
  },
  {
   "cell_type": "code",
   "execution_count": 16,
   "id": "6a6fe36d",
   "metadata": {},
   "outputs": [],
   "source": [
    "# # normalizing jets\n",
    "# # copied from example\n",
    "# import tqdm\n",
    "# for x in tqdm.tqdm(X):\n",
    "#     # now add the status bar :)\n",
    "#     mask = x[:,0] > 0\n",
    "#     yphi_avg = np.average(x[mask,1:3], weights=x[mask,0], axis=0)\n",
    "#     x[mask,1:3] -= yphi_avg\n",
    "#     x[mask,0] /= x[:,0].sum()"
   ]
  },
  {
   "cell_type": "code",
   "execution_count": 17,
   "id": "80d98f38",
   "metadata": {},
   "outputs": [
    {
     "name": "stdout",
     "output_type": "stream",
     "text": [
      "/global/home/users/yifengh3/VAE/EMD_VAE/recon_kinematic_plot\n"
     ]
    }
   ],
   "source": [
    "%cd ../recon_kinematic_plot"
   ]
  },
  {
   "cell_type": "code",
   "execution_count": 18,
   "id": "4a0a3f71",
   "metadata": {},
   "outputs": [],
   "source": [
    "from plot_utils import event_mass"
   ]
  },
  {
   "cell_type": "code",
   "execution_count": 19,
   "id": "7400ad49",
   "metadata": {},
   "outputs": [
    {
     "data": {
      "text/plain": [
       "dtype('float64')"
      ]
     },
     "execution_count": 19,
     "metadata": {},
     "output_type": "execute_result"
    }
   ],
   "source": [
    "X[y==1].dtype"
   ]
  },
  {
   "cell_type": "code",
   "execution_count": 20,
   "id": "ad837667",
   "metadata": {},
   "outputs": [
    {
     "name": "stderr",
     "output_type": "stream",
     "text": [
      "100%|███████████████████████████████████████████████████████████████████████████████████████████████████| 173270/173270 [00:05<00:00, 29709.12it/s]\n",
      "100%|███████████████████████████████████████████████████████████████████████████████████████████████████| 155841/155841 [00:05<00:00, 30658.77it/s]\n"
     ]
    }
   ],
   "source": [
    "em1 = event_mass(X[y==0])\n",
    "em2 = event_mass(X[y==1])"
   ]
  },
  {
   "cell_type": "code",
   "execution_count": 21,
   "id": "c000687b",
   "metadata": {},
   "outputs": [
    {
     "data": {
      "image/png": "[encoded data removed]",
      "text/plain": [
       "<Figure size 864x720 with 1 Axes>"
      ]
     },
     "metadata": {
      "needs_background": "light"
     },
     "output_type": "display_data"
    }
   ],
   "source": [
    "plt.figure(figsize=(12,10))\n",
    "_,b,_ = plt.hist(em1, label = \"EM_sig1\", histtype=\"step\", bins=50)\n",
    "plt.hist(em2, label = \"EM_sig2\", bins=b, histtype=\"step\")\n",
    "plt.yscale(\"log\")\n",
    "plt.show()"
   ]
  },
  {
   "cell_type": "code",
   "execution_count": 22,
   "id": "92fc5401",
   "metadata": {},
   "outputs": [
    {
     "data": {
      "image/png": "[encoded data removed]",
      "text/plain": [
       "<Figure size 864x720 with 1 Axes>"
      ]
     },
     "metadata": {
      "needs_background": "light"
     },
     "output_type": "display_data"
    }
   ],
   "source": [
    "plt.figure(figsize=(12,10))\n",
    "_,b,_ = plt.hist(em2[em2<2], label = \"EM_sig2\", histtype=\"step\", bins=100)\n",
    "plt.hist(em1[em1<2], label = \"EM_sig1\", bins=b, histtype=\"step\")\n",
    "plt.yscale(\"log\")\n",
    "plt.legend()\n",
    "plt.show()"
   ]
  },
  {
   "cell_type": "code",
   "execution_count": 23,
   "id": "c3e18f2d",
   "metadata": {},
   "outputs": [
    {
     "name": "stdout",
     "output_type": "stream",
     "text": [
      "Finished preprocessing\n",
      "shape of X: (329111, 2, 3)\n",
      "shape of Y: (329111,)\n"
     ]
    }
   ],
   "source": [
    "print('Finished preprocessing')\n",
    "print(\"shape of X: {}\".format(X.shape))\n",
    "print(\"shape of Y: {}\".format(y.shape))"
   ]
  },
  {
   "cell_type": "code",
   "execution_count": 24,
   "id": "3f573cd4",
   "metadata": {},
   "outputs": [],
   "source": [
    "X = X.astype('float64')"
   ]
  },
  {
   "cell_type": "code",
   "execution_count": 25,
   "id": "939de622",
   "metadata": {},
   "outputs": [],
   "source": [
    "# do train/val/test split \n",
    "(X_train, X_val, X_test,\n",
    " Y_train, Y_val, Y_test) = data_split(X, Y, val=val, test=test)"
   ]
  },
  {
   "cell_type": "markdown",
   "id": "bc6339cd",
   "metadata": {},
   "source": [
    "# Build and Train the Model"
   ]
  },
  {
   "cell_type": "code",
   "execution_count": 26,
   "id": "4876d9dc",
   "metadata": {
    "scrolled": true
   },
   "outputs": [
    {
     "name": "stdout",
     "output_type": "stream",
     "text": [
      "Model summary:\n"
     ]
    },
    {
     "name": "stderr",
     "output_type": "stream",
     "text": [
      "2022-09-29 10:38:39.977720: I tensorflow/compiler/jit/xla_cpu_device.cc:41] Not creating XLA devices, tf_xla_enable_xla_devices not set\n",
      "2022-09-29 10:38:39.978710: I tensorflow/stream_executor/platform/default/dso_loader.cc:49] Successfully opened dynamic library libcuda.so.1\n",
      "2022-09-29 10:38:40.001809: I tensorflow/core/common_runtime/gpu/gpu_device.cc:1720] Found device 0 with properties: \n",
      "pciBusID: 0000:01:00.0 name: Quadro RTX 6000 computeCapability: 7.5\n",
      "coreClock: 1.77GHz coreCount: 72 deviceMemorySize: 23.65GiB deviceMemoryBandwidth: 625.94GiB/s\n",
      "2022-09-29 10:38:40.001829: I tensorflow/stream_executor/platform/default/dso_loader.cc:49] Successfully opened dynamic library libcudart.so.10.1\n",
      "2022-09-29 10:38:40.003204: I tensorflow/stream_executor/platform/default/dso_loader.cc:49] Successfully opened dynamic library libcublas.so.10\n",
      "2022-09-29 10:38:40.003234: I tensorflow/stream_executor/platform/default/dso_loader.cc:49] Successfully opened dynamic library libcublasLt.so.10\n",
      "2022-09-29 10:38:40.004849: I tensorflow/stream_executor/platform/default/dso_loader.cc:49] Successfully opened dynamic library libcufft.so.10\n",
      "2022-09-29 10:38:40.005070: I tensorflow/stream_executor/platform/default/dso_loader.cc:49] Successfully opened dynamic library libcurand.so.10\n",
      "2022-09-29 10:38:40.006428: I tensorflow/stream_executor/platform/default/dso_loader.cc:49] Successfully opened dynamic library libcusolver.so.10\n",
      "2022-09-29 10:38:40.006993: I tensorflow/stream_executor/platform/default/dso_loader.cc:49] Successfully opened dynamic library libcusparse.so.10\n",
      "2022-09-29 10:38:40.009745: I tensorflow/stream_executor/platform/default/dso_loader.cc:49] Successfully opened dynamic library libcudnn.so.7\n",
      "2022-09-29 10:38:40.012405: I tensorflow/core/common_runtime/gpu/gpu_device.cc:1862] Adding visible gpu devices: 0\n",
      "2022-09-29 10:38:40.012801: I tensorflow/core/platform/cpu_feature_guard.cc:142] This TensorFlow binary is optimized with oneAPI Deep Neural Network Library (oneDNN) to use the following CPU instructions in performance-critical operations:  SSE4.1 SSE4.2 AVX AVX2 FMA\n",
      "To enable them in other operations, rebuild TensorFlow with the appropriate compiler flags.\n",
      "2022-09-29 10:38:40.014565: I tensorflow/compiler/jit/xla_gpu_device.cc:99] Not creating XLA devices, tf_xla_enable_xla_devices not set\n",
      "2022-09-29 10:38:40.015883: I tensorflow/core/common_runtime/gpu/gpu_device.cc:1720] Found device 0 with properties: \n",
      "pciBusID: 0000:01:00.0 name: Quadro RTX 6000 computeCapability: 7.5\n",
      "coreClock: 1.77GHz coreCount: 72 deviceMemorySize: 23.65GiB deviceMemoryBandwidth: 625.94GiB/s\n",
      "2022-09-29 10:38:40.015901: I tensorflow/stream_executor/platform/default/dso_loader.cc:49] Successfully opened dynamic library libcudart.so.10.1\n",
      "2022-09-29 10:38:40.015920: I tensorflow/stream_executor/platform/default/dso_loader.cc:49] Successfully opened dynamic library libcublas.so.10\n",
      "2022-09-29 10:38:40.015931: I tensorflow/stream_executor/platform/default/dso_loader.cc:49] Successfully opened dynamic library libcublasLt.so.10\n",
      "2022-09-29 10:38:40.015942: I tensorflow/stream_executor/platform/default/dso_loader.cc:49] Successfully opened dynamic library libcufft.so.10\n",
      "2022-09-29 10:38:40.015952: I tensorflow/stream_executor/platform/default/dso_loader.cc:49] Successfully opened dynamic library libcurand.so.10\n",
      "2022-09-29 10:38:40.015962: I tensorflow/stream_executor/platform/default/dso_loader.cc:49] Successfully opened dynamic library libcusolver.so.10\n",
      "2022-09-29 10:38:40.015972: I tensorflow/stream_executor/platform/default/dso_loader.cc:49] Successfully opened dynamic library libcusparse.so.10\n",
      "2022-09-29 10:38:40.015982: I tensorflow/stream_executor/platform/default/dso_loader.cc:49] Successfully opened dynamic library libcudnn.so.7\n",
      "2022-09-29 10:38:40.018442: I tensorflow/core/common_runtime/gpu/gpu_device.cc:1862] Adding visible gpu devices: 0\n",
      "2022-09-29 10:38:40.018487: I tensorflow/stream_executor/platform/default/dso_loader.cc:49] Successfully opened dynamic library libcudart.so.10.1\n",
      "2022-09-29 10:38:40.555111: I tensorflow/core/common_runtime/gpu/gpu_device.cc:1261] Device interconnect StreamExecutor with strength 1 edge matrix:\n",
      "2022-09-29 10:38:40.555158: I tensorflow/core/common_runtime/gpu/gpu_device.cc:1267]      0 \n",
      "2022-09-29 10:38:40.555167: I tensorflow/core/common_runtime/gpu/gpu_device.cc:1280] 0:   N \n",
      "2022-09-29 10:38:40.559099: I tensorflow/core/common_runtime/gpu/gpu_device.cc:1406] Created TensorFlow device (/job:localhost/replica:0/task:0/device:GPU:0 with 22475 MB memory) -> physical GPU (device: 0, name: Quadro RTX 6000, pci bus id: 0000:01:00.0, compute capability: 7.5)\n"
     ]
    },
    {
     "name": "stdout",
     "output_type": "stream",
     "text": [
      "Model: \"model\"\n",
      "__________________________________________________________________________________________________\n",
      "Layer (type)                    Output Shape         Param #     Connected to                     \n",
      "==================================================================================================\n",
      "input (InputLayer)              [(None, None, 3)]    0                                            \n",
      "__________________________________________________________________________________________________\n",
      "tdist_0 (TimeDistributed)       (None, None, 128)    512         input[0][0]                      \n",
      "__________________________________________________________________________________________________\n",
      "activation (Activation)         (None, None, 128)    0           tdist_0[0][0]                    \n",
      "__________________________________________________________________________________________________\n",
      "tdist_1 (TimeDistributed)       (None, None, 128)    16512       activation[0][0]                 \n",
      "__________________________________________________________________________________________________\n",
      "activation_1 (Activation)       (None, None, 128)    0           tdist_1[0][0]                    \n",
      "__________________________________________________________________________________________________\n",
      "tdist_2 (TimeDistributed)       (None, None, 128)    16512       activation_1[0][0]               \n",
      "__________________________________________________________________________________________________\n",
      "mask (Lambda)                   (None, None)         0           input[0][0]                      \n",
      "__________________________________________________________________________________________________\n",
      "activation_2 (Activation)       (None, None, 128)    0           tdist_2[0][0]                    \n",
      "__________________________________________________________________________________________________\n",
      "sum (Dot)                       (None, 128)          0           mask[0][0]                       \n",
      "                                                                 activation_2[0][0]               \n",
      "__________________________________________________________________________________________________\n",
      "dense_0 (Dense)                 (None, 128)          16512       sum[0][0]                        \n",
      "__________________________________________________________________________________________________\n",
      "activation_3 (Activation)       (None, 128)          0           dense_0[0][0]                    \n",
      "__________________________________________________________________________________________________\n",
      "dense_1 (Dense)                 (None, 128)          16512       activation_3[0][0]               \n",
      "__________________________________________________________________________________________________\n",
      "activation_4 (Activation)       (None, 128)          0           dense_1[0][0]                    \n",
      "__________________________________________________________________________________________________\n",
      "dense_2 (Dense)                 (None, 128)          16512       activation_4[0][0]               \n",
      "__________________________________________________________________________________________________\n",
      "activation_5 (Activation)       (None, 128)          0           dense_2[0][0]                    \n",
      "__________________________________________________________________________________________________\n",
      "output (Dense)                  (None, 2)            258         activation_5[0][0]               \n",
      "__________________________________________________________________________________________________\n",
      "activation_6 (Activation)       (None, 2)            0           output[0][0]                     \n",
      "==================================================================================================\n",
      "Total params: 83,330\n",
      "Trainable params: 83,330\n",
      "Non-trainable params: 0\n",
      "__________________________________________________________________________________________________\n"
     ]
    }
   ],
   "source": [
    "print('Model summary:')\n",
    "\n",
    "# build architecture\n",
    "pfn = PFN(input_dim=X.shape[-1], Phi_sizes=Phi_sizes, F_sizes=F_sizes)"
   ]
  },
  {
   "cell_type": "code",
   "execution_count": 27,
   "id": "b559b182",
   "metadata": {
    "scrolled": true
   },
   "outputs": [
    {
     "name": "stdout",
     "output_type": "stream",
     "text": [
      "Epoch 1/200\n"
     ]
    },
    {
     "name": "stderr",
     "output_type": "stream",
     "text": [
      "2022-09-29 10:38:40.967990: I tensorflow/compiler/mlir/mlir_graph_optimization_pass.cc:116] None of the MLIR optimization passes are enabled (registered 2)\n",
      "2022-09-29 10:38:40.968460: I tensorflow/core/platform/profile_utils/cpu_utils.cc:112] CPU Frequency: 2994530000 Hz\n",
      "2022-09-29 10:38:41.367117: I tensorflow/stream_executor/platform/default/dso_loader.cc:49] Successfully opened dynamic library libcublas.so.10\n"
     ]
    },
    {
     "name": "stdout",
     "output_type": "stream",
     "text": [
      "198/198 [==============================] - 2s 5ms/step - loss: 2.3450 - acc: 0.5524 - val_loss: 0.6547 - val_acc: 0.6052\n",
      "Epoch 2/200\n",
      "198/198 [==============================] - 1s 3ms/step - loss: 0.6545 - acc: 0.6120 - val_loss: 0.6486 - val_acc: 0.6300\n",
      "Epoch 3/200\n",
      "198/198 [==============================] - 1s 4ms/step - loss: 0.6595 - acc: 0.6110 - val_loss: 0.6493 - val_acc: 0.6280\n",
      "Epoch 4/200\n",
      "198/198 [==============================] - 1s 4ms/step - loss: 0.6538 - acc: 0.6222 - val_loss: 0.6436 - val_acc: 0.6324\n",
      "Epoch 5/200\n",
      "198/198 [==============================] - 1s 4ms/step - loss: 0.6488 - acc: 0.6296 - val_loss: 0.6482 - val_acc: 0.6195\n",
      "Epoch 6/200\n",
      "198/198 [==============================] - 1s 3ms/step - loss: 0.6470 - acc: 0.6325 - val_loss: 0.6493 - val_acc: 0.6341\n",
      "Epoch 7/200\n",
      "198/198 [==============================] - 1s 4ms/step - loss: 0.6443 - acc: 0.6372 - val_loss: 0.6473 - val_acc: 0.6206\n",
      "Epoch 8/200\n",
      "198/198 [==============================] - 1s 4ms/step - loss: 0.6464 - acc: 0.6298 - val_loss: 0.6397 - val_acc: 0.6362\n",
      "Epoch 9/200\n",
      "198/198 [==============================] - 1s 4ms/step - loss: 0.6427 - acc: 0.6370 - val_loss: 0.6370 - val_acc: 0.6400\n",
      "Epoch 10/200\n",
      "198/198 [==============================] - 1s 4ms/step - loss: 0.6417 - acc: 0.6382 - val_loss: 0.6453 - val_acc: 0.6303\n",
      "Epoch 11/200\n",
      "198/198 [==============================] - 1s 3ms/step - loss: 0.6397 - acc: 0.6382 - val_loss: 0.6385 - val_acc: 0.6397\n",
      "Epoch 12/200\n",
      "198/198 [==============================] - 1s 4ms/step - loss: 0.6390 - acc: 0.6406 - val_loss: 0.6330 - val_acc: 0.6454\n",
      "Epoch 13/200\n",
      "198/198 [==============================] - 1s 4ms/step - loss: 0.6377 - acc: 0.6421 - val_loss: 0.6341 - val_acc: 0.6434\n",
      "Epoch 14/200\n",
      "198/198 [==============================] - 1s 4ms/step - loss: 0.6385 - acc: 0.6400 - val_loss: 0.6335 - val_acc: 0.6423\n",
      "Epoch 15/200\n",
      "198/198 [==============================] - 1s 4ms/step - loss: 0.6350 - acc: 0.6421 - val_loss: 0.6401 - val_acc: 0.6333\n",
      "Epoch 16/200\n",
      "198/198 [==============================] - 1s 4ms/step - loss: 0.6351 - acc: 0.6423 - val_loss: 0.6309 - val_acc: 0.6458\n",
      "Epoch 17/200\n",
      "198/198 [==============================] - 1s 4ms/step - loss: 0.6334 - acc: 0.6444 - val_loss: 0.6427 - val_acc: 0.6409\n",
      "Epoch 18/200\n",
      "198/198 [==============================] - 1s 4ms/step - loss: 0.6345 - acc: 0.6433 - val_loss: 0.6385 - val_acc: 0.6393\n",
      "Epoch 19/200\n",
      "198/198 [==============================] - 1s 4ms/step - loss: 0.6334 - acc: 0.6432 - val_loss: 0.6387 - val_acc: 0.6343\n",
      "Epoch 20/200\n",
      "198/198 [==============================] - 1s 4ms/step - loss: 0.6313 - acc: 0.6466 - val_loss: 0.6304 - val_acc: 0.6455\n",
      "Epoch 21/200\n",
      "198/198 [==============================] - 1s 4ms/step - loss: 0.6321 - acc: 0.6450 - val_loss: 0.6334 - val_acc: 0.6415\n",
      "Epoch 22/200\n",
      "198/198 [==============================] - 1s 4ms/step - loss: 0.6286 - acc: 0.6480 - val_loss: 0.6293 - val_acc: 0.6470\n",
      "Epoch 23/200\n",
      "198/198 [==============================] - 1s 4ms/step - loss: 0.6320 - acc: 0.6452 - val_loss: 0.6303 - val_acc: 0.6467\n",
      "Epoch 24/200\n",
      "198/198 [==============================] - 1s 4ms/step - loss: 0.6308 - acc: 0.6454 - val_loss: 0.6329 - val_acc: 0.6414\n",
      "Epoch 25/200\n",
      "198/198 [==============================] - 1s 4ms/step - loss: 0.6310 - acc: 0.6435 - val_loss: 0.6310 - val_acc: 0.6450\n",
      "Epoch 26/200\n",
      "198/198 [==============================] - 1s 4ms/step - loss: 0.6293 - acc: 0.6463 - val_loss: 0.6260 - val_acc: 0.6491\n",
      "Epoch 27/200\n",
      "198/198 [==============================] - 1s 4ms/step - loss: 0.6291 - acc: 0.6476 - val_loss: 0.6253 - val_acc: 0.6509\n",
      "Epoch 28/200\n",
      "198/198 [==============================] - 1s 4ms/step - loss: 0.6288 - acc: 0.6472 - val_loss: 0.6259 - val_acc: 0.6513\n",
      "Epoch 29/200\n",
      "198/198 [==============================] - 1s 4ms/step - loss: 0.6283 - acc: 0.6479 - val_loss: 0.6276 - val_acc: 0.6490\n",
      "Epoch 30/200\n",
      "198/198 [==============================] - 1s 4ms/step - loss: 0.6267 - acc: 0.6499 - val_loss: 0.6241 - val_acc: 0.6523\n",
      "Epoch 31/200\n",
      "198/198 [==============================] - 1s 4ms/step - loss: 0.6263 - acc: 0.6510 - val_loss: 0.6253 - val_acc: 0.6503\n",
      "Epoch 32/200\n",
      "198/198 [==============================] - 1s 4ms/step - loss: 0.6270 - acc: 0.6504 - val_loss: 0.6286 - val_acc: 0.6494\n",
      "Epoch 33/200\n",
      "198/198 [==============================] - 1s 4ms/step - loss: 0.6265 - acc: 0.6502 - val_loss: 0.6357 - val_acc: 0.6378\n",
      "Epoch 34/200\n",
      "198/198 [==============================] - 1s 4ms/step - loss: 0.6268 - acc: 0.6499 - val_loss: 0.6258 - val_acc: 0.6514\n",
      "Epoch 35/200\n",
      "198/198 [==============================] - 1s 4ms/step - loss: 0.6269 - acc: 0.6507 - val_loss: 0.6237 - val_acc: 0.6512\n",
      "Epoch 36/200\n",
      "198/198 [==============================] - 1s 4ms/step - loss: 0.6264 - acc: 0.6499 - val_loss: 0.6246 - val_acc: 0.6527\n",
      "Epoch 37/200\n",
      "198/198 [==============================] - 1s 4ms/step - loss: 0.6249 - acc: 0.6523 - val_loss: 0.6251 - val_acc: 0.6516\n",
      "Epoch 38/200\n",
      "198/198 [==============================] - 1s 4ms/step - loss: 0.6256 - acc: 0.6516 - val_loss: 0.6234 - val_acc: 0.6541\n",
      "Epoch 39/200\n",
      "198/198 [==============================] - 1s 4ms/step - loss: 0.6254 - acc: 0.6526 - val_loss: 0.6229 - val_acc: 0.6557\n",
      "Epoch 40/200\n",
      "198/198 [==============================] - 1s 4ms/step - loss: 0.6244 - acc: 0.6516 - val_loss: 0.6248 - val_acc: 0.6508\n",
      "Epoch 41/200\n",
      "198/198 [==============================] - 1s 4ms/step - loss: 0.6261 - acc: 0.6497 - val_loss: 0.6226 - val_acc: 0.6538\n",
      "Epoch 42/200\n",
      "198/198 [==============================] - 1s 4ms/step - loss: 0.6254 - acc: 0.6504 - val_loss: 0.6261 - val_acc: 0.6505\n",
      "Epoch 43/200\n",
      "198/198 [==============================] - 1s 4ms/step - loss: 0.6242 - acc: 0.6516 - val_loss: 0.6250 - val_acc: 0.6490\n",
      "Epoch 44/200\n",
      "198/198 [==============================] - 1s 4ms/step - loss: 0.6236 - acc: 0.6527 - val_loss: 0.6244 - val_acc: 0.6516\n",
      "Epoch 45/200\n",
      "198/198 [==============================] - 1s 4ms/step - loss: 0.6228 - acc: 0.6537 - val_loss: 0.6224 - val_acc: 0.6519\n",
      "Epoch 46/200\n",
      "198/198 [==============================] - 1s 4ms/step - loss: 0.6245 - acc: 0.6511 - val_loss: 0.6227 - val_acc: 0.6530\n",
      "Epoch 47/200\n",
      "198/198 [==============================] - 1s 4ms/step - loss: 0.6231 - acc: 0.6529 - val_loss: 0.6206 - val_acc: 0.6549\n",
      "Epoch 48/200\n",
      "198/198 [==============================] - 1s 4ms/step - loss: 0.6222 - acc: 0.6543 - val_loss: 0.6244 - val_acc: 0.6503\n",
      "Epoch 49/200\n",
      "198/198 [==============================] - 1s 4ms/step - loss: 0.6234 - acc: 0.6528 - val_loss: 0.6255 - val_acc: 0.6502\n",
      "Epoch 50/200\n",
      "198/198 [==============================] - 1s 4ms/step - loss: 0.6239 - acc: 0.6528 - val_loss: 0.6229 - val_acc: 0.6544\n",
      "Epoch 51/200\n",
      "198/198 [==============================] - 1s 4ms/step - loss: 0.6225 - acc: 0.6547 - val_loss: 0.6223 - val_acc: 0.6525\n",
      "Epoch 52/200\n",
      "198/198 [==============================] - 1s 4ms/step - loss: 0.6212 - acc: 0.6545 - val_loss: 0.6196 - val_acc: 0.6561\n",
      "Epoch 53/200\n",
      "198/198 [==============================] - 1s 4ms/step - loss: 0.6210 - acc: 0.6544 - val_loss: 0.6268 - val_acc: 0.6489\n",
      "Epoch 54/200\n",
      "198/198 [==============================] - 1s 4ms/step - loss: 0.6221 - acc: 0.6535 - val_loss: 0.6242 - val_acc: 0.6504\n",
      "Epoch 55/200\n",
      "198/198 [==============================] - 1s 4ms/step - loss: 0.6194 - acc: 0.6569 - val_loss: 0.6220 - val_acc: 0.6551\n",
      "Epoch 56/200\n",
      "198/198 [==============================] - 1s 4ms/step - loss: 0.6197 - acc: 0.6571 - val_loss: 0.6239 - val_acc: 0.6534\n",
      "Epoch 57/200\n",
      "198/198 [==============================] - 1s 4ms/step - loss: 0.6209 - acc: 0.6557 - val_loss: 0.6208 - val_acc: 0.6555\n",
      "\n",
      "Epoch 00057: ReduceLROnPlateau reducing learning rate to 0.0005623413519001288.\n",
      "Epoch 58/200\n",
      "198/198 [==============================] - 1s 4ms/step - loss: 0.6177 - acc: 0.6588 - val_loss: 0.6195 - val_acc: 0.6565\n",
      "Epoch 59/200\n",
      "198/198 [==============================] - 1s 4ms/step - loss: 0.6167 - acc: 0.6603 - val_loss: 0.6188 - val_acc: 0.6578\n",
      "Epoch 60/200\n",
      "198/198 [==============================] - 1s 4ms/step - loss: 0.6156 - acc: 0.6618 - val_loss: 0.6177 - val_acc: 0.6584\n",
      "Epoch 61/200\n",
      "198/198 [==============================] - 1s 4ms/step - loss: 0.6151 - acc: 0.6620 - val_loss: 0.6172 - val_acc: 0.6583\n"
     ]
    },
    {
     "name": "stdout",
     "output_type": "stream",
     "text": [
      "Epoch 62/200\n",
      "198/198 [==============================] - 1s 4ms/step - loss: 0.6154 - acc: 0.6620 - val_loss: 0.6193 - val_acc: 0.6564\n",
      "Epoch 63/200\n",
      "198/198 [==============================] - 1s 3ms/step - loss: 0.6143 - acc: 0.6632 - val_loss: 0.6175 - val_acc: 0.6594\n",
      "Epoch 64/200\n",
      "198/198 [==============================] - 1s 4ms/step - loss: 0.6156 - acc: 0.6613 - val_loss: 0.6173 - val_acc: 0.6602\n",
      "Epoch 65/200\n",
      "198/198 [==============================] - 1s 4ms/step - loss: 0.6142 - acc: 0.6626 - val_loss: 0.6158 - val_acc: 0.6616\n",
      "Epoch 66/200\n",
      "198/198 [==============================] - 1s 4ms/step - loss: 0.6148 - acc: 0.6632 - val_loss: 0.6173 - val_acc: 0.6591\n",
      "Epoch 67/200\n",
      "198/198 [==============================] - 1s 4ms/step - loss: 0.6142 - acc: 0.6615 - val_loss: 0.6188 - val_acc: 0.6575\n",
      "Epoch 68/200\n",
      "198/198 [==============================] - 1s 4ms/step - loss: 0.6156 - acc: 0.6625 - val_loss: 0.6167 - val_acc: 0.6600\n",
      "Epoch 69/200\n",
      "198/198 [==============================] - 1s 3ms/step - loss: 0.6122 - acc: 0.6640 - val_loss: 0.6148 - val_acc: 0.6626\n",
      "Epoch 70/200\n",
      "198/198 [==============================] - 1s 4ms/step - loss: 0.6122 - acc: 0.6649 - val_loss: 0.6207 - val_acc: 0.6568\n",
      "Epoch 71/200\n",
      "198/198 [==============================] - 1s 4ms/step - loss: 0.6130 - acc: 0.6624 - val_loss: 0.6154 - val_acc: 0.6611\n",
      "Epoch 72/200\n",
      "198/198 [==============================] - 1s 4ms/step - loss: 0.6120 - acc: 0.6640 - val_loss: 0.6171 - val_acc: 0.6592\n",
      "Epoch 73/200\n",
      "198/198 [==============================] - 1s 4ms/step - loss: 0.6131 - acc: 0.6641 - val_loss: 0.6171 - val_acc: 0.6617\n",
      "Epoch 74/200\n",
      "198/198 [==============================] - 1s 4ms/step - loss: 0.6116 - acc: 0.6657 - val_loss: 0.6166 - val_acc: 0.6592\n",
      "\n",
      "Epoch 00074: ReduceLROnPlateau reducing learning rate to 0.0003162277855409209.\n",
      "Epoch 75/200\n",
      "198/198 [==============================] - 1s 3ms/step - loss: 0.6103 - acc: 0.6662 - val_loss: 0.6149 - val_acc: 0.6617\n",
      "Epoch 76/200\n",
      "198/198 [==============================] - 1s 4ms/step - loss: 0.6097 - acc: 0.6671 - val_loss: 0.6145 - val_acc: 0.6616\n",
      "Epoch 77/200\n",
      "198/198 [==============================] - 1s 4ms/step - loss: 0.6084 - acc: 0.6675 - val_loss: 0.6167 - val_acc: 0.6611\n",
      "Epoch 78/200\n",
      "198/198 [==============================] - 1s 4ms/step - loss: 0.6084 - acc: 0.6676 - val_loss: 0.6176 - val_acc: 0.6585\n",
      "Epoch 79/200\n",
      "198/198 [==============================] - 1s 4ms/step - loss: 0.6069 - acc: 0.6701 - val_loss: 0.6151 - val_acc: 0.6610\n",
      "Epoch 80/200\n",
      "198/198 [==============================] - 1s 4ms/step - loss: 0.6073 - acc: 0.6692 - val_loss: 0.6163 - val_acc: 0.6595\n",
      "Epoch 81/200\n",
      "198/198 [==============================] - 1s 4ms/step - loss: 0.6077 - acc: 0.6695 - val_loss: 0.6169 - val_acc: 0.6582\n",
      "\n",
      "Epoch 00081: ReduceLROnPlateau reducing learning rate to 0.00017782795237787763.\n",
      "Epoch 82/200\n",
      "198/198 [==============================] - 1s 4ms/step - loss: 0.6051 - acc: 0.6701 - val_loss: 0.6148 - val_acc: 0.6620\n",
      "Epoch 83/200\n",
      "198/198 [==============================] - 1s 4ms/step - loss: 0.6059 - acc: 0.6704 - val_loss: 0.6134 - val_acc: 0.6631\n",
      "Epoch 84/200\n",
      "198/198 [==============================] - 1s 4ms/step - loss: 0.6043 - acc: 0.6718 - val_loss: 0.6153 - val_acc: 0.6612\n",
      "Epoch 85/200\n",
      "198/198 [==============================] - 1s 4ms/step - loss: 0.6039 - acc: 0.6711 - val_loss: 0.6161 - val_acc: 0.6620\n",
      "Epoch 86/200\n",
      "198/198 [==============================] - 1s 4ms/step - loss: 0.6044 - acc: 0.6717 - val_loss: 0.6147 - val_acc: 0.6630\n",
      "Epoch 87/200\n",
      "198/198 [==============================] - 1s 4ms/step - loss: 0.6045 - acc: 0.6713 - val_loss: 0.6150 - val_acc: 0.6626\n",
      "Epoch 88/200\n",
      "198/198 [==============================] - 1s 4ms/step - loss: 0.6035 - acc: 0.6736 - val_loss: 0.6148 - val_acc: 0.6618\n",
      "\n",
      "Epoch 00088: ReduceLROnPlateau reducing learning rate to 0.0001000000077344799.\n",
      "Epoch 89/200\n",
      "198/198 [==============================] - 1s 3ms/step - loss: 0.6031 - acc: 0.6738 - val_loss: 0.6143 - val_acc: 0.6627\n",
      "Epoch 90/200\n",
      "198/198 [==============================] - 1s 4ms/step - loss: 0.6019 - acc: 0.6730 - val_loss: 0.6133 - val_acc: 0.6632\n",
      "Epoch 91/200\n",
      "198/198 [==============================] - 1s 4ms/step - loss: 0.6022 - acc: 0.6729 - val_loss: 0.6144 - val_acc: 0.6625\n",
      "Epoch 92/200\n",
      "198/198 [==============================] - 1s 4ms/step - loss: 0.6024 - acc: 0.6726 - val_loss: 0.6148 - val_acc: 0.6624\n",
      "Epoch 93/200\n",
      "198/198 [==============================] - 1s 4ms/step - loss: 0.6014 - acc: 0.6734 - val_loss: 0.6139 - val_acc: 0.6635\n",
      "Epoch 94/200\n",
      "198/198 [==============================] - 1s 4ms/step - loss: 0.6006 - acc: 0.6757 - val_loss: 0.6155 - val_acc: 0.6622\n",
      "Epoch 95/200\n",
      "198/198 [==============================] - 1s 4ms/step - loss: 0.6020 - acc: 0.6727 - val_loss: 0.6142 - val_acc: 0.6628\n",
      "\n",
      "Epoch 00095: ReduceLROnPlateau reducing learning rate to 5.623413519001288e-05.\n",
      "Epoch 96/200\n",
      "198/198 [==============================] - 1s 4ms/step - loss: 0.6011 - acc: 0.6749 - val_loss: 0.6145 - val_acc: 0.6629\n",
      "Epoch 97/200\n",
      "198/198 [==============================] - 1s 4ms/step - loss: 0.6003 - acc: 0.6759 - val_loss: 0.6138 - val_acc: 0.6633\n",
      "Epoch 98/200\n",
      "198/198 [==============================] - 1s 4ms/step - loss: 0.6013 - acc: 0.6732 - val_loss: 0.6148 - val_acc: 0.6631\n",
      "Epoch 99/200\n",
      "198/198 [==============================] - 1s 4ms/step - loss: 0.6022 - acc: 0.6717 - val_loss: 0.6144 - val_acc: 0.6632\n",
      "Epoch 100/200\n",
      "198/198 [==============================] - 1s 4ms/step - loss: 0.6005 - acc: 0.6743 - val_loss: 0.6156 - val_acc: 0.6624\n",
      "\n",
      "Epoch 00100: ReduceLROnPlateau reducing learning rate to 3.1622777326620596e-05.\n",
      "Epoch 00100: early stopping\n"
     ]
    }
   ],
   "source": [
    "# now train the model\n",
    "\n",
    "reduce_lr = tf.keras.callbacks.ReduceLROnPlateau(monitor='val_loss', \n",
    "                              factor=0.1**(1/4), patience=5, min_lr=1e-5,\n",
    "                                                verbose=1)\n",
    "\n",
    "early_stop = tf.keras.callbacks.EarlyStopping(monitor='val_loss', patience=10, \n",
    "                                              verbose=1)\n",
    "\n",
    "callbacks = [reduce_lr,early_stop]\n",
    "\n",
    "hist1 = pfn.fit(X_train, Y_train,\n",
    "        epochs=num_epoch,\n",
    "        batch_size=batch_size,\n",
    "        validation_data=(X_val, Y_val),\n",
    "        class_weight=class_weight,\n",
    "        callbacks=callbacks,\n",
    "        verbose=1)"
   ]
  },
  {
   "cell_type": "markdown",
   "id": "0fac1861",
   "metadata": {},
   "source": [
    "# Analyze the Model"
   ]
  },
  {
   "cell_type": "code",
   "execution_count": 28,
   "id": "531ee50e",
   "metadata": {},
   "outputs": [
    {
     "name": "stdout",
     "output_type": "stream",
     "text": [
      "\n",
      "PFN AUC: 0.7190679073240156\n",
      "\n"
     ]
    }
   ],
   "source": [
    "# get predictions on test data\n",
    "preds = pfn.predict(X_test, batch_size=10000)\n",
    "\n",
    "# get ROC curve\n",
    "pfn_fp, pfn_tp, threshs = roc_curve(Y_test[:,1], preds[:,1])\n",
    "\n",
    "# get area under the ROC curve\n",
    "auc = roc_auc_score(Y_test[:,1], preds[:,1])\n",
    "print()\n",
    "print('PFN AUC:', auc)\n",
    "print()"
   ]
  },
  {
   "cell_type": "code",
   "execution_count": 29,
   "id": "9190f668",
   "metadata": {},
   "outputs": [
    {
     "data": {
      "image/png": "[encoded data removed]",
      "text/plain": [
       "<Figure size 432x288 with 1 Axes>"
      ]
     },
     "metadata": {
      "needs_background": "light"
     },
     "output_type": "display_data"
    }
   ],
   "source": [
    "plt.plot(hist1.history[\"loss\"],label=\"loss\")\n",
    "plt.plot(hist1.history[\"val_loss\"],label=\"validation loss\")\n",
    "plt.legend()\n",
    "plt.show()"
   ]
  },
  {
   "cell_type": "code",
   "execution_count": 30,
   "id": "bcf5a3ff",
   "metadata": {},
   "outputs": [
    {
     "data": {
      "image/png": "[encoded data removed]",
      "text/plain": [
       "<Figure size 432x288 with 1 Axes>"
      ]
     },
     "metadata": {
      "needs_background": "light"
     },
     "output_type": "display_data"
    }
   ],
   "source": [
    "plt.plot(hist1.history[\"acc\"],label=\"acc\")\n",
    "plt.plot(hist1.history[\"val_acc\"],label=\"validation acc\")\n",
    "plt.legend()\n",
    "plt.show()"
   ]
  },
  {
   "cell_type": "code",
   "execution_count": 31,
   "id": "0a1abd7d",
   "metadata": {},
   "outputs": [
    {
     "data": {
      "image/png": "[encoded data removed]",
      "text/plain": [
       "<Figure size 288x288 with 1 Axes>"
      ]
     },
     "metadata": {
      "needs_background": "light"
     },
     "output_type": "display_data"
    }
   ],
   "source": [
    "# get multiplicity and mass for comparison\n",
    "preds = pfn.predict(X_test, batch_size=1000)\n",
    "pfn_fp, pfn_tp, threshs = roc_curve(Y_test[:,1], preds[:,1])\n",
    "\n",
    "# some nicer plot settings \n",
    "plt.rcParams['figure.figsize'] = (4,4)\n",
    "plt.rcParams['font.family'] = 'serif'\n",
    "plt.rcParams['figure.autolayout'] = True\n",
    "\n",
    "# plot the ROC curves\n",
    "plt.plot(pfn_tp, 1-pfn_fp, '-', color='black', label='ROC')\n",
    "\n",
    "plt.legend(loc='lower left', frameon=False)\n",
    "\n",
    "plt.show()"
   ]
  },
  {
   "cell_type": "code",
   "execution_count": 32,
   "id": "c7230967",
   "metadata": {},
   "outputs": [
    {
     "name": "stderr",
     "output_type": "stream",
     "text": [
      "/tmp/ipykernel_5836/1246046417.py:11: RuntimeWarning: divide by zero encountered in true_divide\n",
      "  plt.plot(pfn_tp, 1/pfn_fp, '-', color='black', label='ROC')\n"
     ]
    },
    {
     "data": {
      "image/png": "[encoded data removed]",
      "text/plain": [
       "<Figure size 288x288 with 1 Axes>"
      ]
     },
     "metadata": {
      "needs_background": "light"
     },
     "output_type": "display_data"
    }
   ],
   "source": [
    "# get multiplicity and mass for comparison\n",
    "preds = pfn.predict(X_test, batch_size=1000)\n",
    "pfn_fp, pfn_tp, threshs = roc_curve(Y_test[:,1], preds[:,1])\n",
    "\n",
    "# some nicer plot settings \n",
    "plt.rcParams['figure.figsize'] = (4,4)\n",
    "plt.rcParams['font.family'] = 'serif'\n",
    "plt.rcParams['figure.autolayout'] = True\n",
    "\n",
    "# plot the ROC curves\n",
    "plt.plot(pfn_tp, 1/pfn_fp, '-', color='black', label='ROC')\n",
    "\n",
    "plt.yscale('log')\n",
    "\n",
    "plt.legend(loc='lower left', frameon=False)\n",
    "\n",
    "plt.show()"
   ]
  },
  {
   "cell_type": "code",
   "execution_count": null,
   "id": "6b15a777",
   "metadata": {},
   "outputs": [],
   "source": []
  }
 ],
 "metadata": {
  "kernelspec": {
   "display_name": "Python 3 (ipykernel)",
   "language": "python",
   "name": "python3"
  },
  "language_info": {
   "codemirror_mode": {
    "name": "ipython",
    "version": 3
   },
   "file_extension": ".py",
   "mimetype": "text/x-python",
   "name": "python",
   "nbconvert_exporter": "python",
   "pygments_lexer": "ipython3",
   "version": "3.8.13"
  }
 },
 "nbformat": 4,
 "nbformat_minor": 5
}
