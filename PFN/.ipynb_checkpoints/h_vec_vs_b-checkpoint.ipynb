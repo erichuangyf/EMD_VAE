{
 "cells": [
  {
   "cell_type": "markdown",
   "id": "4ef50705",
   "metadata": {},
   "source": [
    "# Import and Initialization"
   ]
  },
  {
   "cell_type": "code",
   "execution_count": 1,
   "id": "02997d6d",
   "metadata": {},
   "outputs": [],
   "source": [
    "%load_ext autoreload\n",
    "%autoreload 2"
   ]
  },
  {
   "cell_type": "code",
   "execution_count": 2,
   "id": "05a505b0",
   "metadata": {},
   "outputs": [
    {
     "name": "stderr",
     "output_type": "stream",
     "text": [
      "2022-09-26 22:11:41.825490: I tensorflow/stream_executor/platform/default/dso_loader.cc:49] Successfully opened dynamic library libcudart.so.10.1\n"
     ]
    }
   ],
   "source": [
    "# standard numerical library imports\n",
    "import numpy as np\n",
    "\n",
    "import matplotlib.pyplot as plt\n",
    "import pandas\n",
    "import os\n",
    "\n",
    "from pfn_utils import *"
   ]
  },
  {
   "cell_type": "code",
   "execution_count": 3,
   "id": "45667e4d",
   "metadata": {},
   "outputs": [],
   "source": [
    "# configs\n",
    "train, val, test = 0.6, 0.3, 0.1\n",
    "Phi_sizes, F_sizes = (256, 256, 256), (256, 256, 256)\n",
    "num_epoch = 500\n",
    "batch_size = 1000"
   ]
  },
  {
   "cell_type": "code",
   "execution_count": 4,
   "id": "505a2894",
   "metadata": {},
   "outputs": [],
   "source": [
    "data_base_dir = \"/global/home/users/yifengh3/VAE/vec_data/recon_data\"\n",
    "raw_b_signals = np.load(os.path.join(data_base_dir, \"reconstructed_B_signal_vector.npz\")) \n",
    "raw_hv_signals = np.load(os.path.join(data_base_dir, \"reconstructed_hv_vector.npz\")) "
   ]
  },
  {
   "cell_type": "code",
   "execution_count": 5,
   "id": "4654dcd8",
   "metadata": {},
   "outputs": [
    {
     "name": "stdout",
     "output_type": "stream",
     "text": [
      "['data', 'recon', 'beta']\n"
     ]
    }
   ],
   "source": [
    "print(list(raw_b_signals.keys()))"
   ]
  },
  {
   "cell_type": "markdown",
   "id": "8c5aa5d4",
   "metadata": {},
   "source": [
    "# Original Data"
   ]
  },
  {
   "cell_type": "code",
   "execution_count": 6,
   "id": "25276321",
   "metadata": {},
   "outputs": [],
   "source": [
    "signal1 = raw_b_signals[\"data\"]\n",
    "signal2 = raw_hv_signals[\"data\"]"
   ]
  },
  {
   "cell_type": "code",
   "execution_count": null,
   "id": "b559b182",
   "metadata": {
    "scrolled": true
   },
   "outputs": [
    {
     "name": "stdout",
     "output_type": "stream",
     "text": [
      "signal_1 data shape: (163600, 50, 3)\n",
      "signal_2 data shape: (155841, 50, 3)\n",
      "shape of X: (319441, 150)\n",
      "shape of Y: (319441,)\n",
      "Weight for background: 0.98\n",
      "Weight for signal: 1.02\n",
      "Finished preprocessing\n",
      "shape of X: (319441, 50, 3)\n",
      "shape of Y: (319441,)\n",
      "Model summary:\n"
     ]
    },
    {
     "name": "stderr",
     "output_type": "stream",
     "text": [
      "2022-09-26 22:12:46.425138: I tensorflow/compiler/jit/xla_cpu_device.cc:41] Not creating XLA devices, tf_xla_enable_xla_devices not set\n",
      "2022-09-26 22:12:46.426000: I tensorflow/stream_executor/platform/default/dso_loader.cc:49] Successfully opened dynamic library libcuda.so.1\n",
      "2022-09-26 22:12:46.448678: I tensorflow/core/common_runtime/gpu/gpu_device.cc:1720] Found device 0 with properties: \n",
      "pciBusID: 0000:01:00.0 name: Quadro RTX 6000 computeCapability: 7.5\n",
      "coreClock: 1.77GHz coreCount: 72 deviceMemorySize: 23.65GiB deviceMemoryBandwidth: 625.94GiB/s\n",
      "2022-09-26 22:12:46.448701: I tensorflow/stream_executor/platform/default/dso_loader.cc:49] Successfully opened dynamic library libcudart.so.10.1\n",
      "2022-09-26 22:12:46.449908: I tensorflow/stream_executor/platform/default/dso_loader.cc:49] Successfully opened dynamic library libcublas.so.10\n",
      "2022-09-26 22:12:46.449937: I tensorflow/stream_executor/platform/default/dso_loader.cc:49] Successfully opened dynamic library libcublasLt.so.10\n",
      "2022-09-26 22:12:46.451394: I tensorflow/stream_executor/platform/default/dso_loader.cc:49] Successfully opened dynamic library libcufft.so.10\n",
      "2022-09-26 22:12:46.451604: I tensorflow/stream_executor/platform/default/dso_loader.cc:49] Successfully opened dynamic library libcurand.so.10\n",
      "2022-09-26 22:12:46.452861: I tensorflow/stream_executor/platform/default/dso_loader.cc:49] Successfully opened dynamic library libcusolver.so.10\n",
      "2022-09-26 22:12:46.453614: I tensorflow/stream_executor/platform/default/dso_loader.cc:49] Successfully opened dynamic library libcusparse.so.10\n",
      "2022-09-26 22:12:46.456738: I tensorflow/stream_executor/platform/default/dso_loader.cc:49] Successfully opened dynamic library libcudnn.so.7\n",
      "2022-09-26 22:12:46.459305: I tensorflow/core/common_runtime/gpu/gpu_device.cc:1862] Adding visible gpu devices: 0\n",
      "2022-09-26 22:12:46.459663: I tensorflow/core/platform/cpu_feature_guard.cc:142] This TensorFlow binary is optimized with oneAPI Deep Neural Network Library (oneDNN) to use the following CPU instructions in performance-critical operations:  SSE4.1 SSE4.2 AVX AVX2 FMA\n",
      "To enable them in other operations, rebuild TensorFlow with the appropriate compiler flags.\n",
      "2022-09-26 22:12:46.461747: I tensorflow/compiler/jit/xla_gpu_device.cc:99] Not creating XLA devices, tf_xla_enable_xla_devices not set\n",
      "2022-09-26 22:12:46.463010: I tensorflow/core/common_runtime/gpu/gpu_device.cc:1720] Found device 0 with properties: \n",
      "pciBusID: 0000:01:00.0 name: Quadro RTX 6000 computeCapability: 7.5\n",
      "coreClock: 1.77GHz coreCount: 72 deviceMemorySize: 23.65GiB deviceMemoryBandwidth: 625.94GiB/s\n",
      "2022-09-26 22:12:46.463033: I tensorflow/stream_executor/platform/default/dso_loader.cc:49] Successfully opened dynamic library libcudart.so.10.1\n",
      "2022-09-26 22:12:46.463049: I tensorflow/stream_executor/platform/default/dso_loader.cc:49] Successfully opened dynamic library libcublas.so.10\n",
      "2022-09-26 22:12:46.463065: I tensorflow/stream_executor/platform/default/dso_loader.cc:49] Successfully opened dynamic library libcublasLt.so.10\n",
      "2022-09-26 22:12:46.463076: I tensorflow/stream_executor/platform/default/dso_loader.cc:49] Successfully opened dynamic library libcufft.so.10\n",
      "2022-09-26 22:12:46.463087: I tensorflow/stream_executor/platform/default/dso_loader.cc:49] Successfully opened dynamic library libcurand.so.10\n",
      "2022-09-26 22:12:46.463097: I tensorflow/stream_executor/platform/default/dso_loader.cc:49] Successfully opened dynamic library libcusolver.so.10\n",
      "2022-09-26 22:12:46.463107: I tensorflow/stream_executor/platform/default/dso_loader.cc:49] Successfully opened dynamic library libcusparse.so.10\n",
      "2022-09-26 22:12:46.463117: I tensorflow/stream_executor/platform/default/dso_loader.cc:49] Successfully opened dynamic library libcudnn.so.7\n",
      "2022-09-26 22:12:46.465509: I tensorflow/core/common_runtime/gpu/gpu_device.cc:1862] Adding visible gpu devices: 0\n",
      "2022-09-26 22:12:46.465553: I tensorflow/stream_executor/platform/default/dso_loader.cc:49] Successfully opened dynamic library libcudart.so.10.1\n",
      "2022-09-26 22:12:46.987008: I tensorflow/core/common_runtime/gpu/gpu_device.cc:1261] Device interconnect StreamExecutor with strength 1 edge matrix:\n",
      "2022-09-26 22:12:46.987057: I tensorflow/core/common_runtime/gpu/gpu_device.cc:1267]      0 \n",
      "2022-09-26 22:12:46.987066: I tensorflow/core/common_runtime/gpu/gpu_device.cc:1280] 0:   N \n",
      "2022-09-26 22:12:46.991250: I tensorflow/core/common_runtime/gpu/gpu_device.cc:1406] Created TensorFlow device (/job:localhost/replica:0/task:0/device:GPU:0 with 21337 MB memory) -> physical GPU (device: 0, name: Quadro RTX 6000, pci bus id: 0000:01:00.0, compute capability: 7.5)\n"
     ]
    },
    {
     "name": "stdout",
     "output_type": "stream",
     "text": [
      "Model: \"model\"\n",
      "__________________________________________________________________________________________________\n",
      "Layer (type)                    Output Shape         Param #     Connected to                     \n",
      "==================================================================================================\n",
      "input (InputLayer)              [(None, None, 3)]    0                                            \n",
      "__________________________________________________________________________________________________\n",
      "tdist_0 (TimeDistributed)       (None, None, 256)    1024        input[0][0]                      \n",
      "__________________________________________________________________________________________________\n",
      "activation (Activation)         (None, None, 256)    0           tdist_0[0][0]                    \n",
      "__________________________________________________________________________________________________\n",
      "tdist_1 (TimeDistributed)       (None, None, 256)    65792       activation[0][0]                 \n",
      "__________________________________________________________________________________________________\n",
      "activation_1 (Activation)       (None, None, 256)    0           tdist_1[0][0]                    \n",
      "__________________________________________________________________________________________________\n",
      "tdist_2 (TimeDistributed)       (None, None, 256)    65792       activation_1[0][0]               \n",
      "__________________________________________________________________________________________________\n",
      "mask (Lambda)                   (None, None)         0           input[0][0]                      \n",
      "__________________________________________________________________________________________________\n",
      "activation_2 (Activation)       (None, None, 256)    0           tdist_2[0][0]                    \n",
      "__________________________________________________________________________________________________\n",
      "sum (Dot)                       (None, 256)          0           mask[0][0]                       \n",
      "                                                                 activation_2[0][0]               \n",
      "__________________________________________________________________________________________________\n",
      "dense_0 (Dense)                 (None, 256)          65792       sum[0][0]                        \n",
      "__________________________________________________________________________________________________\n",
      "activation_3 (Activation)       (None, 256)          0           dense_0[0][0]                    \n",
      "__________________________________________________________________________________________________\n",
      "dense_1 (Dense)                 (None, 256)          65792       activation_3[0][0]               \n",
      "__________________________________________________________________________________________________\n",
      "activation_4 (Activation)       (None, 256)          0           dense_1[0][0]                    \n",
      "__________________________________________________________________________________________________\n",
      "dense_2 (Dense)                 (None, 256)          65792       activation_4[0][0]               \n",
      "__________________________________________________________________________________________________\n",
      "activation_5 (Activation)       (None, 256)          0           dense_2[0][0]                    \n",
      "__________________________________________________________________________________________________\n",
      "output (Dense)                  (None, 2)            514         activation_5[0][0]               \n",
      "__________________________________________________________________________________________________\n",
      "activation_6 (Activation)       (None, 2)            0           output[0][0]                     \n",
      "==================================================================================================\n",
      "Total params: 330,498\n",
      "Trainable params: 330,498\n",
      "Non-trainable params: 0\n",
      "__________________________________________________________________________________________________\n",
      "Epoch 1/500\n"
     ]
    },
    {
     "name": "stderr",
     "output_type": "stream",
     "text": [
      "2022-09-26 22:12:47.386469: I tensorflow/compiler/mlir/mlir_graph_optimization_pass.cc:116] None of the MLIR optimization passes are enabled (registered 2)\n",
      "2022-09-26 22:12:47.386917: I tensorflow/core/platform/profile_utils/cpu_utils.cc:112] CPU Frequency: 2994530000 Hz\n"
     ]
    },
    {
     "name": "stdout",
     "output_type": "stream",
     "text": [
      "\r",
      "  1/192 [..............................] - ETA: 1:46 - loss: 6.3052 - acc: 0.7310"
     ]
    },
    {
     "name": "stderr",
     "output_type": "stream",
     "text": [
      "2022-09-26 22:12:47.775124: I tensorflow/stream_executor/platform/default/dso_loader.cc:49] Successfully opened dynamic library libcublas.so.10\n"
     ]
    },
    {
     "name": "stdout",
     "output_type": "stream",
     "text": [
      "192/192 [==============================] - 3s 13ms/step - loss: 34.6790 - acc: 0.7765 - val_loss: 0.3533 - val_acc: 0.9079\n",
      "Epoch 2/500\n",
      "192/192 [==============================] - 2s 10ms/step - loss: 0.4595 - acc: 0.9113 - val_loss: 0.4890 - val_acc: 0.8903\n",
      "Epoch 3/500\n",
      "192/192 [==============================] - 2s 10ms/step - loss: 0.2371 - acc: 0.9329 - val_loss: 0.1876 - val_acc: 0.9378\n",
      "Epoch 4/500\n",
      "192/192 [==============================] - 2s 10ms/step - loss: 0.1480 - acc: 0.9500 - val_loss: 0.0993 - val_acc: 0.9669\n",
      "Epoch 5/500\n",
      "192/192 [==============================] - 2s 10ms/step - loss: 0.1836 - acc: 0.9396 - val_loss: 0.0751 - val_acc: 0.9773\n",
      "Epoch 6/500\n",
      "192/192 [==============================] - 2s 10ms/step - loss: 0.1073 - acc: 0.9626 - val_loss: 0.0956 - val_acc: 0.9664\n",
      "Epoch 7/500\n",
      "192/192 [==============================] - 2s 10ms/step - loss: 0.0912 - acc: 0.9681 - val_loss: 0.2742 - val_acc: 0.9286\n",
      "Epoch 8/500\n",
      "192/192 [==============================] - 2s 10ms/step - loss: 0.1976 - acc: 0.9411 - val_loss: 0.0650 - val_acc: 0.9792\n",
      "Epoch 9/500\n",
      "192/192 [==============================] - 2s 10ms/step - loss: 0.0679 - acc: 0.9801 - val_loss: 0.0574 - val_acc: 0.9836\n",
      "Epoch 10/500\n",
      "192/192 [==============================] - 2s 10ms/step - loss: 0.0568 - acc: 0.9837 - val_loss: 0.0502 - val_acc: 0.9845\n",
      "Epoch 11/500\n",
      "192/192 [==============================] - 2s 10ms/step - loss: 0.0482 - acc: 0.9870 - val_loss: 1.4769 - val_acc: 0.8384\n",
      "Epoch 12/500\n",
      "192/192 [==============================] - 2s 10ms/step - loss: 1.1779 - acc: 0.8708 - val_loss: 0.0846 - val_acc: 0.9714\n",
      "Epoch 13/500\n",
      "192/192 [==============================] - 2s 10ms/step - loss: 0.0866 - acc: 0.9715 - val_loss: 0.0653 - val_acc: 0.9798\n",
      "Epoch 14/500\n",
      "192/192 [==============================] - 2s 10ms/step - loss: 0.0762 - acc: 0.9758 - val_loss: 0.0553 - val_acc: 0.9845\n",
      "Epoch 15/500\n",
      "192/192 [==============================] - 2s 10ms/step - loss: 0.0552 - acc: 0.9841 - val_loss: 0.0534 - val_acc: 0.9834\n",
      "\n",
      "Epoch 00015: ReduceLROnPlateau reducing learning rate to 0.000630957374449059.\n",
      "Epoch 16/500\n",
      "192/192 [==============================] - 2s 10ms/step - loss: 0.0457 - acc: 0.9880 - val_loss: 0.0390 - val_acc: 0.9883\n",
      "Epoch 17/500\n",
      "192/192 [==============================] - 2s 10ms/step - loss: 0.0355 - acc: 0.9916 - val_loss: 0.0336 - val_acc: 0.9910\n",
      "Epoch 18/500\n",
      "192/192 [==============================] - 2s 10ms/step - loss: 0.0362 - acc: 0.9911 - val_loss: 0.0326 - val_acc: 0.9907\n",
      "Epoch 19/500\n",
      "192/192 [==============================] - 2s 10ms/step - loss: 0.0359 - acc: 0.9910 - val_loss: 0.0277 - val_acc: 0.9927\n",
      "Epoch 20/500\n",
      "192/192 [==============================] - 2s 10ms/step - loss: 0.0385 - acc: 0.9894 - val_loss: 0.0259 - val_acc: 0.9937\n",
      "Epoch 21/500\n",
      "192/192 [==============================] - 2s 10ms/step - loss: 0.0438 - acc: 0.9884 - val_loss: 0.0549 - val_acc: 0.9824\n",
      "Epoch 22/500\n",
      "192/192 [==============================] - 2s 10ms/step - loss: 0.0345 - acc: 0.9912 - val_loss: 0.0314 - val_acc: 0.9917\n",
      "Epoch 23/500\n",
      "192/192 [==============================] - 2s 10ms/step - loss: 0.0346 - acc: 0.9909 - val_loss: 0.0289 - val_acc: 0.9932\n",
      "Epoch 24/500\n",
      "192/192 [==============================] - 2s 10ms/step - loss: 0.0281 - acc: 0.9930 - val_loss: 0.0479 - val_acc: 0.9869\n",
      "Epoch 25/500\n",
      "192/192 [==============================] - 2s 10ms/step - loss: 0.0422 - acc: 0.9880 - val_loss: 0.0487 - val_acc: 0.9853\n",
      "\n",
      "Epoch 00025: ReduceLROnPlateau reducing learning rate to 0.0003981071838171537.\n",
      "Epoch 26/500\n",
      "192/192 [==============================] - 2s 10ms/step - loss: 0.0252 - acc: 0.9938 - val_loss: 0.0187 - val_acc: 0.9953\n",
      "Epoch 27/500\n",
      "192/192 [==============================] - 2s 10ms/step - loss: 0.0192 - acc: 0.9956 - val_loss: 0.0179 - val_acc: 0.9958\n",
      "Epoch 28/500\n",
      "192/192 [==============================] - 2s 10ms/step - loss: 0.0187 - acc: 0.9958 - val_loss: 0.0236 - val_acc: 0.9940\n",
      "Epoch 29/500\n",
      "192/192 [==============================] - 2s 10ms/step - loss: 0.0181 - acc: 0.9961 - val_loss: 0.0174 - val_acc: 0.9957\n",
      "Epoch 30/500\n",
      "192/192 [==============================] - 2s 10ms/step - loss: 0.0176 - acc: 0.9958 - val_loss: 0.0323 - val_acc: 0.9911\n",
      "Epoch 31/500\n",
      "192/192 [==============================] - 2s 10ms/step - loss: 0.0201 - acc: 0.9952 - val_loss: 0.0554 - val_acc: 0.9823\n",
      "Epoch 32/500\n",
      "192/192 [==============================] - 2s 10ms/step - loss: 0.0390 - acc: 0.9890 - val_loss: 0.0197 - val_acc: 0.9955\n",
      "Epoch 33/500\n",
      "192/192 [==============================] - 2s 10ms/step - loss: 0.0169 - acc: 0.9961 - val_loss: 0.0188 - val_acc: 0.9972\n",
      "Epoch 34/500\n",
      "192/192 [==============================] - 2s 10ms/step - loss: 0.0471 - acc: 0.9865 - val_loss: 0.0243 - val_acc: 0.9932\n",
      "\n",
      "Epoch 00034: ReduceLROnPlateau reducing learning rate to 0.0002511886574257803.\n",
      "Epoch 35/500\n",
      "192/192 [==============================] - 2s 10ms/step - loss: 0.0213 - acc: 0.9950 - val_loss: 0.0214 - val_acc: 0.9965\n",
      "Epoch 36/500\n",
      "192/192 [==============================] - 2s 10ms/step - loss: 0.0153 - acc: 0.9967 - val_loss: 0.0152 - val_acc: 0.9966\n",
      "Epoch 37/500\n",
      "192/192 [==============================] - 2s 10ms/step - loss: 0.0138 - acc: 0.9969 - val_loss: 0.0143 - val_acc: 0.9976\n",
      "Epoch 38/500\n",
      "192/192 [==============================] - 2s 10ms/step - loss: 0.0117 - acc: 0.9974 - val_loss: 0.0138 - val_acc: 0.9972\n",
      "Epoch 39/500\n",
      "192/192 [==============================] - 2s 10ms/step - loss: 0.0117 - acc: 0.9973 - val_loss: 0.0138 - val_acc: 0.9966\n",
      "Epoch 40/500\n",
      "192/192 [==============================] - 2s 10ms/step - loss: 0.0137 - acc: 0.9967 - val_loss: 0.0414 - val_acc: 0.9894\n",
      "Epoch 41/500\n",
      "192/192 [==============================] - 2s 10ms/step - loss: 0.0278 - acc: 0.9920 - val_loss: 0.0149 - val_acc: 0.9983\n",
      "Epoch 42/500\n",
      "192/192 [==============================] - 2s 10ms/step - loss: 0.0093 - acc: 0.9979 - val_loss: 0.0116 - val_acc: 0.9983\n",
      "Epoch 43/500\n",
      "192/192 [==============================] - 2s 10ms/step - loss: 0.0087 - acc: 0.9980 - val_loss: 0.0125 - val_acc: 0.9969\n",
      "Epoch 44/500\n",
      "192/192 [==============================] - 2s 10ms/step - loss: 0.0478 - acc: 0.9862 - val_loss: 0.0125 - val_acc: 0.9975\n",
      "Epoch 45/500\n",
      "192/192 [==============================] - 2s 10ms/step - loss: 0.0092 - acc: 0.9980 - val_loss: 0.0331 - val_acc: 0.9877\n",
      "Epoch 46/500\n",
      "192/192 [==============================] - 2s 10ms/step - loss: 0.0116 - acc: 0.9972 - val_loss: 0.0099 - val_acc: 0.9978\n",
      "Epoch 47/500\n",
      "192/192 [==============================] - 2s 10ms/step - loss: 0.0185 - acc: 0.9955 - val_loss: 0.0342 - val_acc: 0.9907\n",
      "Epoch 48/500\n",
      "192/192 [==============================] - 2s 10ms/step - loss: 0.0209 - acc: 0.9951 - val_loss: 0.0182 - val_acc: 0.9965\n",
      "Epoch 49/500\n",
      "192/192 [==============================] - 2s 10ms/step - loss: 0.0093 - acc: 0.9978 - val_loss: 0.0110 - val_acc: 0.9974\n",
      "Epoch 50/500\n",
      "192/192 [==============================] - 2s 10ms/step - loss: 0.0075 - acc: 0.9983 - val_loss: 0.0100 - val_acc: 0.9977\n",
      "Epoch 51/500\n",
      "192/192 [==============================] - 2s 10ms/step - loss: 0.0078 - acc: 0.9983 - val_loss: 0.0123 - val_acc: 0.9972\n",
      "\n",
      "Epoch 00051: ReduceLROnPlateau reducing learning rate to 0.00015848933651346973.\n",
      "Epoch 52/500\n",
      "192/192 [==============================] - 2s 10ms/step - loss: 0.0061 - acc: 0.9986 - val_loss: 0.0090 - val_acc: 0.9983\n",
      "Epoch 53/500\n",
      "141/192 [=====================>........] - ETA: 0s - loss: 0.0047 - acc: 0.9990"
     ]
    }
   ],
   "source": [
    "pfn_original, hist1, original_training_data = train_pfn(signal1, signal2)"
   ]
  },
  {
   "cell_type": "code",
   "execution_count": null,
   "id": "e72df924",
   "metadata": {},
   "outputs": [],
   "source": [
    "analysis(pfn_original,)"
   ]
  },
  {
   "cell_type": "markdown",
   "id": "900d9dbf",
   "metadata": {},
   "source": [
    "# Test of recon data"
   ]
  },
  {
   "cell_type": "code",
   "execution_count": null,
   "id": "a706d425",
   "metadata": {},
   "outputs": [],
   "source": []
  }
 ],
 "metadata": {
  "kernelspec": {
   "display_name": "Python 3 (ipykernel)",
   "language": "python",
   "name": "python3"
  },
  "language_info": {
   "codemirror_mode": {
    "name": "ipython",
    "version": 3
   },
   "file_extension": ".py",
   "mimetype": "text/x-python",
   "name": "python",
   "nbconvert_exporter": "python",
   "pygments_lexer": "ipython3",
   "version": "3.8.13"
  }
 },
 "nbformat": 4,
 "nbformat_minor": 5
}
