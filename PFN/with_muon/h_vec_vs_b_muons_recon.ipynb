{
 "cells": [
  {
   "cell_type": "markdown",
   "id": "4ef50705",
   "metadata": {},
   "source": [
    "# Import and Initialization"
   ]
  },
  {
   "cell_type": "code",
   "execution_count": 1,
   "id": "05a505b0",
   "metadata": {},
   "outputs": [
    {
     "name": "stderr",
     "output_type": "stream",
     "text": [
      "2022-05-05 16:47:36.017141: I tensorflow/stream_executor/platform/default/dso_loader.cc:49] Successfully opened dynamic library libcudart.so.10.1\n"
     ]
    }
   ],
   "source": [
    "%load_ext autoreload\n",
    "%autoreload 2\n",
    "\n",
    "import tensorflow as tf\n",
    "\n",
    "# standard library imports\n",
    "from __future__ import absolute_import, division, print_function\n",
    "\n",
    "# standard numerical library imports\n",
    "import numpy as np\n",
    "\n",
    "# energyflow imports\n",
    "import energyflow as ef\n",
    "from energyflow.archs import PFN\n",
    "from energyflow.datasets import qg_jets\n",
    "from energyflow.utils import data_split, remap_pids, to_categorical\n",
    "\n",
    "from sklearn.metrics import roc_auc_score, roc_curve\n",
    "import matplotlib.pyplot as plt\n",
    "\n",
    "\n",
    "import pandas\n",
    "import h5py\n",
    "import pickle\n",
    "\n",
    "import datetime"
   ]
  },
  {
   "cell_type": "code",
   "execution_count": 2,
   "id": "45667e4d",
   "metadata": {},
   "outputs": [],
   "source": [
    "# configs\n",
    "train, val, test = 0.6, 0.3, 0.1\n",
    "Phi_sizes, F_sizes = (256, 256, 256), (256, 256, 256)\n",
    "num_epoch = 500\n",
    "batch_size = 1000"
   ]
  },
  {
   "cell_type": "markdown",
   "id": "8c5aa5d4",
   "metadata": {},
   "source": [
    "# Load and Process Data"
   ]
  },
  {
   "cell_type": "code",
   "execution_count": 3,
   "id": "25276321",
   "metadata": {},
   "outputs": [],
   "source": [
    "signal_1_df = \"/global/home/users/yifengh3/VAE/new_data/muon_data/h_signal_big_muons.h5\"\n",
    "signal_2_df = \"/global/home/users/yifengh3/VAE/new_data/muon_data/hv_signal_big_muons.h5\"\n",
    "raw_signal_1 = pandas.read_hdf(signal_1_df)\n",
    "raw_signal_2 = pandas.read_hdf(signal_2_df)"
   ]
  },
  {
   "cell_type": "code",
   "execution_count": 4,
   "id": "646d74c9",
   "metadata": {},
   "outputs": [
    {
     "name": "stdout",
     "output_type": "stream",
     "text": [
      "signal_1 data shape: (173692, 8)\n",
      "signal_2 data shape: (157772, 8)\n"
     ]
    }
   ],
   "source": [
    "print(\"signal_1 data shape: {}\".format(raw_signal_1.shape))\n",
    "print(\"signal_2 data shape: {}\".format(raw_signal_2.shape))"
   ]
  },
  {
   "cell_type": "code",
   "execution_count": 5,
   "id": "a75f65a8",
   "metadata": {},
   "outputs": [
    {
     "data": {
      "text/html": [
       "<div>\n",
       "<style scoped>\n",
       "    .dataframe tbody tr th:only-of-type {\n",
       "        vertical-align: middle;\n",
       "    }\n",
       "\n",
       "    .dataframe tbody tr th {\n",
       "        vertical-align: top;\n",
       "    }\n",
       "\n",
       "    .dataframe thead th {\n",
       "        text-align: right;\n",
       "    }\n",
       "</style>\n",
       "<table border=\"1\" class=\"dataframe\">\n",
       "  <thead>\n",
       "    <tr style=\"text-align: right;\">\n",
       "      <th></th>\n",
       "      <th>pT0</th>\n",
       "      <th>eta0</th>\n",
       "      <th>phi0</th>\n",
       "      <th>E0</th>\n",
       "      <th>pT1</th>\n",
       "      <th>eta1</th>\n",
       "      <th>phi1</th>\n",
       "      <th>E1</th>\n",
       "    </tr>\n",
       "  </thead>\n",
       "  <tbody>\n",
       "    <tr>\n",
       "      <th>0</th>\n",
       "      <td>13.0</td>\n",
       "      <td>62.4740</td>\n",
       "      <td>-1.701850</td>\n",
       "      <td>62.4740</td>\n",
       "      <td>-13.0</td>\n",
       "      <td>40.94240</td>\n",
       "      <td>-1.718690</td>\n",
       "      <td>40.94240</td>\n",
       "    </tr>\n",
       "    <tr>\n",
       "      <th>1</th>\n",
       "      <td>13.0</td>\n",
       "      <td>13.4565</td>\n",
       "      <td>-0.243036</td>\n",
       "      <td>13.4565</td>\n",
       "      <td>-13.0</td>\n",
       "      <td>33.92570</td>\n",
       "      <td>-0.287077</td>\n",
       "      <td>33.92570</td>\n",
       "    </tr>\n",
       "    <tr>\n",
       "      <th>2</th>\n",
       "      <td>13.0</td>\n",
       "      <td>66.1971</td>\n",
       "      <td>-0.342065</td>\n",
       "      <td>66.1971</td>\n",
       "      <td>-13.0</td>\n",
       "      <td>4.71550</td>\n",
       "      <td>-0.290955</td>\n",
       "      <td>4.71550</td>\n",
       "    </tr>\n",
       "    <tr>\n",
       "      <th>3</th>\n",
       "      <td>13.0</td>\n",
       "      <td>50.8922</td>\n",
       "      <td>-1.790440</td>\n",
       "      <td>50.8922</td>\n",
       "      <td>-13.0</td>\n",
       "      <td>12.91650</td>\n",
       "      <td>-1.806460</td>\n",
       "      <td>12.91650</td>\n",
       "    </tr>\n",
       "    <tr>\n",
       "      <th>4</th>\n",
       "      <td>13.0</td>\n",
       "      <td>59.7630</td>\n",
       "      <td>-1.344120</td>\n",
       "      <td>59.7630</td>\n",
       "      <td>-13.0</td>\n",
       "      <td>16.97240</td>\n",
       "      <td>-1.327890</td>\n",
       "      <td>16.97240</td>\n",
       "    </tr>\n",
       "    <tr>\n",
       "      <th>...</th>\n",
       "      <td>...</td>\n",
       "      <td>...</td>\n",
       "      <td>...</td>\n",
       "      <td>...</td>\n",
       "      <td>...</td>\n",
       "      <td>...</td>\n",
       "      <td>...</td>\n",
       "      <td>...</td>\n",
       "    </tr>\n",
       "    <tr>\n",
       "      <th>6881</th>\n",
       "      <td>13.0</td>\n",
       "      <td>31.9867</td>\n",
       "      <td>-2.338530</td>\n",
       "      <td>31.9867</td>\n",
       "      <td>-13.0</td>\n",
       "      <td>20.39380</td>\n",
       "      <td>-2.300500</td>\n",
       "      <td>20.39380</td>\n",
       "    </tr>\n",
       "    <tr>\n",
       "      <th>6882</th>\n",
       "      <td>13.0</td>\n",
       "      <td>47.7360</td>\n",
       "      <td>-2.012180</td>\n",
       "      <td>47.7360</td>\n",
       "      <td>-13.0</td>\n",
       "      <td>8.02589</td>\n",
       "      <td>-1.974860</td>\n",
       "      <td>8.02589</td>\n",
       "    </tr>\n",
       "    <tr>\n",
       "      <th>6883</th>\n",
       "      <td>13.0</td>\n",
       "      <td>51.4818</td>\n",
       "      <td>0.027498</td>\n",
       "      <td>51.4818</td>\n",
       "      <td>-13.0</td>\n",
       "      <td>59.43760</td>\n",
       "      <td>0.043301</td>\n",
       "      <td>59.43760</td>\n",
       "    </tr>\n",
       "    <tr>\n",
       "      <th>6884</th>\n",
       "      <td>13.0</td>\n",
       "      <td>22.5427</td>\n",
       "      <td>1.615810</td>\n",
       "      <td>22.5427</td>\n",
       "      <td>-13.0</td>\n",
       "      <td>36.42490</td>\n",
       "      <td>1.648680</td>\n",
       "      <td>36.42490</td>\n",
       "    </tr>\n",
       "    <tr>\n",
       "      <th>6885</th>\n",
       "      <td>13.0</td>\n",
       "      <td>36.0875</td>\n",
       "      <td>0.576722</td>\n",
       "      <td>36.0875</td>\n",
       "      <td>-13.0</td>\n",
       "      <td>20.93080</td>\n",
       "      <td>0.580795</td>\n",
       "      <td>20.93080</td>\n",
       "    </tr>\n",
       "  </tbody>\n",
       "</table>\n",
       "<p>173692 rows × 8 columns</p>\n",
       "</div>"
      ],
      "text/plain": [
       "       pT0     eta0      phi0       E0   pT1      eta1      phi1        E1\n",
       "0     13.0  62.4740 -1.701850  62.4740 -13.0  40.94240 -1.718690  40.94240\n",
       "1     13.0  13.4565 -0.243036  13.4565 -13.0  33.92570 -0.287077  33.92570\n",
       "2     13.0  66.1971 -0.342065  66.1971 -13.0   4.71550 -0.290955   4.71550\n",
       "3     13.0  50.8922 -1.790440  50.8922 -13.0  12.91650 -1.806460  12.91650\n",
       "4     13.0  59.7630 -1.344120  59.7630 -13.0  16.97240 -1.327890  16.97240\n",
       "...    ...      ...       ...      ...   ...       ...       ...       ...\n",
       "6881  13.0  31.9867 -2.338530  31.9867 -13.0  20.39380 -2.300500  20.39380\n",
       "6882  13.0  47.7360 -2.012180  47.7360 -13.0   8.02589 -1.974860   8.02589\n",
       "6883  13.0  51.4818  0.027498  51.4818 -13.0  59.43760  0.043301  59.43760\n",
       "6884  13.0  22.5427  1.615810  22.5427 -13.0  36.42490  1.648680  36.42490\n",
       "6885  13.0  36.0875  0.576722  36.0875 -13.0  20.93080  0.580795  20.93080\n",
       "\n",
       "[173692 rows x 8 columns]"
      ]
     },
     "execution_count": 5,
     "metadata": {},
     "output_type": "execute_result"
    }
   ],
   "source": [
    "raw_signal_1"
   ]
  },
  {
   "cell_type": "code",
   "execution_count": 6,
   "id": "3edf6b5e",
   "metadata": {},
   "outputs": [],
   "source": [
    "#Truncate the nan\n",
    "signal_1 = raw_signal_1.to_numpy()[:,:8]\n",
    "signal_2 = raw_signal_2.to_numpy()[:,:8]"
   ]
  },
  {
   "cell_type": "code",
   "execution_count": 7,
   "id": "6235130e",
   "metadata": {},
   "outputs": [
    {
     "data": {
      "text/plain": [
       "array([ 1.30000000e+01,  3.27471798e+01,  1.18269860e-03,  3.27471798e+01,\n",
       "       -1.30000000e+01,  3.27521130e+01,  1.05764062e-03,  3.27521130e+01])"
      ]
     },
     "execution_count": 7,
     "metadata": {},
     "output_type": "execute_result"
    }
   ],
   "source": [
    "np.mean(signal_1,axis=0)"
   ]
  },
  {
   "cell_type": "code",
   "execution_count": 8,
   "id": "8c1b8120",
   "metadata": {},
   "outputs": [
    {
     "name": "stdout",
     "output_type": "stream",
     "text": [
      "signal_1 data shape: (173692, 8)\n",
      "signal_2 data shape: (157772, 8)\n"
     ]
    }
   ],
   "source": [
    "print(\"signal_1 data shape: {}\".format(signal_1.shape))\n",
    "print(\"signal_2 data shape: {}\".format(signal_2.shape))"
   ]
  },
  {
   "cell_type": "code",
   "execution_count": 9,
   "id": "e582ac98",
   "metadata": {},
   "outputs": [],
   "source": [
    "# assign labels to signal and background data, 0 for sig1,  1 for sig2\n",
    "# (updated since we might get multiple signals) \n",
    "labeled_sig1 = np.append(signal_1,np.zeros((signal_1.shape[0],1)),axis=1)\n",
    "labeled_sig2 = np.append(signal_2,np.ones((signal_2.shape[0],1)),axis=1)"
   ]
  },
  {
   "cell_type": "code",
   "execution_count": 10,
   "id": "8540cc44",
   "metadata": {},
   "outputs": [],
   "source": [
    "# mix two data array into one signal array\n",
    "data = np.concatenate((labeled_sig1,labeled_sig2))\n",
    "\n",
    "#and shuffle the data\n",
    "np.random.shuffle(data)"
   ]
  },
  {
   "cell_type": "code",
   "execution_count": 11,
   "id": "34eaf99c",
   "metadata": {},
   "outputs": [],
   "source": [
    "X = data[:,:-1]\n",
    "y = data[:,-1]"
   ]
  },
  {
   "cell_type": "code",
   "execution_count": 12,
   "id": "d078bbf6",
   "metadata": {},
   "outputs": [
    {
     "name": "stdout",
     "output_type": "stream",
     "text": [
      "shape of X: (331464, 8)\n",
      "shape of Y: (331464,)\n"
     ]
    }
   ],
   "source": [
    "print(\"shape of X: {}\".format(X.shape))\n",
    "print(\"shape of Y: {}\".format(y.shape))"
   ]
  },
  {
   "cell_type": "code",
   "execution_count": 13,
   "id": "ea34616a",
   "metadata": {},
   "outputs": [
    {
     "name": "stdout",
     "output_type": "stream",
     "text": [
      "Weight for background: 0.95\n",
      "Weight for signal: 1.05\n"
     ]
    }
   ],
   "source": [
    "# Scaling by total/2 helps keep the loss to a similar magnitude.\n",
    "# The sum of the weights of all examples stays the same.\n",
    "total = labeled_sig1.shape[0] + labeled_sig2.shape[0]\n",
    "weight_for_0 = (1 / labeled_sig1.shape[0]) * (total / 2.0)\n",
    "weight_for_1 = (1 / labeled_sig2.shape[0]) * (total / 2.0)\n",
    "\n",
    "\n",
    "class_weight = {0: weight_for_0, 1: weight_for_1}\n",
    "\n",
    "print('Weight for background: {:.2f}'.format(weight_for_0))\n",
    "print('Weight for signal: {:.2f}'.format(weight_for_1))"
   ]
  },
  {
   "cell_type": "code",
   "execution_count": 14,
   "id": "c3e0e641",
   "metadata": {},
   "outputs": [],
   "source": [
    "# To categorical as stipulated in example\n",
    "Y = to_categorical(y, num_classes=2)\n",
    "\n",
    "# Reshape X to shape (number of jets, 50, 4)\n",
    "X = X.reshape(-1,2,4)\n",
    "\n",
    "# ignore the pid info\n",
    "X = X[:,:,:3]"
   ]
  },
  {
   "cell_type": "code",
   "execution_count": 15,
   "id": "3f3e9fdd",
   "metadata": {},
   "outputs": [
    {
     "name": "stdout",
     "output_type": "stream",
     "text": [
      "(331464, 2, 3)\n"
     ]
    }
   ],
   "source": [
    "print(X.shape)"
   ]
  },
  {
   "cell_type": "code",
   "execution_count": 16,
   "id": "6a6fe36d",
   "metadata": {},
   "outputs": [],
   "source": [
    "# # normalizing jets\n",
    "# # copied from example\n",
    "# import tqdm\n",
    "# for x in tqdm.tqdm(X):\n",
    "#     # now add the status bar :)\n",
    "#     mask = x[:,0] > 0\n",
    "#     yphi_avg = np.average(x[mask,1:3], weights=x[mask,0], axis=0)\n",
    "#     x[mask,1:3] -= yphi_avg\n",
    "#     x[mask,0] /= x[:,0].sum()"
   ]
  },
  {
   "cell_type": "code",
   "execution_count": 17,
   "id": "c3e18f2d",
   "metadata": {},
   "outputs": [
    {
     "name": "stdout",
     "output_type": "stream",
     "text": [
      "Finished preprocessing\n",
      "shape of X: (331464, 2, 3)\n",
      "shape of Y: (331464,)\n"
     ]
    }
   ],
   "source": [
    "print('Finished preprocessing')\n",
    "print(\"shape of X: {}\".format(X.shape))\n",
    "print(\"shape of Y: {}\".format(y.shape))"
   ]
  },
  {
   "cell_type": "code",
   "execution_count": 18,
   "id": "3f573cd4",
   "metadata": {},
   "outputs": [],
   "source": [
    "X = X.astype('float64')"
   ]
  },
  {
   "cell_type": "code",
   "execution_count": 19,
   "id": "939de622",
   "metadata": {},
   "outputs": [],
   "source": [
    "# do train/val/test split \n",
    "(X_train, X_val, X_test,\n",
    " Y_train, Y_val, Y_test) = data_split(X, Y, val=val, test=test)"
   ]
  },
  {
   "cell_type": "markdown",
   "id": "bc6339cd",
   "metadata": {},
   "source": [
    "# Build and Train the Model"
   ]
  },
  {
   "cell_type": "code",
   "execution_count": 20,
   "id": "4876d9dc",
   "metadata": {},
   "outputs": [
    {
     "name": "stdout",
     "output_type": "stream",
     "text": [
      "Model summary:\n"
     ]
    },
    {
     "name": "stderr",
     "output_type": "stream",
     "text": [
      "2022-05-05 16:47:38.935564: I tensorflow/compiler/jit/xla_cpu_device.cc:41] Not creating XLA devices, tf_xla_enable_xla_devices not set\n",
      "2022-05-05 16:47:38.936406: I tensorflow/stream_executor/platform/default/dso_loader.cc:49] Successfully opened dynamic library libcuda.so.1\n",
      "2022-05-05 16:47:38.966645: I tensorflow/core/common_runtime/gpu/gpu_device.cc:1720] Found device 0 with properties: \n",
      "pciBusID: 0000:81:00.0 name: Quadro RTX 6000 computeCapability: 7.5\n",
      "coreClock: 1.77GHz coreCount: 72 deviceMemorySize: 23.65GiB deviceMemoryBandwidth: 625.94GiB/s\n",
      "2022-05-05 16:47:38.966666: I tensorflow/stream_executor/platform/default/dso_loader.cc:49] Successfully opened dynamic library libcudart.so.10.1\n",
      "2022-05-05 16:47:38.968007: I tensorflow/stream_executor/platform/default/dso_loader.cc:49] Successfully opened dynamic library libcublas.so.10\n",
      "2022-05-05 16:47:38.968036: I tensorflow/stream_executor/platform/default/dso_loader.cc:49] Successfully opened dynamic library libcublasLt.so.10\n",
      "2022-05-05 16:47:38.969551: I tensorflow/stream_executor/platform/default/dso_loader.cc:49] Successfully opened dynamic library libcufft.so.10\n",
      "2022-05-05 16:47:38.969752: I tensorflow/stream_executor/platform/default/dso_loader.cc:49] Successfully opened dynamic library libcurand.so.10\n",
      "2022-05-05 16:47:38.971025: I tensorflow/stream_executor/platform/default/dso_loader.cc:49] Successfully opened dynamic library libcusolver.so.10\n",
      "2022-05-05 16:47:38.971602: I tensorflow/stream_executor/platform/default/dso_loader.cc:49] Successfully opened dynamic library libcusparse.so.10\n",
      "2022-05-05 16:47:38.974317: I tensorflow/stream_executor/platform/default/dso_loader.cc:49] Successfully opened dynamic library libcudnn.so.7\n",
      "2022-05-05 16:47:38.976950: I tensorflow/core/common_runtime/gpu/gpu_device.cc:1862] Adding visible gpu devices: 0\n",
      "2022-05-05 16:47:38.977942: I tensorflow/core/platform/cpu_feature_guard.cc:142] This TensorFlow binary is optimized with oneAPI Deep Neural Network Library (oneDNN) to use the following CPU instructions in performance-critical operations:  SSE4.1 SSE4.2 AVX AVX2 FMA\n",
      "To enable them in other operations, rebuild TensorFlow with the appropriate compiler flags.\n",
      "2022-05-05 16:47:38.982410: I tensorflow/core/common_runtime/gpu/gpu_device.cc:1720] Found device 0 with properties: \n",
      "pciBusID: 0000:81:00.0 name: Quadro RTX 6000 computeCapability: 7.5\n",
      "coreClock: 1.77GHz coreCount: 72 deviceMemorySize: 23.65GiB deviceMemoryBandwidth: 625.94GiB/s\n",
      "2022-05-05 16:47:38.982447: I tensorflow/stream_executor/platform/default/dso_loader.cc:49] Successfully opened dynamic library libcudart.so.10.1\n",
      "2022-05-05 16:47:38.982479: I tensorflow/stream_executor/platform/default/dso_loader.cc:49] Successfully opened dynamic library libcublas.so.10\n",
      "2022-05-05 16:47:38.982503: I tensorflow/stream_executor/platform/default/dso_loader.cc:49] Successfully opened dynamic library libcublasLt.so.10\n",
      "2022-05-05 16:47:38.982526: I tensorflow/stream_executor/platform/default/dso_loader.cc:49] Successfully opened dynamic library libcufft.so.10\n",
      "2022-05-05 16:47:38.982547: I tensorflow/stream_executor/platform/default/dso_loader.cc:49] Successfully opened dynamic library libcurand.so.10\n",
      "2022-05-05 16:47:38.982569: I tensorflow/stream_executor/platform/default/dso_loader.cc:49] Successfully opened dynamic library libcusolver.so.10\n",
      "2022-05-05 16:47:38.982594: I tensorflow/stream_executor/platform/default/dso_loader.cc:49] Successfully opened dynamic library libcusparse.so.10\n",
      "2022-05-05 16:47:38.982644: I tensorflow/stream_executor/platform/default/dso_loader.cc:49] Successfully opened dynamic library libcudnn.so.7\n",
      "2022-05-05 16:47:38.987187: I tensorflow/core/common_runtime/gpu/gpu_device.cc:1862] Adding visible gpu devices: 0\n",
      "2022-05-05 16:47:38.987232: I tensorflow/stream_executor/platform/default/dso_loader.cc:49] Successfully opened dynamic library libcudart.so.10.1\n",
      "2022-05-05 16:47:39.516185: I tensorflow/core/common_runtime/gpu/gpu_device.cc:1261] Device interconnect StreamExecutor with strength 1 edge matrix:\n",
      "2022-05-05 16:47:39.516232: I tensorflow/core/common_runtime/gpu/gpu_device.cc:1267]      0 \n",
      "2022-05-05 16:47:39.516242: I tensorflow/core/common_runtime/gpu/gpu_device.cc:1280] 0:   N \n",
      "2022-05-05 16:47:39.520232: I tensorflow/core/common_runtime/gpu/gpu_device.cc:1406] Created TensorFlow device (/job:localhost/replica:0/task:0/device:GPU:0 with 22017 MB memory) -> physical GPU (device: 0, name: Quadro RTX 6000, pci bus id: 0000:81:00.0, compute capability: 7.5)\n",
      "2022-05-05 16:47:39.520489: I tensorflow/compiler/jit/xla_gpu_device.cc:99] Not creating XLA devices, tf_xla_enable_xla_devices not set\n"
     ]
    },
    {
     "name": "stdout",
     "output_type": "stream",
     "text": [
      "Model: \"model\"\n",
      "__________________________________________________________________________________________________\n",
      "Layer (type)                    Output Shape         Param #     Connected to                     \n",
      "==================================================================================================\n",
      "input (InputLayer)              [(None, None, 3)]    0                                            \n",
      "__________________________________________________________________________________________________\n",
      "tdist_0 (TimeDistributed)       (None, None, 256)    1024        input[0][0]                      \n",
      "__________________________________________________________________________________________________\n",
      "activation (Activation)         (None, None, 256)    0           tdist_0[0][0]                    \n",
      "__________________________________________________________________________________________________\n",
      "tdist_1 (TimeDistributed)       (None, None, 256)    65792       activation[0][0]                 \n",
      "__________________________________________________________________________________________________\n",
      "activation_1 (Activation)       (None, None, 256)    0           tdist_1[0][0]                    \n",
      "__________________________________________________________________________________________________\n",
      "tdist_2 (TimeDistributed)       (None, None, 256)    65792       activation_1[0][0]               \n",
      "__________________________________________________________________________________________________\n",
      "mask (Lambda)                   (None, None)         0           input[0][0]                      \n",
      "__________________________________________________________________________________________________\n",
      "activation_2 (Activation)       (None, None, 256)    0           tdist_2[0][0]                    \n",
      "__________________________________________________________________________________________________\n",
      "sum (Dot)                       (None, 256)          0           mask[0][0]                       \n",
      "                                                                 activation_2[0][0]               \n",
      "__________________________________________________________________________________________________\n",
      "dense_0 (Dense)                 (None, 256)          65792       sum[0][0]                        \n",
      "__________________________________________________________________________________________________\n",
      "activation_3 (Activation)       (None, 256)          0           dense_0[0][0]                    \n",
      "__________________________________________________________________________________________________\n",
      "dense_1 (Dense)                 (None, 256)          65792       activation_3[0][0]               \n",
      "__________________________________________________________________________________________________\n",
      "activation_4 (Activation)       (None, 256)          0           dense_1[0][0]                    \n",
      "__________________________________________________________________________________________________\n",
      "dense_2 (Dense)                 (None, 256)          65792       activation_4[0][0]               \n",
      "__________________________________________________________________________________________________\n",
      "activation_5 (Activation)       (None, 256)          0           dense_2[0][0]                    \n",
      "__________________________________________________________________________________________________\n",
      "output (Dense)                  (None, 2)            514         activation_5[0][0]               \n",
      "__________________________________________________________________________________________________\n",
      "activation_6 (Activation)       (None, 2)            0           output[0][0]                     \n",
      "==================================================================================================\n",
      "Total params: 330,498\n",
      "Trainable params: 330,498\n",
      "Non-trainable params: 0\n",
      "__________________________________________________________________________________________________\n"
     ]
    }
   ],
   "source": [
    "print('Model summary:')\n",
    "\n",
    "# build architecture\n",
    "pfn = PFN(input_dim=X.shape[-1], Phi_sizes=Phi_sizes, F_sizes=F_sizes)"
   ]
  },
  {
   "cell_type": "code",
   "execution_count": 21,
   "id": "b559b182",
   "metadata": {
    "scrolled": true
   },
   "outputs": [
    {
     "name": "stdout",
     "output_type": "stream",
     "text": [
      "Epoch 1/500\n"
     ]
    },
    {
     "name": "stderr",
     "output_type": "stream",
     "text": [
      "2022-05-05 16:47:39.849951: I tensorflow/compiler/mlir/mlir_graph_optimization_pass.cc:116] None of the MLIR optimization passes are enabled (registered 2)\n",
      "2022-05-05 16:47:39.850402: I tensorflow/core/platform/profile_utils/cpu_utils.cc:112] CPU Frequency: 2994530000 Hz\n"
     ]
    },
    {
     "name": "stdout",
     "output_type": "stream",
     "text": [
      "\r",
      "  1/199 [..............................] - ETA: 1:51 - loss: 27.0440 - acc: 0.5030"
     ]
    },
    {
     "name": "stderr",
     "output_type": "stream",
     "text": [
      "2022-05-05 16:47:40.255408: I tensorflow/stream_executor/platform/default/dso_loader.cc:49] Successfully opened dynamic library libcublas.so.10\n"
     ]
    },
    {
     "name": "stdout",
     "output_type": "stream",
     "text": [
      "199/199 [==============================] - 2s 5ms/step - loss: 4.7067 - acc: 0.8105 - val_loss: 0.3495 - val_acc: 0.8662\n",
      "Epoch 2/500\n",
      "199/199 [==============================] - 1s 3ms/step - loss: 0.2929 - acc: 0.8904 - val_loss: 0.3012 - val_acc: 0.8891\n",
      "Epoch 3/500\n",
      "199/199 [==============================] - 1s 4ms/step - loss: 0.2871 - acc: 0.8925 - val_loss: 0.2843 - val_acc: 0.8932\n",
      "Epoch 4/500\n",
      "199/199 [==============================] - 1s 4ms/step - loss: 0.2848 - acc: 0.8934 - val_loss: 0.3010 - val_acc: 0.8843\n",
      "Epoch 5/500\n",
      "199/199 [==============================] - 1s 4ms/step - loss: 0.2851 - acc: 0.8930 - val_loss: 0.2859 - val_acc: 0.8930\n",
      "Epoch 6/500\n",
      "199/199 [==============================] - 1s 4ms/step - loss: 0.2840 - acc: 0.8926 - val_loss: 0.2842 - val_acc: 0.8932\n",
      "Epoch 7/500\n",
      "199/199 [==============================] - 1s 4ms/step - loss: 0.2880 - acc: 0.8910 - val_loss: 0.2822 - val_acc: 0.8931\n",
      "Epoch 8/500\n",
      "199/199 [==============================] - 1s 4ms/step - loss: 0.2834 - acc: 0.8928 - val_loss: 0.2846 - val_acc: 0.8930\n",
      "Epoch 9/500\n",
      "199/199 [==============================] - 1s 4ms/step - loss: 0.2857 - acc: 0.8925 - val_loss: 0.2851 - val_acc: 0.8929\n",
      "Epoch 10/500\n",
      "199/199 [==============================] - 1s 4ms/step - loss: 0.2816 - acc: 0.8940 - val_loss: 0.2867 - val_acc: 0.8910\n",
      "Epoch 11/500\n",
      "199/199 [==============================] - 1s 4ms/step - loss: 0.2843 - acc: 0.8919 - val_loss: 0.2828 - val_acc: 0.8926\n",
      "Epoch 12/500\n",
      "199/199 [==============================] - 1s 4ms/step - loss: 0.2850 - acc: 0.8915 - val_loss: 0.2818 - val_acc: 0.8927\n",
      "Epoch 13/500\n",
      "199/199 [==============================] - 1s 4ms/step - loss: 0.2832 - acc: 0.8927 - val_loss: 0.2823 - val_acc: 0.8928\n",
      "Epoch 14/500\n",
      "199/199 [==============================] - 1s 4ms/step - loss: 0.2810 - acc: 0.8929 - val_loss: 0.2850 - val_acc: 0.8927\n",
      "Epoch 15/500\n",
      "199/199 [==============================] - 1s 4ms/step - loss: 0.2832 - acc: 0.8924 - val_loss: 0.2784 - val_acc: 0.8937\n",
      "Epoch 16/500\n",
      "199/199 [==============================] - 1s 4ms/step - loss: 0.2807 - acc: 0.8938 - val_loss: 0.2795 - val_acc: 0.8930\n",
      "Epoch 17/500\n",
      "199/199 [==============================] - 1s 4ms/step - loss: 0.2790 - acc: 0.8937 - val_loss: 0.2806 - val_acc: 0.8937\n",
      "Epoch 18/500\n",
      "199/199 [==============================] - 1s 4ms/step - loss: 0.2807 - acc: 0.8942 - val_loss: 0.2797 - val_acc: 0.8933\n",
      "Epoch 19/500\n",
      "199/199 [==============================] - 1s 4ms/step - loss: 0.2805 - acc: 0.8935 - val_loss: 0.2784 - val_acc: 0.8938\n",
      "Epoch 20/500\n",
      "199/199 [==============================] - 1s 4ms/step - loss: 0.2800 - acc: 0.8932 - val_loss: 0.2789 - val_acc: 0.8936\n",
      "\n",
      "Epoch 00020: ReduceLROnPlateau reducing learning rate to 0.000630957374449059.\n",
      "Epoch 21/500\n",
      "199/199 [==============================] - 1s 4ms/step - loss: 0.2713 - acc: 0.8972 - val_loss: 0.2744 - val_acc: 0.8960\n",
      "Epoch 22/500\n",
      "199/199 [==============================] - 1s 4ms/step - loss: 0.2765 - acc: 0.8956 - val_loss: 0.2810 - val_acc: 0.8927\n",
      "Epoch 23/500\n",
      "199/199 [==============================] - 1s 4ms/step - loss: 0.2797 - acc: 0.8942 - val_loss: 0.2747 - val_acc: 0.8954\n",
      "Epoch 24/500\n",
      "199/199 [==============================] - 1s 4ms/step - loss: 0.2735 - acc: 0.8960 - val_loss: 0.2723 - val_acc: 0.8962\n",
      "Epoch 25/500\n",
      "199/199 [==============================] - 1s 3ms/step - loss: 0.2725 - acc: 0.8962 - val_loss: 0.3452 - val_acc: 0.8696\n",
      "Epoch 26/500\n",
      "199/199 [==============================] - 1s 4ms/step - loss: 0.2934 - acc: 0.8891 - val_loss: 0.2754 - val_acc: 0.8949\n",
      "Epoch 27/500\n",
      "199/199 [==============================] - 1s 4ms/step - loss: 0.2726 - acc: 0.8962 - val_loss: 0.2720 - val_acc: 0.8965\n",
      "Epoch 28/500\n",
      "199/199 [==============================] - 1s 4ms/step - loss: 0.2696 - acc: 0.8972 - val_loss: 0.2730 - val_acc: 0.8965\n",
      "Epoch 29/500\n",
      "199/199 [==============================] - 1s 4ms/step - loss: 0.2738 - acc: 0.8957 - val_loss: 0.2696 - val_acc: 0.8977\n",
      "Epoch 30/500\n",
      "199/199 [==============================] - 1s 4ms/step - loss: 0.2677 - acc: 0.8983 - val_loss: 0.2692 - val_acc: 0.8980\n",
      "Epoch 31/500\n",
      "199/199 [==============================] - 1s 4ms/step - loss: 0.2703 - acc: 0.8971 - val_loss: 0.2695 - val_acc: 0.8969\n",
      "Epoch 32/500\n",
      "199/199 [==============================] - 1s 4ms/step - loss: 0.2837 - acc: 0.8930 - val_loss: 0.2773 - val_acc: 0.8937\n",
      "Epoch 33/500\n",
      "199/199 [==============================] - 1s 4ms/step - loss: 0.2724 - acc: 0.8962 - val_loss: 0.2716 - val_acc: 0.8972\n",
      "Epoch 34/500\n",
      "199/199 [==============================] - 1s 4ms/step - loss: 0.2707 - acc: 0.8969 - val_loss: 0.2705 - val_acc: 0.8972\n",
      "Epoch 35/500\n",
      "199/199 [==============================] - 1s 4ms/step - loss: 0.2709 - acc: 0.8963 - val_loss: 0.2681 - val_acc: 0.8970\n",
      "Epoch 36/500\n",
      "199/199 [==============================] - 1s 3ms/step - loss: 0.2903 - acc: 0.8904 - val_loss: 0.2745 - val_acc: 0.8960\n",
      "Epoch 37/500\n",
      "199/199 [==============================] - 1s 4ms/step - loss: 0.2724 - acc: 0.8969 - val_loss: 0.2694 - val_acc: 0.8973\n",
      "Epoch 38/500\n",
      "199/199 [==============================] - 1s 4ms/step - loss: 0.2698 - acc: 0.8972 - val_loss: 0.2717 - val_acc: 0.8963\n",
      "Epoch 39/500\n",
      "199/199 [==============================] - 1s 4ms/step - loss: 0.2737 - acc: 0.8959 - val_loss: 0.2686 - val_acc: 0.8974\n",
      "Epoch 40/500\n",
      "199/199 [==============================] - 1s 4ms/step - loss: 0.2718 - acc: 0.8961 - val_loss: 0.2800 - val_acc: 0.8935\n",
      "\n",
      "Epoch 00040: ReduceLROnPlateau reducing learning rate to 0.0003981071838171537.\n",
      "Epoch 41/500\n",
      "199/199 [==============================] - 1s 4ms/step - loss: 0.2679 - acc: 0.8974 - val_loss: 0.2657 - val_acc: 0.8982\n",
      "Epoch 42/500\n",
      "199/199 [==============================] - 1s 4ms/step - loss: 0.2633 - acc: 0.8996 - val_loss: 0.2681 - val_acc: 0.8968\n",
      "Epoch 43/500\n",
      "199/199 [==============================] - 1s 4ms/step - loss: 0.2634 - acc: 0.8998 - val_loss: 0.2653 - val_acc: 0.8980\n",
      "Epoch 44/500\n",
      "199/199 [==============================] - 1s 4ms/step - loss: 0.2640 - acc: 0.8989 - val_loss: 0.2661 - val_acc: 0.8993\n",
      "Epoch 45/500\n",
      "199/199 [==============================] - 1s 4ms/step - loss: 0.2635 - acc: 0.8989 - val_loss: 0.2642 - val_acc: 0.8990\n",
      "Epoch 46/500\n",
      "199/199 [==============================] - 1s 4ms/step - loss: 0.2648 - acc: 0.8990 - val_loss: 0.2684 - val_acc: 0.8987\n",
      "Epoch 47/500\n",
      "199/199 [==============================] - 1s 3ms/step - loss: 0.2662 - acc: 0.8980 - val_loss: 0.2678 - val_acc: 0.8974\n",
      "Epoch 48/500\n",
      "199/199 [==============================] - 1s 3ms/step - loss: 0.2630 - acc: 0.9000 - val_loss: 0.2631 - val_acc: 0.9001\n",
      "Epoch 49/500\n",
      "199/199 [==============================] - 1s 3ms/step - loss: 0.2628 - acc: 0.9000 - val_loss: 0.2679 - val_acc: 0.8977\n",
      "Epoch 50/500\n",
      "199/199 [==============================] - 1s 4ms/step - loss: 0.2670 - acc: 0.8977 - val_loss: 0.2696 - val_acc: 0.8975\n",
      "Epoch 51/500\n",
      "199/199 [==============================] - 1s 4ms/step - loss: 0.2636 - acc: 0.9001 - val_loss: 0.2710 - val_acc: 0.8963\n",
      "Epoch 52/500\n",
      "199/199 [==============================] - 1s 4ms/step - loss: 0.2637 - acc: 0.8995 - val_loss: 0.2629 - val_acc: 0.8991\n",
      "Epoch 53/500\n",
      "199/199 [==============================] - 1s 3ms/step - loss: 0.2597 - acc: 0.9008 - val_loss: 0.2770 - val_acc: 0.8919\n",
      "Epoch 54/500\n",
      "199/199 [==============================] - 1s 4ms/step - loss: 0.2896 - acc: 0.8913 - val_loss: 0.2651 - val_acc: 0.8988\n",
      "Epoch 55/500\n",
      "199/199 [==============================] - 1s 4ms/step - loss: 0.2619 - acc: 0.9000 - val_loss: 0.2614 - val_acc: 0.8999\n",
      "Epoch 56/500\n",
      "199/199 [==============================] - 1s 4ms/step - loss: 0.2600 - acc: 0.9006 - val_loss: 0.2623 - val_acc: 0.8982\n",
      "Epoch 57/500\n",
      "199/199 [==============================] - 1s 4ms/step - loss: 0.2580 - acc: 0.9008 - val_loss: 0.2607 - val_acc: 0.8993\n",
      "Epoch 58/500\n",
      "199/199 [==============================] - 1s 4ms/step - loss: 0.2639 - acc: 0.8991 - val_loss: 0.2610 - val_acc: 0.9002\n",
      "Epoch 59/500\n",
      "199/199 [==============================] - 1s 4ms/step - loss: 0.2568 - acc: 0.9020 - val_loss: 0.2645 - val_acc: 0.8993\n",
      "Epoch 60/500\n",
      "199/199 [==============================] - 1s 4ms/step - loss: 0.2587 - acc: 0.9008 - val_loss: 0.2736 - val_acc: 0.8970\n",
      "Epoch 61/500\n"
     ]
    },
    {
     "name": "stdout",
     "output_type": "stream",
     "text": [
      "199/199 [==============================] - 1s 4ms/step - loss: 0.2612 - acc: 0.9004 - val_loss: 0.2512 - val_acc: 0.9043\n",
      "Epoch 62/500\n",
      "199/199 [==============================] - 1s 4ms/step - loss: 0.2567 - acc: 0.9015 - val_loss: 0.2628 - val_acc: 0.8992\n",
      "Epoch 63/500\n",
      "199/199 [==============================] - 1s 4ms/step - loss: 0.2652 - acc: 0.8985 - val_loss: 0.2595 - val_acc: 0.9010\n",
      "Epoch 64/500\n",
      "199/199 [==============================] - 1s 4ms/step - loss: 0.2520 - acc: 0.9038 - val_loss: 0.2608 - val_acc: 0.9005\n",
      "Epoch 65/500\n",
      "199/199 [==============================] - 1s 4ms/step - loss: 0.2540 - acc: 0.9033 - val_loss: 0.2465 - val_acc: 0.9068\n",
      "Epoch 66/500\n",
      "199/199 [==============================] - 1s 4ms/step - loss: 0.2478 - acc: 0.9053 - val_loss: 0.2516 - val_acc: 0.9035\n",
      "Epoch 67/500\n",
      "199/199 [==============================] - 1s 4ms/step - loss: 0.2476 - acc: 0.9055 - val_loss: 0.2511 - val_acc: 0.9043\n",
      "Epoch 68/500\n",
      "199/199 [==============================] - 1s 4ms/step - loss: 0.2461 - acc: 0.9070 - val_loss: 0.2425 - val_acc: 0.9085\n",
      "Epoch 69/500\n",
      "199/199 [==============================] - 1s 4ms/step - loss: 0.2459 - acc: 0.9069 - val_loss: 0.2991 - val_acc: 0.8805\n",
      "Epoch 70/500\n",
      "199/199 [==============================] - 1s 4ms/step - loss: 0.2541 - acc: 0.9033 - val_loss: 0.2548 - val_acc: 0.9023\n",
      "Epoch 71/500\n",
      "199/199 [==============================] - 1s 4ms/step - loss: 0.2443 - acc: 0.9071 - val_loss: 0.2350 - val_acc: 0.9128\n",
      "Epoch 72/500\n",
      "199/199 [==============================] - 1s 4ms/step - loss: 0.2418 - acc: 0.9085 - val_loss: 0.2380 - val_acc: 0.9103\n",
      "Epoch 73/500\n",
      "199/199 [==============================] - 1s 4ms/step - loss: 0.2477 - acc: 0.9055 - val_loss: 0.2600 - val_acc: 0.9014\n",
      "Epoch 74/500\n",
      "199/199 [==============================] - 1s 4ms/step - loss: 0.2477 - acc: 0.9057 - val_loss: 0.2365 - val_acc: 0.9122\n",
      "Epoch 75/500\n",
      "199/199 [==============================] - 1s 4ms/step - loss: 0.2381 - acc: 0.9096 - val_loss: 0.2550 - val_acc: 0.9017\n",
      "Epoch 76/500\n",
      "199/199 [==============================] - 1s 4ms/step - loss: 0.2379 - acc: 0.9099 - val_loss: 0.2441 - val_acc: 0.9077\n",
      "\n",
      "Epoch 00076: ReduceLROnPlateau reducing learning rate to 0.0002511886574257803.\n",
      "Epoch 77/500\n",
      "199/199 [==============================] - 1s 4ms/step - loss: 0.2308 - acc: 0.9137 - val_loss: 0.2277 - val_acc: 0.9153\n",
      "Epoch 78/500\n",
      "199/199 [==============================] - 1s 4ms/step - loss: 0.2285 - acc: 0.9142 - val_loss: 0.2522 - val_acc: 0.9031\n",
      "Epoch 79/500\n",
      "199/199 [==============================] - 1s 4ms/step - loss: 0.2318 - acc: 0.9126 - val_loss: 0.2324 - val_acc: 0.9138\n",
      "Epoch 80/500\n",
      "199/199 [==============================] - 1s 4ms/step - loss: 0.2351 - acc: 0.9112 - val_loss: 0.2293 - val_acc: 0.9154\n",
      "Epoch 81/500\n",
      "199/199 [==============================] - 1s 4ms/step - loss: 0.2277 - acc: 0.9148 - val_loss: 0.2227 - val_acc: 0.9176\n",
      "Epoch 82/500\n",
      "199/199 [==============================] - 1s 4ms/step - loss: 0.2284 - acc: 0.9149 - val_loss: 0.2264 - val_acc: 0.9159\n",
      "Epoch 83/500\n",
      "199/199 [==============================] - 1s 4ms/step - loss: 0.2263 - acc: 0.9148 - val_loss: 0.2279 - val_acc: 0.9157\n",
      "Epoch 84/500\n",
      "199/199 [==============================] - 1s 4ms/step - loss: 0.2339 - acc: 0.9116 - val_loss: 0.2362 - val_acc: 0.9108\n",
      "Epoch 85/500\n",
      "199/199 [==============================] - 1s 3ms/step - loss: 0.2251 - acc: 0.9153 - val_loss: 0.2311 - val_acc: 0.9143\n",
      "Epoch 86/500\n",
      "199/199 [==============================] - 1s 3ms/step - loss: 0.2247 - acc: 0.9157 - val_loss: 0.2220 - val_acc: 0.9175\n",
      "Epoch 87/500\n",
      "199/199 [==============================] - 1s 4ms/step - loss: 0.2233 - acc: 0.9165 - val_loss: 0.2289 - val_acc: 0.9141\n",
      "Epoch 88/500\n",
      "199/199 [==============================] - 1s 4ms/step - loss: 0.2227 - acc: 0.9168 - val_loss: 0.2309 - val_acc: 0.9129\n",
      "Epoch 89/500\n",
      "199/199 [==============================] - 1s 4ms/step - loss: 0.2238 - acc: 0.9167 - val_loss: 0.2201 - val_acc: 0.9181\n",
      "Epoch 90/500\n",
      "199/199 [==============================] - 1s 4ms/step - loss: 0.2209 - acc: 0.9177 - val_loss: 0.2425 - val_acc: 0.9090\n",
      "Epoch 91/500\n",
      "199/199 [==============================] - 1s 4ms/step - loss: 0.2221 - acc: 0.9171 - val_loss: 0.2234 - val_acc: 0.9173\n",
      "Epoch 92/500\n",
      "199/199 [==============================] - 1s 4ms/step - loss: 0.2219 - acc: 0.9168 - val_loss: 0.2270 - val_acc: 0.9168\n",
      "Epoch 93/500\n",
      "199/199 [==============================] - 1s 4ms/step - loss: 0.2215 - acc: 0.9171 - val_loss: 0.2263 - val_acc: 0.9159\n",
      "Epoch 94/500\n",
      "199/199 [==============================] - 1s 4ms/step - loss: 0.2203 - acc: 0.9178 - val_loss: 0.2231 - val_acc: 0.9165\n",
      "\n",
      "Epoch 00094: ReduceLROnPlateau reducing learning rate to 0.00015848933651346973.\n",
      "Epoch 95/500\n",
      "199/199 [==============================] - 1s 4ms/step - loss: 0.2172 - acc: 0.9195 - val_loss: 0.2281 - val_acc: 0.9136\n",
      "Epoch 96/500\n",
      "199/199 [==============================] - 1s 4ms/step - loss: 0.2160 - acc: 0.9187 - val_loss: 0.2239 - val_acc: 0.9157\n",
      "Epoch 97/500\n",
      "199/199 [==============================] - 1s 4ms/step - loss: 0.2171 - acc: 0.9187 - val_loss: 0.2167 - val_acc: 0.9186\n",
      "Epoch 98/500\n",
      "199/199 [==============================] - 1s 4ms/step - loss: 0.2153 - acc: 0.9196 - val_loss: 0.2187 - val_acc: 0.9180\n",
      "Epoch 99/500\n",
      "199/199 [==============================] - 1s 3ms/step - loss: 0.2223 - acc: 0.9165 - val_loss: 0.2159 - val_acc: 0.9197\n",
      "Epoch 100/500\n",
      "199/199 [==============================] - 1s 4ms/step - loss: 0.2125 - acc: 0.9199 - val_loss: 0.2217 - val_acc: 0.9186\n",
      "Epoch 101/500\n",
      "199/199 [==============================] - 1s 3ms/step - loss: 0.2139 - acc: 0.9198 - val_loss: 0.2187 - val_acc: 0.9185\n",
      "Epoch 102/500\n",
      "199/199 [==============================] - 1s 4ms/step - loss: 0.2133 - acc: 0.9200 - val_loss: 0.2224 - val_acc: 0.9167\n",
      "Epoch 103/500\n",
      "199/199 [==============================] - 1s 4ms/step - loss: 0.2134 - acc: 0.9204 - val_loss: 0.2158 - val_acc: 0.9202\n",
      "Epoch 104/500\n",
      "199/199 [==============================] - 1s 4ms/step - loss: 0.2147 - acc: 0.9186 - val_loss: 0.2317 - val_acc: 0.9140\n",
      "Epoch 105/500\n",
      "199/199 [==============================] - 1s 4ms/step - loss: 0.2156 - acc: 0.9192 - val_loss: 0.2163 - val_acc: 0.9190\n",
      "Epoch 106/500\n",
      "199/199 [==============================] - 1s 4ms/step - loss: 0.2124 - acc: 0.9208 - val_loss: 0.2172 - val_acc: 0.9199\n",
      "Epoch 107/500\n",
      "199/199 [==============================] - 1s 4ms/step - loss: 0.2107 - acc: 0.9211 - val_loss: 0.2192 - val_acc: 0.9177\n",
      "Epoch 108/500\n",
      "199/199 [==============================] - 1s 4ms/step - loss: 0.2136 - acc: 0.9197 - val_loss: 0.2188 - val_acc: 0.9185\n",
      "\n",
      "Epoch 00108: ReduceLROnPlateau reducing learning rate to 0.00010000000838432616.\n",
      "Epoch 109/500\n",
      "199/199 [==============================] - 1s 4ms/step - loss: 0.2096 - acc: 0.9211 - val_loss: 0.2274 - val_acc: 0.9145\n",
      "Epoch 110/500\n",
      "199/199 [==============================] - 1s 4ms/step - loss: 0.2082 - acc: 0.9215 - val_loss: 0.2122 - val_acc: 0.9206\n",
      "Epoch 111/500\n",
      "199/199 [==============================] - 1s 4ms/step - loss: 0.2103 - acc: 0.9213 - val_loss: 0.2140 - val_acc: 0.9198\n",
      "Epoch 112/500\n",
      "199/199 [==============================] - 1s 4ms/step - loss: 0.2082 - acc: 0.9211 - val_loss: 0.2157 - val_acc: 0.9201\n",
      "Epoch 113/500\n",
      "199/199 [==============================] - 1s 4ms/step - loss: 0.2084 - acc: 0.9213 - val_loss: 0.2251 - val_acc: 0.9166\n",
      "Epoch 114/500\n",
      "199/199 [==============================] - 1s 4ms/step - loss: 0.2084 - acc: 0.9220 - val_loss: 0.2175 - val_acc: 0.9189\n",
      "Epoch 115/500\n",
      "199/199 [==============================] - 1s 4ms/step - loss: 0.2072 - acc: 0.9215 - val_loss: 0.2311 - val_acc: 0.9154\n",
      "\n",
      "Epoch 00115: ReduceLROnPlateau reducing learning rate to 6.30957374449059e-05.\n",
      "Epoch 116/500\n",
      "199/199 [==============================] - 1s 3ms/step - loss: 0.2062 - acc: 0.9221 - val_loss: 0.2121 - val_acc: 0.9201\n",
      "Epoch 117/500\n",
      "199/199 [==============================] - 1s 3ms/step - loss: 0.2069 - acc: 0.9222 - val_loss: 0.2228 - val_acc: 0.9175\n",
      "Epoch 118/500\n",
      "199/199 [==============================] - 1s 4ms/step - loss: 0.2074 - acc: 0.9214 - val_loss: 0.2153 - val_acc: 0.9188\n",
      "Epoch 119/500\n",
      "199/199 [==============================] - 1s 4ms/step - loss: 0.2060 - acc: 0.9220 - val_loss: 0.2110 - val_acc: 0.9208\n",
      "Epoch 120/500\n",
      "199/199 [==============================] - 1s 4ms/step - loss: 0.2045 - acc: 0.9232 - val_loss: 0.2183 - val_acc: 0.9182\n",
      "Epoch 121/500\n",
      "199/199 [==============================] - 1s 4ms/step - loss: 0.2095 - acc: 0.9204 - val_loss: 0.2182 - val_acc: 0.9184\n",
      "Epoch 122/500\n",
      "199/199 [==============================] - 1s 4ms/step - loss: 0.2083 - acc: 0.9212 - val_loss: 0.2141 - val_acc: 0.9192\n",
      "Epoch 123/500\n",
      "199/199 [==============================] - 1s 4ms/step - loss: 0.2036 - acc: 0.9226 - val_loss: 0.2133 - val_acc: 0.9195\n",
      "Epoch 124/500\n",
      "199/199 [==============================] - 1s 4ms/step - loss: 0.2048 - acc: 0.9229 - val_loss: 0.2141 - val_acc: 0.9197\n",
      "\n",
      "Epoch 00124: ReduceLROnPlateau reducing learning rate to 3.981071838171537e-05.\n",
      "Epoch 125/500\n",
      "199/199 [==============================] - 1s 4ms/step - loss: 0.2019 - acc: 0.9235 - val_loss: 0.2200 - val_acc: 0.9191\n",
      "Epoch 126/500\n",
      "199/199 [==============================] - 1s 4ms/step - loss: 0.2076 - acc: 0.9209 - val_loss: 0.2110 - val_acc: 0.9212\n",
      "Epoch 127/500\n",
      "199/199 [==============================] - 1s 4ms/step - loss: 0.2025 - acc: 0.9233 - val_loss: 0.2121 - val_acc: 0.9205\n",
      "Epoch 128/500\n",
      "199/199 [==============================] - 1s 4ms/step - loss: 0.2028 - acc: 0.9231 - val_loss: 0.2109 - val_acc: 0.9205\n",
      "Epoch 129/500\n",
      "199/199 [==============================] - 1s 4ms/step - loss: 0.2024 - acc: 0.9228 - val_loss: 0.2113 - val_acc: 0.9204\n",
      "\n",
      "Epoch 00129: ReduceLROnPlateau reducing learning rate to 2.5118865283496142e-05.\n",
      "Epoch 130/500\n",
      "199/199 [==============================] - 1s 4ms/step - loss: 0.2027 - acc: 0.9237 - val_loss: 0.2123 - val_acc: 0.9206\n",
      "Epoch 131/500\n",
      "199/199 [==============================] - 1s 4ms/step - loss: 0.2015 - acc: 0.9234 - val_loss: 0.2109 - val_acc: 0.9208\n",
      "Epoch 132/500\n",
      "199/199 [==============================] - 1s 4ms/step - loss: 0.2025 - acc: 0.9235 - val_loss: 0.2128 - val_acc: 0.9202\n",
      "Epoch 133/500\n",
      "199/199 [==============================] - 1s 4ms/step - loss: 0.2037 - acc: 0.9229 - val_loss: 0.2113 - val_acc: 0.9209\n",
      "Epoch 134/500\n",
      "199/199 [==============================] - 1s 4ms/step - loss: 0.1994 - acc: 0.9246 - val_loss: 0.2107 - val_acc: 0.9212\n",
      "Epoch 135/500\n",
      "199/199 [==============================] - 1s 4ms/step - loss: 0.2013 - acc: 0.9239 - val_loss: 0.2120 - val_acc: 0.9205\n",
      "Epoch 136/500\n",
      "199/199 [==============================] - 1s 4ms/step - loss: 0.2019 - acc: 0.9234 - val_loss: 0.2119 - val_acc: 0.9208\n",
      "Epoch 137/500\n",
      "199/199 [==============================] - 1s 4ms/step - loss: 0.2028 - acc: 0.9230 - val_loss: 0.2105 - val_acc: 0.9211\n",
      "Epoch 138/500\n",
      "199/199 [==============================] - 1s 3ms/step - loss: 0.2032 - acc: 0.9227 - val_loss: 0.2113 - val_acc: 0.9203\n",
      "Epoch 139/500\n",
      "199/199 [==============================] - 1s 4ms/step - loss: 0.2000 - acc: 0.9237 - val_loss: 0.2107 - val_acc: 0.9206\n",
      "Epoch 140/500\n",
      "199/199 [==============================] - 1s 4ms/step - loss: 0.1995 - acc: 0.9244 - val_loss: 0.2128 - val_acc: 0.9211\n",
      "Epoch 141/500\n",
      "199/199 [==============================] - 1s 4ms/step - loss: 0.1999 - acc: 0.9243 - val_loss: 0.2117 - val_acc: 0.9203\n",
      "Epoch 142/500\n",
      "199/199 [==============================] - 1s 4ms/step - loss: 0.2016 - acc: 0.9238 - val_loss: 0.2111 - val_acc: 0.9206\n",
      "\n",
      "Epoch 00142: ReduceLROnPlateau reducing learning rate to 1.5848932274101303e-05.\n",
      "Epoch 143/500\n",
      "199/199 [==============================] - 1s 4ms/step - loss: 0.1993 - acc: 0.9244 - val_loss: 0.2108 - val_acc: 0.9208\n",
      "Epoch 144/500\n",
      "199/199 [==============================] - 1s 4ms/step - loss: 0.1999 - acc: 0.9243 - val_loss: 0.2124 - val_acc: 0.9210\n",
      "Epoch 145/500\n",
      "199/199 [==============================] - 1s 4ms/step - loss: 0.2007 - acc: 0.9235 - val_loss: 0.2099 - val_acc: 0.9212\n",
      "Epoch 146/500\n",
      "199/199 [==============================] - 1s 4ms/step - loss: 0.2004 - acc: 0.9235 - val_loss: 0.2106 - val_acc: 0.9207\n",
      "Epoch 147/500\n",
      "199/199 [==============================] - 1s 4ms/step - loss: 0.2002 - acc: 0.9233 - val_loss: 0.2110 - val_acc: 0.9210\n",
      "Epoch 148/500\n",
      "199/199 [==============================] - 1s 4ms/step - loss: 0.1993 - acc: 0.9244 - val_loss: 0.2103 - val_acc: 0.9212\n",
      "Epoch 149/500\n",
      "199/199 [==============================] - 1s 4ms/step - loss: 0.1996 - acc: 0.9239 - val_loss: 0.2106 - val_acc: 0.9209\n",
      "Epoch 150/500\n",
      "199/199 [==============================] - 1s 4ms/step - loss: 0.1992 - acc: 0.9242 - val_loss: 0.2105 - val_acc: 0.9213\n",
      "\n",
      "Epoch 00150: ReduceLROnPlateau reducing learning rate to 1.0000000608891671e-05.\n",
      "Epoch 151/500\n",
      "199/199 [==============================] - 1s 4ms/step - loss: 0.2009 - acc: 0.9236 - val_loss: 0.2097 - val_acc: 0.9213\n",
      "Epoch 152/500\n",
      "199/199 [==============================] - 1s 4ms/step - loss: 0.1991 - acc: 0.9242 - val_loss: 0.2104 - val_acc: 0.9212\n",
      "Epoch 153/500\n",
      "199/199 [==============================] - 1s 4ms/step - loss: 0.1979 - acc: 0.9251 - val_loss: 0.2103 - val_acc: 0.9214\n",
      "Epoch 154/500\n",
      "199/199 [==============================] - 1s 4ms/step - loss: 0.2013 - acc: 0.9238 - val_loss: 0.2106 - val_acc: 0.9208\n",
      "Epoch 155/500\n",
      "199/199 [==============================] - 1s 4ms/step - loss: 0.1990 - acc: 0.9237 - val_loss: 0.2098 - val_acc: 0.9209\n",
      "Epoch 156/500\n",
      "199/199 [==============================] - 1s 4ms/step - loss: 0.1999 - acc: 0.9238 - val_loss: 0.2094 - val_acc: 0.9214\n",
      "Epoch 157/500\n",
      "199/199 [==============================] - 1s 4ms/step - loss: 0.1983 - acc: 0.9246 - val_loss: 0.2114 - val_acc: 0.9207\n",
      "Epoch 158/500\n",
      "199/199 [==============================] - 1s 4ms/step - loss: 0.2005 - acc: 0.9241 - val_loss: 0.2097 - val_acc: 0.9214\n",
      "Epoch 159/500\n",
      "199/199 [==============================] - 1s 4ms/step - loss: 0.1996 - acc: 0.9239 - val_loss: 0.2098 - val_acc: 0.9209\n",
      "Epoch 160/500\n",
      "199/199 [==============================] - 1s 4ms/step - loss: 0.1983 - acc: 0.9246 - val_loss: 0.2098 - val_acc: 0.9210\n",
      "Epoch 161/500\n",
      "199/199 [==============================] - 1s 4ms/step - loss: 0.1999 - acc: 0.9237 - val_loss: 0.2106 - val_acc: 0.9210\n",
      "\n",
      "Epoch 00161: ReduceLROnPlateau reducing learning rate to 1e-05.\n",
      "Epoch 162/500\n",
      "199/199 [==============================] - 1s 4ms/step - loss: 0.1976 - acc: 0.9245 - val_loss: 0.2097 - val_acc: 0.9212\n",
      "Epoch 163/500\n",
      "199/199 [==============================] - 1s 4ms/step - loss: 0.1996 - acc: 0.9238 - val_loss: 0.2100 - val_acc: 0.9214\n",
      "Epoch 164/500\n",
      "199/199 [==============================] - 1s 4ms/step - loss: 0.1994 - acc: 0.9242 - val_loss: 0.2096 - val_acc: 0.9214\n",
      "Epoch 165/500\n",
      "199/199 [==============================] - 1s 4ms/step - loss: 0.1993 - acc: 0.9243 - val_loss: 0.2094 - val_acc: 0.9211\n",
      "Epoch 166/500\n",
      "199/199 [==============================] - 1s 4ms/step - loss: 0.1997 - acc: 0.9242 - val_loss: 0.2108 - val_acc: 0.9209\n",
      "Epoch 167/500\n",
      "199/199 [==============================] - 1s 4ms/step - loss: 0.1987 - acc: 0.9239 - val_loss: 0.2099 - val_acc: 0.9210\n",
      "Epoch 168/500\n",
      "199/199 [==============================] - 1s 4ms/step - loss: 0.1999 - acc: 0.9235 - val_loss: 0.2096 - val_acc: 0.9212\n",
      "Epoch 169/500\n",
      "199/199 [==============================] - 1s 4ms/step - loss: 0.1983 - acc: 0.9242 - val_loss: 0.2098 - val_acc: 0.9207\n",
      "Epoch 170/500\n",
      "199/199 [==============================] - 1s 4ms/step - loss: 0.2011 - acc: 0.9229 - val_loss: 0.2099 - val_acc: 0.9212\n",
      "Epoch 171/500\n",
      "199/199 [==============================] - 1s 4ms/step - loss: 0.2000 - acc: 0.9234 - val_loss: 0.2103 - val_acc: 0.9214\n",
      "Epoch 172/500\n",
      "199/199 [==============================] - 1s 4ms/step - loss: 0.1997 - acc: 0.9241 - val_loss: 0.2112 - val_acc: 0.9210\n",
      "Epoch 173/500\n",
      "199/199 [==============================] - 1s 4ms/step - loss: 0.1999 - acc: 0.9241 - val_loss: 0.2101 - val_acc: 0.9211\n",
      "Epoch 174/500\n",
      "199/199 [==============================] - 1s 4ms/step - loss: 0.1997 - acc: 0.9238 - val_loss: 0.2123 - val_acc: 0.9207\n",
      "Epoch 175/500\n",
      "199/199 [==============================] - 1s 4ms/step - loss: 0.1975 - acc: 0.9250 - val_loss: 0.2098 - val_acc: 0.9210\n",
      "Epoch 176/500\n",
      "199/199 [==============================] - 1s 4ms/step - loss: 0.1985 - acc: 0.9246 - val_loss: 0.2103 - val_acc: 0.9208\n"
     ]
    },
    {
     "name": "stdout",
     "output_type": "stream",
     "text": [
      "Epoch 177/500\n",
      "199/199 [==============================] - 1s 4ms/step - loss: 0.1989 - acc: 0.9248 - val_loss: 0.2099 - val_acc: 0.9215\n",
      "Epoch 178/500\n",
      "199/199 [==============================] - 1s 4ms/step - loss: 0.1994 - acc: 0.9244 - val_loss: 0.2097 - val_acc: 0.9213\n",
      "Epoch 179/500\n",
      "199/199 [==============================] - 1s 4ms/step - loss: 0.1956 - acc: 0.9256 - val_loss: 0.2097 - val_acc: 0.9212\n",
      "Epoch 180/500\n",
      "199/199 [==============================] - 1s 4ms/step - loss: 0.1990 - acc: 0.9243 - val_loss: 0.2098 - val_acc: 0.9210\n",
      "Epoch 181/500\n",
      "199/199 [==============================] - 1s 4ms/step - loss: 0.1996 - acc: 0.9239 - val_loss: 0.2101 - val_acc: 0.9209\n",
      "Epoch 00181: early stopping\n"
     ]
    }
   ],
   "source": [
    "# now train the model\n",
    "\n",
    "reduce_lr = tf.keras.callbacks.ReduceLROnPlateau(monitor='val_loss', \n",
    "                              factor=0.1**(1/5), patience=5, min_lr=1e-5,\n",
    "                                                verbose=1)\n",
    "\n",
    "early_stop = tf.keras.callbacks.EarlyStopping(monitor='val_loss', patience=25, \n",
    "                                              verbose=1)\n",
    "\n",
    "callbacks = [reduce_lr,early_stop]\n",
    "\n",
    "hist1 = pfn.fit(X_train, Y_train,\n",
    "        epochs=num_epoch,\n",
    "        batch_size=batch_size,\n",
    "        validation_data=(X_val, Y_val),\n",
    "        class_weight=class_weight,\n",
    "        callbacks=callbacks,\n",
    "        verbose=1)"
   ]
  },
  {
   "cell_type": "markdown",
   "id": "0fac1861",
   "metadata": {},
   "source": [
    "# Analyze the Model"
   ]
  },
  {
   "cell_type": "code",
   "execution_count": 22,
   "id": "531ee50e",
   "metadata": {},
   "outputs": [
    {
     "name": "stdout",
     "output_type": "stream",
     "text": [
      "\n",
      "PFN AUC: 0.9722873486785715\n",
      "\n"
     ]
    }
   ],
   "source": [
    "# get predictions on test data\n",
    "preds = pfn.predict(X_test, batch_size=10000)\n",
    "\n",
    "# get ROC curve\n",
    "pfn_fp, pfn_tp, threshs = roc_curve(Y_test[:,1], preds[:,1])\n",
    "\n",
    "# get area under the ROC curve\n",
    "auc = roc_auc_score(Y_test[:,1], preds[:,1])\n",
    "print()\n",
    "print('PFN AUC:', auc)\n",
    "print()"
   ]
  },
  {
   "cell_type": "code",
   "execution_count": 23,
   "id": "9190f668",
   "metadata": {},
   "outputs": [
    {
     "data": {
      "image/png": "[encoded data removed]",
      "text/plain": [
       "<Figure size 432x288 with 1 Axes>"
      ]
     },
     "metadata": {
      "needs_background": "light"
     },
     "output_type": "display_data"
    }
   ],
   "source": [
    "plt.plot(hist1.history[\"loss\"],label=\"loss\")\n",
    "plt.plot(hist1.history[\"val_loss\"],label=\"validation loss\")\n",
    "plt.legend()\n",
    "plt.show()"
   ]
  },
  {
   "cell_type": "code",
   "execution_count": 24,
   "id": "bcf5a3ff",
   "metadata": {},
   "outputs": [
    {
     "data": {
      "image/png": "[encoded data removed]",
      "text/plain": [
       "<Figure size 432x288 with 1 Axes>"
      ]
     },
     "metadata": {
      "needs_background": "light"
     },
     "output_type": "display_data"
    }
   ],
   "source": [
    "plt.plot(hist1.history[\"acc\"],label=\"acc\")\n",
    "plt.plot(hist1.history[\"val_acc\"],label=\"validation acc\")\n",
    "plt.legend()\n",
    "plt.show()"
   ]
  },
  {
   "cell_type": "code",
   "execution_count": 25,
   "id": "0a1abd7d",
   "metadata": {},
   "outputs": [
    {
     "data": {
      "image/png": "[encoded data removed]",
      "text/plain": [
       "<Figure size 288x288 with 1 Axes>"
      ]
     },
     "metadata": {
      "needs_background": "light"
     },
     "output_type": "display_data"
    }
   ],
   "source": [
    "# get multiplicity and mass for comparison\n",
    "preds = pfn.predict(X_test, batch_size=1000)\n",
    "pfn_fp, pfn_tp, threshs = roc_curve(Y_test[:,1], preds[:,1])\n",
    "\n",
    "# some nicer plot settings \n",
    "plt.rcParams['figure.figsize'] = (4,4)\n",
    "plt.rcParams['font.family'] = 'serif'\n",
    "plt.rcParams['figure.autolayout'] = True\n",
    "\n",
    "# plot the ROC curves\n",
    "plt.plot(pfn_tp, 1-pfn_fp, '-', color='black', label='ROC')\n",
    "\n",
    "plt.legend(loc='lower left', frameon=False)\n",
    "\n",
    "plt.show()"
   ]
  },
  {
   "cell_type": "code",
   "execution_count": 26,
   "id": "c7230967",
   "metadata": {},
   "outputs": [
    {
     "name": "stderr",
     "output_type": "stream",
     "text": [
      "/tmp/ipykernel_6191/1246046417.py:11: RuntimeWarning: divide by zero encountered in true_divide\n",
      "  plt.plot(pfn_tp, 1/pfn_fp, '-', color='black', label='ROC')\n"
     ]
    },
    {
     "data": {
      "image/png": "[encoded data removed]",
      "text/plain": [
       "<Figure size 288x288 with 1 Axes>"
      ]
     },
     "metadata": {
      "needs_background": "light"
     },
     "output_type": "display_data"
    }
   ],
   "source": [
    "# get multiplicity and mass for comparison\n",
    "preds = pfn.predict(X_test, batch_size=1000)\n",
    "pfn_fp, pfn_tp, threshs = roc_curve(Y_test[:,1], preds[:,1])\n",
    "\n",
    "# some nicer plot settings \n",
    "plt.rcParams['figure.figsize'] = (4,4)\n",
    "plt.rcParams['font.family'] = 'serif'\n",
    "plt.rcParams['figure.autolayout'] = True\n",
    "\n",
    "# plot the ROC curves\n",
    "plt.plot(pfn_tp, 1/pfn_fp, '-', color='black', label='ROC')\n",
    "\n",
    "plt.yscale('log')\n",
    "\n",
    "plt.legend(loc='lower left', frameon=False)\n",
    "\n",
    "plt.show()"
   ]
  },
  {
   "cell_type": "code",
   "execution_count": 28,
   "id": "63cc2e18",
   "metadata": {},
   "outputs": [
    {
     "data": {
      "text/plain": [
       "array([0.        , 0.06565303, 0.08442013, ..., 0.99993638, 1.        ,\n",
       "       1.        ])"
      ]
     },
     "execution_count": 28,
     "metadata": {},
     "output_type": "execute_result"
    }
   ],
   "source": [
    "pfn_tp"
   ]
  },
  {
   "cell_type": "code",
   "execution_count": 27,
   "id": "6492bb17",
   "metadata": {},
   "outputs": [],
   "source": [
    "pfn.save_weights(\"weights/muon_only/weight2\")"
   ]
  },
  {
   "cell_type": "code",
   "execution_count": null,
   "id": "6b15a777",
   "metadata": {},
   "outputs": [],
   "source": []
  }
 ],
 "metadata": {
  "kernelspec": {
   "display_name": "Python 3 (ipykernel)",
   "language": "python",
   "name": "python3"
  },
  "language_info": {
   "codemirror_mode": {
    "name": "ipython",
    "version": 3
   },
   "file_extension": ".py",
   "mimetype": "text/x-python",
   "name": "python",
   "nbconvert_exporter": "python",
   "pygments_lexer": "ipython3",
   "version": "3.8.13"
  }
 },
 "nbformat": 4,
 "nbformat_minor": 5
}
