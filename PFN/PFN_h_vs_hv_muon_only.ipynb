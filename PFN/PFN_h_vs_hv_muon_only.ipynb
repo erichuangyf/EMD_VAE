{
 "cells": [
  {
   "cell_type": "markdown",
   "id": "4ef50705",
   "metadata": {},
   "source": [
    "# Import and Initialization"
   ]
  },
  {
   "cell_type": "code",
   "execution_count": 1,
   "id": "05a505b0",
   "metadata": {},
   "outputs": [
    {
     "name": "stderr",
     "output_type": "stream",
     "text": [
      "2022-09-28 01:58:30.651353: I tensorflow/stream_executor/platform/default/dso_loader.cc:49] Successfully opened dynamic library libcudart.so.10.1\n"
     ]
    }
   ],
   "source": [
    "%load_ext autoreload\n",
    "%autoreload 2\n",
    "\n",
    "import tensorflow as tf\n",
    "\n",
    "# standard library imports\n",
    "from __future__ import absolute_import, division, print_function\n",
    "\n",
    "# standard numerical library imports\n",
    "import numpy as np\n",
    "\n",
    "# energyflow imports\n",
    "import energyflow as ef\n",
    "from energyflow.archs import PFN\n",
    "from energyflow.datasets import qg_jets\n",
    "from energyflow.utils import data_split, remap_pids, to_categorical\n",
    "\n",
    "from sklearn.metrics import roc_auc_score, roc_curve\n",
    "import matplotlib.pyplot as plt\n",
    "\n",
    "\n",
    "import pandas\n",
    "import h5py\n",
    "import pickle\n",
    "\n",
    "import datetime"
   ]
  },
  {
   "cell_type": "code",
   "execution_count": 2,
   "id": "45667e4d",
   "metadata": {},
   "outputs": [],
   "source": [
    "# configs\n",
    "train, val, test = 0.6, 0.3, 0.1\n",
    "Phi_sizes, F_sizes = (256, 256, 256), (256, 256, 256)\n",
    "num_epoch = 200\n",
    "batch_size = 1000"
   ]
  },
  {
   "cell_type": "markdown",
   "id": "8c5aa5d4",
   "metadata": {},
   "source": [
    "# Load and Process Data"
   ]
  },
  {
   "cell_type": "code",
   "execution_count": 3,
   "id": "25276321",
   "metadata": {},
   "outputs": [],
   "source": [
    "signal_1_df = \"/global/home/users/yifengh3/VAE/vec_data/signal/muon_only/B_signal_vector_muons_fixed.h5\"\n",
    "signal_2_df = \"/global/home/users/yifengh3/VAE/vec_data/signal/muon_only/hv_vector_muons.h5\"\n",
    "raw_signal_1 = pandas.read_hdf(signal_1_df)\n",
    "raw_signal_2 = pandas.read_hdf(signal_2_df)"
   ]
  },
  {
   "cell_type": "code",
   "execution_count": 4,
   "id": "646d74c9",
   "metadata": {},
   "outputs": [
    {
     "name": "stdout",
     "output_type": "stream",
     "text": [
      "signal_1 data shape: (173270, 8)\n",
      "signal_2 data shape: (155841, 200)\n"
     ]
    }
   ],
   "source": [
    "print(\"signal_1 data shape: {}\".format(raw_signal_1.shape))\n",
    "print(\"signal_2 data shape: {}\".format(raw_signal_2.shape))"
   ]
  },
  {
   "cell_type": "code",
   "execution_count": 5,
   "id": "3edf6b5e",
   "metadata": {},
   "outputs": [],
   "source": [
    "#Truncate the nan\n",
    "signal_1 = raw_signal_1.to_numpy()[:,:8]\n",
    "signal_2 = raw_signal_2.to_numpy()[:,:8]"
   ]
  },
  {
   "cell_type": "code",
   "execution_count": 6,
   "id": "6235130e",
   "metadata": {},
   "outputs": [
    {
     "data": {
      "text/plain": [
       "array([ 8.51122132e+00, -2.32930321e-03,  3.29362630e-03,  8.51122132e+00,\n",
       "        8.51186841e+00,  1.54096152e-03,  3.47732437e-03,  8.51186841e+00])"
      ]
     },
     "execution_count": 6,
     "metadata": {},
     "output_type": "execute_result"
    }
   ],
   "source": [
    "np.mean(signal_1,axis=0)"
   ]
  },
  {
   "cell_type": "code",
   "execution_count": 7,
   "id": "8c1b8120",
   "metadata": {},
   "outputs": [
    {
     "name": "stdout",
     "output_type": "stream",
     "text": [
      "signal_1 data shape: (173270, 8)\n",
      "signal_2 data shape: (155841, 8)\n"
     ]
    }
   ],
   "source": [
    "print(\"signal_1 data shape: {}\".format(signal_1.shape))\n",
    "print(\"signal_2 data shape: {}\".format(signal_2.shape))"
   ]
  },
  {
   "cell_type": "code",
   "execution_count": 8,
   "id": "e582ac98",
   "metadata": {},
   "outputs": [],
   "source": [
    "# assign labels to signal and background data, 0 for sig1,  1 for sig2\n",
    "# (updated since we might get multiple signals) \n",
    "labeled_sig1 = np.append(signal_1,np.zeros((signal_1.shape[0],1)),axis=1)\n",
    "labeled_sig2 = np.append(signal_2,np.ones((signal_2.shape[0],1)),axis=1)"
   ]
  },
  {
   "cell_type": "code",
   "execution_count": 9,
   "id": "8540cc44",
   "metadata": {},
   "outputs": [],
   "source": [
    "# mix two data array into one signal array\n",
    "data = np.concatenate((labeled_sig1,labeled_sig2))\n",
    "\n",
    "#and shuffle the data\n",
    "np.random.shuffle(data)"
   ]
  },
  {
   "cell_type": "code",
   "execution_count": 10,
   "id": "34eaf99c",
   "metadata": {},
   "outputs": [],
   "source": [
    "X = data[:,:-1].astype(\"float\")\n",
    "y = data[:,-1]"
   ]
  },
  {
   "cell_type": "code",
   "execution_count": 11,
   "id": "d078bbf6",
   "metadata": {},
   "outputs": [
    {
     "name": "stdout",
     "output_type": "stream",
     "text": [
      "shape of X: (329111, 8)\n",
      "shape of Y: (329111,)\n"
     ]
    }
   ],
   "source": [
    "print(\"shape of X: {}\".format(X.shape))\n",
    "print(\"shape of Y: {}\".format(y.shape))"
   ]
  },
  {
   "cell_type": "code",
   "execution_count": 12,
   "id": "ea34616a",
   "metadata": {},
   "outputs": [
    {
     "name": "stdout",
     "output_type": "stream",
     "text": [
      "Weight for background: 0.95\n",
      "Weight for signal: 1.06\n"
     ]
    }
   ],
   "source": [
    "# Scaling by total/2 helps keep the loss to a similar magnitude.\n",
    "# The sum of the weights of all examples stays the same.\n",
    "total = labeled_sig1.shape[0] + labeled_sig2.shape[0]\n",
    "weight_for_0 = (1 / labeled_sig1.shape[0]) * (total / 2.0)\n",
    "weight_for_1 = (1 / labeled_sig2.shape[0]) * (total / 2.0)\n",
    "\n",
    "\n",
    "class_weight = {0: weight_for_0, 1: weight_for_1}\n",
    "\n",
    "print('Weight for background: {:.2f}'.format(weight_for_0))\n",
    "print('Weight for signal: {:.2f}'.format(weight_for_1))"
   ]
  },
  {
   "cell_type": "code",
   "execution_count": 13,
   "id": "c3e0e641",
   "metadata": {},
   "outputs": [],
   "source": [
    "# To categorical as stipulated in example\n",
    "Y = to_categorical(y, num_classes=2)\n",
    "\n",
    "# Reshape X to shape (number of jets, 50, 4)\n",
    "X = X.reshape(-1,2,4)\n",
    "\n",
    "# ignore the pid info\n",
    "X = X[:,:,:3]"
   ]
  },
  {
   "cell_type": "code",
   "execution_count": 14,
   "id": "3f3e9fdd",
   "metadata": {},
   "outputs": [
    {
     "name": "stdout",
     "output_type": "stream",
     "text": [
      "(329111, 2, 3)\n"
     ]
    }
   ],
   "source": [
    "print(X.shape)"
   ]
  },
  {
   "cell_type": "code",
   "execution_count": 15,
   "id": "26e25098",
   "metadata": {
    "scrolled": true
   },
   "outputs": [
    {
     "data": {
      "image/png": "[encoded data removed]",
      "text/plain": [
       "<Figure size 864x576 with 1 Axes>"
      ]
     },
     "metadata": {
      "needs_background": "light"
     },
     "output_type": "display_data"
    },
    {
     "data": {
      "image/png": "[encoded data removed]",
      "text/plain": [
       "<Figure size 864x576 with 1 Axes>"
      ]
     },
     "metadata": {
      "needs_background": "light"
     },
     "output_type": "display_data"
    },
    {
     "data": {
      "image/png": "[encoded data removed]",
      "text/plain": [
       "<Figure size 864x576 with 1 Axes>"
      ]
     },
     "metadata": {
      "needs_background": "light"
     },
     "output_type": "display_data"
    },
    {
     "data": {
      "image/png": "[encoded data removed]",
      "text/plain": [
       "<Figure size 864x576 with 1 Axes>"
      ]
     },
     "metadata": {
      "needs_background": "light"
     },
     "output_type": "display_data"
    },
    {
     "data": {
      "image/png": "[encoded data removed]",
      "text/plain": [
       "<Figure size 864x576 with 1 Axes>"
      ]
     },
     "metadata": {
      "needs_background": "light"
     },
     "output_type": "display_data"
    },
    {
     "data": {
      "image/png": "[encoded data removed]",
      "text/plain": [
       "<Figure size 864x576 with 1 Axes>"
      ]
     },
     "metadata": {
      "needs_background": "light"
     },
     "output_type": "display_data"
    }
   ],
   "source": [
    "for i in range(6):\n",
    "    plt.figure(figsize=(12,8))\n",
    "    _,b,_ = plt.hist(X.reshape([-1,6])[y==0,i], label=\"signal1\", histtype=\"step\")\n",
    "    plt.hist(X.reshape([-1,6])[y==1,i], label=\"signal2\", histtype=\"step\", bins=b)\n",
    "    plt.legend()\n",
    "    plt.show()"
   ]
  },
  {
   "cell_type": "code",
   "execution_count": 16,
   "id": "6a6fe36d",
   "metadata": {},
   "outputs": [],
   "source": [
    "# # normalizing jets\n",
    "# # copied from example\n",
    "# import tqdm\n",
    "# for x in tqdm.tqdm(X):\n",
    "#     # now add the status bar :)\n",
    "#     mask = x[:,0] > 0\n",
    "#     yphi_avg = np.average(x[mask,1:3], weights=x[mask,0], axis=0)\n",
    "#     x[mask,1:3] -= yphi_avg\n",
    "#     x[mask,0] /= x[:,0].sum()"
   ]
  },
  {
   "cell_type": "code",
   "execution_count": 17,
   "id": "80d98f38",
   "metadata": {},
   "outputs": [
    {
     "name": "stdout",
     "output_type": "stream",
     "text": [
      "/global/home/users/yifengh3/VAE/EMD_VAE/recon_kinematic_plot\n"
     ]
    }
   ],
   "source": [
    "%cd ../recon_kinematic_plot"
   ]
  },
  {
   "cell_type": "code",
   "execution_count": 18,
   "id": "4a0a3f71",
   "metadata": {},
   "outputs": [],
   "source": [
    "from plot_utils import event_mass"
   ]
  },
  {
   "cell_type": "code",
   "execution_count": 19,
   "id": "7400ad49",
   "metadata": {},
   "outputs": [
    {
     "data": {
      "text/plain": [
       "dtype('float64')"
      ]
     },
     "execution_count": 19,
     "metadata": {},
     "output_type": "execute_result"
    }
   ],
   "source": [
    "X[y==1].dtype"
   ]
  },
  {
   "cell_type": "code",
   "execution_count": 20,
   "id": "ad837667",
   "metadata": {},
   "outputs": [
    {
     "name": "stderr",
     "output_type": "stream",
     "text": [
      "100%|████████████████████████████████| 173270/173270 [00:05<00:00, 30016.88it/s]\n",
      "100%|████████████████████████████████| 155841/155841 [00:05<00:00, 29757.06it/s]\n"
     ]
    }
   ],
   "source": [
    "em1 = event_mass(X[y==0])\n",
    "em2 = event_mass(X[y==1])"
   ]
  },
  {
   "cell_type": "code",
   "execution_count": 21,
   "id": "c000687b",
   "metadata": {},
   "outputs": [
    {
     "data": {
      "image/png": "[encoded data removed]",
      "text/plain": [
       "<Figure size 864x720 with 1 Axes>"
      ]
     },
     "metadata": {
      "needs_background": "light"
     },
     "output_type": "display_data"
    }
   ],
   "source": [
    "plt.figure(figsize=(12,10))\n",
    "_,b,_ = plt.hist(em1, label = \"EM_sig1\", histtype=\"step\", bins=50)\n",
    "plt.hist(em2, label = \"EM_sig2\", bins=b, histtype=\"step\")\n",
    "plt.yscale(\"log\")\n",
    "plt.show()"
   ]
  },
  {
   "cell_type": "code",
   "execution_count": 22,
   "id": "92fc5401",
   "metadata": {},
   "outputs": [
    {
     "data": {
      "image/png": "[encoded data removed]",
      "text/plain": [
       "<Figure size 864x720 with 1 Axes>"
      ]
     },
     "metadata": {
      "needs_background": "light"
     },
     "output_type": "display_data"
    }
   ],
   "source": [
    "plt.figure(figsize=(12,10))\n",
    "_,b,_ = plt.hist(em2[em2<2], label = \"EM_sig2\", histtype=\"step\", bins=100)\n",
    "plt.hist(em1[em1<2], label = \"EM_sig1\", bins=b, histtype=\"step\")\n",
    "plt.yscale(\"log\")\n",
    "plt.legend()\n",
    "plt.show()"
   ]
  },
  {
   "cell_type": "code",
   "execution_count": 23,
   "id": "c3e18f2d",
   "metadata": {},
   "outputs": [
    {
     "name": "stdout",
     "output_type": "stream",
     "text": [
      "Finished preprocessing\n",
      "shape of X: (329111, 2, 3)\n",
      "shape of Y: (329111,)\n"
     ]
    }
   ],
   "source": [
    "print('Finished preprocessing')\n",
    "print(\"shape of X: {}\".format(X.shape))\n",
    "print(\"shape of Y: {}\".format(y.shape))"
   ]
  },
  {
   "cell_type": "code",
   "execution_count": 24,
   "id": "3f573cd4",
   "metadata": {},
   "outputs": [],
   "source": [
    "X = X.astype('float64')"
   ]
  },
  {
   "cell_type": "code",
   "execution_count": 25,
   "id": "939de622",
   "metadata": {},
   "outputs": [],
   "source": [
    "# do train/val/test split \n",
    "(X_train, X_val, X_test,\n",
    " Y_train, Y_val, Y_test) = data_split(X, Y, val=val, test=test)"
   ]
  },
  {
   "cell_type": "markdown",
   "id": "bc6339cd",
   "metadata": {},
   "source": [
    "# Build and Train the Model"
   ]
  },
  {
   "cell_type": "code",
   "execution_count": 26,
   "id": "4876d9dc",
   "metadata": {
    "scrolled": true
   },
   "outputs": [
    {
     "name": "stdout",
     "output_type": "stream",
     "text": [
      "Model summary:\n"
     ]
    },
    {
     "name": "stderr",
     "output_type": "stream",
     "text": [
      "2022-09-28 01:59:05.691248: I tensorflow/compiler/jit/xla_cpu_device.cc:41] Not creating XLA devices, tf_xla_enable_xla_devices not set\n",
      "2022-09-28 01:59:05.692451: I tensorflow/stream_executor/platform/default/dso_loader.cc:49] Successfully opened dynamic library libcuda.so.1\n",
      "2022-09-28 01:59:05.724470: I tensorflow/core/common_runtime/gpu/gpu_device.cc:1720] Found device 0 with properties: \n",
      "pciBusID: 0000:01:00.0 name: Quadro RTX 6000 computeCapability: 7.5\n",
      "coreClock: 1.77GHz coreCount: 72 deviceMemorySize: 23.65GiB deviceMemoryBandwidth: 625.94GiB/s\n",
      "2022-09-28 01:59:05.724490: I tensorflow/stream_executor/platform/default/dso_loader.cc:49] Successfully opened dynamic library libcudart.so.10.1\n",
      "2022-09-28 01:59:05.725744: I tensorflow/stream_executor/platform/default/dso_loader.cc:49] Successfully opened dynamic library libcublas.so.10\n",
      "2022-09-28 01:59:05.725774: I tensorflow/stream_executor/platform/default/dso_loader.cc:49] Successfully opened dynamic library libcublasLt.so.10\n",
      "2022-09-28 01:59:05.727222: I tensorflow/stream_executor/platform/default/dso_loader.cc:49] Successfully opened dynamic library libcufft.so.10\n",
      "2022-09-28 01:59:05.727447: I tensorflow/stream_executor/platform/default/dso_loader.cc:49] Successfully opened dynamic library libcurand.so.10\n",
      "2022-09-28 01:59:05.728678: I tensorflow/stream_executor/platform/default/dso_loader.cc:49] Successfully opened dynamic library libcusolver.so.10\n",
      "2022-09-28 01:59:05.729224: I tensorflow/stream_executor/platform/default/dso_loader.cc:49] Successfully opened dynamic library libcusparse.so.10\n",
      "2022-09-28 01:59:05.731685: I tensorflow/stream_executor/platform/default/dso_loader.cc:49] Successfully opened dynamic library libcudnn.so.7\n",
      "2022-09-28 01:59:05.734428: I tensorflow/core/common_runtime/gpu/gpu_device.cc:1862] Adding visible gpu devices: 0\n",
      "2022-09-28 01:59:05.734837: I tensorflow/core/platform/cpu_feature_guard.cc:142] This TensorFlow binary is optimized with oneAPI Deep Neural Network Library (oneDNN) to use the following CPU instructions in performance-critical operations:  SSE4.1 SSE4.2 AVX AVX2 FMA\n",
      "To enable them in other operations, rebuild TensorFlow with the appropriate compiler flags.\n",
      "2022-09-28 01:59:05.736481: I tensorflow/compiler/jit/xla_gpu_device.cc:99] Not creating XLA devices, tf_xla_enable_xla_devices not set\n",
      "2022-09-28 01:59:05.737778: I tensorflow/core/common_runtime/gpu/gpu_device.cc:1720] Found device 0 with properties: \n",
      "pciBusID: 0000:01:00.0 name: Quadro RTX 6000 computeCapability: 7.5\n",
      "coreClock: 1.77GHz coreCount: 72 deviceMemorySize: 23.65GiB deviceMemoryBandwidth: 625.94GiB/s\n",
      "2022-09-28 01:59:05.737795: I tensorflow/stream_executor/platform/default/dso_loader.cc:49] Successfully opened dynamic library libcudart.so.10.1\n",
      "2022-09-28 01:59:05.737813: I tensorflow/stream_executor/platform/default/dso_loader.cc:49] Successfully opened dynamic library libcublas.so.10\n",
      "2022-09-28 01:59:05.737824: I tensorflow/stream_executor/platform/default/dso_loader.cc:49] Successfully opened dynamic library libcublasLt.so.10\n",
      "2022-09-28 01:59:05.737835: I tensorflow/stream_executor/platform/default/dso_loader.cc:49] Successfully opened dynamic library libcufft.so.10\n",
      "2022-09-28 01:59:05.737845: I tensorflow/stream_executor/platform/default/dso_loader.cc:49] Successfully opened dynamic library libcurand.so.10\n",
      "2022-09-28 01:59:05.737856: I tensorflow/stream_executor/platform/default/dso_loader.cc:49] Successfully opened dynamic library libcusolver.so.10\n",
      "2022-09-28 01:59:05.737866: I tensorflow/stream_executor/platform/default/dso_loader.cc:49] Successfully opened dynamic library libcusparse.so.10\n",
      "2022-09-28 01:59:05.737876: I tensorflow/stream_executor/platform/default/dso_loader.cc:49] Successfully opened dynamic library libcudnn.so.7\n",
      "2022-09-28 01:59:05.740303: I tensorflow/core/common_runtime/gpu/gpu_device.cc:1862] Adding visible gpu devices: 0\n",
      "2022-09-28 01:59:05.740341: I tensorflow/stream_executor/platform/default/dso_loader.cc:49] Successfully opened dynamic library libcudart.so.10.1\n",
      "2022-09-28 01:59:06.219391: I tensorflow/core/common_runtime/gpu/gpu_device.cc:1261] Device interconnect StreamExecutor with strength 1 edge matrix:\n",
      "2022-09-28 01:59:06.219434: I tensorflow/core/common_runtime/gpu/gpu_device.cc:1267]      0 \n",
      "2022-09-28 01:59:06.219444: I tensorflow/core/common_runtime/gpu/gpu_device.cc:1280] 0:   N \n",
      "2022-09-28 01:59:06.223304: I tensorflow/core/common_runtime/gpu/gpu_device.cc:1406] Created TensorFlow device (/job:localhost/replica:0/task:0/device:GPU:0 with 22006 MB memory) -> physical GPU (device: 0, name: Quadro RTX 6000, pci bus id: 0000:01:00.0, compute capability: 7.5)\n"
     ]
    },
    {
     "name": "stdout",
     "output_type": "stream",
     "text": [
      "Model: \"model\"\n",
      "__________________________________________________________________________________________________\n",
      "Layer (type)                    Output Shape         Param #     Connected to                     \n",
      "==================================================================================================\n",
      "input (InputLayer)              [(None, None, 3)]    0                                            \n",
      "__________________________________________________________________________________________________\n",
      "tdist_0 (TimeDistributed)       (None, None, 256)    1024        input[0][0]                      \n",
      "__________________________________________________________________________________________________\n",
      "activation (Activation)         (None, None, 256)    0           tdist_0[0][0]                    \n",
      "__________________________________________________________________________________________________\n",
      "tdist_1 (TimeDistributed)       (None, None, 256)    65792       activation[0][0]                 \n",
      "__________________________________________________________________________________________________\n",
      "activation_1 (Activation)       (None, None, 256)    0           tdist_1[0][0]                    \n",
      "__________________________________________________________________________________________________\n",
      "tdist_2 (TimeDistributed)       (None, None, 256)    65792       activation_1[0][0]               \n",
      "__________________________________________________________________________________________________\n",
      "mask (Lambda)                   (None, None)         0           input[0][0]                      \n",
      "__________________________________________________________________________________________________\n",
      "activation_2 (Activation)       (None, None, 256)    0           tdist_2[0][0]                    \n",
      "__________________________________________________________________________________________________\n",
      "sum (Dot)                       (None, 256)          0           mask[0][0]                       \n",
      "                                                                 activation_2[0][0]               \n",
      "__________________________________________________________________________________________________\n",
      "dense_0 (Dense)                 (None, 256)          65792       sum[0][0]                        \n",
      "__________________________________________________________________________________________________\n",
      "activation_3 (Activation)       (None, 256)          0           dense_0[0][0]                    \n",
      "__________________________________________________________________________________________________\n",
      "dense_1 (Dense)                 (None, 256)          65792       activation_3[0][0]               \n",
      "__________________________________________________________________________________________________\n",
      "activation_4 (Activation)       (None, 256)          0           dense_1[0][0]                    \n",
      "__________________________________________________________________________________________________\n",
      "dense_2 (Dense)                 (None, 256)          65792       activation_4[0][0]               \n",
      "__________________________________________________________________________________________________\n",
      "activation_5 (Activation)       (None, 256)          0           dense_2[0][0]                    \n",
      "__________________________________________________________________________________________________\n",
      "output (Dense)                  (None, 2)            514         activation_5[0][0]               \n",
      "__________________________________________________________________________________________________\n",
      "activation_6 (Activation)       (None, 2)            0           output[0][0]                     \n",
      "==================================================================================================\n",
      "Total params: 330,498\n",
      "Trainable params: 330,498\n",
      "Non-trainable params: 0\n",
      "__________________________________________________________________________________________________\n"
     ]
    }
   ],
   "source": [
    "print('Model summary:')\n",
    "\n",
    "# build architecture\n",
    "pfn = PFN(input_dim=X.shape[-1], Phi_sizes=Phi_sizes, F_sizes=F_sizes)"
   ]
  },
  {
   "cell_type": "code",
   "execution_count": 27,
   "id": "b559b182",
   "metadata": {
    "scrolled": true
   },
   "outputs": [
    {
     "name": "stdout",
     "output_type": "stream",
     "text": [
      "Epoch 1/200\n"
     ]
    },
    {
     "name": "stderr",
     "output_type": "stream",
     "text": [
      "2022-09-28 01:59:06.590093: I tensorflow/compiler/mlir/mlir_graph_optimization_pass.cc:116] None of the MLIR optimization passes are enabled (registered 2)\n",
      "2022-09-28 01:59:06.590530: I tensorflow/core/platform/profile_utils/cpu_utils.cc:112] CPU Frequency: 2994530000 Hz\n",
      "2022-09-28 01:59:06.983163: I tensorflow/stream_executor/platform/default/dso_loader.cc:49] Successfully opened dynamic library libcublas.so.10\n"
     ]
    },
    {
     "name": "stdout",
     "output_type": "stream",
     "text": [
      "198/198 [==============================] - 2s 6ms/step - loss: 3.2212 - acc: 0.5462 - val_loss: 0.6546 - val_acc: 0.6094\n",
      "Epoch 2/200\n",
      "198/198 [==============================] - 1s 4ms/step - loss: 0.6566 - acc: 0.6064 - val_loss: 0.6480 - val_acc: 0.6275\n",
      "Epoch 3/200\n",
      "198/198 [==============================] - 1s 4ms/step - loss: 0.6513 - acc: 0.6207 - val_loss: 0.6467 - val_acc: 0.6321\n",
      "Epoch 4/200\n",
      "198/198 [==============================] - 1s 4ms/step - loss: 0.6480 - acc: 0.6289 - val_loss: 0.6442 - val_acc: 0.6367\n",
      "Epoch 5/200\n",
      "198/198 [==============================] - 1s 4ms/step - loss: 0.6482 - acc: 0.6286 - val_loss: 0.6594 - val_acc: 0.6205\n",
      "Epoch 6/200\n",
      "198/198 [==============================] - 1s 4ms/step - loss: 0.6468 - acc: 0.6308 - val_loss: 0.6514 - val_acc: 0.6257\n",
      "Epoch 7/200\n",
      "198/198 [==============================] - 1s 4ms/step - loss: 0.6467 - acc: 0.6314 - val_loss: 0.6436 - val_acc: 0.6323\n",
      "Epoch 8/200\n",
      "198/198 [==============================] - 1s 4ms/step - loss: 0.6440 - acc: 0.6342 - val_loss: 0.6525 - val_acc: 0.6263\n",
      "Epoch 9/200\n",
      "198/198 [==============================] - 1s 4ms/step - loss: 0.6444 - acc: 0.6325 - val_loss: 0.6439 - val_acc: 0.6360\n",
      "Epoch 10/200\n",
      "198/198 [==============================] - 1s 4ms/step - loss: 0.6425 - acc: 0.6366 - val_loss: 0.6412 - val_acc: 0.6388\n",
      "Epoch 11/200\n",
      "198/198 [==============================] - 1s 4ms/step - loss: 0.6419 - acc: 0.6370 - val_loss: 0.6485 - val_acc: 0.6344\n",
      "Epoch 12/200\n",
      "198/198 [==============================] - 1s 4ms/step - loss: 0.6421 - acc: 0.6365 - val_loss: 0.6485 - val_acc: 0.6366\n",
      "Epoch 13/200\n",
      "198/198 [==============================] - 1s 4ms/step - loss: 0.6408 - acc: 0.6379 - val_loss: 0.6375 - val_acc: 0.6380\n",
      "Epoch 14/200\n",
      "198/198 [==============================] - 1s 4ms/step - loss: 0.6389 - acc: 0.6381 - val_loss: 0.6385 - val_acc: 0.6388\n",
      "Epoch 15/200\n",
      "198/198 [==============================] - 1s 4ms/step - loss: 0.6352 - acc: 0.6419 - val_loss: 0.6355 - val_acc: 0.6402\n",
      "Epoch 16/200\n",
      "198/198 [==============================] - 1s 4ms/step - loss: 0.6358 - acc: 0.6409 - val_loss: 0.6330 - val_acc: 0.6433\n",
      "Epoch 17/200\n",
      "198/198 [==============================] - 1s 4ms/step - loss: 0.6351 - acc: 0.6416 - val_loss: 0.6337 - val_acc: 0.6440\n",
      "Epoch 18/200\n",
      "198/198 [==============================] - 1s 4ms/step - loss: 0.6334 - acc: 0.6433 - val_loss: 0.6314 - val_acc: 0.6461\n",
      "Epoch 19/200\n",
      "198/198 [==============================] - 1s 4ms/step - loss: 0.6321 - acc: 0.6449 - val_loss: 0.6313 - val_acc: 0.6451\n",
      "Epoch 20/200\n",
      "198/198 [==============================] - 1s 4ms/step - loss: 0.6305 - acc: 0.6467 - val_loss: 0.6296 - val_acc: 0.6467\n",
      "Epoch 21/200\n",
      "198/198 [==============================] - 1s 4ms/step - loss: 0.6305 - acc: 0.6469 - val_loss: 0.6308 - val_acc: 0.6470\n",
      "Epoch 22/200\n",
      "198/198 [==============================] - 1s 4ms/step - loss: 0.6294 - acc: 0.6474 - val_loss: 0.6335 - val_acc: 0.6461\n",
      "Epoch 23/200\n",
      "198/198 [==============================] - 1s 4ms/step - loss: 0.6311 - acc: 0.6449 - val_loss: 0.6336 - val_acc: 0.6436\n",
      "Epoch 24/200\n",
      "198/198 [==============================] - 1s 4ms/step - loss: 0.6288 - acc: 0.6479 - val_loss: 0.6332 - val_acc: 0.6441\n",
      "Epoch 25/200\n",
      "198/198 [==============================] - 1s 4ms/step - loss: 0.6283 - acc: 0.6483 - val_loss: 0.6315 - val_acc: 0.6443\n",
      "\n",
      "Epoch 00025: ReduceLROnPlateau reducing learning rate to 0.000630957374449059.\n",
      "Epoch 26/200\n",
      "198/198 [==============================] - 1s 4ms/step - loss: 0.6279 - acc: 0.6489 - val_loss: 0.6257 - val_acc: 0.6500\n",
      "Epoch 27/200\n",
      "198/198 [==============================] - 1s 4ms/step - loss: 0.6239 - acc: 0.6552 - val_loss: 0.6253 - val_acc: 0.6495\n",
      "Epoch 28/200\n",
      "198/198 [==============================] - 1s 4ms/step - loss: 0.6260 - acc: 0.6494 - val_loss: 0.6270 - val_acc: 0.6500\n",
      "Epoch 29/200\n",
      "198/198 [==============================] - 1s 4ms/step - loss: 0.6254 - acc: 0.6516 - val_loss: 0.6287 - val_acc: 0.6452\n",
      "Epoch 30/200\n",
      "198/198 [==============================] - 1s 3ms/step - loss: 0.6263 - acc: 0.6501 - val_loss: 0.6247 - val_acc: 0.6526\n",
      "Epoch 31/200\n",
      "198/198 [==============================] - 1s 4ms/step - loss: 0.6241 - acc: 0.6523 - val_loss: 0.6250 - val_acc: 0.6526\n",
      "Epoch 32/200\n",
      "198/198 [==============================] - 1s 4ms/step - loss: 0.6245 - acc: 0.6522 - val_loss: 0.6240 - val_acc: 0.6531\n",
      "Epoch 33/200\n",
      "198/198 [==============================] - 1s 3ms/step - loss: 0.6246 - acc: 0.6521 - val_loss: 0.6241 - val_acc: 0.6521\n",
      "Epoch 34/200\n",
      "198/198 [==============================] - 1s 3ms/step - loss: 0.6231 - acc: 0.6539 - val_loss: 0.6260 - val_acc: 0.6501\n",
      "Epoch 35/200\n",
      "198/198 [==============================] - 1s 4ms/step - loss: 0.6245 - acc: 0.6530 - val_loss: 0.6298 - val_acc: 0.6426\n",
      "Epoch 36/200\n",
      "198/198 [==============================] - 1s 4ms/step - loss: 0.6235 - acc: 0.6523 - val_loss: 0.6240 - val_acc: 0.6520\n",
      "Epoch 37/200\n",
      "198/198 [==============================] - 1s 4ms/step - loss: 0.6245 - acc: 0.6520 - val_loss: 0.6277 - val_acc: 0.6482\n",
      "\n",
      "Epoch 00037: ReduceLROnPlateau reducing learning rate to 0.0003981071838171537.\n",
      "Epoch 38/200\n",
      "198/198 [==============================] - 1s 4ms/step - loss: 0.6233 - acc: 0.6522 - val_loss: 0.6242 - val_acc: 0.6515\n",
      "Epoch 39/200\n",
      "198/198 [==============================] - 1s 4ms/step - loss: 0.6221 - acc: 0.6537 - val_loss: 0.6237 - val_acc: 0.6524\n",
      "Epoch 40/200\n",
      "198/198 [==============================] - 1s 4ms/step - loss: 0.6218 - acc: 0.6540 - val_loss: 0.6282 - val_acc: 0.6454\n",
      "Epoch 41/200\n",
      "198/198 [==============================] - 1s 4ms/step - loss: 0.6208 - acc: 0.6553 - val_loss: 0.6220 - val_acc: 0.6544\n",
      "Epoch 42/200\n",
      "198/198 [==============================] - 1s 4ms/step - loss: 0.6204 - acc: 0.6574 - val_loss: 0.6210 - val_acc: 0.6555\n",
      "Epoch 43/200\n",
      "198/198 [==============================] - 1s 4ms/step - loss: 0.6192 - acc: 0.6576 - val_loss: 0.6210 - val_acc: 0.6549\n",
      "Epoch 44/200\n",
      "198/198 [==============================] - 1s 4ms/step - loss: 0.6206 - acc: 0.6566 - val_loss: 0.6222 - val_acc: 0.6529\n",
      "Epoch 45/200\n",
      "198/198 [==============================] - 1s 4ms/step - loss: 0.6183 - acc: 0.6592 - val_loss: 0.6212 - val_acc: 0.6547\n",
      "Epoch 46/200\n",
      "198/198 [==============================] - 1s 4ms/step - loss: 0.6213 - acc: 0.6564 - val_loss: 0.6249 - val_acc: 0.6520\n",
      "Epoch 47/200\n",
      "198/198 [==============================] - 1s 4ms/step - loss: 0.6203 - acc: 0.6566 - val_loss: 0.6247 - val_acc: 0.6500\n",
      "\n",
      "Epoch 00047: ReduceLROnPlateau reducing learning rate to 0.0002511886574257803.\n",
      "Epoch 48/200\n",
      "198/198 [==============================] - 1s 4ms/step - loss: 0.6167 - acc: 0.6591 - val_loss: 0.6215 - val_acc: 0.6541\n",
      "Epoch 49/200\n",
      "198/198 [==============================] - 1s 4ms/step - loss: 0.6171 - acc: 0.6614 - val_loss: 0.6221 - val_acc: 0.6541\n",
      "Epoch 50/200\n",
      "198/198 [==============================] - 1s 4ms/step - loss: 0.6173 - acc: 0.6596 - val_loss: 0.6226 - val_acc: 0.6522\n",
      "Epoch 51/200\n",
      "198/198 [==============================] - 1s 4ms/step - loss: 0.6174 - acc: 0.6595 - val_loss: 0.6226 - val_acc: 0.6530\n",
      "Epoch 52/200\n",
      "198/198 [==============================] - 1s 4ms/step - loss: 0.6173 - acc: 0.6610 - val_loss: 0.6219 - val_acc: 0.6542\n",
      "\n",
      "Epoch 00052: ReduceLROnPlateau reducing learning rate to 0.00015848933651346973.\n",
      "Epoch 53/200\n",
      "198/198 [==============================] - 1s 4ms/step - loss: 0.6146 - acc: 0.6620 - val_loss: 0.6186 - val_acc: 0.6558\n",
      "Epoch 54/200\n",
      "198/198 [==============================] - 1s 4ms/step - loss: 0.6138 - acc: 0.6634 - val_loss: 0.6178 - val_acc: 0.6584\n",
      "Epoch 55/200\n",
      "198/198 [==============================] - 1s 4ms/step - loss: 0.6143 - acc: 0.6643 - val_loss: 0.6177 - val_acc: 0.6576\n",
      "Epoch 56/200\n",
      "198/198 [==============================] - 1s 4ms/step - loss: 0.6139 - acc: 0.6630 - val_loss: 0.6233 - val_acc: 0.6516\n",
      "Epoch 57/200\n",
      "198/198 [==============================] - 1s 4ms/step - loss: 0.6146 - acc: 0.6623 - val_loss: 0.6189 - val_acc: 0.6562\n",
      "Epoch 58/200\n",
      "198/198 [==============================] - 1s 4ms/step - loss: 0.6129 - acc: 0.6631 - val_loss: 0.6180 - val_acc: 0.6566\n",
      "Epoch 59/200\n",
      "198/198 [==============================] - 1s 4ms/step - loss: 0.6137 - acc: 0.6636 - val_loss: 0.6182 - val_acc: 0.6579\n"
     ]
    },
    {
     "name": "stdout",
     "output_type": "stream",
     "text": [
      "Epoch 60/200\n",
      "198/198 [==============================] - 1s 4ms/step - loss: 0.6141 - acc: 0.6637 - val_loss: 0.6200 - val_acc: 0.6558\n",
      "\n",
      "Epoch 00060: ReduceLROnPlateau reducing learning rate to 0.00010000000838432616.\n",
      "Epoch 61/200\n",
      "198/198 [==============================] - 1s 4ms/step - loss: 0.6112 - acc: 0.6642 - val_loss: 0.6194 - val_acc: 0.6567\n",
      "Epoch 62/200\n",
      "198/198 [==============================] - 1s 4ms/step - loss: 0.6122 - acc: 0.6633 - val_loss: 0.6178 - val_acc: 0.6579\n",
      "Epoch 63/200\n",
      "198/198 [==============================] - 1s 4ms/step - loss: 0.6095 - acc: 0.6673 - val_loss: 0.6181 - val_acc: 0.6574\n",
      "Epoch 64/200\n",
      "198/198 [==============================] - 1s 4ms/step - loss: 0.6083 - acc: 0.6700 - val_loss: 0.6193 - val_acc: 0.6562\n",
      "Epoch 65/200\n",
      "198/198 [==============================] - 1s 4ms/step - loss: 0.6104 - acc: 0.6657 - val_loss: 0.6179 - val_acc: 0.6572\n",
      "\n",
      "Epoch 00065: ReduceLROnPlateau reducing learning rate to 6.30957374449059e-05.\n",
      "Epoch 66/200\n",
      "198/198 [==============================] - 1s 4ms/step - loss: 0.6075 - acc: 0.6705 - val_loss: 0.6170 - val_acc: 0.6582\n",
      "Epoch 67/200\n",
      "198/198 [==============================] - 1s 4ms/step - loss: 0.6101 - acc: 0.6678 - val_loss: 0.6181 - val_acc: 0.6578\n",
      "Epoch 68/200\n",
      "198/198 [==============================] - 1s 4ms/step - loss: 0.6100 - acc: 0.6671 - val_loss: 0.6180 - val_acc: 0.6583\n",
      "Epoch 69/200\n",
      "198/198 [==============================] - 1s 4ms/step - loss: 0.6079 - acc: 0.6702 - val_loss: 0.6177 - val_acc: 0.6575\n",
      "Epoch 70/200\n",
      "198/198 [==============================] - 1s 4ms/step - loss: 0.6082 - acc: 0.6692 - val_loss: 0.6185 - val_acc: 0.6567\n",
      "Epoch 71/200\n",
      "198/198 [==============================] - 1s 3ms/step - loss: 0.6091 - acc: 0.6682 - val_loss: 0.6179 - val_acc: 0.6580\n",
      "\n",
      "Epoch 00071: ReduceLROnPlateau reducing learning rate to 3.981071838171537e-05.\n",
      "Epoch 72/200\n",
      "198/198 [==============================] - 1s 3ms/step - loss: 0.6069 - acc: 0.6713 - val_loss: 0.6170 - val_acc: 0.6582\n",
      "Epoch 73/200\n",
      "198/198 [==============================] - 1s 4ms/step - loss: 0.6078 - acc: 0.6695 - val_loss: 0.6185 - val_acc: 0.6575\n",
      "Epoch 74/200\n",
      "198/198 [==============================] - 1s 4ms/step - loss: 0.6052 - acc: 0.6717 - val_loss: 0.6181 - val_acc: 0.6579\n",
      "Epoch 75/200\n",
      "198/198 [==============================] - 1s 4ms/step - loss: 0.6066 - acc: 0.6696 - val_loss: 0.6171 - val_acc: 0.6579\n",
      "Epoch 76/200\n",
      "198/198 [==============================] - 1s 3ms/step - loss: 0.6057 - acc: 0.6717 - val_loss: 0.6175 - val_acc: 0.6581\n",
      "\n",
      "Epoch 00076: ReduceLROnPlateau reducing learning rate to 2.5118865283496142e-05.\n",
      "Epoch 77/200\n",
      "198/198 [==============================] - 1s 3ms/step - loss: 0.6049 - acc: 0.6733 - val_loss: 0.6184 - val_acc: 0.6580\n",
      "Epoch 78/200\n",
      "198/198 [==============================] - 1s 3ms/step - loss: 0.6074 - acc: 0.6690 - val_loss: 0.6173 - val_acc: 0.6590\n",
      "Epoch 79/200\n",
      "198/198 [==============================] - 1s 3ms/step - loss: 0.6061 - acc: 0.6702 - val_loss: 0.6183 - val_acc: 0.6578\n",
      "Epoch 80/200\n",
      "198/198 [==============================] - 1s 4ms/step - loss: 0.6066 - acc: 0.6699 - val_loss: 0.6178 - val_acc: 0.6587\n",
      "Epoch 81/200\n",
      "198/198 [==============================] - 1s 4ms/step - loss: 0.6048 - acc: 0.6725 - val_loss: 0.6192 - val_acc: 0.6568\n",
      "\n",
      "Epoch 00081: ReduceLROnPlateau reducing learning rate to 1.5848932274101303e-05.\n",
      "Epoch 82/200\n",
      "198/198 [==============================] - 1s 4ms/step - loss: 0.6059 - acc: 0.6712 - val_loss: 0.6175 - val_acc: 0.6583\n",
      "Epoch 83/200\n",
      "198/198 [==============================] - 1s 4ms/step - loss: 0.6057 - acc: 0.6712 - val_loss: 0.6179 - val_acc: 0.6584\n",
      "Epoch 84/200\n",
      "198/198 [==============================] - 1s 4ms/step - loss: 0.6056 - acc: 0.6707 - val_loss: 0.6173 - val_acc: 0.6588\n",
      "Epoch 85/200\n",
      "198/198 [==============================] - 1s 4ms/step - loss: 0.6068 - acc: 0.6703 - val_loss: 0.6171 - val_acc: 0.6590\n",
      "Epoch 86/200\n",
      "198/198 [==============================] - 1s 4ms/step - loss: 0.6070 - acc: 0.6693 - val_loss: 0.6178 - val_acc: 0.6587\n",
      "\n",
      "Epoch 00086: ReduceLROnPlateau reducing learning rate to 1.0000000608891671e-05.\n",
      "Epoch 87/200\n",
      "198/198 [==============================] - 1s 4ms/step - loss: 0.6048 - acc: 0.6722 - val_loss: 0.6175 - val_acc: 0.6585\n",
      "Epoch 88/200\n",
      "198/198 [==============================] - 1s 3ms/step - loss: 0.6056 - acc: 0.6709 - val_loss: 0.6179 - val_acc: 0.6585\n",
      "Epoch 89/200\n",
      "198/198 [==============================] - 1s 3ms/step - loss: 0.6052 - acc: 0.6705 - val_loss: 0.6175 - val_acc: 0.6587\n",
      "Epoch 90/200\n",
      "198/198 [==============================] - 1s 3ms/step - loss: 0.6056 - acc: 0.6710 - val_loss: 0.6171 - val_acc: 0.6590\n",
      "Epoch 91/200\n",
      "198/198 [==============================] - 1s 3ms/step - loss: 0.6043 - acc: 0.6736 - val_loss: 0.6170 - val_acc: 0.6590\n",
      "\n",
      "Epoch 00091: ReduceLROnPlateau reducing learning rate to 1e-05.\n",
      "Epoch 92/200\n",
      "198/198 [==============================] - 1s 4ms/step - loss: 0.6036 - acc: 0.6740 - val_loss: 0.6175 - val_acc: 0.6586\n",
      "Epoch 93/200\n",
      "198/198 [==============================] - 1s 4ms/step - loss: 0.6061 - acc: 0.6708 - val_loss: 0.6172 - val_acc: 0.6585\n",
      "Epoch 94/200\n",
      "198/198 [==============================] - 1s 4ms/step - loss: 0.6027 - acc: 0.6737 - val_loss: 0.6171 - val_acc: 0.6587\n",
      "Epoch 95/200\n",
      "198/198 [==============================] - 1s 4ms/step - loss: 0.6063 - acc: 0.6706 - val_loss: 0.6172 - val_acc: 0.6592\n",
      "Epoch 96/200\n",
      "198/198 [==============================] - 1s 4ms/step - loss: 0.6044 - acc: 0.6723 - val_loss: 0.6176 - val_acc: 0.6588\n",
      "Epoch 97/200\n",
      "198/198 [==============================] - 1s 4ms/step - loss: 0.6037 - acc: 0.6727 - val_loss: 0.6175 - val_acc: 0.6587\n",
      "Epoch 00097: early stopping\n"
     ]
    }
   ],
   "source": [
    "# now train the model\n",
    "\n",
    "reduce_lr = tf.keras.callbacks.ReduceLROnPlateau(monitor='val_loss', \n",
    "                              factor=0.1**(1/5), patience=5, min_lr=1e-5,\n",
    "                                                verbose=1)\n",
    "\n",
    "early_stop = tf.keras.callbacks.EarlyStopping(monitor='val_loss', patience=25, \n",
    "                                              verbose=1)\n",
    "\n",
    "callbacks = [reduce_lr,early_stop]\n",
    "\n",
    "hist1 = pfn.fit(X_train, Y_train,\n",
    "        epochs=num_epoch,\n",
    "        batch_size=batch_size,\n",
    "        validation_data=(X_val, Y_val),\n",
    "        class_weight=class_weight,\n",
    "        callbacks=callbacks,\n",
    "        verbose=1)"
   ]
  },
  {
   "cell_type": "markdown",
   "id": "0fac1861",
   "metadata": {},
   "source": [
    "# Analyze the Model"
   ]
  },
  {
   "cell_type": "code",
   "execution_count": 28,
   "id": "531ee50e",
   "metadata": {},
   "outputs": [
    {
     "name": "stdout",
     "output_type": "stream",
     "text": [
      "\n",
      "PFN AUC: 0.7155247683029273\n",
      "\n"
     ]
    }
   ],
   "source": [
    "# get predictions on test data\n",
    "preds = pfn.predict(X_test, batch_size=10000)\n",
    "\n",
    "# get ROC curve\n",
    "pfn_fp, pfn_tp, threshs = roc_curve(Y_test[:,1], preds[:,1])\n",
    "\n",
    "# get area under the ROC curve\n",
    "auc = roc_auc_score(Y_test[:,1], preds[:,1])\n",
    "print()\n",
    "print('PFN AUC:', auc)\n",
    "print()"
   ]
  },
  {
   "cell_type": "code",
   "execution_count": 29,
   "id": "9190f668",
   "metadata": {},
   "outputs": [
    {
     "data": {
      "image/png": "[encoded data removed]",
      "text/plain": [
       "<Figure size 432x288 with 1 Axes>"
      ]
     },
     "metadata": {
      "needs_background": "light"
     },
     "output_type": "display_data"
    }
   ],
   "source": [
    "plt.plot(hist1.history[\"loss\"],label=\"loss\")\n",
    "plt.plot(hist1.history[\"val_loss\"],label=\"validation loss\")\n",
    "plt.legend()\n",
    "plt.show()"
   ]
  },
  {
   "cell_type": "code",
   "execution_count": 30,
   "id": "bcf5a3ff",
   "metadata": {},
   "outputs": [
    {
     "data": {
      "image/png": "[encoded data removed]",
      "text/plain": [
       "<Figure size 432x288 with 1 Axes>"
      ]
     },
     "metadata": {
      "needs_background": "light"
     },
     "output_type": "display_data"
    }
   ],
   "source": [
    "plt.plot(hist1.history[\"acc\"],label=\"acc\")\n",
    "plt.plot(hist1.history[\"val_acc\"],label=\"validation acc\")\n",
    "plt.legend()\n",
    "plt.show()"
   ]
  },
  {
   "cell_type": "code",
   "execution_count": 31,
   "id": "0a1abd7d",
   "metadata": {},
   "outputs": [
    {
     "data": {
      "image/png": "[encoded data removed]",
      "text/plain": [
       "<Figure size 288x288 with 1 Axes>"
      ]
     },
     "metadata": {
      "needs_background": "light"
     },
     "output_type": "display_data"
    }
   ],
   "source": [
    "# get multiplicity and mass for comparison\n",
    "preds = pfn.predict(X_test, batch_size=1000)\n",
    "pfn_fp, pfn_tp, threshs = roc_curve(Y_test[:,1], preds[:,1])\n",
    "\n",
    "# some nicer plot settings \n",
    "plt.rcParams['figure.figsize'] = (4,4)\n",
    "plt.rcParams['font.family'] = 'serif'\n",
    "plt.rcParams['figure.autolayout'] = True\n",
    "\n",
    "# plot the ROC curves\n",
    "plt.plot(pfn_tp, 1-pfn_fp, '-', color='black', label='ROC')\n",
    "\n",
    "plt.legend(loc='lower left', frameon=False)\n",
    "\n",
    "plt.show()"
   ]
  },
  {
   "cell_type": "code",
   "execution_count": 32,
   "id": "c7230967",
   "metadata": {},
   "outputs": [
    {
     "name": "stderr",
     "output_type": "stream",
     "text": [
      "/tmp/ipykernel_8970/1246046417.py:11: RuntimeWarning: divide by zero encountered in true_divide\n",
      "  plt.plot(pfn_tp, 1/pfn_fp, '-', color='black', label='ROC')\n"
     ]
    },
    {
     "data": {
      "image/png": "[encoded data removed]",
      "text/plain": [
       "<Figure size 288x288 with 1 Axes>"
      ]
     },
     "metadata": {
      "needs_background": "light"
     },
     "output_type": "display_data"
    }
   ],
   "source": [
    "# get multiplicity and mass for comparison\n",
    "preds = pfn.predict(X_test, batch_size=1000)\n",
    "pfn_fp, pfn_tp, threshs = roc_curve(Y_test[:,1], preds[:,1])\n",
    "\n",
    "# some nicer plot settings \n",
    "plt.rcParams['figure.figsize'] = (4,4)\n",
    "plt.rcParams['font.family'] = 'serif'\n",
    "plt.rcParams['figure.autolayout'] = True\n",
    "\n",
    "# plot the ROC curves\n",
    "plt.plot(pfn_tp, 1/pfn_fp, '-', color='black', label='ROC')\n",
    "\n",
    "plt.yscale('log')\n",
    "\n",
    "plt.legend(loc='lower left', frameon=False)\n",
    "\n",
    "plt.show()"
   ]
  },
  {
   "cell_type": "code",
   "execution_count": null,
   "id": "6b15a777",
   "metadata": {},
   "outputs": [],
   "source": []
  }
 ],
 "metadata": {
  "kernelspec": {
   "display_name": "Python 3 (ipykernel)",
   "language": "python",
   "name": "python3"
  },
  "language_info": {
   "codemirror_mode": {
    "name": "ipython",
    "version": 3
   },
   "file_extension": ".py",
   "mimetype": "text/x-python",
   "name": "python",
   "nbconvert_exporter": "python",
   "pygments_lexer": "ipython3",
   "version": "3.8.13"
  }
 },
 "nbformat": 4,
 "nbformat_minor": 5
}
