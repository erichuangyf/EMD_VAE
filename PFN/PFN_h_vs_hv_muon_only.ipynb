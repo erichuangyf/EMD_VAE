{
 "cells": [
  {
   "cell_type": "markdown",
   "id": "4ef50705",
   "metadata": {},
   "source": [
    "# Import and Initialization"
   ]
  },
  {
   "cell_type": "code",
   "execution_count": 1,
   "id": "05a505b0",
   "metadata": {},
   "outputs": [
    {
     "name": "stderr",
     "output_type": "stream",
     "text": [
      "2022-09-27 13:57:23.479045: I tensorflow/stream_executor/platform/default/dso_loader.cc:49] Successfully opened dynamic library libcudart.so.10.1\n"
     ]
    }
   ],
   "source": [
    "%load_ext autoreload\n",
    "%autoreload 2\n",
    "\n",
    "import tensorflow as tf\n",
    "\n",
    "# standard library imports\n",
    "from __future__ import absolute_import, division, print_function\n",
    "\n",
    "# standard numerical library imports\n",
    "import numpy as np\n",
    "\n",
    "# energyflow imports\n",
    "import energyflow as ef\n",
    "from energyflow.archs import PFN\n",
    "from energyflow.datasets import qg_jets\n",
    "from energyflow.utils import data_split, remap_pids, to_categorical\n",
    "\n",
    "from sklearn.metrics import roc_auc_score, roc_curve\n",
    "import matplotlib.pyplot as plt\n",
    "\n",
    "\n",
    "import pandas\n",
    "import h5py\n",
    "import pickle\n",
    "\n",
    "import datetime"
   ]
  },
  {
   "cell_type": "code",
   "execution_count": 3,
   "id": "45667e4d",
   "metadata": {},
   "outputs": [],
   "source": [
    "# configs\n",
    "train, val, test = 0.6, 0.3, 0.1\n",
    "Phi_sizes, F_sizes = (256, 256, 256), (256, 256, 256)\n",
    "num_epoch = 200\n",
    "batch_size = 1000"
   ]
  },
  {
   "cell_type": "markdown",
   "id": "8c5aa5d4",
   "metadata": {},
   "source": [
    "# Load and Process Data"
   ]
  },
  {
   "cell_type": "code",
   "execution_count": 4,
   "id": "25276321",
   "metadata": {},
   "outputs": [],
   "source": [
    "signal_1_df = \"/global/home/users/yifengh3/VAE/vec_data/signal/muon_only/B_signal_vector_muons.h5\"\n",
    "signal_2_df = \"/global/home/users/yifengh3/VAE/vec_data/signal/muon_only/hv_vector_muons.h5\"\n",
    "raw_signal_1 = pandas.read_hdf(signal_1_df)\n",
    "raw_signal_2 = pandas.read_hdf(signal_2_df)"
   ]
  },
  {
   "cell_type": "code",
   "execution_count": 5,
   "id": "646d74c9",
   "metadata": {},
   "outputs": [
    {
     "name": "stdout",
     "output_type": "stream",
     "text": [
      "signal_1 data shape: (163600, 8)\n",
      "signal_2 data shape: (155841, 200)\n"
     ]
    }
   ],
   "source": [
    "print(\"signal_1 data shape: {}\".format(raw_signal_1.shape))\n",
    "print(\"signal_2 data shape: {}\".format(raw_signal_2.shape))"
   ]
  },
  {
   "cell_type": "code",
   "execution_count": 6,
   "id": "a75f65a8",
   "metadata": {},
   "outputs": [
    {
     "data": {
      "text/html": [
       "<div>\n",
       "<style scoped>\n",
       "    .dataframe tbody tr th:only-of-type {\n",
       "        vertical-align: middle;\n",
       "    }\n",
       "\n",
       "    .dataframe tbody tr th {\n",
       "        vertical-align: top;\n",
       "    }\n",
       "\n",
       "    .dataframe thead th {\n",
       "        text-align: right;\n",
       "    }\n",
       "</style>\n",
       "<table border=\"1\" class=\"dataframe\">\n",
       "  <thead>\n",
       "    <tr style=\"text-align: right;\">\n",
       "      <th></th>\n",
       "      <th>pT0</th>\n",
       "      <th>eta0</th>\n",
       "      <th>phi0</th>\n",
       "      <th>E0</th>\n",
       "      <th>pT1</th>\n",
       "      <th>eta1</th>\n",
       "      <th>phi1</th>\n",
       "      <th>E1</th>\n",
       "    </tr>\n",
       "  </thead>\n",
       "  <tbody>\n",
       "    <tr>\n",
       "      <th>0</th>\n",
       "      <td>7.26965</td>\n",
       "      <td>0.950225</td>\n",
       "      <td>2.301950</td>\n",
       "      <td>7.26965</td>\n",
       "      <td>11.48740</td>\n",
       "      <td>1.359730</td>\n",
       "      <td>-0.295626</td>\n",
       "      <td>11.48740</td>\n",
       "    </tr>\n",
       "    <tr>\n",
       "      <th>1</th>\n",
       "      <td>16.41760</td>\n",
       "      <td>-0.005042</td>\n",
       "      <td>3.114020</td>\n",
       "      <td>16.41760</td>\n",
       "      <td>6.70218</td>\n",
       "      <td>-0.075643</td>\n",
       "      <td>-3.109000</td>\n",
       "      <td>6.70218</td>\n",
       "    </tr>\n",
       "    <tr>\n",
       "      <th>2</th>\n",
       "      <td>8.53064</td>\n",
       "      <td>-0.632029</td>\n",
       "      <td>0.635732</td>\n",
       "      <td>8.53064</td>\n",
       "      <td>5.66312</td>\n",
       "      <td>-0.780046</td>\n",
       "      <td>-2.185410</td>\n",
       "      <td>5.66312</td>\n",
       "    </tr>\n",
       "    <tr>\n",
       "      <th>3</th>\n",
       "      <td>8.24784</td>\n",
       "      <td>-1.179380</td>\n",
       "      <td>-1.986270</td>\n",
       "      <td>8.24784</td>\n",
       "      <td>7.76347</td>\n",
       "      <td>-1.297750</td>\n",
       "      <td>-2.016260</td>\n",
       "      <td>7.76347</td>\n",
       "    </tr>\n",
       "    <tr>\n",
       "      <th>4</th>\n",
       "      <td>4.66563</td>\n",
       "      <td>0.870844</td>\n",
       "      <td>2.556970</td>\n",
       "      <td>4.66563</td>\n",
       "      <td>6.35399</td>\n",
       "      <td>1.049620</td>\n",
       "      <td>2.567710</td>\n",
       "      <td>6.35399</td>\n",
       "    </tr>\n",
       "    <tr>\n",
       "      <th>...</th>\n",
       "      <td>...</td>\n",
       "      <td>...</td>\n",
       "      <td>...</td>\n",
       "      <td>...</td>\n",
       "      <td>...</td>\n",
       "      <td>...</td>\n",
       "      <td>...</td>\n",
       "      <td>...</td>\n",
       "    </tr>\n",
       "    <tr>\n",
       "      <th>404</th>\n",
       "      <td>14.19430</td>\n",
       "      <td>-1.962120</td>\n",
       "      <td>1.553240</td>\n",
       "      <td>14.19430</td>\n",
       "      <td>7.13258</td>\n",
       "      <td>-1.865760</td>\n",
       "      <td>1.561710</td>\n",
       "      <td>7.13258</td>\n",
       "    </tr>\n",
       "    <tr>\n",
       "      <th>405</th>\n",
       "      <td>4.89570</td>\n",
       "      <td>0.914380</td>\n",
       "      <td>0.856134</td>\n",
       "      <td>4.89570</td>\n",
       "      <td>9.95881</td>\n",
       "      <td>0.774413</td>\n",
       "      <td>0.856637</td>\n",
       "      <td>9.95881</td>\n",
       "    </tr>\n",
       "    <tr>\n",
       "      <th>406</th>\n",
       "      <td>4.77840</td>\n",
       "      <td>1.973420</td>\n",
       "      <td>-0.022314</td>\n",
       "      <td>4.77840</td>\n",
       "      <td>4.51616</td>\n",
       "      <td>2.174490</td>\n",
       "      <td>0.039430</td>\n",
       "      <td>4.51616</td>\n",
       "    </tr>\n",
       "    <tr>\n",
       "      <th>407</th>\n",
       "      <td>12.98580</td>\n",
       "      <td>-1.910120</td>\n",
       "      <td>-0.659677</td>\n",
       "      <td>12.98580</td>\n",
       "      <td>11.29670</td>\n",
       "      <td>-1.830190</td>\n",
       "      <td>-0.670773</td>\n",
       "      <td>11.29670</td>\n",
       "    </tr>\n",
       "    <tr>\n",
       "      <th>408</th>\n",
       "      <td>5.63175</td>\n",
       "      <td>0.550468</td>\n",
       "      <td>0.124717</td>\n",
       "      <td>5.63175</td>\n",
       "      <td>8.37860</td>\n",
       "      <td>0.415606</td>\n",
       "      <td>0.079701</td>\n",
       "      <td>8.37860</td>\n",
       "    </tr>\n",
       "  </tbody>\n",
       "</table>\n",
       "<p>163600 rows × 8 columns</p>\n",
       "</div>"
      ],
      "text/plain": [
       "          pT0      eta0      phi0        E0       pT1      eta1      phi1  \\\n",
       "0     7.26965  0.950225  2.301950   7.26965  11.48740  1.359730 -0.295626   \n",
       "1    16.41760 -0.005042  3.114020  16.41760   6.70218 -0.075643 -3.109000   \n",
       "2     8.53064 -0.632029  0.635732   8.53064   5.66312 -0.780046 -2.185410   \n",
       "3     8.24784 -1.179380 -1.986270   8.24784   7.76347 -1.297750 -2.016260   \n",
       "4     4.66563  0.870844  2.556970   4.66563   6.35399  1.049620  2.567710   \n",
       "..        ...       ...       ...       ...       ...       ...       ...   \n",
       "404  14.19430 -1.962120  1.553240  14.19430   7.13258 -1.865760  1.561710   \n",
       "405   4.89570  0.914380  0.856134   4.89570   9.95881  0.774413  0.856637   \n",
       "406   4.77840  1.973420 -0.022314   4.77840   4.51616  2.174490  0.039430   \n",
       "407  12.98580 -1.910120 -0.659677  12.98580  11.29670 -1.830190 -0.670773   \n",
       "408   5.63175  0.550468  0.124717   5.63175   8.37860  0.415606  0.079701   \n",
       "\n",
       "           E1  \n",
       "0    11.48740  \n",
       "1     6.70218  \n",
       "2     5.66312  \n",
       "3     7.76347  \n",
       "4     6.35399  \n",
       "..        ...  \n",
       "404   7.13258  \n",
       "405   9.95881  \n",
       "406   4.51616  \n",
       "407  11.29670  \n",
       "408   8.37860  \n",
       "\n",
       "[163600 rows x 8 columns]"
      ]
     },
     "execution_count": 6,
     "metadata": {},
     "output_type": "execute_result"
    }
   ],
   "source": [
    "raw_signal_1"
   ]
  },
  {
   "cell_type": "code",
   "execution_count": 7,
   "id": "3edf6b5e",
   "metadata": {},
   "outputs": [],
   "source": [
    "#Truncate the nan\n",
    "signal_1 = raw_signal_1.to_numpy()[:,:8]\n",
    "signal_2 = raw_signal_2.to_numpy()[:,:8]"
   ]
  },
  {
   "cell_type": "code",
   "execution_count": 8,
   "id": "6235130e",
   "metadata": {},
   "outputs": [
    {
     "data": {
      "text/plain": [
       "array([8.72264719e+00, 5.20708337e-02, 3.41632807e-02, 8.72264719e+00,\n",
       "       7.92356296e+00, 7.87889927e-03, 1.07259135e-01, 7.92356296e+00])"
      ]
     },
     "execution_count": 8,
     "metadata": {},
     "output_type": "execute_result"
    }
   ],
   "source": [
    "np.mean(signal_1,axis=0)"
   ]
  },
  {
   "cell_type": "code",
   "execution_count": 9,
   "id": "8c1b8120",
   "metadata": {},
   "outputs": [
    {
     "name": "stdout",
     "output_type": "stream",
     "text": [
      "signal_1 data shape: (163600, 8)\n",
      "signal_2 data shape: (155841, 8)\n"
     ]
    }
   ],
   "source": [
    "print(\"signal_1 data shape: {}\".format(signal_1.shape))\n",
    "print(\"signal_2 data shape: {}\".format(signal_2.shape))"
   ]
  },
  {
   "cell_type": "code",
   "execution_count": 10,
   "id": "e582ac98",
   "metadata": {},
   "outputs": [],
   "source": [
    "# assign labels to signal and background data, 0 for sig1,  1 for sig2\n",
    "# (updated since we might get multiple signals) \n",
    "labeled_sig1 = np.append(signal_1,np.zeros((signal_1.shape[0],1)),axis=1)\n",
    "labeled_sig2 = np.append(signal_2,np.ones((signal_2.shape[0],1)),axis=1)"
   ]
  },
  {
   "cell_type": "code",
   "execution_count": 11,
   "id": "8540cc44",
   "metadata": {},
   "outputs": [],
   "source": [
    "# mix two data array into one signal array\n",
    "data = np.concatenate((labeled_sig1,labeled_sig2))\n",
    "\n",
    "#and shuffle the data\n",
    "np.random.shuffle(data)"
   ]
  },
  {
   "cell_type": "code",
   "execution_count": 12,
   "id": "34eaf99c",
   "metadata": {},
   "outputs": [],
   "source": [
    "X = data[:,:-1]\n",
    "y = data[:,-1]"
   ]
  },
  {
   "cell_type": "code",
   "execution_count": 13,
   "id": "d078bbf6",
   "metadata": {},
   "outputs": [
    {
     "name": "stdout",
     "output_type": "stream",
     "text": [
      "shape of X: (319441, 8)\n",
      "shape of Y: (319441,)\n"
     ]
    }
   ],
   "source": [
    "print(\"shape of X: {}\".format(X.shape))\n",
    "print(\"shape of Y: {}\".format(y.shape))"
   ]
  },
  {
   "cell_type": "code",
   "execution_count": 14,
   "id": "ea34616a",
   "metadata": {},
   "outputs": [
    {
     "name": "stdout",
     "output_type": "stream",
     "text": [
      "Weight for background: 0.98\n",
      "Weight for signal: 1.02\n"
     ]
    }
   ],
   "source": [
    "# Scaling by total/2 helps keep the loss to a similar magnitude.\n",
    "# The sum of the weights of all examples stays the same.\n",
    "total = labeled_sig1.shape[0] + labeled_sig2.shape[0]\n",
    "weight_for_0 = (1 / labeled_sig1.shape[0]) * (total / 2.0)\n",
    "weight_for_1 = (1 / labeled_sig2.shape[0]) * (total / 2.0)\n",
    "\n",
    "\n",
    "class_weight = {0: weight_for_0, 1: weight_for_1}\n",
    "\n",
    "print('Weight for background: {:.2f}'.format(weight_for_0))\n",
    "print('Weight for signal: {:.2f}'.format(weight_for_1))"
   ]
  },
  {
   "cell_type": "code",
   "execution_count": 15,
   "id": "c3e0e641",
   "metadata": {},
   "outputs": [],
   "source": [
    "# To categorical as stipulated in example\n",
    "Y = to_categorical(y, num_classes=2)\n",
    "\n",
    "# Reshape X to shape (number of jets, 50, 4)\n",
    "X = X.reshape(-1,2,4)\n",
    "\n",
    "# ignore the pid info\n",
    "X = X[:,:,:3]"
   ]
  },
  {
   "cell_type": "code",
   "execution_count": 16,
   "id": "3f3e9fdd",
   "metadata": {},
   "outputs": [
    {
     "name": "stdout",
     "output_type": "stream",
     "text": [
      "(319441, 2, 3)\n"
     ]
    }
   ],
   "source": [
    "print(X.shape)"
   ]
  },
  {
   "cell_type": "code",
   "execution_count": 38,
   "id": "26e25098",
   "metadata": {
    "scrolled": true
   },
   "outputs": [
    {
     "data": {
      "image/png": "[encoded data removed]",
      "text/plain": [
       "<Figure size 864x576 with 1 Axes>"
      ]
     },
     "metadata": {
      "needs_background": "light"
     },
     "output_type": "display_data"
    },
    {
     "data": {
      "image/png": "[encoded data removed]",
      "text/plain": [
       "<Figure size 864x576 with 1 Axes>"
      ]
     },
     "metadata": {
      "needs_background": "light"
     },
     "output_type": "display_data"
    },
    {
     "data": {
      "image/png": "[encoded data removed]",
      "text/plain": [
       "<Figure size 864x576 with 1 Axes>"
      ]
     },
     "metadata": {
      "needs_background": "light"
     },
     "output_type": "display_data"
    },
    {
     "data": {
      "image/png": "[encoded data removed]",
      "text/plain": [
       "<Figure size 864x576 with 1 Axes>"
      ]
     },
     "metadata": {
      "needs_background": "light"
     },
     "output_type": "display_data"
    },
    {
     "data": {
      "image/png": "[encoded data removed]",
      "text/plain": [
       "<Figure size 864x576 with 1 Axes>"
      ]
     },
     "metadata": {
      "needs_background": "light"
     },
     "output_type": "display_data"
    },
    {
     "data": {
      "image/png": "[encoded data removed]",
      "text/plain": [
       "<Figure size 864x576 with 1 Axes>"
      ]
     },
     "metadata": {
      "needs_background": "light"
     },
     "output_type": "display_data"
    }
   ],
   "source": [
    "for i in range(6):\n",
    "    plt.figure(figsize=(12,8))\n",
    "    _,b,_ = plt.hist(X.reshape([-1,6])[y==0,i], label=\"signal1\", histtype=\"step\")\n",
    "    plt.hist(X.reshape([-1,6])[y==1,i], label=\"signal2\", histtype=\"step\", bins=b)\n",
    "    plt.legend()\n",
    "    plt.show()"
   ]
  },
  {
   "cell_type": "code",
   "execution_count": 40,
   "id": "80d98f38",
   "metadata": {},
   "outputs": [
    {
     "name": "stdout",
     "output_type": "stream",
     "text": [
      "/global/home/users/yifengh3/VAE/EMD_VAE/recon_kinematic_plot\n"
     ]
    }
   ],
   "source": [
    "%cd ../recon_kinematic_plot"
   ]
  },
  {
   "cell_type": "code",
   "execution_count": 41,
   "id": "4a0a3f71",
   "metadata": {},
   "outputs": [],
   "source": [
    "from plot_utils import event_mass"
   ]
  },
  {
   "cell_type": "code",
   "execution_count": 42,
   "id": "ef780d6d",
   "metadata": {},
   "outputs": [
    {
     "name": "stderr",
     "output_type": "stream",
     "text": [
      "100%|████████████████████████████████| 163600/163600 [00:04<00:00, 33452.96it/s]\n",
      "100%|████████████████████████████████| 155841/155841 [00:04<00:00, 33159.97it/s]\n"
     ]
    }
   ],
   "source": [
    "em1 = event_mass(X[y==0])\n",
    "em2 = event_mass(X[y==1])"
   ]
  },
  {
   "cell_type": "code",
   "execution_count": 48,
   "id": "c000687b",
   "metadata": {},
   "outputs": [
    {
     "data": {
      "image/png": "[encoded data removed]",
      "text/plain": [
       "<Figure size 864x720 with 1 Axes>"
      ]
     },
     "metadata": {
      "needs_background": "light"
     },
     "output_type": "display_data"
    }
   ],
   "source": [
    "plt.figure(figsize=(12,10))\n",
    "_,b,_ = plt.hist(em1, label = \"EM_sig1\", histtype=\"step\", bins=50)\n",
    "plt.hist(em2, label = \"EM_sig2\", bins=b, histtype=\"step\")\n",
    "plt.yscale(\"log\")\n",
    "plt.show()"
   ]
  },
  {
   "cell_type": "code",
   "execution_count": 56,
   "id": "92fc5401",
   "metadata": {},
   "outputs": [
    {
     "data": {
      "image/png": "[encoded data removed]",
      "text/plain": [
       "<Figure size 864x720 with 1 Axes>"
      ]
     },
     "metadata": {
      "needs_background": "light"
     },
     "output_type": "display_data"
    }
   ],
   "source": [
    "plt.figure(figsize=(12,10))\n",
    "_,b,_ = plt.hist(em2[em2<2], label = \"EM_sig2\", histtype=\"step\", bins=100)\n",
    "plt.hist(em1[em1<2], label = \"EM_sig1\", bins=b, histtype=\"step\")\n",
    "plt.yscale(\"log\")\n",
    "plt.legend()\n",
    "plt.show()"
   ]
  },
  {
   "cell_type": "code",
   "execution_count": 62,
   "id": "c810128a",
   "metadata": {},
   "outputs": [
    {
     "name": "stdout",
     "output_type": "stream",
     "text": [
      "0.8092909535452323\n"
     ]
    }
   ],
   "source": [
    "print(np.logical_and(em1>0.9, em1<1).sum()/em1.shape[0])\n",
    "np.logical_and(em2>0.25, em2<).sum()"
   ]
  },
  {
   "cell_type": "code",
   "execution_count": 17,
   "id": "6a6fe36d",
   "metadata": {},
   "outputs": [],
   "source": [
    "# # normalizing jets\n",
    "# # copied from example\n",
    "# import tqdm\n",
    "# for x in tqdm.tqdm(X):\n",
    "#     # now add the status bar :)\n",
    "#     mask = x[:,0] > 0\n",
    "#     yphi_avg = np.average(x[mask,1:3], weights=x[mask,0], axis=0)\n",
    "#     x[mask,1:3] -= yphi_avg\n",
    "#     x[mask,0] /= x[:,0].sum()"
   ]
  },
  {
   "cell_type": "code",
   "execution_count": 57,
   "id": "8f6fd238",
   "metadata": {},
   "outputs": [
    {
     "name": "stderr",
     "output_type": "stream",
     "text": [
      "100%|████████████████████████████████| 319441/319441 [00:09<00:00, 32138.96it/s]\n"
     ]
    }
   ],
   "source": [
    "# set EM limit\n",
    "em = event_mass(X)\n",
    "em_idx = em[em<2]"
   ]
  },
  {
   "cell_type": "code",
   "execution_count": 18,
   "id": "c3e18f2d",
   "metadata": {},
   "outputs": [
    {
     "name": "stdout",
     "output_type": "stream",
     "text": [
      "Finished preprocessing\n",
      "shape of X: (319441, 2, 3)\n",
      "shape of Y: (319441,)\n"
     ]
    }
   ],
   "source": [
    "print('Finished preprocessing')\n",
    "print(\"shape of X: {}\".format(X.shape))\n",
    "print(\"shape of Y: {}\".format(y.shape))"
   ]
  },
  {
   "cell_type": "code",
   "execution_count": 19,
   "id": "3f573cd4",
   "metadata": {},
   "outputs": [],
   "source": [
    "X = X.astype('float64')[em_idx]"
   ]
  },
  {
   "cell_type": "code",
   "execution_count": 20,
   "id": "939de622",
   "metadata": {},
   "outputs": [],
   "source": [
    "# do train/val/test split \n",
    "(X_train, X_val, X_test,\n",
    " Y_train, Y_val, Y_test) = data_split(X, Y, val=val, test=test)"
   ]
  },
  {
   "cell_type": "markdown",
   "id": "bc6339cd",
   "metadata": {},
   "source": [
    "# Build and Train the Model"
   ]
  },
  {
   "cell_type": "code",
   "execution_count": 21,
   "id": "4876d9dc",
   "metadata": {
    "scrolled": true
   },
   "outputs": [
    {
     "name": "stdout",
     "output_type": "stream",
     "text": [
      "Model summary:\n"
     ]
    },
    {
     "name": "stderr",
     "output_type": "stream",
     "text": [
      "2022-09-27 13:57:46.769183: I tensorflow/compiler/jit/xla_cpu_device.cc:41] Not creating XLA devices, tf_xla_enable_xla_devices not set\n",
      "2022-09-27 13:57:46.770458: I tensorflow/stream_executor/platform/default/dso_loader.cc:49] Successfully opened dynamic library libcuda.so.1\n",
      "2022-09-27 13:57:46.803160: I tensorflow/core/common_runtime/gpu/gpu_device.cc:1720] Found device 0 with properties: \n",
      "pciBusID: 0000:01:00.0 name: Quadro RTX 6000 computeCapability: 7.5\n",
      "coreClock: 1.77GHz coreCount: 72 deviceMemorySize: 23.65GiB deviceMemoryBandwidth: 625.94GiB/s\n",
      "2022-09-27 13:57:46.803181: I tensorflow/stream_executor/platform/default/dso_loader.cc:49] Successfully opened dynamic library libcudart.so.10.1\n",
      "2022-09-27 13:57:46.804481: I tensorflow/stream_executor/platform/default/dso_loader.cc:49] Successfully opened dynamic library libcublas.so.10\n",
      "2022-09-27 13:57:46.804509: I tensorflow/stream_executor/platform/default/dso_loader.cc:49] Successfully opened dynamic library libcublasLt.so.10\n",
      "2022-09-27 13:57:46.805999: I tensorflow/stream_executor/platform/default/dso_loader.cc:49] Successfully opened dynamic library libcufft.so.10\n",
      "2022-09-27 13:57:46.806231: I tensorflow/stream_executor/platform/default/dso_loader.cc:49] Successfully opened dynamic library libcurand.so.10\n",
      "2022-09-27 13:57:46.807501: I tensorflow/stream_executor/platform/default/dso_loader.cc:49] Successfully opened dynamic library libcusolver.so.10\n",
      "2022-09-27 13:57:46.808045: I tensorflow/stream_executor/platform/default/dso_loader.cc:49] Successfully opened dynamic library libcusparse.so.10\n",
      "2022-09-27 13:57:46.810604: I tensorflow/stream_executor/platform/default/dso_loader.cc:49] Successfully opened dynamic library libcudnn.so.7\n",
      "2022-09-27 13:57:46.813254: I tensorflow/core/common_runtime/gpu/gpu_device.cc:1862] Adding visible gpu devices: 0\n",
      "2022-09-27 13:57:46.813659: I tensorflow/core/platform/cpu_feature_guard.cc:142] This TensorFlow binary is optimized with oneAPI Deep Neural Network Library (oneDNN) to use the following CPU instructions in performance-critical operations:  SSE4.1 SSE4.2 AVX AVX2 FMA\n",
      "To enable them in other operations, rebuild TensorFlow with the appropriate compiler flags.\n",
      "2022-09-27 13:57:46.815511: I tensorflow/compiler/jit/xla_gpu_device.cc:99] Not creating XLA devices, tf_xla_enable_xla_devices not set\n",
      "2022-09-27 13:57:46.816829: I tensorflow/core/common_runtime/gpu/gpu_device.cc:1720] Found device 0 with properties: \n",
      "pciBusID: 0000:01:00.0 name: Quadro RTX 6000 computeCapability: 7.5\n",
      "coreClock: 1.77GHz coreCount: 72 deviceMemorySize: 23.65GiB deviceMemoryBandwidth: 625.94GiB/s\n",
      "2022-09-27 13:57:46.816846: I tensorflow/stream_executor/platform/default/dso_loader.cc:49] Successfully opened dynamic library libcudart.so.10.1\n",
      "2022-09-27 13:57:46.816862: I tensorflow/stream_executor/platform/default/dso_loader.cc:49] Successfully opened dynamic library libcublas.so.10\n",
      "2022-09-27 13:57:46.816873: I tensorflow/stream_executor/platform/default/dso_loader.cc:49] Successfully opened dynamic library libcublasLt.so.10\n",
      "2022-09-27 13:57:46.816884: I tensorflow/stream_executor/platform/default/dso_loader.cc:49] Successfully opened dynamic library libcufft.so.10\n",
      "2022-09-27 13:57:46.816894: I tensorflow/stream_executor/platform/default/dso_loader.cc:49] Successfully opened dynamic library libcurand.so.10\n",
      "2022-09-27 13:57:46.816904: I tensorflow/stream_executor/platform/default/dso_loader.cc:49] Successfully opened dynamic library libcusolver.so.10\n",
      "2022-09-27 13:57:46.816914: I tensorflow/stream_executor/platform/default/dso_loader.cc:49] Successfully opened dynamic library libcusparse.so.10\n",
      "2022-09-27 13:57:46.816924: I tensorflow/stream_executor/platform/default/dso_loader.cc:49] Successfully opened dynamic library libcudnn.so.7\n",
      "2022-09-27 13:57:46.819381: I tensorflow/core/common_runtime/gpu/gpu_device.cc:1862] Adding visible gpu devices: 0\n",
      "2022-09-27 13:57:46.819424: I tensorflow/stream_executor/platform/default/dso_loader.cc:49] Successfully opened dynamic library libcudart.so.10.1\n",
      "2022-09-27 13:57:47.395270: I tensorflow/core/common_runtime/gpu/gpu_device.cc:1261] Device interconnect StreamExecutor with strength 1 edge matrix:\n",
      "2022-09-27 13:57:47.395316: I tensorflow/core/common_runtime/gpu/gpu_device.cc:1267]      0 \n",
      "2022-09-27 13:57:47.395326: I tensorflow/core/common_runtime/gpu/gpu_device.cc:1280] 0:   N \n",
      "2022-09-27 13:57:47.399299: I tensorflow/core/common_runtime/gpu/gpu_device.cc:1406] Created TensorFlow device (/job:localhost/replica:0/task:0/device:GPU:0 with 22475 MB memory) -> physical GPU (device: 0, name: Quadro RTX 6000, pci bus id: 0000:01:00.0, compute capability: 7.5)\n"
     ]
    },
    {
     "name": "stdout",
     "output_type": "stream",
     "text": [
      "Model: \"model\"\n",
      "__________________________________________________________________________________________________\n",
      "Layer (type)                    Output Shape         Param #     Connected to                     \n",
      "==================================================================================================\n",
      "input (InputLayer)              [(None, None, 3)]    0                                            \n",
      "__________________________________________________________________________________________________\n",
      "tdist_0 (TimeDistributed)       (None, None, 256)    1024        input[0][0]                      \n",
      "__________________________________________________________________________________________________\n",
      "activation (Activation)         (None, None, 256)    0           tdist_0[0][0]                    \n",
      "__________________________________________________________________________________________________\n",
      "tdist_1 (TimeDistributed)       (None, None, 256)    65792       activation[0][0]                 \n",
      "__________________________________________________________________________________________________\n",
      "activation_1 (Activation)       (None, None, 256)    0           tdist_1[0][0]                    \n",
      "__________________________________________________________________________________________________\n",
      "tdist_2 (TimeDistributed)       (None, None, 256)    65792       activation_1[0][0]               \n",
      "__________________________________________________________________________________________________\n",
      "mask (Lambda)                   (None, None)         0           input[0][0]                      \n",
      "__________________________________________________________________________________________________\n",
      "activation_2 (Activation)       (None, None, 256)    0           tdist_2[0][0]                    \n",
      "__________________________________________________________________________________________________\n",
      "sum (Dot)                       (None, 256)          0           mask[0][0]                       \n",
      "                                                                 activation_2[0][0]               \n",
      "__________________________________________________________________________________________________\n",
      "dense_0 (Dense)                 (None, 256)          65792       sum[0][0]                        \n",
      "__________________________________________________________________________________________________\n",
      "activation_3 (Activation)       (None, 256)          0           dense_0[0][0]                    \n",
      "__________________________________________________________________________________________________\n",
      "dense_1 (Dense)                 (None, 256)          65792       activation_3[0][0]               \n",
      "__________________________________________________________________________________________________\n",
      "activation_4 (Activation)       (None, 256)          0           dense_1[0][0]                    \n",
      "__________________________________________________________________________________________________\n",
      "dense_2 (Dense)                 (None, 256)          65792       activation_4[0][0]               \n",
      "__________________________________________________________________________________________________\n",
      "activation_5 (Activation)       (None, 256)          0           dense_2[0][0]                    \n",
      "__________________________________________________________________________________________________\n",
      "output (Dense)                  (None, 2)            514         activation_5[0][0]               \n",
      "__________________________________________________________________________________________________\n",
      "activation_6 (Activation)       (None, 2)            0           output[0][0]                     \n",
      "==================================================================================================\n",
      "Total params: 330,498\n",
      "Trainable params: 330,498\n",
      "Non-trainable params: 0\n",
      "__________________________________________________________________________________________________\n"
     ]
    }
   ],
   "source": [
    "print('Model summary:')\n",
    "\n",
    "# build architecture\n",
    "pfn = PFN(input_dim=X.shape[-1], Phi_sizes=Phi_sizes, F_sizes=F_sizes)"
   ]
  },
  {
   "cell_type": "code",
   "execution_count": 22,
   "id": "b559b182",
   "metadata": {
    "scrolled": true
   },
   "outputs": [
    {
     "name": "stdout",
     "output_type": "stream",
     "text": [
      "Epoch 1/200\n"
     ]
    },
    {
     "name": "stderr",
     "output_type": "stream",
     "text": [
      "2022-09-27 13:57:47.805917: I tensorflow/compiler/mlir/mlir_graph_optimization_pass.cc:116] None of the MLIR optimization passes are enabled (registered 2)\n",
      "2022-09-27 13:57:47.806361: I tensorflow/core/platform/profile_utils/cpu_utils.cc:112] CPU Frequency: 2994530000 Hz\n"
     ]
    },
    {
     "name": "stdout",
     "output_type": "stream",
     "text": [
      "\r",
      "  1/192 [..............................] - ETA: 1:46 - loss: 7.4398 - acc: 0.4830"
     ]
    },
    {
     "name": "stderr",
     "output_type": "stream",
     "text": [
      "2022-09-27 13:57:48.196520: I tensorflow/stream_executor/platform/default/dso_loader.cc:49] Successfully opened dynamic library libcublas.so.10\n"
     ]
    },
    {
     "name": "stdout",
     "output_type": "stream",
     "text": [
      "192/192 [==============================] - 2s 5ms/step - loss: 3.4530 - acc: 0.5674 - val_loss: 0.6875 - val_acc: 0.5748\n",
      "Epoch 2/200\n",
      "192/192 [==============================] - 1s 4ms/step - loss: 0.6358 - acc: 0.6351 - val_loss: 0.6358 - val_acc: 0.6351\n",
      "Epoch 3/200\n",
      "192/192 [==============================] - 1s 4ms/step - loss: 0.5895 - acc: 0.6826 - val_loss: 0.5612 - val_acc: 0.7028\n",
      "Epoch 4/200\n",
      "192/192 [==============================] - 1s 4ms/step - loss: 0.5705 - acc: 0.6957 - val_loss: 0.5397 - val_acc: 0.7312\n",
      "Epoch 5/200\n",
      "192/192 [==============================] - 1s 4ms/step - loss: 0.5386 - acc: 0.7211 - val_loss: 0.6109 - val_acc: 0.6615\n",
      "Epoch 6/200\n",
      "192/192 [==============================] - 1s 4ms/step - loss: 0.5200 - acc: 0.7336 - val_loss: 0.5037 - val_acc: 0.7476\n",
      "Epoch 7/200\n",
      "192/192 [==============================] - 1s 4ms/step - loss: 0.4938 - acc: 0.7521 - val_loss: 0.4899 - val_acc: 0.7584\n",
      "Epoch 8/200\n",
      "192/192 [==============================] - 1s 3ms/step - loss: 0.4587 - acc: 0.7746 - val_loss: 0.4717 - val_acc: 0.7723\n",
      "Epoch 9/200\n",
      "192/192 [==============================] - 1s 3ms/step - loss: 0.4378 - acc: 0.7908 - val_loss: 0.4442 - val_acc: 0.7836\n",
      "Epoch 10/200\n",
      "192/192 [==============================] - 1s 4ms/step - loss: 0.4272 - acc: 0.7961 - val_loss: 0.5112 - val_acc: 0.7681\n",
      "Epoch 11/200\n",
      "192/192 [==============================] - 1s 4ms/step - loss: 0.3955 - acc: 0.8147 - val_loss: 0.3922 - val_acc: 0.8089\n",
      "Epoch 12/200\n",
      "192/192 [==============================] - 1s 4ms/step - loss: 0.3720 - acc: 0.8295 - val_loss: 0.3595 - val_acc: 0.8393\n",
      "Epoch 13/200\n",
      "192/192 [==============================] - 1s 4ms/step - loss: 0.3795 - acc: 0.8253 - val_loss: 0.3348 - val_acc: 0.8655\n",
      "Epoch 14/200\n",
      "192/192 [==============================] - 1s 4ms/step - loss: 0.3365 - acc: 0.8502 - val_loss: 0.3257 - val_acc: 0.8581\n",
      "Epoch 15/200\n",
      "192/192 [==============================] - 1s 3ms/step - loss: 0.2978 - acc: 0.8738 - val_loss: 0.2784 - val_acc: 0.8763\n",
      "Epoch 16/200\n",
      "192/192 [==============================] - 1s 3ms/step - loss: 0.2947 - acc: 0.8737 - val_loss: 0.2776 - val_acc: 0.8851\n",
      "Epoch 17/200\n",
      "192/192 [==============================] - 1s 3ms/step - loss: 0.2800 - acc: 0.8819 - val_loss: 0.3878 - val_acc: 0.8304\n",
      "Epoch 18/200\n",
      "192/192 [==============================] - 1s 3ms/step - loss: 0.2752 - acc: 0.8863 - val_loss: 0.2681 - val_acc: 0.8927\n",
      "Epoch 19/200\n",
      "192/192 [==============================] - 1s 4ms/step - loss: 0.2520 - acc: 0.8984 - val_loss: 0.2828 - val_acc: 0.8763\n",
      "Epoch 20/200\n",
      "192/192 [==============================] - 1s 4ms/step - loss: 0.2593 - acc: 0.8945 - val_loss: 0.2375 - val_acc: 0.9018\n",
      "Epoch 21/200\n",
      "192/192 [==============================] - 1s 4ms/step - loss: 0.2386 - acc: 0.9060 - val_loss: 0.2339 - val_acc: 0.9056\n",
      "Epoch 22/200\n",
      "192/192 [==============================] - 1s 4ms/step - loss: 0.2189 - acc: 0.9159 - val_loss: 0.2014 - val_acc: 0.9217\n",
      "Epoch 23/200\n",
      "192/192 [==============================] - 1s 4ms/step - loss: 0.1852 - acc: 0.9324 - val_loss: 0.1862 - val_acc: 0.9333\n",
      "Epoch 24/200\n",
      "192/192 [==============================] - 1s 4ms/step - loss: 0.1848 - acc: 0.9312 - val_loss: 0.1744 - val_acc: 0.9387\n",
      "Epoch 25/200\n",
      "192/192 [==============================] - 1s 4ms/step - loss: 0.1895 - acc: 0.9295 - val_loss: 0.2061 - val_acc: 0.9218\n",
      "Epoch 26/200\n",
      "192/192 [==============================] - 1s 4ms/step - loss: 0.1763 - acc: 0.9366 - val_loss: 0.2303 - val_acc: 0.9083\n",
      "Epoch 27/200\n",
      "192/192 [==============================] - 1s 4ms/step - loss: 0.1736 - acc: 0.9375 - val_loss: 0.1544 - val_acc: 0.9471\n",
      "Epoch 28/200\n",
      "192/192 [==============================] - 1s 4ms/step - loss: 0.1709 - acc: 0.9390 - val_loss: 0.1686 - val_acc: 0.9406\n",
      "Epoch 29/200\n",
      "192/192 [==============================] - 1s 3ms/step - loss: 0.1434 - acc: 0.9517 - val_loss: 0.1267 - val_acc: 0.9610\n",
      "Epoch 30/200\n",
      "192/192 [==============================] - 1s 3ms/step - loss: 0.1450 - acc: 0.9503 - val_loss: 0.1497 - val_acc: 0.9522\n",
      "Epoch 31/200\n",
      "192/192 [==============================] - 1s 4ms/step - loss: 0.1354 - acc: 0.9554 - val_loss: 0.1198 - val_acc: 0.9638\n",
      "Epoch 32/200\n",
      "192/192 [==============================] - 1s 4ms/step - loss: 0.1265 - acc: 0.9577 - val_loss: 0.1719 - val_acc: 0.9439\n",
      "Epoch 33/200\n",
      "192/192 [==============================] - 1s 3ms/step - loss: 0.1284 - acc: 0.9584 - val_loss: 0.2563 - val_acc: 0.9190\n",
      "Epoch 34/200\n",
      "192/192 [==============================] - 1s 3ms/step - loss: 0.1490 - acc: 0.9494 - val_loss: 0.0950 - val_acc: 0.9742\n",
      "Epoch 35/200\n",
      "192/192 [==============================] - 1s 4ms/step - loss: 0.1274 - acc: 0.9592 - val_loss: 0.1563 - val_acc: 0.9464\n",
      "Epoch 36/200\n",
      "192/192 [==============================] - 1s 4ms/step - loss: 0.0993 - acc: 0.9702 - val_loss: 0.0835 - val_acc: 0.9758\n",
      "Epoch 37/200\n",
      "192/192 [==============================] - 1s 4ms/step - loss: 0.0977 - acc: 0.9693 - val_loss: 0.1000 - val_acc: 0.9685\n",
      "Epoch 38/200\n",
      "192/192 [==============================] - 1s 4ms/step - loss: 0.1054 - acc: 0.9663 - val_loss: 0.0807 - val_acc: 0.9747\n",
      "Epoch 39/200\n",
      "192/192 [==============================] - 1s 4ms/step - loss: 0.0781 - acc: 0.9765 - val_loss: 0.0926 - val_acc: 0.9758\n",
      "Epoch 40/200\n",
      "192/192 [==============================] - 1s 4ms/step - loss: 0.1074 - acc: 0.9661 - val_loss: 0.0684 - val_acc: 0.9805\n",
      "Epoch 41/200\n",
      "192/192 [==============================] - 1s 4ms/step - loss: 0.0700 - acc: 0.9797 - val_loss: 0.1241 - val_acc: 0.9568\n",
      "Epoch 42/200\n",
      "192/192 [==============================] - 1s 4ms/step - loss: 0.0801 - acc: 0.9757 - val_loss: 0.1131 - val_acc: 0.9566\n",
      "Epoch 43/200\n",
      "192/192 [==============================] - 1s 4ms/step - loss: 0.1289 - acc: 0.9584 - val_loss: 0.0581 - val_acc: 0.9836\n",
      "Epoch 44/200\n",
      "192/192 [==============================] - 1s 4ms/step - loss: 0.0572 - acc: 0.9839 - val_loss: 0.0561 - val_acc: 0.9832\n",
      "Epoch 45/200\n",
      "192/192 [==============================] - 1s 4ms/step - loss: 0.0546 - acc: 0.9855 - val_loss: 0.0768 - val_acc: 0.9761\n",
      "Epoch 46/200\n",
      "192/192 [==============================] - 1s 3ms/step - loss: 0.0898 - acc: 0.9724 - val_loss: 0.0720 - val_acc: 0.9786\n",
      "Epoch 47/200\n",
      "192/192 [==============================] - 1s 4ms/step - loss: 0.0573 - acc: 0.9843 - val_loss: 0.1891 - val_acc: 0.9274\n",
      "Epoch 48/200\n",
      "192/192 [==============================] - 1s 3ms/step - loss: 0.1160 - acc: 0.9626 - val_loss: 0.0694 - val_acc: 0.9821\n",
      "Epoch 49/200\n",
      "192/192 [==============================] - 1s 4ms/step - loss: 0.0640 - acc: 0.9814 - val_loss: 0.0669 - val_acc: 0.9814\n",
      "\n",
      "Epoch 00049: ReduceLROnPlateau reducing learning rate to 0.000630957374449059.\n",
      "Epoch 50/200\n",
      "192/192 [==============================] - 1s 3ms/step - loss: 0.0384 - acc: 0.9899 - val_loss: 0.0348 - val_acc: 0.9935\n",
      "Epoch 51/200\n",
      "192/192 [==============================] - 1s 3ms/step - loss: 0.0278 - acc: 0.9929 - val_loss: 0.0397 - val_acc: 0.9898\n",
      "Epoch 52/200\n",
      "192/192 [==============================] - 1s 3ms/step - loss: 0.0301 - acc: 0.9923 - val_loss: 0.0343 - val_acc: 0.9912\n",
      "Epoch 53/200\n",
      "192/192 [==============================] - 1s 4ms/step - loss: 0.0366 - acc: 0.9901 - val_loss: 0.0358 - val_acc: 0.9894\n",
      "Epoch 54/200\n",
      "192/192 [==============================] - 1s 4ms/step - loss: 0.0419 - acc: 0.9892 - val_loss: 0.2478 - val_acc: 0.9195\n",
      "Epoch 55/200\n",
      "192/192 [==============================] - 1s 4ms/step - loss: 0.0941 - acc: 0.9723 - val_loss: 0.0372 - val_acc: 0.9908\n",
      "Epoch 56/200\n",
      "192/192 [==============================] - 1s 4ms/step - loss: 0.0274 - acc: 0.9926 - val_loss: 0.0382 - val_acc: 0.9891\n",
      "Epoch 57/200\n",
      "192/192 [==============================] - 1s 4ms/step - loss: 0.0258 - acc: 0.9934 - val_loss: 0.0417 - val_acc: 0.9886\n",
      "\n",
      "Epoch 00057: ReduceLROnPlateau reducing learning rate to 0.0003981071838171537.\n",
      "Epoch 58/200\n",
      "192/192 [==============================] - 1s 4ms/step - loss: 0.0226 - acc: 0.9942 - val_loss: 0.0205 - val_acc: 0.9947\n",
      "Epoch 59/200\n",
      "192/192 [==============================] - 1s 4ms/step - loss: 0.0149 - acc: 0.9961 - val_loss: 0.0226 - val_acc: 0.9944\n",
      "Epoch 60/200\n",
      "192/192 [==============================] - 1s 4ms/step - loss: 0.0155 - acc: 0.9962 - val_loss: 0.0236 - val_acc: 0.9931\n",
      "Epoch 61/200\n"
     ]
    },
    {
     "name": "stdout",
     "output_type": "stream",
     "text": [
      "192/192 [==============================] - 1s 4ms/step - loss: 0.0168 - acc: 0.9958 - val_loss: 0.0283 - val_acc: 0.9918\n",
      "Epoch 62/200\n",
      "192/192 [==============================] - 1s 4ms/step - loss: 0.0178 - acc: 0.9954 - val_loss: 0.0203 - val_acc: 0.9947\n",
      "Epoch 63/200\n",
      "192/192 [==============================] - 1s 4ms/step - loss: 0.0226 - acc: 0.9941 - val_loss: 0.0264 - val_acc: 0.9926\n",
      "Epoch 64/200\n",
      "192/192 [==============================] - 1s 4ms/step - loss: 0.0208 - acc: 0.9947 - val_loss: 0.0269 - val_acc: 0.9926\n",
      "Epoch 65/200\n",
      "192/192 [==============================] - 1s 4ms/step - loss: 0.0255 - acc: 0.9931 - val_loss: 0.0371 - val_acc: 0.9897\n",
      "Epoch 66/200\n",
      "192/192 [==============================] - 1s 4ms/step - loss: 0.0288 - acc: 0.9927 - val_loss: 0.0314 - val_acc: 0.9919\n",
      "Epoch 67/200\n",
      "192/192 [==============================] - 1s 4ms/step - loss: 0.0176 - acc: 0.9955 - val_loss: 0.0241 - val_acc: 0.9941\n",
      "\n",
      "Epoch 00067: ReduceLROnPlateau reducing learning rate to 0.0002511886574257803.\n",
      "Epoch 68/200\n",
      "192/192 [==============================] - 1s 4ms/step - loss: 0.0120 - acc: 0.9970 - val_loss: 0.0190 - val_acc: 0.9956\n",
      "Epoch 69/200\n",
      "192/192 [==============================] - 1s 4ms/step - loss: 0.0105 - acc: 0.9974 - val_loss: 0.0190 - val_acc: 0.9943\n",
      "Epoch 70/200\n",
      "192/192 [==============================] - 1s 4ms/step - loss: 0.0113 - acc: 0.9973 - val_loss: 0.0182 - val_acc: 0.9948\n",
      "Epoch 71/200\n",
      "192/192 [==============================] - 1s 4ms/step - loss: 0.0110 - acc: 0.9973 - val_loss: 0.0186 - val_acc: 0.9950\n",
      "Epoch 72/200\n",
      "192/192 [==============================] - 1s 4ms/step - loss: 0.0112 - acc: 0.9973 - val_loss: 0.0151 - val_acc: 0.9965\n",
      "Epoch 73/200\n",
      "192/192 [==============================] - 1s 4ms/step - loss: 0.0098 - acc: 0.9976 - val_loss: 0.0213 - val_acc: 0.9933\n",
      "Epoch 74/200\n",
      "192/192 [==============================] - 1s 4ms/step - loss: 0.0170 - acc: 0.9957 - val_loss: 0.0239 - val_acc: 0.9937\n",
      "Epoch 75/200\n",
      "192/192 [==============================] - 1s 4ms/step - loss: 0.0118 - acc: 0.9971 - val_loss: 0.0205 - val_acc: 0.9943\n",
      "Epoch 76/200\n",
      "192/192 [==============================] - 1s 4ms/step - loss: 0.0122 - acc: 0.9971 - val_loss: 0.0229 - val_acc: 0.9938\n",
      "Epoch 77/200\n",
      "192/192 [==============================] - 1s 4ms/step - loss: 0.0142 - acc: 0.9965 - val_loss: 0.0198 - val_acc: 0.9947\n",
      "\n",
      "Epoch 00077: ReduceLROnPlateau reducing learning rate to 0.00015848933651346973.\n",
      "Epoch 78/200\n",
      "192/192 [==============================] - 1s 4ms/step - loss: 0.0091 - acc: 0.9977 - val_loss: 0.0124 - val_acc: 0.9971\n",
      "Epoch 79/200\n",
      "192/192 [==============================] - 1s 4ms/step - loss: 0.0065 - acc: 0.9985 - val_loss: 0.0121 - val_acc: 0.9968\n",
      "Epoch 80/200\n",
      "192/192 [==============================] - 1s 4ms/step - loss: 0.0065 - acc: 0.9984 - val_loss: 0.0128 - val_acc: 0.9969\n",
      "Epoch 81/200\n",
      "192/192 [==============================] - 1s 4ms/step - loss: 0.0068 - acc: 0.9983 - val_loss: 0.0135 - val_acc: 0.9966\n",
      "Epoch 82/200\n",
      "192/192 [==============================] - 1s 4ms/step - loss: 0.0060 - acc: 0.9985 - val_loss: 0.0190 - val_acc: 0.9949\n",
      "Epoch 83/200\n",
      "192/192 [==============================] - 1s 4ms/step - loss: 0.0080 - acc: 0.9979 - val_loss: 0.0156 - val_acc: 0.9960\n",
      "Epoch 84/200\n",
      "192/192 [==============================] - 1s 4ms/step - loss: 0.0074 - acc: 0.9981 - val_loss: 0.0140 - val_acc: 0.9965\n",
      "\n",
      "Epoch 00084: ReduceLROnPlateau reducing learning rate to 0.00010000000838432616.\n",
      "Epoch 85/200\n",
      "192/192 [==============================] - 1s 4ms/step - loss: 0.0054 - acc: 0.9987 - val_loss: 0.0125 - val_acc: 0.9965\n",
      "Epoch 86/200\n",
      "192/192 [==============================] - 1s 4ms/step - loss: 0.0047 - acc: 0.9988 - val_loss: 0.0105 - val_acc: 0.9973\n",
      "Epoch 87/200\n",
      "192/192 [==============================] - 1s 4ms/step - loss: 0.0043 - acc: 0.9990 - val_loss: 0.0110 - val_acc: 0.9973\n",
      "Epoch 88/200\n",
      "192/192 [==============================] - 1s 4ms/step - loss: 0.0043 - acc: 0.9990 - val_loss: 0.0115 - val_acc: 0.9972\n",
      "Epoch 89/200\n",
      "192/192 [==============================] - 1s 4ms/step - loss: 0.0047 - acc: 0.9989 - val_loss: 0.0135 - val_acc: 0.9965\n",
      "Epoch 90/200\n",
      "192/192 [==============================] - 1s 4ms/step - loss: 0.0047 - acc: 0.9989 - val_loss: 0.0114 - val_acc: 0.9972\n",
      "Epoch 91/200\n",
      "192/192 [==============================] - 1s 4ms/step - loss: 0.0044 - acc: 0.9990 - val_loss: 0.0139 - val_acc: 0.9967\n",
      "\n",
      "Epoch 00091: ReduceLROnPlateau reducing learning rate to 6.30957374449059e-05.\n",
      "Epoch 92/200\n",
      "192/192 [==============================] - 1s 4ms/step - loss: 0.0046 - acc: 0.9990 - val_loss: 0.0101 - val_acc: 0.9976\n",
      "Epoch 93/200\n",
      "192/192 [==============================] - 1s 4ms/step - loss: 0.0030 - acc: 0.9993 - val_loss: 0.0109 - val_acc: 0.9971\n",
      "Epoch 94/200\n",
      "192/192 [==============================] - 1s 4ms/step - loss: 0.0033 - acc: 0.9993 - val_loss: 0.0099 - val_acc: 0.9978\n",
      "Epoch 95/200\n",
      "192/192 [==============================] - 1s 4ms/step - loss: 0.0034 - acc: 0.9992 - val_loss: 0.0116 - val_acc: 0.9971\n",
      "Epoch 96/200\n",
      "192/192 [==============================] - 1s 4ms/step - loss: 0.0038 - acc: 0.9991 - val_loss: 0.0113 - val_acc: 0.9972\n",
      "Epoch 97/200\n",
      "192/192 [==============================] - 1s 4ms/step - loss: 0.0035 - acc: 0.9992 - val_loss: 0.0116 - val_acc: 0.9970\n",
      "Epoch 98/200\n",
      "192/192 [==============================] - 1s 4ms/step - loss: 0.0031 - acc: 0.9992 - val_loss: 0.0107 - val_acc: 0.9976\n",
      "Epoch 99/200\n",
      "192/192 [==============================] - 1s 4ms/step - loss: 0.0036 - acc: 0.9992 - val_loss: 0.0110 - val_acc: 0.9975\n",
      "\n",
      "Epoch 00099: ReduceLROnPlateau reducing learning rate to 3.981071838171537e-05.\n",
      "Epoch 100/200\n",
      "192/192 [==============================] - 1s 4ms/step - loss: 0.0032 - acc: 0.9993 - val_loss: 0.0105 - val_acc: 0.9974\n",
      "Epoch 101/200\n",
      "192/192 [==============================] - 1s 4ms/step - loss: 0.0025 - acc: 0.9994 - val_loss: 0.0104 - val_acc: 0.9976\n",
      "Epoch 102/200\n",
      "192/192 [==============================] - 1s 4ms/step - loss: 0.0026 - acc: 0.9994 - val_loss: 0.0102 - val_acc: 0.9974\n",
      "Epoch 103/200\n",
      "192/192 [==============================] - 1s 4ms/step - loss: 0.0028 - acc: 0.9993 - val_loss: 0.0105 - val_acc: 0.9975\n",
      "Epoch 104/200\n",
      "192/192 [==============================] - 1s 4ms/step - loss: 0.0028 - acc: 0.9994 - val_loss: 0.0111 - val_acc: 0.9972\n",
      "\n",
      "Epoch 00104: ReduceLROnPlateau reducing learning rate to 2.5118865283496142e-05.\n",
      "Epoch 105/200\n",
      "192/192 [==============================] - 1s 4ms/step - loss: 0.0021 - acc: 0.9995 - val_loss: 0.0100 - val_acc: 0.9975\n",
      "Epoch 106/200\n",
      "192/192 [==============================] - 1s 4ms/step - loss: 0.0022 - acc: 0.9995 - val_loss: 0.0093 - val_acc: 0.9978\n",
      "Epoch 107/200\n",
      "192/192 [==============================] - 1s 4ms/step - loss: 0.0023 - acc: 0.9995 - val_loss: 0.0098 - val_acc: 0.9978\n",
      "Epoch 108/200\n",
      "192/192 [==============================] - 1s 4ms/step - loss: 0.0022 - acc: 0.9995 - val_loss: 0.0102 - val_acc: 0.9975\n",
      "Epoch 109/200\n",
      "192/192 [==============================] - 1s 4ms/step - loss: 0.0021 - acc: 0.9995 - val_loss: 0.0098 - val_acc: 0.9976\n",
      "Epoch 110/200\n",
      "192/192 [==============================] - 1s 4ms/step - loss: 0.0023 - acc: 0.9995 - val_loss: 0.0107 - val_acc: 0.9973\n",
      "Epoch 111/200\n",
      "192/192 [==============================] - 1s 4ms/step - loss: 0.0022 - acc: 0.9995 - val_loss: 0.0107 - val_acc: 0.9974\n",
      "\n",
      "Epoch 00111: ReduceLROnPlateau reducing learning rate to 1.5848932274101303e-05.\n",
      "Epoch 112/200\n",
      "192/192 [==============================] - 1s 4ms/step - loss: 0.0019 - acc: 0.9996 - val_loss: 0.0092 - val_acc: 0.9978\n",
      "Epoch 113/200\n",
      "192/192 [==============================] - 1s 4ms/step - loss: 0.0020 - acc: 0.9995 - val_loss: 0.0095 - val_acc: 0.9976\n",
      "Epoch 114/200\n",
      "192/192 [==============================] - 1s 4ms/step - loss: 0.0019 - acc: 0.9995 - val_loss: 0.0102 - val_acc: 0.9975\n",
      "Epoch 115/200\n",
      "192/192 [==============================] - 1s 4ms/step - loss: 0.0019 - acc: 0.9996 - val_loss: 0.0098 - val_acc: 0.9975\n",
      "Epoch 116/200\n",
      "192/192 [==============================] - 1s 4ms/step - loss: 0.0019 - acc: 0.9996 - val_loss: 0.0102 - val_acc: 0.9975\n",
      "\n",
      "Epoch 00116: ReduceLROnPlateau reducing learning rate to 1.0000000608891671e-05.\n",
      "Epoch 117/200\n",
      "192/192 [==============================] - 1s 4ms/step - loss: 0.0018 - acc: 0.9996 - val_loss: 0.0098 - val_acc: 0.9976\n",
      "Epoch 118/200\n",
      "192/192 [==============================] - 1s 4ms/step - loss: 0.0018 - acc: 0.9996 - val_loss: 0.0101 - val_acc: 0.9975\n",
      "Epoch 119/200\n",
      "192/192 [==============================] - 1s 4ms/step - loss: 0.0018 - acc: 0.9995 - val_loss: 0.0098 - val_acc: 0.9976\n",
      "Epoch 120/200\n",
      "192/192 [==============================] - 1s 4ms/step - loss: 0.0018 - acc: 0.9996 - val_loss: 0.0101 - val_acc: 0.9976\n",
      "Epoch 121/200\n",
      "192/192 [==============================] - 1s 4ms/step - loss: 0.0018 - acc: 0.9996 - val_loss: 0.0099 - val_acc: 0.9976\n",
      "\n",
      "Epoch 00121: ReduceLROnPlateau reducing learning rate to 1e-05.\n",
      "Epoch 122/200\n",
      "192/192 [==============================] - 1s 4ms/step - loss: 0.0018 - acc: 0.9996 - val_loss: 0.0098 - val_acc: 0.9977\n",
      "Epoch 123/200\n",
      "192/192 [==============================] - 1s 4ms/step - loss: 0.0017 - acc: 0.9996 - val_loss: 0.0098 - val_acc: 0.9976\n",
      "Epoch 124/200\n",
      "192/192 [==============================] - 1s 4ms/step - loss: 0.0016 - acc: 0.9997 - val_loss: 0.0101 - val_acc: 0.9975\n",
      "Epoch 125/200\n",
      "192/192 [==============================] - 1s 4ms/step - loss: 0.0017 - acc: 0.9996 - val_loss: 0.0105 - val_acc: 0.9974\n",
      "Epoch 126/200\n",
      "192/192 [==============================] - 1s 4ms/step - loss: 0.0018 - acc: 0.9995 - val_loss: 0.0104 - val_acc: 0.9975\n",
      "Epoch 127/200\n",
      "192/192 [==============================] - 1s 4ms/step - loss: 0.0018 - acc: 0.9996 - val_loss: 0.0099 - val_acc: 0.9976\n",
      "Epoch 128/200\n",
      "192/192 [==============================] - 1s 4ms/step - loss: 0.0017 - acc: 0.9996 - val_loss: 0.0104 - val_acc: 0.9975\n",
      "Epoch 129/200\n",
      "192/192 [==============================] - 1s 4ms/step - loss: 0.0016 - acc: 0.9996 - val_loss: 0.0099 - val_acc: 0.9976\n",
      "Epoch 130/200\n",
      "192/192 [==============================] - 1s 4ms/step - loss: 0.0018 - acc: 0.9996 - val_loss: 0.0093 - val_acc: 0.9979\n",
      "Epoch 131/200\n",
      "192/192 [==============================] - 1s 4ms/step - loss: 0.0017 - acc: 0.9996 - val_loss: 0.0093 - val_acc: 0.9978\n",
      "Epoch 132/200\n",
      "192/192 [==============================] - 1s 4ms/step - loss: 0.0016 - acc: 0.9997 - val_loss: 0.0096 - val_acc: 0.9977\n",
      "Epoch 133/200\n",
      "192/192 [==============================] - 1s 4ms/step - loss: 0.0017 - acc: 0.9996 - val_loss: 0.0105 - val_acc: 0.9975\n",
      "Epoch 134/200\n",
      "192/192 [==============================] - 1s 4ms/step - loss: 0.0017 - acc: 0.9996 - val_loss: 0.0109 - val_acc: 0.9973\n",
      "Epoch 135/200\n",
      "192/192 [==============================] - 1s 4ms/step - loss: 0.0016 - acc: 0.9996 - val_loss: 0.0100 - val_acc: 0.9976\n",
      "Epoch 136/200\n",
      "192/192 [==============================] - 1s 4ms/step - loss: 0.0015 - acc: 0.9997 - val_loss: 0.0099 - val_acc: 0.9977\n",
      "Epoch 137/200\n",
      "192/192 [==============================] - 1s 4ms/step - loss: 0.0016 - acc: 0.9996 - val_loss: 0.0101 - val_acc: 0.9977\n",
      "Epoch 00137: early stopping\n"
     ]
    }
   ],
   "source": [
    "# now train the model\n",
    "\n",
    "reduce_lr = tf.keras.callbacks.ReduceLROnPlateau(monitor='val_loss', \n",
    "                              factor=0.1**(1/5), patience=5, min_lr=1e-5,\n",
    "                                                verbose=1)\n",
    "\n",
    "early_stop = tf.keras.callbacks.EarlyStopping(monitor='val_loss', patience=25, \n",
    "                                              verbose=1)\n",
    "\n",
    "callbacks = [reduce_lr,early_stop]\n",
    "\n",
    "hist1 = pfn.fit(X_train, Y_train,\n",
    "        epochs=num_epoch,\n",
    "        batch_size=batch_size,\n",
    "        validation_data=(X_val, Y_val),\n",
    "        class_weight=class_weight,\n",
    "        callbacks=callbacks,\n",
    "        verbose=1)"
   ]
  },
  {
   "cell_type": "markdown",
   "id": "0fac1861",
   "metadata": {},
   "source": [
    "# Analyze the Model"
   ]
  },
  {
   "cell_type": "code",
   "execution_count": 23,
   "id": "531ee50e",
   "metadata": {},
   "outputs": [
    {
     "name": "stdout",
     "output_type": "stream",
     "text": [
      "\n",
      "PFN AUC: 0.999634517479256\n",
      "\n"
     ]
    }
   ],
   "source": [
    "# get predictions on test data\n",
    "preds = pfn.predict(X_test, batch_size=10000)\n",
    "\n",
    "# get ROC curve\n",
    "pfn_fp, pfn_tp, threshs = roc_curve(Y_test[:,1], preds[:,1])\n",
    "\n",
    "# get area under the ROC curve\n",
    "auc = roc_auc_score(Y_test[:,1], preds[:,1])\n",
    "print()\n",
    "print('PFN AUC:', auc)\n",
    "print()"
   ]
  },
  {
   "cell_type": "code",
   "execution_count": 24,
   "id": "9190f668",
   "metadata": {},
   "outputs": [
    {
     "data": {
      "image/png": "[encoded data removed]",
      "text/plain": [
       "<Figure size 432x288 with 1 Axes>"
      ]
     },
     "metadata": {
      "needs_background": "light"
     },
     "output_type": "display_data"
    }
   ],
   "source": [
    "plt.plot(hist1.history[\"loss\"],label=\"loss\")\n",
    "plt.plot(hist1.history[\"val_loss\"],label=\"validation loss\")\n",
    "plt.legend()\n",
    "plt.show()"
   ]
  },
  {
   "cell_type": "code",
   "execution_count": 25,
   "id": "bcf5a3ff",
   "metadata": {},
   "outputs": [
    {
     "data": {
      "image/png": "[encoded data removed]",
      "text/plain": [
       "<Figure size 432x288 with 1 Axes>"
      ]
     },
     "metadata": {
      "needs_background": "light"
     },
     "output_type": "display_data"
    }
   ],
   "source": [
    "plt.plot(hist1.history[\"acc\"],label=\"acc\")\n",
    "plt.plot(hist1.history[\"val_acc\"],label=\"validation acc\")\n",
    "plt.legend()\n",
    "plt.show()"
   ]
  },
  {
   "cell_type": "code",
   "execution_count": 26,
   "id": "0a1abd7d",
   "metadata": {},
   "outputs": [
    {
     "data": {
      "image/png": "[encoded data removed]",
      "text/plain": [
       "<Figure size 288x288 with 1 Axes>"
      ]
     },
     "metadata": {
      "needs_background": "light"
     },
     "output_type": "display_data"
    }
   ],
   "source": [
    "# get multiplicity and mass for comparison\n",
    "preds = pfn.predict(X_test, batch_size=1000)\n",
    "pfn_fp, pfn_tp, threshs = roc_curve(Y_test[:,1], preds[:,1])\n",
    "\n",
    "# some nicer plot settings \n",
    "plt.rcParams['figure.figsize'] = (4,4)\n",
    "plt.rcParams['font.family'] = 'serif'\n",
    "plt.rcParams['figure.autolayout'] = True\n",
    "\n",
    "# plot the ROC curves\n",
    "plt.plot(pfn_tp, 1-pfn_fp, '-', color='black', label='ROC')\n",
    "\n",
    "plt.legend(loc='lower left', frameon=False)\n",
    "\n",
    "plt.show()"
   ]
  },
  {
   "cell_type": "code",
   "execution_count": 27,
   "id": "c7230967",
   "metadata": {},
   "outputs": [
    {
     "name": "stderr",
     "output_type": "stream",
     "text": [
      "/tmp/ipykernel_21318/1246046417.py:11: RuntimeWarning: divide by zero encountered in true_divide\n",
      "  plt.plot(pfn_tp, 1/pfn_fp, '-', color='black', label='ROC')\n"
     ]
    },
    {
     "data": {
      "image/png": "[encoded data removed]",
      "text/plain": [
       "<Figure size 288x288 with 1 Axes>"
      ]
     },
     "metadata": {
      "needs_background": "light"
     },
     "output_type": "display_data"
    }
   ],
   "source": [
    "# get multiplicity and mass for comparison\n",
    "preds = pfn.predict(X_test, batch_size=1000)\n",
    "pfn_fp, pfn_tp, threshs = roc_curve(Y_test[:,1], preds[:,1])\n",
    "\n",
    "# some nicer plot settings \n",
    "plt.rcParams['figure.figsize'] = (4,4)\n",
    "plt.rcParams['font.family'] = 'serif'\n",
    "plt.rcParams['figure.autolayout'] = True\n",
    "\n",
    "# plot the ROC curves\n",
    "plt.plot(pfn_tp, 1/pfn_fp, '-', color='black', label='ROC')\n",
    "\n",
    "plt.yscale('log')\n",
    "\n",
    "plt.legend(loc='lower left', frameon=False)\n",
    "\n",
    "plt.show()"
   ]
  },
  {
   "cell_type": "code",
   "execution_count": null,
   "id": "6b15a777",
   "metadata": {},
   "outputs": [],
   "source": []
  }
 ],
 "metadata": {
  "kernelspec": {
   "display_name": "Python 3 (ipykernel)",
   "language": "python",
   "name": "python3"
  },
  "language_info": {
   "codemirror_mode": {
    "name": "ipython",
    "version": 3
   },
   "file_extension": ".py",
   "mimetype": "text/x-python",
   "name": "python",
   "nbconvert_exporter": "python",
   "pygments_lexer": "ipython3",
   "version": "3.8.13"
  }
 },
 "nbformat": 4,
 "nbformat_minor": 5
}
