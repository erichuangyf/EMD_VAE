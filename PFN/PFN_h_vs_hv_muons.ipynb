{
 "cells": [
  {
   "cell_type": "markdown",
   "id": "4ef50705",
   "metadata": {},
   "source": [
    "# Import and Initialization"
   ]
  },
  {
   "cell_type": "code",
   "execution_count": 1,
   "id": "86d91eee",
   "metadata": {},
   "outputs": [],
   "source": [
    "%load_ext autoreload\n",
    "%autoreload 2"
   ]
  },
  {
   "cell_type": "code",
   "execution_count": 2,
   "id": "05a505b0",
   "metadata": {},
   "outputs": [
    {
     "name": "stderr",
     "output_type": "stream",
     "text": [
      "2022-09-26 22:22:46.887062: I tensorflow/stream_executor/platform/default/dso_loader.cc:49] Successfully opened dynamic library libcudart.so.10.1\n"
     ]
    }
   ],
   "source": [
    "# standard numerical library imports\n",
    "import numpy as np\n",
    "\n",
    "import matplotlib.pyplot as plt\n",
    "import pandas\n",
    "import os\n",
    "\n",
    "from pfn_utils import *"
   ]
  },
  {
   "cell_type": "code",
   "execution_count": 3,
   "id": "45667e4d",
   "metadata": {},
   "outputs": [],
   "source": [
    "# configs\n",
    "train, val, test = 0.6, 0.3, 0.1\n",
    "Phi_sizes, F_sizes = (256, 256, 256), (256, 256, 256)\n",
    "num_epoch = 500\n",
    "batch_size = 1000\n",
    "muon_feature_number = 6"
   ]
  },
  {
   "cell_type": "code",
   "execution_count": 4,
   "id": "895ebe3a",
   "metadata": {},
   "outputs": [],
   "source": [
    "data_base_dir = \"/global/home/users/yifengh3/VAE/vec_data/recon_data\"\n",
    "raw_b_signals = np.load(os.path.join(data_base_dir, \"reconstructed_B_signal_vector.npz\")) \n",
    "raw_hv_signals = np.load(os.path.join(data_base_dir, \"reconstructed_hv_vector.npz\")) "
   ]
  },
  {
   "cell_type": "code",
   "execution_count": 5,
   "id": "17c82416",
   "metadata": {},
   "outputs": [],
   "source": [
    "b_muon = pandas.read_hdf(\"/global/home/users/yifengh3/VAE/vec_data/signal/muon_only/B_signal_vector_muons.h5\")\n",
    "hv_muon = pandas.read_hdf(\"/global/home/users/yifengh3/VAE/vec_data/signal/muon_only/hv_vector_muons.h5\")"
   ]
  },
  {
   "cell_type": "code",
   "execution_count": 6,
   "id": "124772c2",
   "metadata": {},
   "outputs": [
    {
     "name": "stdout",
     "output_type": "stream",
     "text": [
      "['data', 'recon', 'beta']\n"
     ]
    }
   ],
   "source": [
    "print(list(raw_b_signals.keys()))"
   ]
  },
  {
   "cell_type": "markdown",
   "id": "8c5aa5d4",
   "metadata": {},
   "source": [
    "# Load and Process Data"
   ]
  },
  {
   "cell_type": "code",
   "execution_count": 7,
   "id": "646d74c9",
   "metadata": {},
   "outputs": [
    {
     "name": "stdout",
     "output_type": "stream",
     "text": [
      "signal_1 muon data shape: (163600, 8)\n",
      "signal_2 muon data shape: (155841, 200)\n",
      "signal_1 muon data shape: (163600, 6)\n",
      "signal_2 muon data shape: (155841, 6)\n"
     ]
    }
   ],
   "source": [
    "raw_signal_1_muon = b_muon\n",
    "raw_signal_2_muon = hv_muon\n",
    "print(\"signal_1 muon data shape: {}\".format(raw_signal_1_muon.shape))\n",
    "print(\"signal_2 muon data shape: {}\".format(raw_signal_2_muon.shape))\n",
    "#Truncate the nan inside muon data\n",
    "signal_1_muon = raw_signal_1_muon.to_numpy()[:,:8].reshape([raw_signal_1_muon.shape[0],2,4])[:,:,:3].reshape([-1,6])\n",
    "signal_2_muon = raw_signal_2_muon.to_numpy()[:,:8].reshape([raw_signal_2_muon.shape[0],2,4])[:,:,:3].reshape([-1,6])\n",
    "print(\"signal_1 muon data shape: {}\".format(signal_1_muon.shape))\n",
    "print(\"signal_2 muon data shape: {}\".format(signal_2_muon.shape))"
   ]
  },
  {
   "cell_type": "markdown",
   "id": "eef0ed1c",
   "metadata": {},
   "source": [
    "# Get PFN from original data"
   ]
  },
  {
   "cell_type": "code",
   "execution_count": 8,
   "id": "9badfe45",
   "metadata": {},
   "outputs": [],
   "source": [
    "signal_1 = raw_b_signals[\"data\"]\n",
    "signal_2 = raw_hv_signals[\"data\"]"
   ]
  },
  {
   "cell_type": "code",
   "execution_count": 9,
   "id": "4876d9dc",
   "metadata": {
    "scrolled": true
   },
   "outputs": [
    {
     "name": "stdout",
     "output_type": "stream",
     "text": [
      "shape of X: (319441, 156)\n",
      "shape of Y: (319441,)\n",
      "Weight for background: 0.98\n",
      "Weight for signal: 1.02\n",
      "Model summary:\n"
     ]
    },
    {
     "name": "stderr",
     "output_type": "stream",
     "text": [
      "2022-09-26 22:23:09.231732: I tensorflow/compiler/jit/xla_cpu_device.cc:41] Not creating XLA devices, tf_xla_enable_xla_devices not set\n",
      "2022-09-26 22:23:09.232614: I tensorflow/stream_executor/platform/default/dso_loader.cc:49] Successfully opened dynamic library libcuda.so.1\n",
      "2022-09-26 22:23:09.255295: I tensorflow/core/common_runtime/gpu/gpu_device.cc:1720] Found device 0 with properties: \n",
      "pciBusID: 0000:01:00.0 name: Quadro RTX 6000 computeCapability: 7.5\n",
      "coreClock: 1.77GHz coreCount: 72 deviceMemorySize: 23.65GiB deviceMemoryBandwidth: 625.94GiB/s\n",
      "2022-09-26 22:23:09.255318: I tensorflow/stream_executor/platform/default/dso_loader.cc:49] Successfully opened dynamic library libcudart.so.10.1\n",
      "2022-09-26 22:23:09.256537: I tensorflow/stream_executor/platform/default/dso_loader.cc:49] Successfully opened dynamic library libcublas.so.10\n",
      "2022-09-26 22:23:09.256566: I tensorflow/stream_executor/platform/default/dso_loader.cc:49] Successfully opened dynamic library libcublasLt.so.10\n",
      "2022-09-26 22:23:09.258040: I tensorflow/stream_executor/platform/default/dso_loader.cc:49] Successfully opened dynamic library libcufft.so.10\n",
      "2022-09-26 22:23:09.258300: I tensorflow/stream_executor/platform/default/dso_loader.cc:49] Successfully opened dynamic library libcurand.so.10\n",
      "2022-09-26 22:23:09.259519: I tensorflow/stream_executor/platform/default/dso_loader.cc:49] Successfully opened dynamic library libcusolver.so.10\n",
      "2022-09-26 22:23:09.260064: I tensorflow/stream_executor/platform/default/dso_loader.cc:49] Successfully opened dynamic library libcusparse.so.10\n",
      "2022-09-26 22:23:09.262537: I tensorflow/stream_executor/platform/default/dso_loader.cc:49] Successfully opened dynamic library libcudnn.so.7\n",
      "2022-09-26 22:23:09.264148: I tensorflow/core/common_runtime/gpu/gpu_device.cc:1862] Adding visible gpu devices: 0\n",
      "2022-09-26 22:23:09.264541: I tensorflow/core/platform/cpu_feature_guard.cc:142] This TensorFlow binary is optimized with oneAPI Deep Neural Network Library (oneDNN) to use the following CPU instructions in performance-critical operations:  SSE4.1 SSE4.2 AVX AVX2 FMA\n",
      "To enable them in other operations, rebuild TensorFlow with the appropriate compiler flags.\n",
      "2022-09-26 22:23:09.266254: I tensorflow/compiler/jit/xla_gpu_device.cc:99] Not creating XLA devices, tf_xla_enable_xla_devices not set\n",
      "2022-09-26 22:23:09.267045: I tensorflow/core/common_runtime/gpu/gpu_device.cc:1720] Found device 0 with properties: \n",
      "pciBusID: 0000:01:00.0 name: Quadro RTX 6000 computeCapability: 7.5\n",
      "coreClock: 1.77GHz coreCount: 72 deviceMemorySize: 23.65GiB deviceMemoryBandwidth: 625.94GiB/s\n",
      "2022-09-26 22:23:09.267070: I tensorflow/stream_executor/platform/default/dso_loader.cc:49] Successfully opened dynamic library libcudart.so.10.1\n",
      "2022-09-26 22:23:09.267086: I tensorflow/stream_executor/platform/default/dso_loader.cc:49] Successfully opened dynamic library libcublas.so.10\n",
      "2022-09-26 22:23:09.267098: I tensorflow/stream_executor/platform/default/dso_loader.cc:49] Successfully opened dynamic library libcublasLt.so.10\n",
      "2022-09-26 22:23:09.267109: I tensorflow/stream_executor/platform/default/dso_loader.cc:49] Successfully opened dynamic library libcufft.so.10\n",
      "2022-09-26 22:23:09.267120: I tensorflow/stream_executor/platform/default/dso_loader.cc:49] Successfully opened dynamic library libcurand.so.10\n",
      "2022-09-26 22:23:09.267130: I tensorflow/stream_executor/platform/default/dso_loader.cc:49] Successfully opened dynamic library libcusolver.so.10\n",
      "2022-09-26 22:23:09.267141: I tensorflow/stream_executor/platform/default/dso_loader.cc:49] Successfully opened dynamic library libcusparse.so.10\n",
      "2022-09-26 22:23:09.267152: I tensorflow/stream_executor/platform/default/dso_loader.cc:49] Successfully opened dynamic library libcudnn.so.7\n",
      "2022-09-26 22:23:09.268613: I tensorflow/core/common_runtime/gpu/gpu_device.cc:1862] Adding visible gpu devices: 0\n",
      "2022-09-26 22:23:09.268641: I tensorflow/stream_executor/platform/default/dso_loader.cc:49] Successfully opened dynamic library libcudart.so.10.1\n",
      "2022-09-26 22:23:09.756390: I tensorflow/core/common_runtime/gpu/gpu_device.cc:1261] Device interconnect StreamExecutor with strength 1 edge matrix:\n",
      "2022-09-26 22:23:09.756436: I tensorflow/core/common_runtime/gpu/gpu_device.cc:1267]      0 \n",
      "2022-09-26 22:23:09.756445: I tensorflow/core/common_runtime/gpu/gpu_device.cc:1280] 0:   N \n",
      "2022-09-26 22:23:09.759117: I tensorflow/core/common_runtime/gpu/gpu_device.cc:1406] Created TensorFlow device (/job:localhost/replica:0/task:0/device:GPU:0 with 1901 MB memory) -> physical GPU (device: 0, name: Quadro RTX 6000, pci bus id: 0000:01:00.0, compute capability: 7.5)\n"
     ]
    },
    {
     "name": "stdout",
     "output_type": "stream",
     "text": [
      "Model: \"model\"\n",
      "__________________________________________________________________________________________________\n",
      "Layer (type)                    Output Shape         Param #     Connected to                     \n",
      "==================================================================================================\n",
      "input (InputLayer)              [(None, None, 3)]    0                                            \n",
      "__________________________________________________________________________________________________\n",
      "tdist_0 (TimeDistributed)       (None, None, 256)    1024        input[0][0]                      \n",
      "__________________________________________________________________________________________________\n",
      "activation (Activation)         (None, None, 256)    0           tdist_0[0][0]                    \n",
      "__________________________________________________________________________________________________\n",
      "tdist_1 (TimeDistributed)       (None, None, 256)    65792       activation[0][0]                 \n",
      "__________________________________________________________________________________________________\n",
      "activation_1 (Activation)       (None, None, 256)    0           tdist_1[0][0]                    \n",
      "__________________________________________________________________________________________________\n",
      "tdist_2 (TimeDistributed)       (None, None, 256)    65792       activation_1[0][0]               \n",
      "__________________________________________________________________________________________________\n",
      "mask (Lambda)                   (None, None)         0           input[0][0]                      \n",
      "__________________________________________________________________________________________________\n",
      "activation_2 (Activation)       (None, None, 256)    0           tdist_2[0][0]                    \n",
      "__________________________________________________________________________________________________\n",
      "sum (Dot)                       (None, 256)          0           mask[0][0]                       \n",
      "                                                                 activation_2[0][0]               \n",
      "__________________________________________________________________________________________________\n",
      "num_global_features (InputLayer [(None, 6)]          0                                            \n",
      "__________________________________________________________________________________________________\n",
      "concat (Concatenate)            (None, 262)          0           sum[0][0]                        \n",
      "                                                                 num_global_features[0][0]        \n",
      "__________________________________________________________________________________________________\n",
      "dense_0 (Dense)                 (None, 256)          67328       concat[0][0]                     \n",
      "__________________________________________________________________________________________________\n",
      "activation_3 (Activation)       (None, 256)          0           dense_0[0][0]                    \n",
      "__________________________________________________________________________________________________\n",
      "dense_1 (Dense)                 (None, 256)          65792       activation_3[0][0]               \n",
      "__________________________________________________________________________________________________\n",
      "activation_4 (Activation)       (None, 256)          0           dense_1[0][0]                    \n",
      "__________________________________________________________________________________________________\n",
      "dense_2 (Dense)                 (None, 256)          65792       activation_4[0][0]               \n",
      "__________________________________________________________________________________________________\n",
      "activation_5 (Activation)       (None, 256)          0           dense_2[0][0]                    \n",
      "__________________________________________________________________________________________________\n",
      "output (Dense)                  (None, 2)            514         activation_5[0][0]               \n",
      "__________________________________________________________________________________________________\n",
      "activation_6 (Activation)       (None, 2)            0           output[0][0]                     \n",
      "==================================================================================================\n",
      "Total params: 332,034\n",
      "Trainable params: 332,034\n",
      "Non-trainable params: 0\n",
      "__________________________________________________________________________________________________\n",
      "Epoch 1/500\n"
     ]
    },
    {
     "name": "stderr",
     "output_type": "stream",
     "text": [
      "2022-09-26 22:23:09.975803: I tensorflow/compiler/mlir/mlir_graph_optimization_pass.cc:116] None of the MLIR optimization passes are enabled (registered 2)\n",
      "2022-09-26 22:23:09.976379: I tensorflow/core/platform/profile_utils/cpu_utils.cc:112] CPU Frequency: 2994530000 Hz\n",
      "2022-09-26 22:23:10.374521: I tensorflow/stream_executor/platform/default/dso_loader.cc:49] Successfully opened dynamic library libcublas.so.10\n"
     ]
    },
    {
     "name": "stdout",
     "output_type": "stream",
     "text": [
      "192/192 [==============================] - 3s 13ms/step - loss: 40.0840 - acc: 0.7643 - val_loss: 0.2816 - val_acc: 0.9354\n",
      "Epoch 2/500\n",
      "192/192 [==============================] - 2s 10ms/step - loss: 0.5346 - acc: 0.9005 - val_loss: 0.2095 - val_acc: 0.9414\n",
      "Epoch 3/500\n",
      "192/192 [==============================] - 2s 10ms/step - loss: 0.2560 - acc: 0.9302 - val_loss: 0.8334 - val_acc: 0.8602\n",
      "Epoch 4/500\n",
      "192/192 [==============================] - 2s 10ms/step - loss: 0.3016 - acc: 0.9305 - val_loss: 0.1088 - val_acc: 0.9611\n",
      "Epoch 5/500\n",
      "192/192 [==============================] - 2s 10ms/step - loss: 0.1209 - acc: 0.9583 - val_loss: 0.2470 - val_acc: 0.9337\n",
      "Epoch 6/500\n",
      "192/192 [==============================] - 2s 10ms/step - loss: 0.1835 - acc: 0.9479 - val_loss: 0.0680 - val_acc: 0.9790\n",
      "Epoch 7/500\n",
      "192/192 [==============================] - 2s 10ms/step - loss: 0.0855 - acc: 0.9728 - val_loss: 0.0644 - val_acc: 0.9793\n",
      "Epoch 8/500\n",
      "192/192 [==============================] - 2s 10ms/step - loss: 0.0888 - acc: 0.9720 - val_loss: 0.0532 - val_acc: 0.9848\n",
      "Epoch 9/500\n",
      "192/192 [==============================] - 2s 10ms/step - loss: 0.0584 - acc: 0.9829 - val_loss: 0.0546 - val_acc: 0.9852\n",
      "Epoch 10/500\n",
      "192/192 [==============================] - 2s 10ms/step - loss: 0.1734 - acc: 0.9646 - val_loss: 0.3161 - val_acc: 0.9006\n",
      "Epoch 11/500\n",
      "192/192 [==============================] - 2s 10ms/step - loss: 0.1429 - acc: 0.9506 - val_loss: 0.1058 - val_acc: 0.9642\n",
      "Epoch 12/500\n",
      "192/192 [==============================] - 2s 10ms/step - loss: 0.0825 - acc: 0.9730 - val_loss: 0.0628 - val_acc: 0.9799\n",
      "Epoch 13/500\n",
      "192/192 [==============================] - 2s 10ms/step - loss: 0.1014 - acc: 0.9677 - val_loss: 0.0556 - val_acc: 0.9838\n",
      "\n",
      "Epoch 00013: ReduceLROnPlateau reducing learning rate to 0.000630957374449059.\n",
      "Epoch 14/500\n",
      "192/192 [==============================] - 2s 10ms/step - loss: 0.0513 - acc: 0.9867 - val_loss: 0.0510 - val_acc: 0.9903\n",
      "Epoch 15/500\n",
      "192/192 [==============================] - 2s 10ms/step - loss: 0.0446 - acc: 0.9886 - val_loss: 0.0398 - val_acc: 0.9889\n",
      "Epoch 16/500\n",
      "192/192 [==============================] - 2s 10ms/step - loss: 0.0385 - acc: 0.9905 - val_loss: 0.0356 - val_acc: 0.9907\n",
      "Epoch 17/500\n",
      "192/192 [==============================] - 2s 10ms/step - loss: 0.0345 - acc: 0.9915 - val_loss: 0.0377 - val_acc: 0.9890\n",
      "Epoch 18/500\n",
      "192/192 [==============================] - 2s 10ms/step - loss: 0.0324 - acc: 0.9921 - val_loss: 0.0298 - val_acc: 0.9925\n",
      "Epoch 19/500\n",
      "192/192 [==============================] - 2s 10ms/step - loss: 0.0329 - acc: 0.9922 - val_loss: 0.0357 - val_acc: 0.9888\n",
      "Epoch 20/500\n",
      "192/192 [==============================] - 2s 10ms/step - loss: 0.0285 - acc: 0.9933 - val_loss: 0.0278 - val_acc: 0.9924\n",
      "Epoch 21/500\n",
      "192/192 [==============================] - 2s 10ms/step - loss: 0.0261 - acc: 0.9938 - val_loss: 0.0296 - val_acc: 0.9910\n",
      "Epoch 22/500\n",
      "192/192 [==============================] - 2s 10ms/step - loss: 0.0265 - acc: 0.9934 - val_loss: 0.0808 - val_acc: 0.9731\n",
      "Epoch 23/500\n",
      "192/192 [==============================] - 2s 10ms/step - loss: 0.1132 - acc: 0.9673 - val_loss: 0.0424 - val_acc: 0.9908\n",
      "Epoch 24/500\n",
      "192/192 [==============================] - 2s 10ms/step - loss: 0.0389 - acc: 0.9906 - val_loss: 0.0310 - val_acc: 0.9952\n",
      "Epoch 25/500\n",
      "192/192 [==============================] - 2s 10ms/step - loss: 0.0284 - acc: 0.9934 - val_loss: 0.0251 - val_acc: 0.9952\n",
      "Epoch 26/500\n",
      "192/192 [==============================] - 2s 10ms/step - loss: 0.0253 - acc: 0.9938 - val_loss: 0.0419 - val_acc: 0.9911\n",
      "Epoch 27/500\n",
      "192/192 [==============================] - 2s 10ms/step - loss: 0.0243 - acc: 0.9940 - val_loss: 0.0389 - val_acc: 0.9879\n",
      "Epoch 28/500\n",
      "192/192 [==============================] - 2s 10ms/step - loss: 0.0283 - acc: 0.9928 - val_loss: 0.0191 - val_acc: 0.9963\n",
      "Epoch 29/500\n",
      "192/192 [==============================] - 2s 10ms/step - loss: 0.0492 - acc: 0.9872 - val_loss: 0.0347 - val_acc: 0.9898\n",
      "Epoch 30/500\n",
      "192/192 [==============================] - 2s 10ms/step - loss: 0.0279 - acc: 0.9931 - val_loss: 0.0251 - val_acc: 0.9956\n",
      "Epoch 31/500\n",
      "192/192 [==============================] - 2s 10ms/step - loss: 0.0316 - acc: 0.9911 - val_loss: 0.0172 - val_acc: 0.9957\n",
      "Epoch 32/500\n",
      "192/192 [==============================] - 2s 10ms/step - loss: 0.1377 - acc: 0.9769 - val_loss: 0.0695 - val_acc: 0.9786\n",
      "Epoch 33/500\n",
      "192/192 [==============================] - 2s 10ms/step - loss: 0.0622 - acc: 0.9813 - val_loss: 0.0446 - val_acc: 0.9921\n",
      "Epoch 34/500\n",
      "192/192 [==============================] - 2s 10ms/step - loss: 0.0375 - acc: 0.9908 - val_loss: 0.0310 - val_acc: 0.9916\n",
      "Epoch 35/500\n",
      "192/192 [==============================] - 2s 10ms/step - loss: 0.0291 - acc: 0.9930 - val_loss: 0.0273 - val_acc: 0.9947\n",
      "Epoch 36/500\n",
      "192/192 [==============================] - 2s 10ms/step - loss: 0.0277 - acc: 0.9935 - val_loss: 0.0223 - val_acc: 0.9956\n",
      "\n",
      "Epoch 00036: ReduceLROnPlateau reducing learning rate to 0.0003981071838171537.\n",
      "Epoch 37/500\n",
      "192/192 [==============================] - 2s 10ms/step - loss: 0.0190 - acc: 0.9958 - val_loss: 0.0183 - val_acc: 0.9961\n",
      "Epoch 38/500\n",
      "192/192 [==============================] - 2s 10ms/step - loss: 0.0169 - acc: 0.9962 - val_loss: 0.0221 - val_acc: 0.9941\n",
      "Epoch 39/500\n",
      "192/192 [==============================] - 2s 10ms/step - loss: 0.0181 - acc: 0.9958 - val_loss: 0.0167 - val_acc: 0.9965\n",
      "Epoch 40/500\n",
      "192/192 [==============================] - 2s 10ms/step - loss: 0.0166 - acc: 0.9960 - val_loss: 0.0161 - val_acc: 0.9961\n",
      "Epoch 41/500\n",
      "192/192 [==============================] - 2s 10ms/step - loss: 0.0150 - acc: 0.9966 - val_loss: 0.0194 - val_acc: 0.9976\n",
      "Epoch 42/500\n",
      "192/192 [==============================] - 2s 10ms/step - loss: 0.0163 - acc: 0.9961 - val_loss: 0.0148 - val_acc: 0.9972\n",
      "Epoch 43/500\n",
      "192/192 [==============================] - 2s 10ms/step - loss: 0.0134 - acc: 0.9969 - val_loss: 0.0183 - val_acc: 0.9951\n",
      "Epoch 44/500\n",
      "192/192 [==============================] - 2s 10ms/step - loss: 0.0170 - acc: 0.9958 - val_loss: 0.0131 - val_acc: 0.9980\n",
      "Epoch 45/500\n",
      "192/192 [==============================] - 2s 10ms/step - loss: 0.0121 - acc: 0.9971 - val_loss: 0.0294 - val_acc: 0.9947\n",
      "Epoch 46/500\n",
      "192/192 [==============================] - 2s 10ms/step - loss: 0.0147 - acc: 0.9968 - val_loss: 0.0129 - val_acc: 0.9975\n",
      "Epoch 47/500\n",
      "192/192 [==============================] - 2s 10ms/step - loss: 0.0094 - acc: 0.9979 - val_loss: 0.0149 - val_acc: 0.9966\n",
      "Epoch 48/500\n",
      "192/192 [==============================] - 2s 10ms/step - loss: 0.0097 - acc: 0.9980 - val_loss: 0.0402 - val_acc: 0.9887\n",
      "Epoch 49/500\n",
      "192/192 [==============================] - 2s 10ms/step - loss: 0.0338 - acc: 0.9905 - val_loss: 0.0174 - val_acc: 0.9965\n",
      "Epoch 50/500\n",
      "192/192 [==============================] - 2s 10ms/step - loss: 0.0123 - acc: 0.9974 - val_loss: 0.0143 - val_acc: 0.9977\n",
      "Epoch 51/500\n",
      "192/192 [==============================] - 2s 10ms/step - loss: 0.0092 - acc: 0.9981 - val_loss: 0.0188 - val_acc: 0.9955\n",
      "\n",
      "Epoch 00051: ReduceLROnPlateau reducing learning rate to 0.0002511886574257803.\n",
      "Epoch 52/500\n",
      "192/192 [==============================] - 2s 10ms/step - loss: 0.0076 - acc: 0.9982 - val_loss: 0.0087 - val_acc: 0.9979\n",
      "Epoch 53/500\n",
      "192/192 [==============================] - 2s 10ms/step - loss: 0.0054 - acc: 0.9989 - val_loss: 0.0081 - val_acc: 0.9983\n",
      "Epoch 54/500\n",
      "192/192 [==============================] - 2s 10ms/step - loss: 0.0048 - acc: 0.9990 - val_loss: 0.0108 - val_acc: 0.9977\n",
      "Epoch 55/500\n",
      "192/192 [==============================] - 2s 10ms/step - loss: 0.0047 - acc: 0.9990 - val_loss: 0.0073 - val_acc: 0.9983\n",
      "Epoch 56/500\n",
      "192/192 [==============================] - 2s 10ms/step - loss: 0.0415 - acc: 0.9910 - val_loss: 0.0212 - val_acc: 0.9967\n",
      "Epoch 57/500\n",
      "192/192 [==============================] - 2s 10ms/step - loss: 0.0154 - acc: 0.9966 - val_loss: 0.0129 - val_acc: 0.9969\n",
      "Epoch 58/500\n",
      "192/192 [==============================] - 2s 10ms/step - loss: 0.0100 - acc: 0.9977 - val_loss: 0.0122 - val_acc: 0.9974\n",
      "Epoch 59/500\n",
      "192/192 [==============================] - 2s 10ms/step - loss: 0.0079 - acc: 0.9983 - val_loss: 0.0112 - val_acc: 0.9972\n",
      "Epoch 60/500\n"
     ]
    },
    {
     "name": "stdout",
     "output_type": "stream",
     "text": [
      "192/192 [==============================] - 2s 10ms/step - loss: 0.0073 - acc: 0.9984 - val_loss: 0.0097 - val_acc: 0.9976\n",
      "\n",
      "Epoch 00060: ReduceLROnPlateau reducing learning rate to 0.00015848933651346973.\n",
      "Epoch 61/500\n",
      "192/192 [==============================] - 2s 10ms/step - loss: 0.0051 - acc: 0.9989 - val_loss: 0.0075 - val_acc: 0.9985\n",
      "Epoch 62/500\n",
      "192/192 [==============================] - 2s 10ms/step - loss: 0.0043 - acc: 0.9991 - val_loss: 0.0073 - val_acc: 0.9984\n",
      "Epoch 63/500\n",
      "192/192 [==============================] - 2s 10ms/step - loss: 0.0037 - acc: 0.9992 - val_loss: 0.0110 - val_acc: 0.9977\n",
      "Epoch 64/500\n",
      "192/192 [==============================] - 2s 10ms/step - loss: 0.0044 - acc: 0.9990 - val_loss: 0.0086 - val_acc: 0.9985\n",
      "Epoch 65/500\n",
      "192/192 [==============================] - 2s 10ms/step - loss: 0.0038 - acc: 0.9991 - val_loss: 0.0092 - val_acc: 0.9978\n",
      "\n",
      "Epoch 00065: ReduceLROnPlateau reducing learning rate to 0.00010000000838432616.\n",
      "Epoch 66/500\n",
      "192/192 [==============================] - 2s 10ms/step - loss: 0.0027 - acc: 0.9993 - val_loss: 0.0061 - val_acc: 0.9985\n",
      "Epoch 67/500\n",
      "192/192 [==============================] - 2s 10ms/step - loss: 0.0026 - acc: 0.9995 - val_loss: 0.0063 - val_acc: 0.9985\n",
      "Epoch 68/500\n",
      "192/192 [==============================] - 2s 10ms/step - loss: 0.0025 - acc: 0.9995 - val_loss: 0.0059 - val_acc: 0.9986\n",
      "Epoch 69/500\n",
      "192/192 [==============================] - 2s 10ms/step - loss: 0.0022 - acc: 0.9995 - val_loss: 0.0086 - val_acc: 0.9982\n",
      "Epoch 70/500\n",
      "192/192 [==============================] - 2s 10ms/step - loss: 0.0022 - acc: 0.9995 - val_loss: 0.0059 - val_acc: 0.9988\n",
      "Epoch 71/500\n",
      "192/192 [==============================] - 2s 10ms/step - loss: 0.0021 - acc: 0.9995 - val_loss: 0.0061 - val_acc: 0.9987\n",
      "Epoch 72/500\n",
      "192/192 [==============================] - 2s 11ms/step - loss: 0.0016 - acc: 0.9996 - val_loss: 0.0059 - val_acc: 0.9987\n",
      "Epoch 73/500\n",
      "192/192 [==============================] - 2s 10ms/step - loss: 0.0018 - acc: 0.9997 - val_loss: 0.0069 - val_acc: 0.9985\n",
      "\n",
      "Epoch 00073: ReduceLROnPlateau reducing learning rate to 6.30957374449059e-05.\n",
      "Epoch 74/500\n",
      "192/192 [==============================] - 2s 10ms/step - loss: 0.0015 - acc: 0.9997 - val_loss: 0.0074 - val_acc: 0.9983\n",
      "Epoch 75/500\n",
      "192/192 [==============================] - 2s 10ms/step - loss: 0.0013 - acc: 0.9998 - val_loss: 0.0073 - val_acc: 0.9984\n",
      "Epoch 76/500\n",
      "192/192 [==============================] - 2s 10ms/step - loss: 9.8588e-04 - acc: 0.9998 - val_loss: 0.0066 - val_acc: 0.9985\n",
      "Epoch 77/500\n",
      "192/192 [==============================] - 2s 10ms/step - loss: 9.0035e-04 - acc: 0.9998 - val_loss: 0.0061 - val_acc: 0.9986\n",
      "Epoch 78/500\n",
      "192/192 [==============================] - 2s 10ms/step - loss: 0.0011 - acc: 0.9998 - val_loss: 0.0081 - val_acc: 0.9985\n",
      "\n",
      "Epoch 00078: ReduceLROnPlateau reducing learning rate to 3.981071838171537e-05.\n",
      "Epoch 79/500\n",
      "192/192 [==============================] - 2s 10ms/step - loss: 9.7137e-04 - acc: 0.9998 - val_loss: 0.0055 - val_acc: 0.9988\n",
      "Epoch 80/500\n",
      "192/192 [==============================] - 2s 10ms/step - loss: 7.2930e-04 - acc: 0.9999 - val_loss: 0.0061 - val_acc: 0.9986\n",
      "Epoch 81/500\n",
      "192/192 [==============================] - 2s 10ms/step - loss: 7.1554e-04 - acc: 0.9999 - val_loss: 0.0058 - val_acc: 0.9987\n",
      "Epoch 82/500\n",
      "192/192 [==============================] - 2s 10ms/step - loss: 5.8288e-04 - acc: 0.9999 - val_loss: 0.0067 - val_acc: 0.9986\n",
      "Epoch 83/500\n",
      "192/192 [==============================] - 2s 10ms/step - loss: 8.4095e-04 - acc: 0.9998 - val_loss: 0.0069 - val_acc: 0.9985\n",
      "Epoch 84/500\n",
      "192/192 [==============================] - 2s 10ms/step - loss: 6.7579e-04 - acc: 0.9999 - val_loss: 0.0084 - val_acc: 0.9982\n",
      "\n",
      "Epoch 00084: ReduceLROnPlateau reducing learning rate to 2.5118865283496142e-05.\n",
      "Epoch 85/500\n",
      "192/192 [==============================] - 2s 10ms/step - loss: 6.2487e-04 - acc: 0.9999 - val_loss: 0.0054 - val_acc: 0.9988\n",
      "Epoch 86/500\n",
      "192/192 [==============================] - 2s 10ms/step - loss: 5.7952e-04 - acc: 0.9999 - val_loss: 0.0058 - val_acc: 0.9987\n",
      "Epoch 87/500\n",
      "192/192 [==============================] - 2s 10ms/step - loss: 4.7918e-04 - acc: 0.9999 - val_loss: 0.0052 - val_acc: 0.9988\n",
      "Epoch 88/500\n",
      "192/192 [==============================] - 2s 10ms/step - loss: 4.8242e-04 - acc: 0.9999 - val_loss: 0.0057 - val_acc: 0.9987\n",
      "Epoch 89/500\n",
      "192/192 [==============================] - 2s 10ms/step - loss: 4.0878e-04 - acc: 0.9999 - val_loss: 0.0061 - val_acc: 0.9986\n",
      "Epoch 90/500\n",
      "192/192 [==============================] - 2s 10ms/step - loss: 4.1046e-04 - acc: 1.0000 - val_loss: 0.0075 - val_acc: 0.9985\n",
      "Epoch 91/500\n",
      "192/192 [==============================] - 2s 10ms/step - loss: 3.4528e-04 - acc: 1.0000 - val_loss: 0.0056 - val_acc: 0.9987\n",
      "Epoch 92/500\n",
      "192/192 [==============================] - 2s 10ms/step - loss: 4.9599e-04 - acc: 0.9999 - val_loss: 0.0066 - val_acc: 0.9986\n",
      "\n",
      "Epoch 00092: ReduceLROnPlateau reducing learning rate to 1.5848932274101303e-05.\n",
      "Epoch 93/500\n",
      "192/192 [==============================] - 2s 10ms/step - loss: 3.8425e-04 - acc: 1.0000 - val_loss: 0.0060 - val_acc: 0.9987\n",
      "Epoch 94/500\n",
      "192/192 [==============================] - 2s 10ms/step - loss: 2.9653e-04 - acc: 1.0000 - val_loss: 0.0054 - val_acc: 0.9988\n",
      "Epoch 95/500\n",
      "192/192 [==============================] - 2s 10ms/step - loss: 3.0975e-04 - acc: 1.0000 - val_loss: 0.0058 - val_acc: 0.9987\n",
      "Epoch 96/500\n",
      "192/192 [==============================] - 2s 10ms/step - loss: 3.3131e-04 - acc: 1.0000 - val_loss: 0.0079 - val_acc: 0.9983\n",
      "Epoch 97/500\n",
      "192/192 [==============================] - 2s 10ms/step - loss: 3.9012e-04 - acc: 0.9999 - val_loss: 0.0064 - val_acc: 0.9987\n",
      "\n",
      "Epoch 00097: ReduceLROnPlateau reducing learning rate to 1.0000000608891671e-05.\n",
      "Epoch 98/500\n",
      "192/192 [==============================] - 2s 10ms/step - loss: 2.0764e-04 - acc: 1.0000 - val_loss: 0.0052 - val_acc: 0.9989\n",
      "Epoch 99/500\n",
      "192/192 [==============================] - 2s 10ms/step - loss: 2.3390e-04 - acc: 1.0000 - val_loss: 0.0066 - val_acc: 0.9986\n",
      "Epoch 100/500\n",
      "192/192 [==============================] - 2s 10ms/step - loss: 1.8922e-04 - acc: 1.0000 - val_loss: 0.0055 - val_acc: 0.9987\n",
      "Epoch 101/500\n",
      "192/192 [==============================] - 2s 10ms/step - loss: 2.3277e-04 - acc: 1.0000 - val_loss: 0.0062 - val_acc: 0.9987\n",
      "Epoch 102/500\n",
      "192/192 [==============================] - 2s 10ms/step - loss: 1.9375e-04 - acc: 1.0000 - val_loss: 0.0056 - val_acc: 0.9988\n",
      "\n",
      "Epoch 00102: ReduceLROnPlateau reducing learning rate to 1e-05.\n",
      "Epoch 103/500\n",
      "192/192 [==============================] - 2s 10ms/step - loss: 1.5470e-04 - acc: 1.0000 - val_loss: 0.0045 - val_acc: 0.9990\n",
      "Epoch 104/500\n",
      "192/192 [==============================] - 2s 10ms/step - loss: 2.4098e-04 - acc: 1.0000 - val_loss: 0.0058 - val_acc: 0.9988\n",
      "Epoch 105/500\n",
      "192/192 [==============================] - 2s 10ms/step - loss: 1.7808e-04 - acc: 1.0000 - val_loss: 0.0056 - val_acc: 0.9988\n",
      "Epoch 106/500\n",
      "192/192 [==============================] - 2s 10ms/step - loss: 2.1535e-04 - acc: 1.0000 - val_loss: 0.0066 - val_acc: 0.9986\n",
      "Epoch 107/500\n",
      "192/192 [==============================] - 2s 10ms/step - loss: 1.6480e-04 - acc: 1.0000 - val_loss: 0.0058 - val_acc: 0.9988\n",
      "Epoch 108/500\n",
      "192/192 [==============================] - 2s 10ms/step - loss: 1.5681e-04 - acc: 1.0000 - val_loss: 0.0056 - val_acc: 0.9988\n",
      "Epoch 109/500\n",
      "192/192 [==============================] - 2s 10ms/step - loss: 1.3160e-04 - acc: 1.0000 - val_loss: 0.0058 - val_acc: 0.9988\n",
      "Epoch 110/500\n",
      "192/192 [==============================] - 2s 10ms/step - loss: 1.3611e-04 - acc: 1.0000 - val_loss: 0.0062 - val_acc: 0.9987\n",
      "Epoch 111/500\n",
      "192/192 [==============================] - 2s 10ms/step - loss: 1.3314e-04 - acc: 1.0000 - val_loss: 0.0057 - val_acc: 0.9988\n",
      "Epoch 112/500\n",
      "192/192 [==============================] - 2s 10ms/step - loss: 1.1970e-04 - acc: 1.0000 - val_loss: 0.0059 - val_acc: 0.9988\n",
      "Epoch 113/500\n",
      "192/192 [==============================] - 2s 10ms/step - loss: 1.1944e-04 - acc: 1.0000 - val_loss: 0.0050 - val_acc: 0.9990\n",
      "Epoch 114/500\n",
      "192/192 [==============================] - 2s 10ms/step - loss: 1.3191e-04 - acc: 1.0000 - val_loss: 0.0059 - val_acc: 0.9988\n"
     ]
    },
    {
     "name": "stdout",
     "output_type": "stream",
     "text": [
      "Epoch 115/500\n",
      "192/192 [==============================] - 2s 10ms/step - loss: 1.1781e-04 - acc: 1.0000 - val_loss: 0.0063 - val_acc: 0.9987\n",
      "Epoch 116/500\n",
      "192/192 [==============================] - 2s 10ms/step - loss: 1.0839e-04 - acc: 1.0000 - val_loss: 0.0064 - val_acc: 0.9988\n",
      "Epoch 117/500\n",
      "192/192 [==============================] - 2s 10ms/step - loss: 1.0031e-04 - acc: 1.0000 - val_loss: 0.0068 - val_acc: 0.9987\n",
      "Epoch 118/500\n",
      "192/192 [==============================] - 2s 10ms/step - loss: 9.7228e-05 - acc: 1.0000 - val_loss: 0.0063 - val_acc: 0.9987\n",
      "Epoch 119/500\n",
      "192/192 [==============================] - 2s 10ms/step - loss: 8.9581e-05 - acc: 1.0000 - val_loss: 0.0069 - val_acc: 0.9986\n",
      "Epoch 120/500\n",
      "192/192 [==============================] - 2s 10ms/step - loss: 9.3496e-05 - acc: 1.0000 - val_loss: 0.0056 - val_acc: 0.9988\n",
      "Epoch 121/500\n",
      "192/192 [==============================] - 2s 10ms/step - loss: 8.9004e-05 - acc: 1.0000 - val_loss: 0.0057 - val_acc: 0.9988\n",
      "Epoch 122/500\n",
      "192/192 [==============================] - 2s 10ms/step - loss: 8.5436e-05 - acc: 1.0000 - val_loss: 0.0059 - val_acc: 0.9988\n",
      "Epoch 123/500\n",
      "192/192 [==============================] - 2s 10ms/step - loss: 7.7496e-05 - acc: 1.0000 - val_loss: 0.0059 - val_acc: 0.9988\n",
      "Epoch 00123: early stopping\n"
     ]
    }
   ],
   "source": [
    "pfn_original, hist1, original_training_data = train_pfn_with_muon(\n",
    "    signal_1.reshape([-1,150]), signal_2.reshape([-1,150]), signal_1_muon, signal_2_muon)"
   ]
  },
  {
   "cell_type": "code",
   "execution_count": 10,
   "id": "6b603f03",
   "metadata": {},
   "outputs": [
    {
     "name": "stdout",
     "output_type": "stream",
     "text": [
      "\n",
      "PFN AUC: 0.999712465860739\n",
      "\n"
     ]
    },
    {
     "name": "stderr",
     "output_type": "stream",
     "text": [
      "/global/home/users/yifengh3/VAE/EMD_VAE/PFN/pfn_utils.py:147: RuntimeWarning: divide by zero encountered in true_divide\n",
      "  plt.plot(pfn_tp, 1/pfn_fp, '-', color='black', label='PFN')\n",
      "/global/home/users/yifengh3/VAE/EMD_VAE/PFN/pfn_utils.py:148: RuntimeWarning: divide by zero encountered in true_divide\n",
      "  plt.plot(pfn_tp, 1/pfn_tp, '-', color='red', label='random')\n"
     ]
    },
    {
     "data": {
      "image/png": "[encoded data removed]",
      "text/plain": [
       "<Figure size 432x288 with 1 Axes>"
      ]
     },
     "metadata": {
      "needs_background": "light"
     },
     "output_type": "display_data"
    },
    {
     "data": {
      "image/png": "[encoded data removed]",
      "text/plain": [
       "<Figure size 288x288 with 1 Axes>"
      ]
     },
     "metadata": {
      "needs_background": "light"
     },
     "output_type": "display_data"
    }
   ],
   "source": [
    "analysis(pfn_original,original_training_data[1][2], original_training_data[1][-1])"
   ]
  },
  {
   "cell_type": "markdown",
   "id": "f2440c5c",
   "metadata": {},
   "source": [
    "# Test of recon data"
   ]
  },
  {
   "cell_type": "code",
   "execution_count": 11,
   "id": "4ac98f72",
   "metadata": {},
   "outputs": [
    {
     "name": "stdout",
     "output_type": "stream",
     "text": [
      "[-1.1428572 -1.8571428 -2.5714285 -3.2857144]\n"
     ]
    }
   ],
   "source": [
    "log_betas = raw_b_signals[\"beta\"]\n",
    "beta_idx = np.logical_and(log_betas<-1, log_betas>-4)\n",
    "new_betas = log_betas[beta_idx]\n",
    "new_betas = new_betas[::5]\n",
    "print(new_betas)\n",
    "signal_1_recons = raw_b_signals[\"recon\"][beta_idx][::5]\n",
    "signal_2_recons = raw_hv_signals[\"recon\"][beta_idx][::5]"
   ]
  },
  {
   "cell_type": "code",
   "execution_count": null,
   "id": "b462b7ae",
   "metadata": {},
   "outputs": [],
   "source": [
    "result = []\n",
    "for signal_1, signal_2 in zip(signal_1_recons,signal_2_recons):\n",
    "    result.append(train_pfn_with_muon(signal_1, signal_2))"
   ]
  }
 ],
 "metadata": {
  "kernelspec": {
   "display_name": "Python 3 (ipykernel)",
   "language": "python",
   "name": "python3"
  },
  "language_info": {
   "codemirror_mode": {
    "name": "ipython",
    "version": 3
   },
   "file_extension": ".py",
   "mimetype": "text/x-python",
   "name": "python",
   "nbconvert_exporter": "python",
   "pygments_lexer": "ipython3",
   "version": "3.8.13"
  }
 },
 "nbformat": 4,
 "nbformat_minor": 5
}
