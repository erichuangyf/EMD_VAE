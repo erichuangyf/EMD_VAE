{
 "cells": [
  {
   "cell_type": "code",
   "execution_count": 1,
   "id": "0be4ea67",
   "metadata": {},
   "outputs": [],
   "source": [
    "input_dir = \"recon_plots/mle_predict_no_anneal\""
   ]
  },
  {
   "cell_type": "code",
   "execution_count": 2,
   "id": "ece7e8c2",
   "metadata": {},
   "outputs": [],
   "source": [
    "import imageio\n",
    "from tqdm import tqdm"
   ]
  },
  {
   "cell_type": "code",
   "execution_count": 3,
   "id": "b4b0e187",
   "metadata": {},
   "outputs": [],
   "source": [
    "import glob\n",
    "import os\n",
    "from PIL import Image\n",
    "from tqdm import tqdm"
   ]
  },
  {
   "cell_type": "code",
   "execution_count": 4,
   "id": "4b77900c",
   "metadata": {},
   "outputs": [],
   "source": [
    "plots_dirs = glob.glob(input_dir+\"/*\")"
   ]
  },
  {
   "cell_type": "code",
   "execution_count": 5,
   "id": "6e954db2",
   "metadata": {},
   "outputs": [
    {
     "name": "stderr",
     "output_type": "stream",
     "text": [
      "/tmp/ipykernel_16376/268586425.py:4: DeprecationWarning: Starting with ImageIO v3 the behavior of this function will switch to that of iio.v3.imread. To keep the current behavior (and make this warning dissapear) use `import imageio.v2 as imageio` or call `imageio.v2.imread` directly.\n",
      "  images.append(imageio.imread(filename))\n"
     ]
    }
   ],
   "source": [
    "for plot_dir in tqdm(plots_dirs):\n",
    "    images = []\n",
    "    for filename in glob.glob(plot_dir+\"/*.png\"):\n",
    "        images.append(imageio.imread(filename))\n",
    "    imageio.mimsave(os.path.join(plot_dir,\"animation.gif\"), images)"
   ]
  },
  {
   "cell_type": "code",
   "execution_count": null,
   "id": "c8af952e",
   "metadata": {},
   "outputs": [],
   "source": []
  }
 ],
 "metadata": {
  "kernelspec": {
   "display_name": "Python 3 (ipykernel)",
   "language": "python",
   "name": "python3"
  },
  "language_info": {
   "codemirror_mode": {
    "name": "ipython",
    "version": 3
   },
   "file_extension": ".py",
   "mimetype": "text/x-python",
   "name": "python",
   "nbconvert_exporter": "python",
   "pygments_lexer": "ipython3",
   "version": "3.8.13"
  }
 },
 "nbformat": 4,
 "nbformat_minor": 5
}
