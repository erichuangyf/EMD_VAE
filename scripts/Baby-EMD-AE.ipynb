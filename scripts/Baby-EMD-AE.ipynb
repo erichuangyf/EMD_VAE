{
 "cells": [
  {
   "cell_type": "code",
   "execution_count": 1,
   "metadata": {},
   "outputs": [
    {
     "name": "stderr",
     "output_type": "stream",
     "text": [
      "Using TensorFlow backend.\n"
     ]
    }
   ],
   "source": [
    "import keras\n",
    "from keras import backend as K\n",
    "import tensorflow as tf\n",
    "config = tf.ConfigProto()\n",
    "config.gpu_options.allow_growth = True\n",
    "sess = tf.Session(config=config)\n",
    "\n",
    "from keras.layers import Input, Dense, Activation\n",
    "from keras.layers import Conv2D, MaxPooling2D, UpSampling2D\n",
    "from keras.layers import Flatten, Reshape, Lambda\n",
    "from keras.utils import plot_model\n",
    "from keras import Model\n",
    "\n",
    "import os\n",
    "import os.path as osp\n",
    "import sys\n",
    "sys.path.append('/home/jcollins')\n",
    "\n",
    "import ot\n",
    "import numpy as np"
   ]
  },
  {
   "cell_type": "markdown",
   "metadata": {},
   "source": [
    "#### Define NN"
   ]
  },
  {
   "cell_type": "code",
   "execution_count": 13,
   "metadata": {
    "scrolled": false
   },
   "outputs": [],
   "source": [
    "numpoints = 10\n",
    "\n",
    "def plan_python(Ms):\n",
    "    result=[ot.emd(np.ones(len(M[0])),np.ones(len(M[1])),M) for M in Ms]\n",
    "    return np.array(result,dtype=np.float32)\n",
    "\n",
    "def myground_dist_func(a_positions, b_positions,numpoints=3):\n",
    "    tiled_b = tf.tile(b_positions,[1,numpoints,1])\n",
    "    repeated_a = tf.reshape(a_positions, [-1,numpoints,1,2])    # Convert to a len(yp) x 1 matrix.\n",
    "    repeated_a = tf.tile(repeated_a, [1,1,numpoints,1])  # Create multiple columns.\n",
    "    repeated_a = tf.reshape(repeated_a, [-1,numpoints*numpoints,2])  \n",
    "\n",
    "    ground_dist = tf.norm(repeated_a-tiled_b,axis=-1)\n",
    "    ground_dist = tf.reshape(ground_dist,[-1,numpoints,numpoints])\n",
    "    \n",
    "    return ground_dist\n",
    "\n",
    "def create_emd_loss(numpoints):\n",
    "    \n",
    "    def emd_loss(y_true, y_pred):\n",
    "        ground_dist_tensor = myground_dist_func(y_true, y_pred,numpoints=numpoints)\n",
    "        plan_tensor = tf.py_func(func=plan_python, inp=[ground_dist_tensor],Tout=tf.float32)\n",
    "        my_calc_loss_tensor = tf.linalg.trace(tf.matmul(ground_dist_tensor,tf.transpose(plan_tensor, perm=[0,2,1])))\n",
    "        return my_calc_loss_tensor\n",
    "    \n",
    "    return emd_loss\n",
    "\n",
    "inputs = Input(batch_shape=(None,numpoints,2),name='encoder_0_input')\n",
    "layer = Reshape((numpoints*2,),name='encoder_1_reshape')(inputs)\n",
    "layer = Dense(20,activation='relu',name='encoder_2_dense')(layer)\n",
    "latent = Dense(10,activation='relu',name='latent')(layer)\n",
    "layer = Dense(20,activation='relu',name='decoder_1_dense')(latent)\n",
    "layer = Dense(numpoints*2,activation='relu',name='decoder_2_dense')(layer)\n",
    "output = Reshape((numpoints, 2),name='decoder_3_reshape')(layer)\n",
    "\n",
    "model = Model(inputs, output)\n",
    "\n",
    "\n",
    "model.compile(loss=create_emd_loss(numpoints) , optimizer=keras.optimizers.Adam())"
   ]
  },
  {
   "cell_type": "markdown",
   "metadata": {},
   "source": [
    "#### Before training"
   ]
  },
  {
   "cell_type": "code",
   "execution_count": 14,
   "metadata": {},
   "outputs": [
    {
     "name": "stdout",
     "output_type": "stream",
     "text": [
      "1/1 [==============================] - 0s 63ms/step\n",
      "Input:\n",
      " [[[0.32428188 0.2179219 ]\n",
      "  [0.78628233 0.31047642]\n",
      "  [0.38002429 0.81332314]\n",
      "  [0.45056699 0.68212896]\n",
      "  [0.52725623 0.05088297]\n",
      "  [0.69765567 0.46895866]\n",
      "  [0.51589004 0.77805182]\n",
      "  [0.06194304 0.04234782]\n",
      "  [0.49944744 0.61550296]\n",
      "  [0.11565807 0.42962206]]]\n",
      "\n",
      "Ouput:\n",
      " [[[0.06958116 0.        ]\n",
      "  [0.         0.        ]\n",
      "  [0.         0.        ]\n",
      "  [0.05484366 0.06156513]\n",
      "  [0.         0.13032712]\n",
      "  [0.03672989 0.        ]\n",
      "  [0.         0.        ]\n",
      "  [0.         0.10176778]\n",
      "  [0.08615629 0.        ]\n",
      "  [0.         0.00369972]]]\n"
     ]
    }
   ],
   "source": [
    "y_true = np.random.rand(1,10,2)\n",
    "y_pred = model.predict(y_true)\n",
    "model.evaluate(y_true,y_true)\n",
    "print(\"Input:\\n\", y_true)\n",
    "print(\"\\nOuput:\\n\", y_pred)"
   ]
  },
  {
   "cell_type": "markdown",
   "metadata": {},
   "source": [
    "#### Train"
   ]
  },
  {
   "cell_type": "code",
   "execution_count": 15,
   "metadata": {},
   "outputs": [
    {
     "name": "stdout",
     "output_type": "stream",
     "text": [
      "Epoch 1/10\n",
      "10000/10000 [==============================] - 3s 268us/step - loss: 2.6180\n",
      "Epoch 2/10\n",
      "10000/10000 [==============================] - 2s 242us/step - loss: 2.0113\n",
      "Epoch 3/10\n",
      "10000/10000 [==============================] - 2s 244us/step - loss: 1.9681\n",
      "Epoch 4/10\n",
      "10000/10000 [==============================] - 2s 241us/step - loss: 1.9562\n",
      "Epoch 5/10\n",
      "10000/10000 [==============================] - 2s 243us/step - loss: 1.9466\n",
      "Epoch 6/10\n",
      "10000/10000 [==============================] - 2s 244us/step - loss: 1.9400\n",
      "Epoch 7/10\n",
      "10000/10000 [==============================] - 2s 245us/step - loss: 1.9355\n",
      "Epoch 8/10\n",
      "10000/10000 [==============================] - 2s 244us/step - loss: 1.9306\n",
      "Epoch 9/10\n",
      "10000/10000 [==============================] - 2s 242us/step - loss: 1.9280\n",
      "Epoch 10/10\n",
      "10000/10000 [==============================] - 2s 242us/step - loss: 1.9268\n"
     ]
    },
    {
     "data": {
      "text/plain": [
       "<keras.callbacks.History at 0x7f49a47056d8>"
      ]
     },
     "execution_count": 15,
     "metadata": {},
     "output_type": "execute_result"
    }
   ],
   "source": [
    "y_true = np.random.rand(10000,10,2)\n",
    "model.fit(y_true,y_true,epochs=10)"
   ]
  },
  {
   "cell_type": "markdown",
   "metadata": {},
   "source": [
    "#### After training"
   ]
  },
  {
   "cell_type": "code",
   "execution_count": 16,
   "metadata": {},
   "outputs": [
    {
     "name": "stdout",
     "output_type": "stream",
     "text": [
      "Input:\n",
      " [[[0.08020526 0.73851116]\n",
      "  [0.51485739 0.46720266]\n",
      "  [0.35596592 0.72512363]\n",
      "  [0.56238889 0.88581388]\n",
      "  [0.63692942 0.9095551 ]\n",
      "  [0.47752342 0.90601615]\n",
      "  [0.72394758 0.26987862]\n",
      "  [0.23626585 0.88773468]\n",
      "  [0.81808181 0.44447507]\n",
      "  [0.69268159 0.73864892]]]\n",
      "\n",
      "Ouput:\n",
      " [[[0.80697715 0.35397422]\n",
      "  [0.         0.        ]\n",
      "  [0.         0.7336159 ]\n",
      "  [0.8368896  0.9302227 ]\n",
      "  [0.47217798 0.7486334 ]\n",
      "  [0.49820584 0.3995404 ]\n",
      "  [0.         0.9501151 ]\n",
      "  [0.6346078  0.9214463 ]\n",
      "  [0.7424135  0.71212643]\n",
      "  [0.37867773 0.9448007 ]]]\n"
     ]
    }
   ],
   "source": [
    "y_true = np.random.rand(1,10,2)\n",
    "y_pred = model.predict(y_true)\n",
    "print(\"Input:\\n\", y_true)\n",
    "print(\"\\nOuput:\\n\", y_pred)"
   ]
  }
 ],
 "metadata": {
  "kernelspec": {
   "display_name": "EMD-VAE_python3",
   "language": "python",
   "name": "emd-vae_python3"
  },
  "language_info": {
   "codemirror_mode": {
    "name": "ipython",
    "version": 3
   },
   "file_extension": ".py",
   "mimetype": "text/x-python",
   "name": "python",
   "nbconvert_exporter": "python",
   "pygments_lexer": "ipython3",
   "version": "3.5.2"
  }
 },
 "nbformat": 4,
 "nbformat_minor": 2
}
