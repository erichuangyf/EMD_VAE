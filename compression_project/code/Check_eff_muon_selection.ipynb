{
 "cells": [
  {
   "cell_type": "code",
   "execution_count": 2,
   "metadata": {},
   "outputs": [],
   "source": [
    "import numpy as np\n",
    "#from scipy import linalg as LA\n",
    "\n",
    "import matplotlib\n",
    "import matplotlib.pyplot as plt\n",
    "\n",
    "import pandas as pd\n",
    "import matplotlib.pyplot as plt\n",
    "\n",
    "import h5py\n",
    "import pickle\n",
    "\n",
    "\n",
    "import fastjet as fj\n",
    "import Nsubjettiness as Nsub\n",
    "import numpy as np\n",
    "import pandas as pd\n",
    "\n",
    "import glob as glob\n",
    "import time"
   ]
  },
  {
   "cell_type": "code",
   "execution_count": 2,
   "metadata": {},
   "outputs": [],
   "source": [
    "fn = '/home/jack/projects/EMD_VAE/compression_project/data/B_signal/B_signal_1_1_1_old.dat'\n",
    "data = np.loadtxt(fn)"
   ]
  },
  {
   "cell_type": "code",
   "execution_count": 15,
   "metadata": {},
   "outputs": [],
   "source": [
    "events = [data[data[:,0] == i] for i in range(1000)]"
   ]
  },
  {
   "cell_type": "code",
   "execution_count": 36,
   "metadata": {},
   "outputs": [
    {
     "name": "stdout",
     "output_type": "stream",
     "text": [
      "0.007\n"
     ]
    }
   ],
   "source": [
    "numpass=0\n",
    "maxminpT = []\n",
    "\n",
    "for event in events:\n",
    "    PIDs = event[:,1]\n",
    "    pTs = event[:,2]\n",
    "    eta = event[:,3]\n",
    "    ismuon = np.logical_and(PIDs == 13,np.abs(eta) < 2.5)\n",
    "    isantimuon = np.logical_and(PIDs == -13,np.abs(eta) < 2.5)\n",
    "    if np.sum(ismuon) < 1 or np.sum(isantimuon) < 1:\n",
    "        continue\n",
    "    pTmu = np.max(pTs[ismuon])\n",
    "    pTantimu = np.max(pTs[isantimuon])\n",
    "    maxminpT += [np.min([pTmu,pTantimu])]\n",
    "    if pTmu < 4.5 or pTantimu < 4.5:\n",
    "        continue\n",
    "    numpass += 1\n",
    "    \n",
    "    \n",
    "print(1.*numpass/len(events))"
   ]
  },
  {
   "cell_type": "code",
   "execution_count": null,
   "metadata": {},
   "outputs": [],
   "source": []
  },
  {
   "cell_type": "code",
   "execution_count": 48,
   "metadata": {
    "scrolled": true
   },
   "outputs": [
    {
     "data": {
      "text/plain": [
       "[]"
      ]
     },
     "execution_count": 48,
     "metadata": {},
     "output_type": "execute_result"
    },
    {
     "data": {
      "image/png": "[encoded data removed]",
      "text/plain": [
       "<Figure size 432x288 with 1 Axes>"
      ]
     },
     "metadata": {
      "needs_background": "light"
     },
     "output_type": "display_data"
    }
   ],
   "source": [
    "# fig=plt.figure()\n",
    "# ax = fig.\n",
    "plt.hist(maxminpT,bins=np.logspace(-1,1,10),log=True)\n",
    "plt.axvline(4,color='black')\n",
    "plt.semilogx()\n",
    "plt.show()"
   ]
  },
  {
   "cell_type": "code",
   "execution_count": 59,
   "metadata": {},
   "outputs": [],
   "source": [
    "fn = '/home/jack/projects/EMD_VAE/compression_project/data/B_signal/B_signal_1_1_1.dat'\n",
    "data = np.loadtxt(fn)"
   ]
  },
  {
   "cell_type": "code",
   "execution_count": 60,
   "metadata": {},
   "outputs": [],
   "source": [
    "events = [data[data[:,0] == i] for i in range(1000)]"
   ]
  },
  {
   "cell_type": "code",
   "execution_count": 61,
   "metadata": {},
   "outputs": [
    {
     "name": "stdout",
     "output_type": "stream",
     "text": [
      "0.054\n"
     ]
    }
   ],
   "source": [
    "numpass=0\n",
    "maxminpT = []\n",
    "\n",
    "for event in events:\n",
    "    PIDs = event[:,1]\n",
    "    pTs = event[:,2]\n",
    "    eta = event[:,3]\n",
    "    ismuon = np.logical_and(PIDs == 13,np.abs(eta) < 2.5)\n",
    "    isantimuon = np.logical_and(PIDs == -13,np.abs(eta) < 2.5)\n",
    "    if np.sum(ismuon) < 1 or np.sum(isantimuon) < 1:\n",
    "        continue\n",
    "    pTmu = np.max(pTs[ismuon])\n",
    "    pTantimu = np.max(pTs[isantimuon])\n",
    "    maxminpT += [np.min([pTmu,pTantimu])]\n",
    "    if pTmu < 4.5 or pTantimu < 4.5:\n",
    "        continue\n",
    "    numpass += 1\n",
    "    \n",
    "    \n",
    "    \n",
    "    \n",
    "print(1.*numpass/len(events))"
   ]
  },
  {
   "cell_type": "code",
   "execution_count": 63,
   "metadata": {},
   "outputs": [
    {
     "data": {
      "text/plain": [
       "2500.0"
      ]
     },
     "execution_count": 63,
     "metadata": {},
     "output_type": "execute_result"
    }
   ],
   "source": [
    "0.05*50000"
   ]
  },
  {
   "cell_type": "code",
   "execution_count": 62,
   "metadata": {},
   "outputs": [
    {
     "data": {
      "image/png": "[encoded data removed]",
      "text/plain": [
       "<Figure size 432x288 with 1 Axes>"
      ]
     },
     "metadata": {
      "needs_background": "light"
     },
     "output_type": "display_data"
    }
   ],
   "source": [
    "# fig=plt.figure()\n",
    "# ax = fig.\n",
    "plt.hist(maxminpT,bins=np.logspace(-1,1,10),log=True)\n",
    "plt.axvline(4,color='black')\n",
    "plt.semilogx()\n",
    "plt.show()"
   ]
  },
  {
   "cell_type": "code",
   "execution_count": 3,
   "metadata": {},
   "outputs": [],
   "source": [
    "fn = '/home/jack/projects/EMD_VAE/compression_project/data/B_background/B_background_1.dat'\n",
    "data = np.loadtxt(fn)"
   ]
  },
  {
   "cell_type": "code",
   "execution_count": 8,
   "metadata": {},
   "outputs": [],
   "source": [
    "events = [data[data[:,0] == i] for i in range(10000)]"
   ]
  },
  {
   "cell_type": "code",
   "execution_count": 9,
   "metadata": {},
   "outputs": [
    {
     "name": "stdout",
     "output_type": "stream",
     "text": [
      "0.0068\n"
     ]
    }
   ],
   "source": [
    "numpass=0\n",
    "maxminpT = []\n",
    "\n",
    "for event in events:\n",
    "    PIDs = event[:,1]\n",
    "    pTs = event[:,2]\n",
    "    eta = event[:,3]\n",
    "    ismuon = np.logical_and(PIDs == 13,np.abs(eta) < 2.5)\n",
    "    isantimuon = np.logical_and(PIDs == -13,np.abs(eta) < 2.5)\n",
    "    if np.sum(ismuon) < 1 or np.sum(isantimuon) < 1:\n",
    "        continue\n",
    "    pTmu = np.max(pTs[ismuon])\n",
    "    pTantimu = np.max(pTs[isantimuon])\n",
    "    maxminpT += [np.min([pTmu,pTantimu])]\n",
    "    if pTmu < 4.5 or pTantimu < 4.5:\n",
    "        continue\n",
    "    numpass += 1\n",
    "    \n",
    "    \n",
    "print(1.*numpass/len(events))"
   ]
  },
  {
   "cell_type": "code",
   "execution_count": 10,
   "metadata": {},
   "outputs": [
    {
     "data": {
      "image/png": "[encoded data removed]",
      "text/plain": [
       "<Figure size 432x288 with 1 Axes>"
      ]
     },
     "metadata": {
      "needs_background": "light"
     },
     "output_type": "display_data"
    }
   ],
   "source": [
    "# fig=plt.figure()\n",
    "# ax = fig.\n",
    "plt.hist(maxminpT,bins=np.logspace(-1,2,10),log=True)\n",
    "plt.axvline(4,color='black')\n",
    "plt.semilogx()\n",
    "plt.show()"
   ]
  },
  {
   "cell_type": "code",
   "execution_count": null,
   "metadata": {},
   "outputs": [],
   "source": []
  }
 ],
 "metadata": {
  "kernelspec": {
   "display_name": "Python 3",
   "language": "python",
   "name": "python3"
  },
  "language_info": {
   "codemirror_mode": {
    "name": "ipython",
    "version": 3
   },
   "file_extension": ".py",
   "mimetype": "text/x-python",
   "name": "python",
   "nbconvert_exporter": "python",
   "pygments_lexer": "ipython3",
   "version": "3.8.5"
  }
 },
 "nbformat": 4,
 "nbformat_minor": 4
}
