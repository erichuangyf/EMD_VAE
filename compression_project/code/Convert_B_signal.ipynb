{
 "cells": [
  {
   "cell_type": "code",
   "execution_count": 6,
   "metadata": {},
   "outputs": [],
   "source": [
    "import numpy as np\n",
    "#from scipy import linalg as LA\n",
    "\n",
    "import matplotlib\n",
    "import matplotlib.pyplot as plt\n",
    "\n",
    "import pandas as pd\n",
    "import matplotlib.pyplot as plt\n",
    "\n",
    "import h5py\n",
    "import pickle\n",
    "\n",
    "\n",
    "import fastjet as fj\n",
    "import Nsubjettiness as Nsub\n",
    "import numpy as np\n",
    "import pandas as pd\n",
    "\n",
    "import glob as glob\n",
    "import time"
   ]
  },
  {
   "cell_type": "code",
   "execution_count": 2,
   "metadata": {},
   "outputs": [],
   "source": [
    "fn = '/home/jack/projects/EMD_VAE/compression_project/data/B_signal/B_signal_1_1_1.dat'\n",
    "data = np.loadtxt(fn)"
   ]
  },
  {
   "cell_type": "code",
   "execution_count": 76,
   "metadata": {},
   "outputs": [],
   "source": [
    "numevents = 50000\n",
    "#numevents = 1000\n",
    "events = [data[data[:,0] == i] for i in range(numevents)]"
   ]
  },
  {
   "cell_type": "code",
   "execution_count": 77,
   "metadata": {},
   "outputs": [
    {
     "name": "stdout",
     "output_type": "stream",
     "text": [
      "Now processing event 0 of 50000\n",
      "Now processing event 1000 of 50000\n",
      "Now processing event 2000 of 50000\n",
      "Now processing event 3000 of 50000\n",
      "Now processing event 4000 of 50000\n",
      "Now processing event 5000 of 50000\n",
      "Now processing event 6000 of 50000\n",
      "Now processing event 7000 of 50000\n",
      "Now processing event 8000 of 50000\n",
      "Now processing event 9000 of 50000\n",
      "Now processing event 10000 of 50000\n",
      "Now processing event 11000 of 50000\n",
      "Now processing event 12000 of 50000\n",
      "Now processing event 13000 of 50000\n",
      "Now processing event 14000 of 50000\n",
      "Now processing event 15000 of 50000\n",
      "Now processing event 16000 of 50000\n",
      "Now processing event 17000 of 50000\n",
      "Now processing event 18000 of 50000\n",
      "Now processing event 19000 of 50000\n",
      "Now processing event 20000 of 50000\n",
      "Now processing event 21000 of 50000\n",
      "Now processing event 22000 of 50000\n",
      "Now processing event 23000 of 50000\n",
      "Now processing event 24000 of 50000\n",
      "Now processing event 25000 of 50000\n",
      "Now processing event 26000 of 50000\n",
      "Now processing event 27000 of 50000\n",
      "Now processing event 28000 of 50000\n",
      "Now processing event 29000 of 50000\n",
      "Now processing event 30000 of 50000\n",
      "Now processing event 31000 of 50000\n",
      "Now processing event 32000 of 50000\n",
      "Now processing event 33000 of 50000\n",
      "Now processing event 34000 of 50000\n",
      "Now processing event 35000 of 50000\n",
      "Now processing event 36000 of 50000\n",
      "Now processing event 37000 of 50000\n",
      "Now processing event 38000 of 50000\n",
      "Now processing event 39000 of 50000\n",
      "Now processing event 40000 of 50000\n",
      "Now processing event 41000 of 50000\n",
      "Now processing event 42000 of 50000\n",
      "Now processing event 43000 of 50000\n",
      "Now processing event 44000 of 50000\n",
      "Now processing event 45000 of 50000\n",
      "Now processing event 46000 of 50000\n",
      "Now processing event 47000 of 50000\n",
      "Now processing event 48000 of 50000\n",
      "Now processing event 49000 of 50000\n",
      "Numpass = 2644 . Fraction = 0.05288\n"
     ]
    }
   ],
   "source": [
    "numpass=0\n",
    "maxminpT = []\n",
    "\n",
    "pass_indices = []\n",
    "\n",
    "jet_def = fj.JetDefinition(fj.kt_algorithm, 1.0)\n",
    "\n",
    "\n",
    "for n, event in enumerate(events):\n",
    "    if n % 1000 == 0:\n",
    "        print(\"Now processing event\", n, \"of\", numevents)\n",
    "    PIDs = event[:,1]\n",
    "    pTs = event[:,2]\n",
    "    eta = event[:,3]\n",
    "    ismuon = np.logical_and(PIDs == 13,np.abs(eta) < 2.5)\n",
    "    isantimuon = np.logical_and(PIDs == -13,np.abs(eta) < 2.5)\n",
    "    if np.sum(ismuon) < 1 or np.sum(isantimuon) < 1:\n",
    "        continue\n",
    "    pTmu = np.max(pTs[ismuon])\n",
    "    pTantimu = np.max(pTs[isantimuon])\n",
    "    maxminpT += [np.min([pTmu,pTantimu])]\n",
    "    if pTmu < 4.5 or pTantimu < 4.5:\n",
    "        continue\n",
    "    numpass += 1\n",
    "    pass_indices += [n]\n",
    "    \n",
    "print(\"Numpass =\",numpass,\". Fraction =\",1.*numpass/len(events))"
   ]
  },
  {
   "cell_type": "code",
   "execution_count": 78,
   "metadata": {},
   "outputs": [
    {
     "data": {
      "image/png": "[encoded data removed]",
      "text/plain": [
       "<Figure size 432x288 with 1 Axes>"
      ]
     },
     "metadata": {
      "needs_background": "light"
     },
     "output_type": "display_data"
    }
   ],
   "source": [
    "# fig=plt.figure()\n",
    "# ax = fig.\n",
    "plt.hist(maxminpT,bins=np.logspace(-1,1,10),log=True)\n",
    "plt.axvline(4,color='black')\n",
    "plt.semilogx()\n",
    "plt.show()"
   ]
  },
  {
   "cell_type": "code",
   "execution_count": 102,
   "metadata": {},
   "outputs": [
    {
     "name": "stdout",
     "output_type": "stream",
     "text": [
      "Now processing event 0 of 2644\n",
      "Now processing event 1000 of 2644\n",
      "Now processing event 2000 of 2644\n"
     ]
    }
   ],
   "source": [
    "out_data = np.zeros((numpass,50,4))\n",
    "\n",
    "HT_muon = []\n",
    "HT_tot = []\n",
    "\n",
    "for n, index in enumerate(pass_indices):\n",
    "    if n % 1000 == 0:\n",
    "        print(\"Now processing event\", n, \"of\", numpass)\n",
    "    \n",
    "    event = np.array(events[index])\n",
    "    pTs = event[:,2]\n",
    "    eta = event[:,3]\n",
    "    \n",
    "    PIDs = event[:,1]\n",
    "    neutrinos = [12,14,16]\n",
    "    \n",
    "    ismuon = np.logical_and(PIDs == 13,np.abs(eta) < 2.5)\n",
    "    isantimuon = np.logical_and(PIDs == -13,np.abs(eta) < 2.5)\n",
    "        \n",
    "    mu = np.argmax(pTs*ismuon)\n",
    "    antimu = np.argmax(pTs*isantimuon)\n",
    "    \n",
    "    rejected = np.zeros(len(event), dtype=bool)\n",
    "    rejected[mu] = True\n",
    "    rejected[antimu] = True\n",
    "    \n",
    "    HT_tot += [np.sum(event[:,2])]\n",
    "    \n",
    "    pTs_muon = event[rejected,2]\n",
    "    HT_muon += [np.sum(pTs_muon)]\n",
    "    \n",
    "    for neutPID in neutrinos:\n",
    "        rejected += (np.abs(PIDs) == neutPID)\n",
    "    \n",
    "    event = event[np.logical_not(rejected)]\n",
    "    \n",
    "    \n",
    "    pTs = event[:,2]\n",
    "    etas = event[:,3]\n",
    "    phis = event[:,4]\n",
    "    Es = event[:,5]\n",
    "    \n",
    "    pxs = pTs*np.cos(phis)\n",
    "    pys = pTs*np.sin(phis)\n",
    "    pzs = pTs*np.sinh(etas)\n",
    "    \n",
    "    numparts = len(pTs)\n",
    "    \n",
    "    particles = []\n",
    "    for i in range(numparts):\n",
    "        particles += [fj.PseudoJet(pxs[i],pys[i],pzs[i],Es[i])]\n",
    "    sequence = fj.ClusterSequence(particles,jet_def)\n",
    "    reclustered = fj.sorted_by_pt(sequence.exclusive_jets(min(50,numparts)))\n",
    "    \n",
    "    \n",
    "    numparts = min(50,len(reclustered))\n",
    "    for j in range(numparts):\n",
    "        particle = reclustered[j]\n",
    "        out_data[n,j,0] = particle.pt()\n",
    "        out_data[n,j,1] = particle.eta()\n",
    "        out_data[n,j,2] = particle.phi() - np.pi\n",
    "        out_data[n,j,3] = particle.E()\n",
    "        \n",
    "#     for j in range(numparts,50):\n",
    "#         out_data[i,j,1] = jet.Eta\n",
    "#         out_data[i,j,2] = jet.Phi"
   ]
  },
  {
   "cell_type": "code",
   "execution_count": 103,
   "metadata": {},
   "outputs": [
    {
     "data": {
      "text/plain": [
       "220"
      ]
     },
     "execution_count": 103,
     "metadata": {},
     "output_type": "execute_result"
    }
   ],
   "source": [
    "mu"
   ]
  },
  {
   "cell_type": "code",
   "execution_count": 104,
   "metadata": {},
   "outputs": [
    {
     "data": {
      "text/plain": [
       "(array([579., 894., 510., 269., 177., 107.,  57.,  30.,  11.,  10.]),\n",
       " array([0.02112574, 0.04478193, 0.06843812, 0.09209432, 0.11575051,\n",
       "        0.1394067 , 0.16306289, 0.18671908, 0.21037527, 0.23403146,\n",
       "        0.25768765]),\n",
       " <BarContainer object of 10 artists>)"
      ]
     },
     "execution_count": 104,
     "metadata": {},
     "output_type": "execute_result"
    },
    {
     "data": {
      "image/png": "[encoded data removed]",
      "text/plain": [
       "<Figure size 432x288 with 1 Axes>"
      ]
     },
     "metadata": {
      "needs_background": "light"
     },
     "output_type": "display_data"
    }
   ],
   "source": [
    "plt.hist(np.array(HT_muon)/np.array(HT_tot))"
   ]
  },
  {
   "cell_type": "code",
   "execution_count": 106,
   "metadata": {},
   "outputs": [],
   "source": [
    "out_data = out_data.reshape((-1,50*4))"
   ]
  },
  {
   "cell_type": "code",
   "execution_count": 107,
   "metadata": {},
   "outputs": [],
   "source": [
    "columns = []\n",
    "for i in range(50):\n",
    "    columns += ['pT' + str(i), 'eta' + str(i), 'phi' + str(i), 'E' + str(i)]"
   ]
  },
  {
   "cell_type": "code",
   "execution_count": 109,
   "metadata": {},
   "outputs": [],
   "source": [
    "outstore = pd.HDFStore(\"/home/jack/projects/EMD_VAE/compression_project/data/B_signal.h5\")\n",
    "dictionary = dict(zip(columns, out_data.T))\n",
    "out_df = pd.DataFrame(dictionary,columns=columns)\n",
    "outstore.append('particles',out_df)\n",
    "outstore.close()"
   ]
  },
  {
   "cell_type": "code",
   "execution_count": 64,
   "metadata": {},
   "outputs": [
    {
     "data": {
      "text/plain": [
       "285"
      ]
     },
     "execution_count": 64,
     "metadata": {},
     "output_type": "execute_result"
    }
   ],
   "source": [
    "len(rejected)"
   ]
  },
  {
   "cell_type": "code",
   "execution_count": 61,
   "metadata": {},
   "outputs": [
    {
     "data": {
      "text/plain": [
       "array([[ 0.00000e+00,  2.11000e+02,  1.09504e+00,  9.46629e-01,\n",
       "         2.96872e+00,  1.62942e+00],\n",
       "       [ 0.00000e+00, -2.11000e+02,  3.76502e-01,  1.90269e+00,\n",
       "         3.01310e+00,  1.29763e+00],\n",
       "       [ 0.00000e+00,  2.11000e+02,  5.92605e-01, -5.32236e+00,\n",
       "        -2.65813e+00,  6.07040e+01],\n",
       "       ...,\n",
       "       [ 0.00000e+00, -1.30000e+01,  2.75282e+00, -6.18138e-01,\n",
       "        -1.55738e-01,  3.29740e+00],\n",
       "       [ 0.00000e+00,  1.30000e+01,  6.14126e+00, -6.91735e-01,\n",
       "        -1.64541e-01,  7.67081e+00],\n",
       "       [ 0.00000e+00, -1.30000e+01,  4.83169e+00, -7.26780e-01,\n",
       "        -1.35814e-01,  6.16583e+00]])"
      ]
     },
     "execution_count": 61,
     "metadata": {},
     "output_type": "execute_result"
    }
   ],
   "source": [
    "event[]"
   ]
  },
  {
   "cell_type": "code",
   "execution_count": 7,
   "metadata": {},
   "outputs": [],
   "source": [
    "fn = '/home/jack/projects/EMD_VAE/compression_project/data/B_signal/B_signal_1_1_1.dat'\n",
    "fnames = [fn]"
   ]
  },
  {
   "cell_type": "code",
   "execution_count": 8,
   "metadata": {},
   "outputs": [],
   "source": [
    "columns = []\n",
    "for i in range(2):\n",
    "    columns += ['pT' + str(i), 'eta' + str(i), 'phi' + str(i), 'E' + str(i)]"
   ]
  },
  {
   "cell_type": "code",
   "execution_count": 9,
   "metadata": {},
   "outputs": [
    {
     "name": "stdout",
     "output_type": "stream",
     "text": [
      "Now processing file /home/jack/projects/EMD_VAE/compression_project/data/B_signal/B_signal_1_1_1.dat\n",
      "Numpass = 2644 . Fraction = 0.05288\n",
      "Now processing event 0 of 2644\n",
      "Now processing event 1000 of 2644\n",
      "Now processing event 2000 of 2644\n"
     ]
    }
   ],
   "source": [
    "for fn in fnames:\n",
    "    \n",
    "    print(\"Now processing file\", fn)\n",
    "    data = np.loadtxt(fn)\n",
    "    event_ids = np.unique(data[:,0])\n",
    "    numevents = len(event_ids)\n",
    "    events = [data[data[:,0] == i] for i in event_ids]\n",
    "    \n",
    "    numpass=0\n",
    "    maxminpT = []\n",
    "\n",
    "    pass_indices = []\n",
    "\n",
    "    jet_def = fj.JetDefinition(fj.kt_algorithm, 1.0)\n",
    "\n",
    "\n",
    "    for n, event in enumerate(events):\n",
    "#         if n % 1000 == 0:\n",
    "#             print(\"Now processing event\", n, \"of\", numevents)\n",
    "        PIDs = event[:,1]\n",
    "        pTs = event[:,2]\n",
    "        eta = event[:,3]\n",
    "        ismuon = np.logical_and(PIDs == 13,np.abs(eta) < 2.5)\n",
    "        isantimuon = np.logical_and(PIDs == -13,np.abs(eta) < 2.5)\n",
    "        if np.sum(ismuon) < 1 or np.sum(isantimuon) < 1:\n",
    "            continue\n",
    "        pTmu = np.max(pTs[ismuon])\n",
    "        pTantimu = np.max(pTs[isantimuon])\n",
    "        maxminpT += [np.min([pTmu,pTantimu])]\n",
    "        if pTmu < 4.5 or pTantimu < 4.5:\n",
    "            continue\n",
    "        numpass += 1\n",
    "        pass_indices += [n]\n",
    "\n",
    "    print(\"Numpass =\",numpass,\". Fraction =\",1.*numpass/len(events))\n",
    "    \n",
    "    out_data = np.zeros((numpass,2,4))\n",
    "    \n",
    "    for n, index in enumerate(pass_indices):\n",
    "        if n % 1000 == 0:\n",
    "            print(\"Now processing event\", n, \"of\", numpass)\n",
    "\n",
    "        event = np.array(events[index])\n",
    "        pTs = event[:,2]\n",
    "        eta = event[:,3]\n",
    "\n",
    "        PIDs = event[:,1]\n",
    "        neutrinos = [12,14,16]\n",
    "\n",
    "        ismuon = np.logical_and(PIDs == 13,np.abs(eta) < 2.5)\n",
    "        isantimuon = np.logical_and(PIDs == -13,np.abs(eta) < 2.5)\n",
    "\n",
    "        mu = np.argmax(pTs*ismuon)\n",
    "        antimu = np.argmax(pTs*isantimuon)\n",
    "        \n",
    "        out_data[n,0,:3] = event[mu,2:5]\n",
    "        out_data[n,0,3] = pTs[mu]\n",
    "        \n",
    "        out_data[n,1,:3] = event[antimu,1:4]\n",
    "        out_data[n,1,3] = pTs[antimu]\n",
    "        \n",
    "    \n",
    "\n",
    "            \n",
    "    out_data = out_data.reshape((-1,2*4))\n",
    "    \n",
    "    outstore = pd.HDFStore(\"/home/jack/projects/EMD_VAE/compression_project/data/B_signal_muons.h5\")\n",
    "    dictionary = dict(zip(columns, out_data.T))\n",
    "    out_df = pd.DataFrame(dictionary,columns=columns)\n",
    "    outstore.append('particles',out_df)\n",
    "    outstore.close()\n",
    "    \n",
    "    "
   ]
  },
  {
   "cell_type": "code",
   "execution_count": null,
   "metadata": {},
   "outputs": [],
   "source": []
  }
 ],
 "metadata": {
  "kernelspec": {
   "display_name": "Python 3",
   "language": "python",
   "name": "python3"
  },
  "language_info": {
   "codemirror_mode": {
    "name": "ipython",
    "version": 3
   },
   "file_extension": ".py",
   "mimetype": "text/x-python",
   "name": "python",
   "nbconvert_exporter": "python",
   "pygments_lexer": "ipython3",
   "version": "3.8.5"
  }
 },
 "nbformat": 4,
 "nbformat_minor": 4
}
