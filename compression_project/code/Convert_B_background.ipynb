{
 "cells": [
  {
   "cell_type": "code",
   "execution_count": 4,
   "metadata": {},
   "outputs": [],
   "source": [
    "import numpy as np\n",
    "#from scipy import linalg as LA\n",
    "\n",
    "import matplotlib\n",
    "import matplotlib.pyplot as plt\n",
    "\n",
    "import pandas as pd\n",
    "import matplotlib.pyplot as plt\n",
    "\n",
    "import h5py\n",
    "import pickle\n",
    "\n",
    "\n",
    "import fastjet as fj\n",
    "import Nsubjettiness as Nsub\n",
    "import numpy as np\n",
    "import pandas as pd\n",
    "\n",
    "import glob as glob\n",
    "import time"
   ]
  },
  {
   "cell_type": "code",
   "execution_count": 5,
   "metadata": {},
   "outputs": [],
   "source": [
    "fn = '/home/jack/projects/EMD_VAE/compression_project/data/B_background/B_background_1.dat'\n",
    "data = np.loadtxt(fn)"
   ]
  },
  {
   "cell_type": "code",
   "execution_count": 6,
   "metadata": {},
   "outputs": [],
   "source": [
    "numevents = 50000\n",
    "#numevents = 1000\n",
    "events = [data[data[:,0] == i] for i in range(numevents)]"
   ]
  },
  {
   "cell_type": "code",
   "execution_count": 8,
   "metadata": {},
   "outputs": [
    {
     "name": "stdout",
     "output_type": "stream",
     "text": [
      "Now processing event 0 of 50000\n",
      "Now processing event 1000 of 50000\n",
      "Now processing event 2000 of 50000\n",
      "Now processing event 3000 of 50000\n",
      "Now processing event 4000 of 50000\n",
      "Now processing event 5000 of 50000\n",
      "Now processing event 6000 of 50000\n",
      "Now processing event 7000 of 50000\n",
      "Now processing event 8000 of 50000\n",
      "Now processing event 9000 of 50000\n",
      "Now processing event 10000 of 50000\n",
      "Now processing event 11000 of 50000\n",
      "Now processing event 12000 of 50000\n",
      "Now processing event 13000 of 50000\n",
      "Now processing event 14000 of 50000\n",
      "Now processing event 15000 of 50000\n",
      "Now processing event 16000 of 50000\n",
      "Now processing event 17000 of 50000\n",
      "Now processing event 18000 of 50000\n",
      "Now processing event 19000 of 50000\n",
      "Now processing event 20000 of 50000\n",
      "Now processing event 21000 of 50000\n",
      "Now processing event 22000 of 50000\n",
      "Now processing event 23000 of 50000\n",
      "Now processing event 24000 of 50000\n",
      "Now processing event 25000 of 50000\n",
      "Now processing event 26000 of 50000\n",
      "Now processing event 27000 of 50000\n",
      "Now processing event 28000 of 50000\n",
      "Now processing event 29000 of 50000\n",
      "Now processing event 30000 of 50000\n",
      "Now processing event 31000 of 50000\n",
      "Now processing event 32000 of 50000\n",
      "Now processing event 33000 of 50000\n",
      "Now processing event 34000 of 50000\n",
      "Now processing event 35000 of 50000\n",
      "Now processing event 36000 of 50000\n",
      "Now processing event 37000 of 50000\n",
      "Now processing event 38000 of 50000\n",
      "Now processing event 39000 of 50000\n",
      "Now processing event 40000 of 50000\n",
      "Now processing event 41000 of 50000\n",
      "Now processing event 42000 of 50000\n",
      "Now processing event 43000 of 50000\n",
      "Now processing event 44000 of 50000\n",
      "Now processing event 45000 of 50000\n",
      "Now processing event 46000 of 50000\n",
      "Now processing event 47000 of 50000\n",
      "Now processing event 48000 of 50000\n",
      "Now processing event 49000 of 50000\n",
      "Numpass = 214 . Fraction = 0.00428\n"
     ]
    }
   ],
   "source": [
    "numpass=0\n",
    "maxminpT = []\n",
    "\n",
    "pass_indices = []\n",
    "\n",
    "jet_def = fj.JetDefinition(fj.kt_algorithm, 1.0)\n",
    "\n",
    "\n",
    "for n, event in enumerate(events):\n",
    "    if n % 1000 == 0:\n",
    "        print(\"Now processing event\", n, \"of\", numevents)\n",
    "    PIDs = event[:,1]\n",
    "    pTs = event[:,2]\n",
    "    eta = event[:,3]\n",
    "    ismuon = np.logical_and(PIDs == 13,np.abs(eta) < 2.5)\n",
    "    isantimuon = np.logical_and(PIDs == -13,np.abs(eta) < 2.5)\n",
    "    if np.sum(ismuon) < 1 or np.sum(isantimuon) < 1:\n",
    "        continue\n",
    "    pTmu = np.max(pTs[ismuon])\n",
    "    pTantimu = np.max(pTs[isantimuon])\n",
    "    maxminpT += [np.min([pTmu,pTantimu])]\n",
    "    if pTmu < 4.5 or pTantimu < 4.5:\n",
    "        continue\n",
    "    numpass += 1\n",
    "    pass_indices += [n]\n",
    "    \n",
    "print(\"Numpass =\",numpass,\". Fraction =\",1.*numpass/len(events))"
   ]
  },
  {
   "cell_type": "code",
   "execution_count": 9,
   "metadata": {},
   "outputs": [
    {
     "data": {
      "image/png": "[encoded data removed]",
      "text/plain": [
       "<Figure size 432x288 with 1 Axes>"
      ]
     },
     "metadata": {
      "needs_background": "light"
     },
     "output_type": "display_data"
    }
   ],
   "source": [
    "# fig=plt.figure()\n",
    "# ax = fig.\n",
    "plt.hist(maxminpT,bins=np.logspace(-1,1,10),log=True)\n",
    "plt.axvline(4,color='black')\n",
    "plt.semilogx()\n",
    "plt.show()"
   ]
  },
  {
   "cell_type": "code",
   "execution_count": 10,
   "metadata": {},
   "outputs": [
    {
     "name": "stdout",
     "output_type": "stream",
     "text": [
      "Now processing event 0 of 214\n"
     ]
    }
   ],
   "source": [
    "out_data = np.zeros((numpass,50,4))\n",
    "\n",
    "HT_muon = []\n",
    "HT_tot = []\n",
    "\n",
    "for n, index in enumerate(pass_indices):\n",
    "    if n % 1000 == 0:\n",
    "        print(\"Now processing event\", n, \"of\", numpass)\n",
    "    \n",
    "    event = np.array(events[index])\n",
    "    pTs = event[:,2]\n",
    "    eta = event[:,3]\n",
    "    \n",
    "    PIDs = event[:,1]\n",
    "    neutrinos = [12,14,16]\n",
    "    \n",
    "    ismuon = np.logical_and(PIDs == 13,np.abs(eta) < 2.5)\n",
    "    isantimuon = np.logical_and(PIDs == -13,np.abs(eta) < 2.5)\n",
    "        \n",
    "    mu = np.argmax(pTs*ismuon)\n",
    "    antimu = np.argmax(pTs*isantimuon)\n",
    "    \n",
    "    rejected = np.zeros(len(event), dtype=bool)\n",
    "    rejected[mu] = True\n",
    "    rejected[antimu] = True\n",
    "    \n",
    "    HT_tot += [np.sum(event[:,2])]\n",
    "    \n",
    "    pTs_muon = event[rejected,2]\n",
    "    HT_muon += [np.sum(pTs_muon)]\n",
    "    \n",
    "    for neutPID in neutrinos:\n",
    "        rejected += (np.abs(PIDs) == neutPID)\n",
    "    \n",
    "    event = event[np.logical_not(rejected)]\n",
    "    \n",
    "    \n",
    "    pTs = event[:,2]\n",
    "    etas = event[:,3]\n",
    "    phis = event[:,4]\n",
    "    Es = event[:,5]\n",
    "    \n",
    "    pxs = pTs*np.cos(phis)\n",
    "    pys = pTs*np.sin(phis)\n",
    "    pzs = pTs*np.sinh(etas)\n",
    "    \n",
    "    numparts = len(pTs)\n",
    "    \n",
    "    particles = []\n",
    "    for i in range(numparts):\n",
    "        particles += [fj.PseudoJet(pxs[i],pys[i],pzs[i],Es[i])]\n",
    "    sequence = fj.ClusterSequence(particles,jet_def)\n",
    "    reclustered = fj.sorted_by_pt(sequence.exclusive_jets(min(50,numparts)))\n",
    "    \n",
    "    \n",
    "    numparts = min(50,len(reclustered))\n",
    "    for j in range(numparts):\n",
    "        particle = reclustered[j]\n",
    "        out_data[n,j,0] = particle.pt()\n",
    "        out_data[n,j,1] = particle.eta()\n",
    "        out_data[n,j,2] = particle.phi() - np.pi\n",
    "        out_data[n,j,3] = particle.E()\n",
    "        \n",
    "#     for j in range(numparts,50):\n",
    "#         out_data[i,j,1] = jet.Eta\n",
    "#         out_data[i,j,2] = jet.Phi"
   ]
  },
  {
   "cell_type": "code",
   "execution_count": 11,
   "metadata": {},
   "outputs": [],
   "source": [
    "out_data = out_data.reshape((-1,50*4))"
   ]
  },
  {
   "cell_type": "code",
   "execution_count": 12,
   "metadata": {},
   "outputs": [
    {
     "data": {
      "text/plain": [
       "array([[ 2.91351884e+02, -6.36408614e-01, -1.85992920e+00, ...,\n",
       "        -2.80653371e+00, -4.19198218e-01,  1.38756400e+01],\n",
       "       [ 2.70014645e+01, -5.79419820e-01, -2.41609955e+00, ...,\n",
       "         1.72480385e+00, -1.85501587e+00,  9.83722000e+00],\n",
       "       [ 1.77454213e+01, -3.31806213e-01, -1.72623745e+00, ...,\n",
       "         7.84327261e+00,  2.42740755e+00,  2.38513487e+03],\n",
       "       ...,\n",
       "       [ 1.37066150e+01, -3.47790447e-01,  2.10959959e+00, ...,\n",
       "        -6.80786520e+00, -3.01585360e+00,  8.44189500e+02],\n",
       "       [ 1.85744282e+02,  5.83018396e-01,  4.20063258e-01, ...,\n",
       "        -3.45759068e+00, -7.85902915e-01,  4.01468310e+01],\n",
       "       [ 1.23818250e+02, -6.94157308e-01, -2.21488021e+00, ...,\n",
       "         2.25325000e+00,  2.79974265e+00,  7.61043000e+00]])"
      ]
     },
     "execution_count": 12,
     "metadata": {},
     "output_type": "execute_result"
    }
   ],
   "source": [
    "out_data"
   ]
  },
  {
   "cell_type": "code",
   "execution_count": 13,
   "metadata": {},
   "outputs": [],
   "source": [
    "columns = []\n",
    "for i in range(50):\n",
    "    columns += ['pT' + str(i), 'eta' + str(i), 'phi' + str(i), 'E' + str(i)]"
   ]
  },
  {
   "cell_type": "code",
   "execution_count": 15,
   "metadata": {},
   "outputs": [],
   "source": [
    "outstore = pd.HDFStore(\"/home/jack/projects/EMD_VAE/compression_project/data/B_background.h5\")\n",
    "dictionary = dict(zip(columns, out_data.T))\n",
    "out_df = pd.DataFrame(dictionary,columns=columns)\n",
    "outstore.append('particles',out_df)\n",
    "outstore.close()"
   ]
  },
  {
   "cell_type": "code",
   "execution_count": 64,
   "metadata": {},
   "outputs": [
    {
     "data": {
      "text/plain": [
       "285"
      ]
     },
     "execution_count": 64,
     "metadata": {},
     "output_type": "execute_result"
    }
   ],
   "source": [
    "len(rejected)"
   ]
  },
  {
   "cell_type": "code",
   "execution_count": 61,
   "metadata": {},
   "outputs": [
    {
     "data": {
      "text/plain": [
       "array([[ 0.00000e+00,  2.11000e+02,  1.09504e+00,  9.46629e-01,\n",
       "         2.96872e+00,  1.62942e+00],\n",
       "       [ 0.00000e+00, -2.11000e+02,  3.76502e-01,  1.90269e+00,\n",
       "         3.01310e+00,  1.29763e+00],\n",
       "       [ 0.00000e+00,  2.11000e+02,  5.92605e-01, -5.32236e+00,\n",
       "        -2.65813e+00,  6.07040e+01],\n",
       "       ...,\n",
       "       [ 0.00000e+00, -1.30000e+01,  2.75282e+00, -6.18138e-01,\n",
       "        -1.55738e-01,  3.29740e+00],\n",
       "       [ 0.00000e+00,  1.30000e+01,  6.14126e+00, -6.91735e-01,\n",
       "        -1.64541e-01,  7.67081e+00],\n",
       "       [ 0.00000e+00, -1.30000e+01,  4.83169e+00, -7.26780e-01,\n",
       "        -1.35814e-01,  6.16583e+00]])"
      ]
     },
     "execution_count": 61,
     "metadata": {},
     "output_type": "execute_result"
    }
   ],
   "source": [
    "event[]"
   ]
  },
  {
   "cell_type": "markdown",
   "metadata": {},
   "source": [
    "## No Cut"
   ]
  },
  {
   "cell_type": "code",
   "execution_count": 7,
   "metadata": {},
   "outputs": [
    {
     "name": "stdout",
     "output_type": "stream",
     "text": [
      "Now processing event 0 of 0\n"
     ]
    },
    {
     "ename": "NameError",
     "evalue": "name 'jet_def' is not defined",
     "output_type": "error",
     "traceback": [
      "\u001b[0;31m---------------------------------------------------------------------------\u001b[0m",
      "\u001b[0;31mNameError\u001b[0m                                 Traceback (most recent call last)",
      "\u001b[0;32m<ipython-input-7-efec393c19f3>\u001b[0m in \u001b[0;36m<module>\u001b[0;34m\u001b[0m\n\u001b[1;32m     54\u001b[0m     \u001b[0;32mfor\u001b[0m \u001b[0mi\u001b[0m \u001b[0;32min\u001b[0m \u001b[0mrange\u001b[0m\u001b[0;34m(\u001b[0m\u001b[0mnumparts\u001b[0m\u001b[0;34m)\u001b[0m\u001b[0;34m:\u001b[0m\u001b[0;34m\u001b[0m\u001b[0;34m\u001b[0m\u001b[0m\n\u001b[1;32m     55\u001b[0m         \u001b[0mparticles\u001b[0m \u001b[0;34m+=\u001b[0m \u001b[0;34m[\u001b[0m\u001b[0mfj\u001b[0m\u001b[0;34m.\u001b[0m\u001b[0mPseudoJet\u001b[0m\u001b[0;34m(\u001b[0m\u001b[0mpxs\u001b[0m\u001b[0;34m[\u001b[0m\u001b[0mi\u001b[0m\u001b[0;34m]\u001b[0m\u001b[0;34m,\u001b[0m\u001b[0mpys\u001b[0m\u001b[0;34m[\u001b[0m\u001b[0mi\u001b[0m\u001b[0;34m]\u001b[0m\u001b[0;34m,\u001b[0m\u001b[0mpzs\u001b[0m\u001b[0;34m[\u001b[0m\u001b[0mi\u001b[0m\u001b[0;34m]\u001b[0m\u001b[0;34m,\u001b[0m\u001b[0mEs\u001b[0m\u001b[0;34m[\u001b[0m\u001b[0mi\u001b[0m\u001b[0;34m]\u001b[0m\u001b[0;34m)\u001b[0m\u001b[0;34m]\u001b[0m\u001b[0;34m\u001b[0m\u001b[0;34m\u001b[0m\u001b[0m\n\u001b[0;32m---> 56\u001b[0;31m     \u001b[0msequence\u001b[0m \u001b[0;34m=\u001b[0m \u001b[0mfj\u001b[0m\u001b[0;34m.\u001b[0m\u001b[0mClusterSequence\u001b[0m\u001b[0;34m(\u001b[0m\u001b[0mparticles\u001b[0m\u001b[0;34m,\u001b[0m\u001b[0mjet_def\u001b[0m\u001b[0;34m)\u001b[0m\u001b[0;34m\u001b[0m\u001b[0;34m\u001b[0m\u001b[0m\n\u001b[0m\u001b[1;32m     57\u001b[0m     \u001b[0mreclustered\u001b[0m \u001b[0;34m=\u001b[0m \u001b[0mfj\u001b[0m\u001b[0;34m.\u001b[0m\u001b[0msorted_by_pt\u001b[0m\u001b[0;34m(\u001b[0m\u001b[0msequence\u001b[0m\u001b[0;34m.\u001b[0m\u001b[0mexclusive_jets\u001b[0m\u001b[0;34m(\u001b[0m\u001b[0mmin\u001b[0m\u001b[0;34m(\u001b[0m\u001b[0;36m50\u001b[0m\u001b[0;34m,\u001b[0m\u001b[0mnumparts\u001b[0m\u001b[0;34m)\u001b[0m\u001b[0;34m)\u001b[0m\u001b[0;34m)\u001b[0m\u001b[0;34m\u001b[0m\u001b[0;34m\u001b[0m\u001b[0m\n\u001b[1;32m     58\u001b[0m \u001b[0;34m\u001b[0m\u001b[0m\n",
      "\u001b[0;31mNameError\u001b[0m: name 'jet_def' is not defined"
     ]
    }
   ],
   "source": [
    "numpass=0\n",
    "\n",
    "out_data = np.zeros((numpass,50,4))\n",
    "\n",
    "HT_muon = []\n",
    "HT_tot = []\n",
    "\n",
    "for n, event in enumerate(events):\n",
    "    index = n\n",
    "\n",
    "    if n % 1000 == 0:\n",
    "        print(\"Now processing event\", n, \"of\", numpass)\n",
    "    \n",
    "    event = np.array(events[index])\n",
    "    pTs = event[:,2]\n",
    "    eta = event[:,3]\n",
    "    \n",
    "    PIDs = event[:,1]\n",
    "    neutrinos = [12,14,16]\n",
    "    \n",
    "    ismuon = np.logical_and(PIDs == 13,np.abs(eta) < 2.5)\n",
    "    isantimuon = np.logical_and(PIDs == -13,np.abs(eta) < 2.5)\n",
    "        \n",
    "    mu = np.argmax(pTs*ismuon)\n",
    "    antimu = np.argmax(pTs*isantimuon)\n",
    "    \n",
    "    rejected = np.zeros(len(event), dtype=bool)\n",
    "    rejected[mu] = True\n",
    "    rejected[antimu] = True\n",
    "    \n",
    "    HT_tot += [np.sum(event[:,2])]\n",
    "    \n",
    "    pTs_muon = event[rejected,2]\n",
    "    HT_muon += [np.sum(pTs_muon)]\n",
    "    \n",
    "    for neutPID in neutrinos:\n",
    "        rejected += (np.abs(PIDs) == neutPID)\n",
    "    \n",
    "    event = event[np.logical_not(rejected)]\n",
    "    \n",
    "    \n",
    "    pTs = event[:,2]\n",
    "    etas = event[:,3]\n",
    "    phis = event[:,4]\n",
    "    Es = event[:,5]\n",
    "    \n",
    "    pxs = pTs*np.cos(phis)\n",
    "    pys = pTs*np.sin(phis)\n",
    "    pzs = pTs*np.sinh(etas)\n",
    "    \n",
    "    numparts = len(pTs)\n",
    "    \n",
    "    particles = []\n",
    "    for i in range(numparts):\n",
    "        particles += [fj.PseudoJet(pxs[i],pys[i],pzs[i],Es[i])]\n",
    "    sequence = fj.ClusterSequence(particles,jet_def)\n",
    "    reclustered = fj.sorted_by_pt(sequence.exclusive_jets(min(50,numparts)))\n",
    "    \n",
    "    \n",
    "    numparts = min(50,len(reclustered))\n",
    "    for j in range(numparts):\n",
    "        particle = reclustered[j]\n",
    "        out_data[n,j,0] = particle.pt()\n",
    "        out_data[n,j,1] = particle.eta()\n",
    "        out_data[n,j,2] = particle.phi() - np.pi\n",
    "        out_data[n,j,3] = particle.E()\n",
    "        \n",
    "#     for j in range(numparts,50):\n",
    "#         out_data[i,j,1] = jet.Eta\n",
    "#         out_data[i,j,2] = jet.Phi"
   ]
  },
  {
   "cell_type": "code",
   "execution_count": null,
   "metadata": {},
   "outputs": [],
   "source": []
  }
 ],
 "metadata": {
  "kernelspec": {
   "display_name": "Python 3",
   "language": "python",
   "name": "python3"
  },
  "language_info": {
   "codemirror_mode": {
    "name": "ipython",
    "version": 3
   },
   "file_extension": ".py",
   "mimetype": "text/x-python",
   "name": "python",
   "nbconvert_exporter": "python",
   "pygments_lexer": "ipython3",
   "version": "3.8.5"
  }
 },
 "nbformat": 4,
 "nbformat_minor": 4
}
