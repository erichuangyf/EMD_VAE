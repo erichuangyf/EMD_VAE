{
 "cells": [
  {
   "cell_type": "code",
   "execution_count": 1,
   "metadata": {},
   "outputs": [],
   "source": [
    "import numpy as np\n",
    "#from scipy import linalg as LA\n",
    "\n",
    "import matplotlib\n",
    "import matplotlib.pyplot as plt\n",
    "\n",
    "import pandas as pd\n",
    "import matplotlib.pyplot as plt\n",
    "\n",
    "import h5py\n",
    "import pickle\n",
    "\n",
    "\n",
    "import fastjet as fj\n",
    "import Nsubjettiness as Nsub\n",
    "import numpy as np\n",
    "import pandas as pd\n",
    "\n",
    "import glob as glob\n",
    "import time"
   ]
  },
  {
   "cell_type": "code",
   "execution_count": 9,
   "metadata": {},
   "outputs": [],
   "source": [
    "df1 = pd.read_hdf('~/projects/EMD_VAE/compression_project/data/hv_vector.h5')\n",
    "df2 = pd.read_hdf('~/projects/EMD_VAE/compression_project/data/hv_vector_etadecay.h5')"
   ]
  },
  {
   "cell_type": "code",
   "execution_count": null,
   "metadata": {},
   "outputs": [],
   "source": []
  },
  {
   "cell_type": "code",
   "execution_count": 12,
   "metadata": {},
   "outputs": [],
   "source": [
    "data1 = df1.values.reshape((-1,50,4))\n",
    "data2 = df2.values.reshape((-1,50,4))"
   ]
  },
  {
   "cell_type": "code",
   "execution_count": 39,
   "metadata": {},
   "outputs": [
    {
     "data": {
      "text/plain": [
       "(33108,)"
      ]
     },
     "execution_count": 39,
     "metadata": {},
     "output_type": "execute_result"
    }
   ],
   "source": [
    "np.sum(datanp.abs(data1[:,:,1]) > 5,axis=-1)"
   ]
  },
  {
   "cell_type": "code",
   "execution_count": 18,
   "metadata": {},
   "outputs": [],
   "source": [
    "HT1 = np.sum(data1[:,:,0],axis=1)\n",
    "HT2 = np.sum(data2[:,:,0],axis=1)"
   ]
  },
  {
   "cell_type": "code",
   "execution_count": 19,
   "metadata": {},
   "outputs": [
    {
     "data": {
      "text/plain": [
       "array([532.18069622, 273.25392647, 440.34756992, ..., 468.32949492,\n",
       "       272.8285612 , 503.13977626])"
      ]
     },
     "execution_count": 19,
     "metadata": {},
     "output_type": "execute_result"
    }
   ],
   "source": [
    "HT1"
   ]
  },
  {
   "cell_type": "code",
   "execution_count": 20,
   "metadata": {},
   "outputs": [
    {
     "data": {
      "text/plain": [
       "array([528.0255291 , 276.51926244, 328.01532874, ..., 211.42824429,\n",
       "       333.90064521, 365.85772985])"
      ]
     },
     "execution_count": 20,
     "metadata": {},
     "output_type": "execute_result"
    }
   ],
   "source": [
    "HT2"
   ]
  },
  {
   "cell_type": "code",
   "execution_count": 34,
   "metadata": {},
   "outputs": [
    {
     "data": {
      "text/plain": [
       "[]"
      ]
     },
     "execution_count": 34,
     "metadata": {},
     "output_type": "execute_result"
    },
    {
     "data": {
      "image/png": "[encoded data removed]",
      "text/plain": [
       "<Figure size 432x288 with 1 Axes>"
      ]
     },
     "metadata": {
      "needs_background": "light"
     },
     "output_type": "display_data"
    }
   ],
   "source": [
    "plt.hist(HT1,alpha=0.5,bins = np.logspace(1.5,3.5,15))\n",
    "plt.hist(HT2,alpha=0.5,bins = np.logspace(1.5,3.5,15))\n",
    "plt.xlabel('HT  [GeV]')\n",
    "plt.semilogx()\n",
    "plt.semilogy()"
   ]
  },
  {
   "cell_type": "code",
   "execution_count": 59,
   "metadata": {},
   "outputs": [],
   "source": [
    "df2 = pd.read_hdf('~/projects/EMD_VAE/compression_project/data/hv_signal_big_muons.h5')"
   ]
  },
  {
   "cell_type": "code",
   "execution_count": 60,
   "metadata": {},
   "outputs": [
    {
     "data": {
      "text/html": [
       "<div>\n",
       "<style scoped>\n",
       "    .dataframe tbody tr th:only-of-type {\n",
       "        vertical-align: middle;\n",
       "    }\n",
       "\n",
       "    .dataframe tbody tr th {\n",
       "        vertical-align: top;\n",
       "    }\n",
       "\n",
       "    .dataframe thead th {\n",
       "        text-align: right;\n",
       "    }\n",
       "</style>\n",
       "<table border=\"1\" class=\"dataframe\">\n",
       "  <thead>\n",
       "    <tr style=\"text-align: right;\">\n",
       "      <th></th>\n",
       "      <th>pT0</th>\n",
       "      <th>eta0</th>\n",
       "      <th>phi0</th>\n",
       "      <th>E0</th>\n",
       "      <th>pT1</th>\n",
       "      <th>eta1</th>\n",
       "      <th>phi1</th>\n",
       "      <th>E1</th>\n",
       "    </tr>\n",
       "  </thead>\n",
       "  <tbody>\n",
       "    <tr>\n",
       "      <th>0</th>\n",
       "      <td>18.625</td>\n",
       "      <td>-0.857</td>\n",
       "      <td>2.160</td>\n",
       "      <td>18.625</td>\n",
       "      <td>7.296</td>\n",
       "      <td>-0.858</td>\n",
       "      <td>2.203</td>\n",
       "      <td>7.296</td>\n",
       "    </tr>\n",
       "    <tr>\n",
       "      <th>1</th>\n",
       "      <td>104.641</td>\n",
       "      <td>-0.047</td>\n",
       "      <td>1.309</td>\n",
       "      <td>104.641</td>\n",
       "      <td>79.696</td>\n",
       "      <td>-0.045</td>\n",
       "      <td>1.304</td>\n",
       "      <td>79.696</td>\n",
       "    </tr>\n",
       "    <tr>\n",
       "      <th>2</th>\n",
       "      <td>5.578</td>\n",
       "      <td>-0.722</td>\n",
       "      <td>1.782</td>\n",
       "      <td>5.578</td>\n",
       "      <td>12.959</td>\n",
       "      <td>-0.702</td>\n",
       "      <td>1.815</td>\n",
       "      <td>12.959</td>\n",
       "    </tr>\n",
       "    <tr>\n",
       "      <th>3</th>\n",
       "      <td>5.840</td>\n",
       "      <td>-0.137</td>\n",
       "      <td>1.175</td>\n",
       "      <td>5.840</td>\n",
       "      <td>15.670</td>\n",
       "      <td>-0.107</td>\n",
       "      <td>1.190</td>\n",
       "      <td>15.670</td>\n",
       "    </tr>\n",
       "    <tr>\n",
       "      <th>4</th>\n",
       "      <td>18.573</td>\n",
       "      <td>0.349</td>\n",
       "      <td>1.847</td>\n",
       "      <td>18.573</td>\n",
       "      <td>44.079</td>\n",
       "      <td>0.317</td>\n",
       "      <td>2.468</td>\n",
       "      <td>44.079</td>\n",
       "    </tr>\n",
       "    <tr>\n",
       "      <th>...</th>\n",
       "      <td>...</td>\n",
       "      <td>...</td>\n",
       "      <td>...</td>\n",
       "      <td>...</td>\n",
       "      <td>...</td>\n",
       "      <td>...</td>\n",
       "      <td>...</td>\n",
       "      <td>...</td>\n",
       "    </tr>\n",
       "    <tr>\n",
       "      <th>1990</th>\n",
       "      <td>10.821</td>\n",
       "      <td>-0.061</td>\n",
       "      <td>0.210</td>\n",
       "      <td>10.821</td>\n",
       "      <td>12.373</td>\n",
       "      <td>-0.488</td>\n",
       "      <td>-3.048</td>\n",
       "      <td>12.373</td>\n",
       "    </tr>\n",
       "    <tr>\n",
       "      <th>1991</th>\n",
       "      <td>11.747</td>\n",
       "      <td>-1.582</td>\n",
       "      <td>-2.654</td>\n",
       "      <td>11.747</td>\n",
       "      <td>14.528</td>\n",
       "      <td>-1.540</td>\n",
       "      <td>-2.699</td>\n",
       "      <td>14.528</td>\n",
       "    </tr>\n",
       "    <tr>\n",
       "      <th>1992</th>\n",
       "      <td>6.808</td>\n",
       "      <td>1.119</td>\n",
       "      <td>3.072</td>\n",
       "      <td>6.808</td>\n",
       "      <td>8.250</td>\n",
       "      <td>1.059</td>\n",
       "      <td>3.141</td>\n",
       "      <td>8.250</td>\n",
       "    </tr>\n",
       "    <tr>\n",
       "      <th>1993</th>\n",
       "      <td>5.059</td>\n",
       "      <td>-0.376</td>\n",
       "      <td>0.878</td>\n",
       "      <td>5.059</td>\n",
       "      <td>5.086</td>\n",
       "      <td>-0.406</td>\n",
       "      <td>0.939</td>\n",
       "      <td>5.086</td>\n",
       "    </tr>\n",
       "    <tr>\n",
       "      <th>1994</th>\n",
       "      <td>5.012</td>\n",
       "      <td>-0.782</td>\n",
       "      <td>1.607</td>\n",
       "      <td>5.012</td>\n",
       "      <td>4.987</td>\n",
       "      <td>-1.310</td>\n",
       "      <td>-0.674</td>\n",
       "      <td>4.987</td>\n",
       "    </tr>\n",
       "  </tbody>\n",
       "</table>\n",
       "<p>17873 rows × 8 columns</p>\n",
       "</div>"
      ],
      "text/plain": [
       "          pT0   eta0   phi0       E0     pT1   eta1   phi1      E1\n",
       "0      18.625 -0.857  2.160   18.625   7.296 -0.858  2.203   7.296\n",
       "1     104.641 -0.047  1.309  104.641  79.696 -0.045  1.304  79.696\n",
       "2       5.578 -0.722  1.782    5.578  12.959 -0.702  1.815  12.959\n",
       "3       5.840 -0.137  1.175    5.840  15.670 -0.107  1.190  15.670\n",
       "4      18.573  0.349  1.847   18.573  44.079  0.317  2.468  44.079\n",
       "...       ...    ...    ...      ...     ...    ...    ...     ...\n",
       "1990   10.821 -0.061  0.210   10.821  12.373 -0.488 -3.048  12.373\n",
       "1991   11.747 -1.582 -2.654   11.747  14.528 -1.540 -2.699  14.528\n",
       "1992    6.808  1.119  3.072    6.808   8.250  1.059  3.141   8.250\n",
       "1993    5.059 -0.376  0.878    5.059   5.086 -0.406  0.939   5.086\n",
       "1994    5.012 -0.782  1.607    5.012   4.987 -1.310 -0.674   4.987\n",
       "\n",
       "[17873 rows x 8 columns]"
      ]
     },
     "execution_count": 60,
     "metadata": {},
     "output_type": "execute_result"
    }
   ],
   "source": [
    "df2"
   ]
  },
  {
   "cell_type": "code",
   "execution_count": 61,
   "metadata": {},
   "outputs": [
    {
     "data": {
      "image/png": "[encoded data removed]",
      "text/plain": [
       "<Figure size 432x288 with 1 Axes>"
      ]
     },
     "metadata": {
      "needs_background": "light"
     },
     "output_type": "display_data"
    }
   ],
   "source": [
    "plt.hist(df2.values[:,3],bins = np.logspace(0,2.5,20))\n",
    "plt.semilogx()\n",
    "plt.show()"
   ]
  },
  {
   "cell_type": "code",
   "execution_count": null,
   "metadata": {},
   "outputs": [],
   "source": []
  }
 ],
 "metadata": {
  "kernelspec": {
   "display_name": "Python 3",
   "language": "python",
   "name": "python3"
  },
  "language_info": {
   "codemirror_mode": {
    "name": "ipython",
    "version": 3
   },
   "file_extension": ".py",
   "mimetype": "text/x-python",
   "name": "python",
   "nbconvert_exporter": "python",
   "pygments_lexer": "ipython3",
   "version": "3.8.5"
  }
 },
 "nbformat": 4,
 "nbformat_minor": 4
}
