{
 "cells": [
  {
   "cell_type": "code",
   "execution_count": 1,
   "id": "b80a3565",
   "metadata": {},
   "outputs": [],
   "source": [
    "from utils import *\n",
    "import os\n",
    "from tqdm import tqdm\n",
    "import matplotlib.pyplot as plt"
   ]
  },
  {
   "cell_type": "code",
   "execution_count": 2,
   "id": "a0747fb2",
   "metadata": {},
   "outputs": [
    {
     "name": "stderr",
     "output_type": "stream",
     "text": [
      "2022-08-02 15:35:24.442888: I tensorflow/stream_executor/platform/default/dso_loader.cc:49] Successfully opened dynamic library libcudart.so.10.1\n"
     ]
    },
    {
     "name": "stdout",
     "output_type": "stream",
     "text": [
      "1 Physical GPUs, 1 Logical GPUs\n"
     ]
    },
    {
     "name": "stderr",
     "output_type": "stream",
     "text": [
      "2022-08-02 15:35:25.613479: I tensorflow/compiler/jit/xla_cpu_device.cc:41] Not creating XLA devices, tf_xla_enable_xla_devices not set\n",
      "2022-08-02 15:35:25.614264: I tensorflow/stream_executor/platform/default/dso_loader.cc:49] Successfully opened dynamic library libcuda.so.1\n",
      "2022-08-02 15:35:25.650007: I tensorflow/core/common_runtime/gpu/gpu_device.cc:1720] Found device 0 with properties: \n",
      "pciBusID: 0000:41:00.0 name: Quadro RTX 6000 computeCapability: 7.5\n",
      "coreClock: 1.77GHz coreCount: 72 deviceMemorySize: 23.65GiB deviceMemoryBandwidth: 625.94GiB/s\n",
      "2022-08-02 15:35:25.650045: I tensorflow/stream_executor/platform/default/dso_loader.cc:49] Successfully opened dynamic library libcudart.so.10.1\n",
      "2022-08-02 15:35:25.651786: I tensorflow/stream_executor/platform/default/dso_loader.cc:49] Successfully opened dynamic library libcublas.so.10\n",
      "2022-08-02 15:35:25.651816: I tensorflow/stream_executor/platform/default/dso_loader.cc:49] Successfully opened dynamic library libcublasLt.so.10\n",
      "2022-08-02 15:35:25.653549: I tensorflow/stream_executor/platform/default/dso_loader.cc:49] Successfully opened dynamic library libcufft.so.10\n",
      "2022-08-02 15:35:25.653762: I tensorflow/stream_executor/platform/default/dso_loader.cc:49] Successfully opened dynamic library libcurand.so.10\n",
      "2022-08-02 15:35:25.655394: I tensorflow/stream_executor/platform/default/dso_loader.cc:49] Successfully opened dynamic library libcusolver.so.10\n",
      "2022-08-02 15:35:25.656230: I tensorflow/stream_executor/platform/default/dso_loader.cc:49] Successfully opened dynamic library libcusparse.so.10\n",
      "2022-08-02 15:35:25.659720: I tensorflow/stream_executor/platform/default/dso_loader.cc:49] Successfully opened dynamic library libcudnn.so.7\n",
      "2022-08-02 15:35:25.662373: I tensorflow/core/common_runtime/gpu/gpu_device.cc:1862] Adding visible gpu devices: 0\n",
      "2022-08-02 15:35:25.663061: I tensorflow/core/platform/cpu_feature_guard.cc:142] This TensorFlow binary is optimized with oneAPI Deep Neural Network Library (oneDNN) to use the following CPU instructions in performance-critical operations:  SSE4.1 SSE4.2 AVX AVX2 FMA\n",
      "To enable them in other operations, rebuild TensorFlow with the appropriate compiler flags.\n",
      "2022-08-02 15:35:25.665214: I tensorflow/compiler/jit/xla_gpu_device.cc:99] Not creating XLA devices, tf_xla_enable_xla_devices not set\n",
      "2022-08-02 15:35:25.666448: I tensorflow/core/common_runtime/gpu/gpu_device.cc:1720] Found device 0 with properties: \n",
      "pciBusID: 0000:41:00.0 name: Quadro RTX 6000 computeCapability: 7.5\n",
      "coreClock: 1.77GHz coreCount: 72 deviceMemorySize: 23.65GiB deviceMemoryBandwidth: 625.94GiB/s\n",
      "2022-08-02 15:35:25.666475: I tensorflow/stream_executor/platform/default/dso_loader.cc:49] Successfully opened dynamic library libcudart.so.10.1\n",
      "2022-08-02 15:35:25.666492: I tensorflow/stream_executor/platform/default/dso_loader.cc:49] Successfully opened dynamic library libcublas.so.10\n",
      "2022-08-02 15:35:25.666501: I tensorflow/stream_executor/platform/default/dso_loader.cc:49] Successfully opened dynamic library libcublasLt.so.10\n",
      "2022-08-02 15:35:25.666510: I tensorflow/stream_executor/platform/default/dso_loader.cc:49] Successfully opened dynamic library libcufft.so.10\n",
      "2022-08-02 15:35:25.666519: I tensorflow/stream_executor/platform/default/dso_loader.cc:49] Successfully opened dynamic library libcurand.so.10\n",
      "2022-08-02 15:35:25.666528: I tensorflow/stream_executor/platform/default/dso_loader.cc:49] Successfully opened dynamic library libcusolver.so.10\n",
      "2022-08-02 15:35:25.666536: I tensorflow/stream_executor/platform/default/dso_loader.cc:49] Successfully opened dynamic library libcusparse.so.10\n",
      "2022-08-02 15:35:25.666544: I tensorflow/stream_executor/platform/default/dso_loader.cc:49] Successfully opened dynamic library libcudnn.so.7\n",
      "2022-08-02 15:35:25.668971: I tensorflow/core/common_runtime/gpu/gpu_device.cc:1862] Adding visible gpu devices: 0\n",
      "2022-08-02 15:35:25.669004: I tensorflow/stream_executor/platform/default/dso_loader.cc:49] Successfully opened dynamic library libcudart.so.10.1\n",
      "2022-08-02 15:35:26.559876: I tensorflow/core/common_runtime/gpu/gpu_device.cc:1261] Device interconnect StreamExecutor with strength 1 edge matrix:\n",
      "2022-08-02 15:35:26.559925: I tensorflow/core/common_runtime/gpu/gpu_device.cc:1267]      0 \n",
      "2022-08-02 15:35:26.559935: I tensorflow/core/common_runtime/gpu/gpu_device.cc:1280] 0:   N \n",
      "2022-08-02 15:35:26.563662: I tensorflow/core/common_runtime/gpu/gpu_device.cc:1406] Created TensorFlow device (/job:localhost/replica:0/task:0/device:GPU:0 with 20360 MB memory) -> physical GPU (device: 0, name: Quadro RTX 6000, pci bus id: 0000:41:00.0, compute capability: 7.5)\n"
     ]
    }
   ],
   "source": [
    "import tensorflow as tf\n",
    "gpus = tf.config.experimental.list_physical_devices('GPU')\n",
    "if gpus:\n",
    "  try:\n",
    "    # Currently, memory growth needs to be the same across GPUs\n",
    "    for gpu in gpus:\n",
    "      tf.config.experimental.set_memory_growth(gpu, True)\n",
    "    logical_gpus = tf.config.experimental.list_logical_devices('GPU')\n",
    "    print(len(gpus), \"Physical GPUs,\", len(logical_gpus), \"Logical GPUs\")\n",
    "  except RuntimeError as e:\n",
    "    # Memory growth must be set before GPUs have been initialized\n",
    "    print(e)\n",
    "\n",
    "import tensorflow.keras as keras\n",
    "import tensorflow.keras.backend as K\n",
    "\n",
    "import os\n",
    "import os.path as osp\n",
    "import sys\n",
    "import json\n",
    "\n",
    "import numpy as np\n",
    "#from scipy import linalg as LA\n",
    "\n",
    "import matplotlib as mpl\n",
    "import matplotlib.pyplot as plt\n",
    "from matplotlib import cm\n",
    "# from colorspacious import cspace_converter\n",
    "from collections import OrderedDict\n",
    "\n",
    "\n",
    "import tensorflow.keras as keras\n",
    "import tensorflow.keras.backend as K\n",
    "\n",
    "import numpy as np\n",
    "import pandas"
   ]
  },
  {
   "cell_type": "code",
   "execution_count": 7,
   "id": "fe4c9296",
   "metadata": {},
   "outputs": [
    {
     "name": "stdout",
     "output_type": "stream",
     "text": [
      "/global/home/users/yifengh3/VAE/EMD_VAE\n"
     ]
    }
   ],
   "source": [
    "%cd '/global/home/users/yifengh3/VAE/EMD_VAE'"
   ]
  },
  {
   "cell_type": "code",
   "execution_count": 9,
   "id": "c1b56f0f",
   "metadata": {},
   "outputs": [
    {
     "ename": "ModuleNotFoundError",
     "evalue": "No module named 'utils.VAE_model_tools_param'; 'utils' is not a package",
     "output_type": "error",
     "traceback": [
      "\u001b[0;31m---------------------------------------------------------------------------\u001b[0m",
      "\u001b[0;31mModuleNotFoundError\u001b[0m                       Traceback (most recent call last)",
      "Input \u001b[0;32mIn [9]\u001b[0m, in \u001b[0;36m<cell line: 1>\u001b[0;34m()\u001b[0m\n\u001b[0;32m----> 1\u001b[0m \u001b[38;5;28;01mimport\u001b[39;00m \u001b[38;5;21;01mutils\u001b[39;00m\u001b[38;5;21;01m.\u001b[39;00m\u001b[38;5;21;01mVAE_model_tools_param\u001b[39;00m\n",
      "\u001b[0;31mModuleNotFoundError\u001b[0m: No module named 'utils.VAE_model_tools_param'; 'utils' is not a package"
     ]
    }
   ],
   "source": [
    "import utils.VAE_model_tools_param\n",
    "# from utils.VAE_model_tools_param import build_and_compile_annealing_vae, betaVAEModel, reset_metrics, loss_tracker, myTerminateOnNaN"
   ]
  },
  {
   "cell_type": "code",
   "execution_count": null,
   "id": "e1954f21",
   "metadata": {},
   "outputs": [],
   "source": [
    "fn =  '/global/home/users/yifengh3/VAE/vec_data/B_background.h5'\n",
    "vae_args_file = \"/global/home/users/yifengh3/VAE/vec_data/vec_model_1/vae_args.dat\"\n",
    "\n",
    "df = pandas.read_hdf(fn,stop=1000000)\n",
    "print(df.shape)\n",
    "print(\"Memory in GB:\",sum(df.memory_usage(deep=True)) / (1024**3)+sum(df.memory_usage(deep=True)) / (1024**3))\n",
    "\n",
    "# Data file contains, for each event, 50 particles (with zero padding), each particle with pT, eta, phi, E.\n",
    "# we only need first 200th entries, weight is not required here\n",
    "numparts=50\n",
    "data = df.values[:,:200]\n",
    "print(data.shape)\n",
    "data = data.reshape((-1,numparts,4))\n",
    "data = data.astype(float)\n",
    "\n",
    "# Normalize pTs so that HT = 1\n",
    "HT = np.sum(data[:,:,0],axis=-1)\n",
    "data[:,:,0] = data[:,:,0]/HT[:,None]\n",
    "data[:,:,-1] = data[:,:,-1]/HT[:,None]\n",
    "\n",
    "# Inputs x to NN will be: pT, eta, cos(phi), sin(phi), log E\n",
    "# Separated phi into cos and sin for continuity around full detector, so make things easier for NN.\n",
    "# Also adding the log E is mainly because it seems like it should make things easier for NN, since there is an exponential spread in particle energies.\n",
    "# Feel free to change these choices as desired. E.g. px, py might be equally as good as pt, sin, cos.\n",
    "sig_input = np.zeros((len(data),numparts,4))\n",
    "sig_input[:,:,:2] = data[:,:,:2]\n",
    "sig_input[:,:,2] = np.cos(data[:,:,2])\n",
    "sig_input[:,:,3] = np.sin(data[:,:,2])\n",
    "#sig_input[:,:,4] = np.log(data[:,:,3]+1e-8)\n",
    "\n",
    "\n",
    "data_x = sig_input\n",
    "# Event 'labels' y are [pT, eta, phi], which is used to calculate EMD to output which is also pT, eta, phi.\n",
    "data_y = data[:,:,:3]\n",
    "\n",
    "numtrain = 500000\n",
    "train_x = data_x[:numtrain]\n",
    "train_y = data_y[:numtrain]\n",
    "valid_x = data_x[numtrain:numtrain+100000]\n",
    "valid_y = data_y[numtrain:numtrain+100000]\n",
    "\n",
    "# train_output_dir = osp.join(model_dir,\"end_beta_checkpoint\") #create_dir(osp.join(output_dir, experiment_name))\n",
    "train_output_dir = model_dir\n",
    "\n",
    "\n",
    "with open(vae_args_file,'r') as f:\n",
    "     vae_arg_dict = json.loads(f.read())\n",
    "\n",
    "print(\"\\n\\n vae_arg_dict:\", vae_arg_dict)\n",
    "\n",
    "vae, encoder, decoder = build_and_compile_annealing_vae(**vae_arg_dict)"
   ]
  },
  {
   "cell_type": "code",
   "execution_count": null,
   "id": "8f134ce9",
   "metadata": {},
   "outputs": [],
   "source": [
    "logbetas = np.concatenate((np.logspace(-5.,1.,13),\n",
    "                          np.logspace(1.,-1.,5)[1:],\n",
    "                          np.logspace(-1.,1.,5)[1:],\n",
    "                          np.logspace(1.,-1.,5)[1:],\n",
    "                          np.logspace(-1.,0.,3)[1:]))"
   ]
  },
  {
   "cell_type": "code",
   "execution_count": null,
   "id": "16014943",
   "metadata": {},
   "outputs": [],
   "source": [
    "model_dir = \"/global/home/users/yifengh3/VAE/vec_data/vec_model_1\"\n",
    "model_name = \"model_weights_end_1491_betar_1.0e+00.hdf5\""
   ]
  },
  {
   "cell_type": "code",
   "execution_count": null,
   "id": "55c57314",
   "metadata": {},
   "outputs": [],
   "source": [
    "vae.load_weights(os.path.join(model_dir,model_name))"
   ]
  },
  {
   "cell_type": "code",
   "execution_count": null,
   "id": "522e3296",
   "metadata": {},
   "outputs": [],
   "source": [
    "result_D = np.zeros(len(logbetas))\n",
    "batchsize = 1000\n",
    "nsamples = 1\n",
    "numbatches = 5\n",
    "for i in tqdm(range(numbatches)):\n",
    "    if i%10 == 0:\n",
    "        print(\"Processing batch\", i, \"of\", numbatches)\n",
    "    x = valid_x[i*batchsize:(i+1)*batchsize]\n",
    "    y = valid_y[i*batchsize:(i+1)*batchsize]\n",
    "    result_D += [np.mean(vae.heat_capacity_D([[x,np.ones(len(x))*logbeta],y],nsamples=nsamples)) for logbeta in logbetas]\n",
    "result_D = result_D / numbatches\n",
    "plt.plot(np.power(10,logbetas),result_D)\n",
    "plt.semilogx()\n",
    "plt.ylim([0,10])\n",
    "plt.show()"
   ]
  },
  {
   "cell_type": "code",
   "execution_count": null,
   "id": "d7666e7e",
   "metadata": {},
   "outputs": [],
   "source": []
  }
 ],
 "metadata": {
  "kernelspec": {
   "display_name": "Python 3 (ipykernel)",
   "language": "python",
   "name": "python3"
  },
  "language_info": {
   "codemirror_mode": {
    "name": "ipython",
    "version": 3
   },
   "file_extension": ".py",
   "mimetype": "text/x-python",
   "name": "python",
   "nbconvert_exporter": "python",
   "pygments_lexer": "ipython3",
   "version": "3.8.13"
  }
 },
 "nbformat": 4,
 "nbformat_minor": 5
}
