{
 "cells": [
  {
   "cell_type": "code",
   "execution_count": 1,
   "id": "3583afb5",
   "metadata": {},
   "outputs": [],
   "source": [
    "from utils import *\n",
    "import os\n",
    "from tqdm import tqdm\n",
    "import matplotlib.pyplot as plt"
   ]
  },
  {
   "cell_type": "code",
   "execution_count": 9,
   "id": "b671b194",
   "metadata": {},
   "outputs": [
    {
     "name": "stdout",
     "output_type": "stream",
     "text": [
      "1 Physical GPUs, 1 Logical GPUs\n"
     ]
    }
   ],
   "source": [
    "import tensorflow as tf\n",
    "gpus = tf.config.experimental.list_physical_devices('GPU')\n",
    "if gpus:\n",
    "  try:\n",
    "    # Currently, memory growth needs to be the same across GPUs\n",
    "    for gpu in gpus:\n",
    "      tf.config.experimental.set_memory_growth(gpu, True)\n",
    "    logical_gpus = tf.config.experimental.list_logical_devices('GPU')\n",
    "    print(len(gpus), \"Physical GPUs,\", len(logical_gpus), \"Logical GPUs\")\n",
    "  except RuntimeError as e:\n",
    "    # Memory growth must be set before GPUs have been initialized\n",
    "    print(e)\n",
    "\n",
    "import tensorflow.keras as keras\n",
    "import tensorflow.keras.backend as K\n",
    "\n",
    "import os\n",
    "import os.path as osp\n",
    "import sys\n",
    "import json\n",
    "\n",
    "import numpy as np\n",
    "#from scipy import linalg as LA\n",
    "\n",
    "import matplotlib as mpl\n",
    "import matplotlib.pyplot as plt\n",
    "from matplotlib import cm\n",
    "# from colorspacious import cspace_converter\n",
    "from collections import OrderedDict\n",
    "\n",
    "\n",
    "import tensorflow.keras as keras\n",
    "import tensorflow.keras.backend as K\n",
    "\n",
    "import numpy as np\n",
    "import pandas"
   ]
  },
  {
   "cell_type": "code",
   "execution_count": 26,
   "id": "171e6054",
   "metadata": {},
   "outputs": [],
   "source": [
    "import os\n",
    "import sys\n",
    "sys.path.insert(0,'/global/home/users/yifengh3/VAE/EMD_VAE')"
   ]
  },
  {
   "cell_type": "code",
   "execution_count": 27,
   "id": "74c8a697",
   "metadata": {},
   "outputs": [
    {
     "ename": "ModuleNotFoundError",
     "evalue": "No module named 'utils.VAE_model_tools_param'; 'utils' is not a package",
     "output_type": "error",
     "traceback": [
      "\u001b[0;31m---------------------------------------------------------------------------\u001b[0m",
      "\u001b[0;31mModuleNotFoundError\u001b[0m                       Traceback (most recent call last)",
      "Input \u001b[0;32mIn [27]\u001b[0m, in \u001b[0;36m<cell line: 1>\u001b[0;34m()\u001b[0m\n\u001b[0;32m----> 1\u001b[0m \u001b[38;5;28;01mimport\u001b[39;00m \u001b[38;5;21;01mutils\u001b[39;00m\u001b[38;5;21;01m.\u001b[39;00m\u001b[38;5;21;01mVAE_model_tools_param\u001b[39;00m\n",
      "\u001b[0;31mModuleNotFoundError\u001b[0m: No module named 'utils.VAE_model_tools_param'; 'utils' is not a package"
     ]
    }
   ],
   "source": [
    "import utils.VAE_model_tools_param\n",
    "# from utils.VAE_model_tools_param import build_and_compile_annealing_vae, betaVAEModel, reset_metrics, loss_tracker, myTerminateOnNaN"
   ]
  },
  {
   "cell_type": "code",
   "execution_count": 11,
   "id": "e1954f21",
   "metadata": {},
   "outputs": [
    {
     "name": "stdout",
     "output_type": "stream",
     "text": [
      "(907963, 206)\n",
      "Memory in GB: 3.003594070672989\n",
      "(907963, 200)\n",
      "\n",
      "\n",
      " vae_arg_dict: {'encoder_conv_layers': [1024, 1024, 1024, 1024], 'dense_size': [1024, 1024, 1024, 1024], 'decoder_sizes': [1024, 1024, 1024, 1024, 1024], 'numIter': 10, 'reg_init': 1.0, 'reg_final': 0.01, 'stopThr': 0.001, 'num_inputs': 4, 'num_particles_in': 50, 'latent_dim': 256, 'verbose': 1, 'dropout': 0.0, 'exponent': 2.0}\n"
     ]
    },
    {
     "ename": "NameError",
     "evalue": "name 'build_and_compile_annealing_vae' is not defined",
     "output_type": "error",
     "traceback": [
      "\u001b[0;31m---------------------------------------------------------------------------\u001b[0m",
      "\u001b[0;31mNameError\u001b[0m                                 Traceback (most recent call last)",
      "Input \u001b[0;32mIn [11]\u001b[0m, in \u001b[0;36m<cell line: 51>\u001b[0;34m()\u001b[0m\n\u001b[1;32m     47\u001b[0m      vae_arg_dict \u001b[38;5;241m=\u001b[39m json\u001b[38;5;241m.\u001b[39mloads(f\u001b[38;5;241m.\u001b[39mread())\n\u001b[1;32m     49\u001b[0m \u001b[38;5;28mprint\u001b[39m(\u001b[38;5;124m\"\u001b[39m\u001b[38;5;130;01m\\n\u001b[39;00m\u001b[38;5;130;01m\\n\u001b[39;00m\u001b[38;5;124m vae_arg_dict:\u001b[39m\u001b[38;5;124m\"\u001b[39m, vae_arg_dict)\n\u001b[0;32m---> 51\u001b[0m vae, encoder, decoder \u001b[38;5;241m=\u001b[39m \u001b[43mbuild_and_compile_annealing_vae\u001b[49m(\u001b[38;5;241m*\u001b[39m\u001b[38;5;241m*\u001b[39mvae_arg_dict)\n",
      "\u001b[0;31mNameError\u001b[0m: name 'build_and_compile_annealing_vae' is not defined"
     ]
    }
   ],
   "source": [
    "fn =  '/global/home/users/yifengh3/VAE/vec_data/B_background.h5'\n",
    "vae_args_file = \"/global/home/users/yifengh3/VAE/vec_data/vec_model_1/vae_args.dat\"\n",
    "\n",
    "df = pandas.read_hdf(fn,stop=1000000)\n",
    "print(df.shape)\n",
    "print(\"Memory in GB:\",sum(df.memory_usage(deep=True)) / (1024**3)+sum(df.memory_usage(deep=True)) / (1024**3))\n",
    "\n",
    "# Data file contains, for each event, 50 particles (with zero padding), each particle with pT, eta, phi, E.\n",
    "# we only need first 200th entries, weight is not required here\n",
    "numparts=50\n",
    "data = df.values[:,:200]\n",
    "print(data.shape)\n",
    "data = data.reshape((-1,numparts,4))\n",
    "data = data.astype(float)\n",
    "\n",
    "# Normalize pTs so that HT = 1\n",
    "HT = np.sum(data[:,:,0],axis=-1)\n",
    "data[:,:,0] = data[:,:,0]/HT[:,None]\n",
    "data[:,:,-1] = data[:,:,-1]/HT[:,None]\n",
    "\n",
    "# Inputs x to NN will be: pT, eta, cos(phi), sin(phi), log E\n",
    "# Separated phi into cos and sin for continuity around full detector, so make things easier for NN.\n",
    "# Also adding the log E is mainly because it seems like it should make things easier for NN, since there is an exponential spread in particle energies.\n",
    "# Feel free to change these choices as desired. E.g. px, py might be equally as good as pt, sin, cos.\n",
    "sig_input = np.zeros((len(data),numparts,4))\n",
    "sig_input[:,:,:2] = data[:,:,:2]\n",
    "sig_input[:,:,2] = np.cos(data[:,:,2])\n",
    "sig_input[:,:,3] = np.sin(data[:,:,2])\n",
    "#sig_input[:,:,4] = np.log(data[:,:,3]+1e-8)\n",
    "\n",
    "\n",
    "data_x = sig_input\n",
    "# Event 'labels' y are [pT, eta, phi], which is used to calculate EMD to output which is also pT, eta, phi.\n",
    "data_y = data[:,:,:3]\n",
    "\n",
    "numtrain = 500000\n",
    "train_x = data_x[:numtrain]\n",
    "train_y = data_y[:numtrain]\n",
    "valid_x = data_x[numtrain:numtrain+100000]\n",
    "valid_y = data_y[numtrain:numtrain+100000]\n",
    "\n",
    "# train_output_dir = osp.join(model_dir,\"end_beta_checkpoint\") #create_dir(osp.join(output_dir, experiment_name))\n",
    "train_output_dir = model_dir\n",
    "\n",
    "\n",
    "with open(vae_args_file,'r') as f:\n",
    "     vae_arg_dict = json.loads(f.read())\n",
    "\n",
    "print(\"\\n\\n vae_arg_dict:\", vae_arg_dict)\n",
    "\n",
    "vae, encoder, decoder = build_and_compile_annealing_vae(**vae_arg_dict)"
   ]
  },
  {
   "cell_type": "code",
   "execution_count": null,
   "id": "8f134ce9",
   "metadata": {},
   "outputs": [],
   "source": [
    "logbetas = np.concatenate((np.logspace(-5.,1.,13),\n",
    "                          np.logspace(1.,-1.,5)[1:],\n",
    "                          np.logspace(-1.,1.,5)[1:],\n",
    "                          np.logspace(1.,-1.,5)[1:],\n",
    "                          np.logspace(-1.,0.,3)[1:]))"
   ]
  },
  {
   "cell_type": "code",
   "execution_count": null,
   "id": "dc57d160",
   "metadata": {},
   "outputs": [],
   "source": [
    "model_dir = \"/global/home/users/yifengh3/VAE/vec_data/vec_model_1\"\n",
    "model_name = \"model_weights_end_1491_betar_1.0e+00.hdf5\""
   ]
  },
  {
   "cell_type": "code",
   "execution_count": null,
   "id": "33820bb9",
   "metadata": {},
   "outputs": [],
   "source": [
    "vae.load_weights(os.path.join(model_dir,model_name))"
   ]
  },
  {
   "cell_type": "code",
   "execution_count": null,
   "id": "86ad63ae",
   "metadata": {},
   "outputs": [],
   "source": [
    "result_D = np.zeros(len(logbetas))\n",
    "batchsize = 1000\n",
    "nsamples = 1\n",
    "numbatches = 5\n",
    "for i in tqdm(range(numbatches)):\n",
    "    if i%10 == 0:\n",
    "        print(\"Processing batch\", i, \"of\", numbatches)\n",
    "    x = valid_x[i*batchsize:(i+1)*batchsize]\n",
    "    y = valid_y[i*batchsize:(i+1)*batchsize]\n",
    "    result_D += [np.mean(vae.heat_capacity_D([[x,np.ones(len(x))*logbeta],y],nsamples=nsamples)) for logbeta in logbetas]\n",
    "result_D = result_D / numbatches\n",
    "plt.plot(np.power(10,logbetas),result_D)\n",
    "plt.semilogx()\n",
    "plt.ylim([0,10])\n",
    "plt.show()"
   ]
  },
  {
   "cell_type": "code",
   "execution_count": null,
   "id": "92736af1",
   "metadata": {},
   "outputs": [],
   "source": []
  }
 ],
 "metadata": {
  "kernelspec": {
   "display_name": "Python 3 (ipykernel)",
   "language": "python",
   "name": "python3"
  },
  "language_info": {
   "codemirror_mode": {
    "name": "ipython",
    "version": 3
   },
   "file_extension": ".py",
   "mimetype": "text/x-python",
   "name": "python",
   "nbconvert_exporter": "python",
   "pygments_lexer": "ipython3",
   "version": "3.8.13"
  }
 },
 "nbformat": 4,
 "nbformat_minor": 5
}
