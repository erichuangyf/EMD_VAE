{
 "cells": [
  {
   "cell_type": "code",
   "execution_count": 1,
   "id": "fb30cd23",
   "metadata": {},
   "outputs": [],
   "source": [
    "import matplotlib.pyplot as plt\n",
    "import numpy as np"
   ]
  },
  {
   "cell_type": "code",
   "execution_count": 2,
   "id": "901666f4",
   "metadata": {},
   "outputs": [],
   "source": [
    "# logbetas = np.linspace(1,-6,30).astype(np.float32)\n",
    "kl_file = np.load(\"kl_loss.npz\")\n",
    "aucs = np.loadtxt(\"auc_log.csv\")"
   ]
  },
  {
   "cell_type": "code",
   "execution_count": 3,
   "id": "6222f7a9",
   "metadata": {},
   "outputs": [
    {
     "name": "stdout",
     "output_type": "stream",
     "text": [
      "['logbetas', 'kl_loss']\n"
     ]
    }
   ],
   "source": [
    "print(list(kl_file.keys()))"
   ]
  },
  {
   "cell_type": "code",
   "execution_count": 4,
   "id": "f30812d8",
   "metadata": {},
   "outputs": [
    {
     "ename": "NameError",
     "evalue": "name 'kl_loss' is not defined",
     "output_type": "error",
     "traceback": [
      "\u001b[0;31m---------------------------------------------------------------------------\u001b[0m",
      "\u001b[0;31mNameError\u001b[0m                                 Traceback (most recent call last)",
      "Input \u001b[0;32mIn [4]\u001b[0m, in \u001b[0;36m<cell line: 1>\u001b[0;34m()\u001b[0m\n\u001b[0;32m----> 1\u001b[0m \u001b[38;5;28mlocals\u001b[39m()\u001b[38;5;241m.\u001b[39mupdate(\u001b[43mkl_loss\u001b[49m)\n",
      "\u001b[0;31mNameError\u001b[0m: name 'kl_loss' is not defined"
     ]
    }
   ],
   "source": [
    "locals().update(kl_file)"
   ]
  },
  {
   "cell_type": "code",
   "execution_count": null,
   "id": "c547e8da",
   "metadata": {},
   "outputs": [],
   "source": [
    "logbetas.shape"
   ]
  },
  {
   "cell_type": "code",
   "execution_count": null,
   "id": "b23fec6e",
   "metadata": {},
   "outputs": [],
   "source": [
    "kl_loss.shape"
   ]
  },
  {
   "cell_type": "code",
   "execution_count": null,
   "id": "f50a7691",
   "metadata": {},
   "outputs": [],
   "source": [
    "plt.plot(np.power(10,logbetas),kl_loss)\n",
    "plt.yscale(\"log\")"
   ]
  },
  {
   "cell_type": "code",
   "execution_count": null,
   "id": "4658eab3",
   "metadata": {},
   "outputs": [],
   "source": [
    "plt.figure(figsize=(10,10))\n",
    "plt.plot(kl_loss*1.44,aucs)\n",
    "plt.semilogx()\n",
    "plt.xlabel(r\"KL [bits]\",fontsize=40)\n",
    "plt.ylabel(\"AUC\",fontsize=40)\n",
    "plt.xticks(fontsize=30)\n",
    "plt.yticks(fontsize=30)\n",
    "plt.savefig(\"kl_vs_auc.pdf\", dpi=200,bbox_inches=\"tight\")\n",
    "plt.show()"
   ]
  },
  {
   "cell_type": "code",
   "execution_count": null,
   "id": "6654f90e",
   "metadata": {},
   "outputs": [],
   "source": []
  }
 ],
 "metadata": {
  "kernelspec": {
   "display_name": "Python 3 (ipykernel)",
   "language": "python",
   "name": "python3"
  },
  "language_info": {
   "codemirror_mode": {
    "name": "ipython",
    "version": 3
   },
   "file_extension": ".py",
   "mimetype": "text/x-python",
   "name": "python",
   "nbconvert_exporter": "python",
   "pygments_lexer": "ipython3",
   "version": "3.8.13"
  }
 },
 "nbformat": 4,
 "nbformat_minor": 5
}
